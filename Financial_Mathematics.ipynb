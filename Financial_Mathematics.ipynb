{
  "nbformat": 4,
  "nbformat_minor": 0,
  "metadata": {
    "colab": {
      "name": "Financial_Mathematics.ipynb",
      "provenance": [],
      "collapsed_sections": [
        "RbPJop_NSrM0",
        "l6gciywlEcsE",
        "WPg9pSkeUst0",
        "gNZR5XqpdPGw",
        "PnFIr0nuew1I",
        "NT0gPIKZhh-6",
        "36-RfR6zovDl",
        "uU4G_du9k8Nk",
        "OXmV3g7Em64-",
        "ItLaJbG8zDr4",
        "8OsiS6I7vLps",
        "25EcJhvpxWbC"
      ],
      "include_colab_link": true
    },
    "kernelspec": {
      "name": "python3",
      "display_name": "Python 3"
    },
    "language_info": {
      "name": "python"
    }
  },
  "cells": [
    {
      "cell_type": "markdown",
      "metadata": {
        "id": "view-in-github",
        "colab_type": "text"
      },
      "source": [
        "<a href=\"https://colab.research.google.com/github/RonxldWilson/Python-Notes/blob/main/Financial_Mathematics.ipynb\" target=\"_parent\"><img src=\"https://colab.research.google.com/assets/colab-badge.svg\" alt=\"Open In Colab\"/></a>"
      ]
    },
    {
      "cell_type": "markdown",
      "source": [
        "# Day 1\n",
        "# Date: 18-01-2022"
      ],
      "metadata": {
        "id": "RbPJop_NSrM0"
      }
    },
    {
      "cell_type": "markdown",
      "source": [
        "Simple Interest vs Compound Interest"
      ],
      "metadata": {
        "id": "nFbBdALPRR2V"
      }
    },
    {
      "cell_type": "markdown",
      "source": [
        "SI: $ a(t) = (1 + st) $\n",
        "\n",
        "SI: $ A(T) = K a(t) $\n",
        "\n",
        "CI: $ a(t) = (1+i)^t $\n",
        "\n",
        "CI: $ A(t) = K a(t) $\n"
      ],
      "metadata": {
        "id": "f_3LmlI0Rd1w"
      }
    },
    {
      "cell_type": "code",
      "execution_count": null,
      "metadata": {
        "id": "BvD2JMzHQ3qr"
      },
      "outputs": [],
      "source": [
        "import numpy as np\n",
        "from matplotlib.pyplot import *\n",
        "from pylab import *"
      ]
    },
    {
      "cell_type": "code",
      "source": [
        "K = 1000\n",
        "s = 0.08\n",
        "i=s\n",
        "n = 10\n",
        "t = linspace(0,n,n)\n",
        "y1 = np.ones(len(t))*K\n",
        "y2 = K * (1 + s * t) # SI: a(t) = (1 + st) SI: $ A(T) = K a(t) $\n",
        "y3 = K * (1 + i)**t\n",
        "xlim(0,11)\n",
        "ylim(800,2200)\n",
        "plot(t,y1, 'b--')\n",
        "plot(t,y2, 'g--')\n",
        "plot(t,y3, 'r--')\n",
        "show()"
      ],
      "metadata": {
        "colab": {
          "base_uri": "https://localhost:8080/",
          "height": 54
        },
        "id": "yhjRqnnlSj9u",
        "outputId": "78d2414c-68a9-4b1a-fa8c-5db72acf4637"
      },
      "execution_count": null,
      "outputs": [
        {
          "output_type": "display_data",
          "data": {
            "image/png": "[encoded data removed]",
            "text/plain": [
              "<Figure size 432x288 with 1 Axes>"
            ]
          },
          "metadata": {
            "needs_background": "light"
          }
        }
      ]
    },
    {
      "cell_type": "markdown",
      "source": [
        "APR - Annual Percentage Rate $i_{nom} = i^{(m)}$ \\\n",
        "EAR - Effective Annual Rate $ i $ \\\n",
        "$ i^{(m)} = m*((1 + i)^{(1/m)}-1)$ \\\n",
        "$ i = (1 + \\frac{i^{(m)}}{m})^m -1$ \\\n",
        "$ d^{(m)} = \\frac{i^{(m)}}{1+ \\frac{i^{(m)}}{m}}$"
      ],
      "metadata": {
        "id": "_IObKf6DXhkt"
      }
    },
    {
      "cell_type": "code",
      "source": [
        "import numpy as np\n",
        "import matplotlib.pyplot as plt\n",
        "import math \n",
        "def i_nom(i, m):\n",
        "  i_nom = (((1+i)**(1/m))-1)*m\n",
        "  return i_nom"
      ],
      "metadata": {
        "id": "9fzRfUR1Tb4c"
      },
      "execution_count": null,
      "outputs": []
    },
    {
      "cell_type": "code",
      "source": [
        "i_nom(0.12,2)"
      ],
      "metadata": {
        "colab": {
          "base_uri": "https://localhost:8080/"
        },
        "id": "srZd4UQWahp8",
        "outputId": "b0cb6b2b-b2a6-4a1b-fcc3-82e29d9184f3"
      },
      "execution_count": null,
      "outputs": [
        {
          "output_type": "execute_result",
          "data": {
            "text/plain": [
              "0.11660104885167266"
            ]
          },
          "metadata": {},
          "execution_count": 5
        }
      ]
    },
    {
      "cell_type": "code",
      "source": [
        "X = [1, 2, 3, 4, 6, 12, 24, 365, 365*24, 365*24*60, 365*24*60*60]\n",
        "for x in X:\n",
        "  y11 = i_nom(0.12, x)\n",
        "  print(y11)"
      ],
      "metadata": {
        "colab": {
          "base_uri": "https://localhost:8080/"
        },
        "id": "4X4c23sIbyUp",
        "outputId": "b3cc2a2e-4d43-47b6-bac2-dce43ac4d643"
      },
      "execution_count": null,
      "outputs": [
        {
          "output_type": "stream",
          "name": "stdout",
          "text": [
            "0.1200000000000001\n",
            "0.11660104885167266\n",
            "0.11549646111066236\n",
            "0.11494937888832091\n",
            "0.11440573836312806\n",
            "0.11386551521499655\n",
            "0.11359667760742376\n",
            "0.1133462808142105\n",
            "0.1133294183803013\n",
            "0.11332869750475538\n",
            "0.1133286825663049\n"
          ]
        }
      ]
    },
    {
      "cell_type": "markdown",
      "source": [
        "# Day 2 \n",
        "# 22-01-2022"
      ],
      "metadata": {
        "id": "l6gciywlEcsE"
      }
    },
    {
      "cell_type": "code",
      "source": [
        "from array import *\n",
        "y11=[]\n",
        "X=[1,2,3,4,6,12,24,365,365*24,365*24*60,365*24*60*60]\n",
        "for x in X:\n",
        "  y11.append(i_nom(0.12, x))\n",
        "  print(y11)"
      ],
      "metadata": {
        "id": "Yq6OaaiDc6xd",
        "colab": {
          "base_uri": "https://localhost:8080/"
        },
        "outputId": "ad6eced4-1439-4f06-e31c-14ca53a8389a"
      },
      "execution_count": null,
      "outputs": [
        {
          "output_type": "stream",
          "name": "stdout",
          "text": [
            "[0.1200000000000001]\n",
            "[0.1200000000000001, 0.11660104885167266]\n",
            "[0.1200000000000001, 0.11660104885167266, 0.11549646111066236]\n",
            "[0.1200000000000001, 0.11660104885167266, 0.11549646111066236, 0.11494937888832091]\n",
            "[0.1200000000000001, 0.11660104885167266, 0.11549646111066236, 0.11494937888832091, 0.11440573836312806]\n",
            "[0.1200000000000001, 0.11660104885167266, 0.11549646111066236, 0.11494937888832091, 0.11440573836312806, 0.11386551521499655]\n",
            "[0.1200000000000001, 0.11660104885167266, 0.11549646111066236, 0.11494937888832091, 0.11440573836312806, 0.11386551521499655, 0.11359667760742376]\n",
            "[0.1200000000000001, 0.11660104885167266, 0.11549646111066236, 0.11494937888832091, 0.11440573836312806, 0.11386551521499655, 0.11359667760742376, 0.1133462808142105]\n",
            "[0.1200000000000001, 0.11660104885167266, 0.11549646111066236, 0.11494937888832091, 0.11440573836312806, 0.11386551521499655, 0.11359667760742376, 0.1133462808142105, 0.1133294183803013]\n",
            "[0.1200000000000001, 0.11660104885167266, 0.11549646111066236, 0.11494937888832091, 0.11440573836312806, 0.11386551521499655, 0.11359667760742376, 0.1133462808142105, 0.1133294183803013, 0.11332869750475538]\n",
            "[0.1200000000000001, 0.11660104885167266, 0.11549646111066236, 0.11494937888832091, 0.11440573836312806, 0.11386551521499655, 0.11359667760742376, 0.1133462808142105, 0.1133294183803013, 0.11332869750475538, 0.1133286825663049]\n"
          ]
        }
      ]
    },
    {
      "cell_type": "code",
      "source": [
        "import matplotlib.pyplot as plt\n",
        "import math\n",
        "delta=math.log(1+0.12)\n",
        "plt.scatter(X,y11,color='red')\n",
        "plt.axhline(y=delta,color='g',linestyle='-')\n",
        "plt.figure(figsize=(50,10))\n",
        "plt.show()"
      ],
      "metadata": {
        "colab": {
          "base_uri": "https://localhost:8080/",
          "height": 73
        },
        "id": "CjEtSuutEiIl",
        "outputId": "a27c545f-da4c-42a6-b100-2c1de7793dec"
      },
      "execution_count": null,
      "outputs": [
        {
          "output_type": "display_data",
          "data": {
            "image/png": "[encoded data removed]",
            "text/plain": [
              "<Figure size 432x288 with 1 Axes>"
            ]
          },
          "metadata": {
            "needs_background": "light"
          }
        },
        {
          "output_type": "display_data",
          "data": {
            "text/plain": [
              "<Figure size 3600x720 with 0 Axes>"
            ]
          },
          "metadata": {}
        }
      ]
    },
    {
      "cell_type": "code",
      "source": [
        "from array import *\n",
        "import numpy as np\n",
        "X = [1, 2, 3, 4, 6, 12, 24]\n",
        "y11=[]\n",
        "y22=[]\n",
        "y111=[]\n",
        "y33=[]\n",
        "for x in X:\n",
        "  y11.append(i_nom(0.12, x))\n",
        "print(y11)\n",
        "y111 = np.divide(y11,X)\n",
        "y33 = [x + 1 for x in y111]\n",
        "y22 = np.divide(y11, y33)\n",
        "print(y22)"
      ],
      "metadata": {
        "colab": {
          "base_uri": "https://localhost:8080/"
        },
        "id": "siRfMI0jEoBt",
        "outputId": "88073ae1-4626-4e61-ab71-ff983dccb578"
      },
      "execution_count": null,
      "outputs": [
        {
          "output_type": "stream",
          "name": "stdout",
          "text": [
            "[0.1200000000000001, 0.11660104885167266, 0.11549646111066236, 0.11494937888832091, 0.11440573836312806, 0.11386551521499655, 0.11359667760742376]\n",
            "[0.10714286 0.11017763 0.11121482 0.11173832 0.11226511 0.11279522\n",
            " 0.11306154]\n"
          ]
        }
      ]
    },
    {
      "cell_type": "code",
      "source": [
        "d = 0.12/(1+0.12)"
      ],
      "metadata": {
        "id": "EM2fxoUEW68g"
      },
      "execution_count": null,
      "outputs": []
    },
    {
      "cell_type": "code",
      "source": [
        "import math\n",
        "def i_nomi(i, m):\n",
        "  i_nom = (((1+i)**(1/m))-1)*m\n",
        "  d_nom = i_nom / (1 + (i_nom/m))\n",
        "  i_eff = i\n",
        "  d_eff = i / (1 + i)\n",
        "  delta = math.log(1+i)\n",
        "  return i_nom, d_nom, i_eff, d_eff, delta"
      ],
      "metadata": {
        "id": "V_ulGN7icYRo"
      },
      "execution_count": null,
      "outputs": []
    },
    {
      "cell_type": "code",
      "source": [
        "import matplotlib.pyplot as plt\n",
        "plt.scatter(X,y11,color='red')\n",
        "plt.scatter(X,y22,color='blue')\n",
        "plt.axhline(y = delta, color = 'g', linestyle = '-') \n",
        "plt.axhline(y = i_nomi(0.12, 2)[2], color = 'y', linestyle = '-') \n",
        "plt.axhline(y = i_nomi(0.12, 2)[3], color = 'm', linestyle = '-') \n",
        "plt.figure(figsize=(50,10))\n",
        "plt.show()"
      ],
      "metadata": {
        "colab": {
          "base_uri": "https://localhost:8080/",
          "height": 73
        },
        "id": "bzAK80BNEroE",
        "outputId": "fce6d68b-edfc-4e2b-c985-4b7deed1764c"
      },
      "execution_count": null,
      "outputs": [
        {
          "output_type": "display_data",
          "data": {
            "image/png": "[encoded data removed]",
            "text/plain": [
              "<Figure size 432x288 with 1 Axes>"
            ]
          },
          "metadata": {
            "needs_background": "light"
          }
        },
        {
          "output_type": "display_data",
          "data": {
            "text/plain": [
              "<Figure size 3600x720 with 0 Axes>"
            ]
          },
          "metadata": {}
        }
      ]
    },
    {
      "cell_type": "code",
      "source": [
        ""
      ],
      "metadata": {
        "id": "HX4c7a83WrYF"
      },
      "execution_count": null,
      "outputs": []
    },
    {
      "cell_type": "markdown",
      "source": [
        "# Day 3\n",
        "# 29-01-2022"
      ],
      "metadata": {
        "id": "WPg9pSkeUst0"
      }
    },
    {
      "cell_type": "code",
      "source": [
        ""
      ],
      "metadata": {
        "id": "E0wbQUVzUwi7"
      },
      "execution_count": null,
      "outputs": []
    },
    {
      "cell_type": "markdown",
      "source": [
        "# Day 4\n",
        "# 08-01-2022"
      ],
      "metadata": {
        "id": "gNZR5XqpdPGw"
      }
    },
    {
      "cell_type": "code",
      "source": [
        "import io\n",
        "import pandas as pd"
      ],
      "metadata": {
        "id": "NiXfiteedWqB"
      },
      "execution_count": null,
      "outputs": []
    },
    {
      "cell_type": "code",
      "source": [
        "from google.colab import drive \n",
        "drive.mount('/content/gdrive')"
      ],
      "metadata": {
        "colab": {
          "base_uri": "https://localhost:8080/"
        },
        "id": "yRAbXxt7dbHu",
        "outputId": "44205ea8-6036-4216-a7dd-5d843a3c7ea6"
      },
      "execution_count": null,
      "outputs": [
        {
          "output_type": "stream",
          "name": "stdout",
          "text": [
            "Mounted at /content/gdrive\n"
          ]
        }
      ]
    },
    {
      "cell_type": "code",
      "source": [
        "from openpyxl import Workbook\n",
        "wb = Workbook()\n",
        "TAB001 = 'Test001.xlsx'\n",
        "TAB002 = 'Test002.xlsx'"
      ],
      "metadata": {
        "id": "8CmFgePOdkFV"
      },
      "execution_count": null,
      "outputs": []
    },
    {
      "cell_type": "code",
      "source": [
        "wb.save('/content/gdrive/My Drive/'+TAB001)\n",
        "wb.save('/content/gdrive/My Drive/'+TAB002)"
      ],
      "metadata": {
        "id": "IsCSQxM4fGAy"
      },
      "execution_count": null,
      "outputs": []
    },
    {
      "cell_type": "code",
      "source": [
        "from openpyxl import load_workbook\n",
        "wb1 = load_workbook('/content/gdrive/My Drive/'+TAB001)\n",
        "wb2 = load_workbook('/content/gdrive/My Drive/'+TAB002)"
      ],
      "metadata": {
        "id": "3t0eTTIRg2Vi"
      },
      "execution_count": null,
      "outputs": []
    },
    {
      "cell_type": "code",
      "source": [
        "calc_data = ([0.12, 1], [0.12, 2], [0.12, 3], [0.12, 4], [0.12, 6], [0.12, 12], [0.12, 24])\n"
      ],
      "metadata": {
        "id": "MoZl9wilhyip"
      },
      "execution_count": null,
      "outputs": []
    },
    {
      "cell_type": "code",
      "source": [
        "import numpy as np\n",
        "import matplotlib.pyplot as plt\n",
        "import math\n"
      ],
      "metadata": {
        "id": "DkNcwE4Lh3hL"
      },
      "execution_count": null,
      "outputs": []
    },
    {
      "cell_type": "code",
      "source": [
        "def i_nomi(i, m):\n",
        "  i_nom = (((1+i)**(1/m))-1)*m\n",
        "  d_nom = i_nom / (1 + (i_nom/m))\n",
        "  i_eff = i\n",
        "  d_eff = i / (1 + i)\n",
        "  delta = math.log(1+i)\n",
        "  return i_nom, d_nom, i_eff, d_eff, delta\n"
      ],
      "metadata": {
        "id": "EeopgBydh7AP"
      },
      "execution_count": null,
      "outputs": []
    },
    {
      "cell_type": "code",
      "source": [
        "from array import *\n",
        "import numpy as np\n",
        "X = (np.transpose(calc_data))[1]\n",
        "y11=[]\n",
        "y22=[]\n",
        "d =[]\n",
        "delta = []\n",
        "i = []\n",
        "for x in X:\n",
        "  d.append(i_nomi(0.12, x)[3])\n",
        "  y22.append(i_nomi(0.12, x)[1])\n",
        "  delta.append(i_nomi(0.12, x)[4])\n",
        "  y11.append(i_nomi(0.12, x)[0])\n",
        "  i.append(i_nomi(0.12, x)[2])\n",
        "print(d)\n",
        "print(y22)\n",
        "print(delta)\n",
        "print(y11)\n",
        "print(i)"
      ],
      "metadata": {
        "colab": {
          "base_uri": "https://localhost:8080/"
        },
        "id": "NOQKm1k-h-IK",
        "outputId": "e0346b17-22d8-4f15-8340-1e14e13288c0"
      },
      "execution_count": null,
      "outputs": [
        {
          "output_type": "stream",
          "name": "stdout",
          "text": [
            "[0.10714285714285712, 0.10714285714285712, 0.10714285714285712, 0.10714285714285712, 0.10714285714285712, 0.10714285714285712, 0.10714285714285712]\n",
            "[0.10714285714285723, 0.11017763495386404, 0.11121482166873173, 0.11173831637207182, 0.11226510957098047, 0.11279522468396068, 0.11306153532500231]\n",
            "[0.11332868530700327, 0.11332868530700327, 0.11332868530700327, 0.11332868530700327, 0.11332868530700327, 0.11332868530700327, 0.11332868530700327]\n",
            "[0.1200000000000001, 0.11660104885167266, 0.11549646111066236, 0.11494937888832091, 0.11440573836312806, 0.11386551521499655, 0.11359667760742376]\n",
            "[0.12, 0.12, 0.12, 0.12, 0.12, 0.12, 0.12]\n"
          ]
        }
      ]
    },
    {
      "cell_type": "code",
      "source": [
        "data = {'d':d, 'd(m)': y22, 'delta': delta, 'i(m)': y11, 'i':i}\n"
      ],
      "metadata": {
        "id": "dREqqkBMiAJS"
      },
      "execution_count": null,
      "outputs": []
    },
    {
      "cell_type": "code",
      "source": [
        "df = pd.DataFrame(data)\n"
      ],
      "metadata": {
        "id": "gzve8uxMjEqE"
      },
      "execution_count": null,
      "outputs": []
    },
    {
      "cell_type": "code",
      "source": [
        "writer = pd.ExcelWriter('/content/gdrive/My Drive/'+TAB001, engine='openpyxl')"
      ],
      "metadata": {
        "id": "bg8P1IdUjHcP"
      },
      "execution_count": null,
      "outputs": []
    },
    {
      "cell_type": "code",
      "source": [
        "df.to_excel(writer, sheet_name='Sheet1')"
      ],
      "metadata": {
        "id": "SiZ7SZjLjH-f"
      },
      "execution_count": null,
      "outputs": []
    },
    {
      "cell_type": "code",
      "source": [
        "wb = writer.book\n",
        "ws = writer.sheets['Sheet1']"
      ],
      "metadata": {
        "id": "2rwHs5OhjUQt"
      },
      "execution_count": null,
      "outputs": []
    },
    {
      "cell_type": "code",
      "source": [
        "from openpyxl.chart import (LineChart, Reference) \n",
        "chart = LineChart()\n",
        "values = Reference(ws, min_col = 2, min_row = 1, max_col = 6, max_row = 8)\n",
        "chart.add_data(values, titles_from_data=True)\n",
        " \n",
        "chart.y_axis.scaling.min = 0.104\n",
        "chart.y_axis.scaling.max = 0.121\n",
        " \n",
        "s1 = chart.series[0]\n",
        "s1.marker.symbol = \"square\"\n",
        "s1.marker.graphicalProperties.solidFill = \"d121b9\"\n",
        "s2 = chart.series[1]\n",
        "s2.marker.symbol = \"star\"\n",
        "s1.marker.graphicalProperties.solidFill = \"249e19\"\n",
        "s3 = chart.series[2]\n",
        "s3.marker.symbol = \"circle\"\n",
        "s1.marker.graphicalProperties.solidFill = \"4846db\"\n",
        "s4 = chart.series[3]\n",
        "s4.marker.symbol = \"triangle\"\n",
        "s1.marker.graphicalProperties.solidFill = \"bf3348\"\n",
        "s5 = chart.series[0]\n",
        "s5.marker.symbol = \"square\"\n",
        "s1.marker.graphicalProperties.solidFill = \"f4c92e\"\n",
        " \n",
        "ws.add_chart(chart, \"A11\")\n",
        "writer.save()"
      ],
      "metadata": {
        "id": "VOh03nt1j_lS"
      },
      "execution_count": null,
      "outputs": []
    },
    {
      "cell_type": "markdown",
      "source": [
        "# Day 5 \n",
        "# 19-02-2022\n"
      ],
      "metadata": {
        "id": "PnFIr0nuew1I"
      }
    },
    {
      "cell_type": "code",
      "source": [
        "def a_ki(k,i):\n",
        "  aki =  (1+i)**k\n",
        "  return aki"
      ],
      "metadata": {
        "id": "bj6f9G91lgeT"
      },
      "execution_count": null,
      "outputs": []
    },
    {
      "cell_type": "code",
      "source": [
        "def v_ki(k,i):\n",
        "  vki = 1/(a_ki(k,i))\n",
        "  return vki"
      ],
      "metadata": {
        "id": "VN1sNu3UnKbv"
      },
      "execution_count": null,
      "outputs": []
    },
    {
      "cell_type": "code",
      "source": [
        "def PV_ai_ni(n,i):\n",
        "  return ((1-v_ki(n,i)/i))"
      ],
      "metadata": {
        "id": "gP9CGChTnbhC"
      },
      "execution_count": null,
      "outputs": []
    },
    {
      "cell_type": "code",
      "source": [
        "def AV_si_ni(n,i):\n",
        "  return PV_ai_ni(n,i)*a_ki(n,i)"
      ],
      "metadata": {
        "id": "DOQPOOBloAF3"
      },
      "execution_count": null,
      "outputs": []
    },
    {
      "cell_type": "code",
      "source": [
        "def PV_ad_ni(n,i):\n",
        "  return PV_ai_ni(n,i)*(1+i)"
      ],
      "metadata": {
        "id": "I4jqUq9goarY"
      },
      "execution_count": null,
      "outputs": []
    },
    {
      "cell_type": "code",
      "source": [
        "def AV_sd_ni(n,i):\n",
        "  return AV_si_ni(n,i)*(1+i)"
      ],
      "metadata": {
        "id": "sO1E7UW6ox-g"
      },
      "execution_count": null,
      "outputs": []
    },
    {
      "cell_type": "code",
      "source": [
        "def PV_ai_i(i):\n",
        "  return 1/i"
      ],
      "metadata": {
        "id": "hygIK9_2o-Uf"
      },
      "execution_count": null,
      "outputs": []
    },
    {
      "cell_type": "code",
      "source": [
        "def PV_ad_i(i):\n",
        "  return PV_ai_i(i)*(1+i)"
      ],
      "metadata": {
        "id": "LmLI-JndpEi1"
      },
      "execution_count": null,
      "outputs": []
    },
    {
      "cell_type": "code",
      "source": [
        "def PV_ai_deff_ni(n,i,k):\n",
        "  return PV_ai_ni(n,i)*v_ki(k,i)"
      ],
      "metadata": {
        "id": "HzqOJ1vVpRiX"
      },
      "execution_count": null,
      "outputs": []
    },
    {
      "cell_type": "code",
      "source": [
        "def PV_ad_deff_ni(n,i,k):\n",
        "  return PV_ad_ni(n,i)*v_ki(k,i)"
      ],
      "metadata": {
        "id": "RR5HKwvopf1V"
      },
      "execution_count": null,
      "outputs": []
    },
    {
      "cell_type": "markdown",
      "source": [
        "# Day 6\n",
        "# 22-02-2022"
      ],
      "metadata": {
        "id": "NT0gPIKZhh-6"
      }
    },
    {
      "cell_type": "code",
      "source": [
        "def sni_ai(i,n):\n",
        "  sni = (((1+i)**n)-1)/i\n",
        "  return sni"
      ],
      "metadata": {
        "id": "zYPoZ1Mko299"
      },
      "execution_count": null,
      "outputs": []
    },
    {
      "cell_type": "code",
      "source": [
        "AV_si_ni(10,0.12)"
      ],
      "metadata": {
        "id": "5pGbv4IEpH24",
        "outputId": "a6d84c15-4f65-483c-bd1c-b2ea4b15a898",
        "colab": {
          "base_uri": "https://localhost:8080/"
        }
      },
      "execution_count": null,
      "outputs": [
        {
          "output_type": "execute_result",
          "data": {
            "text/plain": [
              "-5.227485124989122"
            ]
          },
          "metadata": {},
          "execution_count": 17
        }
      ]
    },
    {
      "cell_type": "code",
      "source": [
        "!pip install multipledispatch"
      ],
      "metadata": {
        "colab": {
          "base_uri": "https://localhost:8080/"
        },
        "id": "XIJ0DLgdhnRr",
        "outputId": "16a61a93-c298-450b-de23-21a506aec005"
      },
      "execution_count": null,
      "outputs": [
        {
          "output_type": "stream",
          "name": "stdout",
          "text": [
            "Requirement already satisfied: multipledispatch in /usr/local/lib/python3.7/dist-packages (0.6.0)\n",
            "Requirement already satisfied: six in /usr/local/lib/python3.7/dist-packages (from multipledispatch) (1.15.0)\n"
          ]
        }
      ]
    },
    {
      "cell_type": "code",
      "source": [
        "from multipledispatch import dispatch "
      ],
      "metadata": {
        "id": "6NSv4aedi_8z"
      },
      "execution_count": null,
      "outputs": []
    },
    {
      "cell_type": "code",
      "source": [
        "@dispatch(float, int)\n",
        "def AnnuityAccumlation(i,n):\n",
        "  sni = AV_si_ni(n,i)\n",
        "  return sni\n",
        "@dispatch(float, int, float)\n",
        "def AnnuityAccumlation(i,n,K):\n",
        "  Sni = K*AV_si_ni(n,i)\n",
        "  return Sni \n",
        "@dispatch(float, int, str)\n",
        "def AnnuityAccumlation(d,n,dtype):\n",
        "  i = d/(1-d)\n",
        "  sni = AV_si_ni(n,i)\n",
        "  return sni\n",
        "@dispatch(float, int, float, str)\n",
        "def AnnuityAccumlation(d,n,K,dtype):\n",
        "  i = d/(1-d)\n",
        "  Sni = K*AV_si_ni(i,n,K)\n",
        "  return Sni\n",
        "@dispatch(float, int, float, str)\n",
        "def AnnuityAccumlation(d,n,K,dtype):\n",
        "  i = d/(1-d)\n",
        "  Sni = AV_si_ni(i,n,K)\n",
        "  return Sni\n"
      ],
      "metadata": {
        "id": "De2JNAF1jUC1"
      },
      "execution_count": null,
      "outputs": []
    },
    {
      "cell_type": "markdown",
      "source": [
        "#  02-03-2021"
      ],
      "metadata": {
        "id": "36-RfR6zovDl"
      }
    },
    {
      "cell_type": "markdown",
      "source": [
        ""
      ],
      "metadata": {
        "id": "erWiEYM0ojM-"
      }
    },
    {
      "cell_type": "code",
      "source": [
        "!pip install multipledispatch \n"
      ],
      "metadata": {
        "colab": {
          "base_uri": "https://localhost:8080/"
        },
        "id": "JyHe47M9pRFs",
        "outputId": "2afd7147-f180-4d9b-d980-ad13b7d1f94b"
      },
      "execution_count": null,
      "outputs": [
        {
          "output_type": "stream",
          "name": "stdout",
          "text": [
            "Requirement already satisfied: multipledispatch in /usr/local/lib/python3.7/dist-packages (0.6.0)\n",
            "Requirement already satisfied: six in /usr/local/lib/python3.7/dist-packages (from multipledispatch) (1.15.0)\n"
          ]
        }
      ]
    },
    {
      "cell_type": "code",
      "source": [
        "\n",
        "from multipledispatch import dispatch\n",
        "\n",
        "def a_ki(k,i):\n",
        "  return (1+i)**k\n",
        "\n",
        "def v_ki(k,i):\n",
        "  return (1/a_ki(k,i))\n",
        "  \n",
        "def AV_ai_def(i,n,k):\n",
        "  return a_ki(-k,i)*(((1-v_ki(k,i))/i))\n",
        "  \n",
        "@dispatch(float, int, int)\n",
        "def AnnuityAccumulation_Def(i,n,k):\n",
        "  sni = AV_ai_def(i,n,k)\n",
        "  return sni\n",
        "\n",
        "@dispatch(float, int,int, float)\n",
        "def AnnuityAccumulation_Def(i,n,k,Q):\n",
        "  Sni = Q*AV_ai_def(i,n,k)\n",
        "  return Sni \n",
        "\n",
        "@dispatch (float, int,int, str)\n",
        "def AnnuityAccumulation_Def(d,n,k,dtype):\n",
        "  i=d/(1-d)\n",
        "  sni = AV_ai_def(i,n,k)\n",
        "  return sni\n",
        "\n",
        "@dispatch(float, int, float,int, str)\n",
        "def AnnuityAccumulation_Def(d,n,Q,k,dtype):\n",
        "  i=d/(1-d)\n",
        "  Sni = Q*AV_ai_def(i,n,k)\n",
        "  return Sni\n",
        "\n",
        "\n",
        "\n",
        "def PV_ai_ni(n,i):\n",
        "  return ((1-v_ki(n,i))/i)\n",
        "\n",
        "def PV_ai_deff_ni(n,i,k):\n",
        "  return (PV_ai_ni(n,i)*v_ki(k,i))\n",
        "\n",
        "@dispatch(float, int, int)\n",
        "def AnnuityPresentValue_Def(i,n,k):\n",
        "  sni = PV_ai_deff_ni(n,i,k)\n",
        "  return sni\n",
        "\n",
        "@dispatch(float, int, float, int)\n",
        "def AnnuityPresentValue_Def(i,n,Q,k):\n",
        "  Sni = Q*PV_ai_deff_ni(n,i,k)\n",
        "  return Sni \n",
        "\n",
        "@dispatch (float, int, int, str)\n",
        "def AnnuityPresentValue_Def(d,n,k,dtype):\n",
        "  i=d/(1-d)\n",
        "  sni = PV_ai_deff_ni(n,i,k)\n",
        "  return sni\n",
        "\n",
        "@dispatch(float, int, float,int, str)\n",
        "def AnnuityPresentValue_Def(d,n,Q,k, dtype):\n",
        "  i=d/(1-d)\n",
        "  Sni = Q*PV_ai_deff_ni(n,i,k)\n",
        "  return Sni\n",
        "\n"
      ],
      "metadata": {
        "id": "i6vCt88ao9WQ"
      },
      "execution_count": null,
      "outputs": []
    },
    {
      "cell_type": "markdown",
      "source": [
        "# Day 7\n",
        "# 05-03-2022\n"
      ],
      "metadata": {
        "id": "uU4G_du9k8Nk"
      }
    },
    {
      "cell_type": "markdown",
      "source": [
        ""
      ],
      "metadata": {
        "id": "tFo0Nt8El9Je"
      }
    },
    {
      "cell_type": "code",
      "source": [
        "def A_inf_i_ai(i,Q):\n",
        "  ani = Q *(1/i)\n",
        "  return ani\n",
        "def a_inf_i_ai(i):\n",
        "  a_inf_i = 1/i\n",
        "  return a_inf_i"
      ],
      "metadata": {
        "id": "LMG3neYwmiMc"
      },
      "execution_count": null,
      "outputs": []
    },
    {
      "cell_type": "code",
      "source": [
        "A_inf_i_ai(0.12, 500)"
      ],
      "metadata": {
        "id": "fmKf1EetmiPu",
        "colab": {
          "base_uri": "https://localhost:8080/"
        },
        "outputId": "fae37cef-5a20-4e04-d81b-c2ef6cc6f308"
      },
      "execution_count": null,
      "outputs": [
        {
          "output_type": "execute_result",
          "data": {
            "text/plain": [
              "4166.666666666667"
            ]
          },
          "metadata": {},
          "execution_count": 41
        }
      ]
    },
    {
      "cell_type": "code",
      "source": [
        "@dispatch(float)\n",
        "def PerpetuityPresentworth(i):\n",
        "  a_inf_i = a_inf_i_ai(i)\n",
        "  return a_inf_i\n",
        "@dispatch(float, float)\n",
        "def PerpetuityPresentworth(i,Q):\n",
        "  A_inf_i = A_inf_i_ai(i,Q)\n",
        "  return A_inf_i\n",
        "@dispatch(float,str)\n",
        "def PerpetuityPresentworth(d,dtype):\n",
        "  i = d/(1-d)\n",
        "  a_inf_i  = a_inf_i_ai(i)\n",
        "  return a_inf_i\n",
        "@dispatch(float,float,str)\n",
        "def PerpetuityPresentworth(d,Q,dtype):\n",
        "  i = d/(1-d)\n",
        "  A_inf_i  = A_inf_i_ai(i,Q)\n",
        "  return A_inf_i"
      ],
      "metadata": {
        "id": "akEkN7ntmiTI"
      },
      "execution_count": null,
      "outputs": []
    },
    {
      "cell_type": "code",
      "source": [
        "@dispatch(float,int)\n",
        "def PerpetuityPresentworthDef(i,k):\n",
        "  a_inf_i = a_inf_i_ai(i) * v_ki(k,i)\n",
        "  return a_inf_i\n",
        "@dispatch(float,float,int)\n",
        "def PerpetuityPresentworthDef(i,Q,k):\n",
        "  A_inf_i = A_inf_i_ai(i,Q) * v_ki(k,i)\n",
        "  return A_inf_i\n",
        "\n",
        "@dispatch(float,int,str)\n",
        "def PerpetuityPresentworthDef(d,k,dtype):\n",
        "  i = d/(1-d)\n",
        "  A_inf_i = A_inf_i_ai(i) * v_ki(k,i)\n",
        "  return A_inf_i\n",
        "\n",
        "@dispatch(float,float,int,str)\n",
        "def PerpetuityPresentworthDef(d,Q,k,dtype):\n",
        "  i = d/(1-d)\n",
        "  A_inf_i = A_inf_i_ai(i,Q) * v_ki(k,i)\n",
        "  return A_inf_i\n"
      ],
      "metadata": {
        "id": "OXfY0jwLrdTy"
      },
      "execution_count": null,
      "outputs": []
    },
    {
      "cell_type": "code",
      "source": [
        "PerpetuityPresentworth(0.12)"
      ],
      "metadata": {
        "colab": {
          "base_uri": "https://localhost:8080/"
        },
        "id": "FLEuu7AcvEXl",
        "outputId": "85bd3919-48c6-4941-866c-515abc2beca0"
      },
      "execution_count": null,
      "outputs": [
        {
          "output_type": "execute_result",
          "data": {
            "text/plain": [
              "8.333333333333334"
            ]
          },
          "metadata": {},
          "execution_count": 45
        }
      ]
    },
    {
      "cell_type": "markdown",
      "source": [
        "# Day 8\n",
        "# 08-03-2022"
      ],
      "metadata": {
        "id": "OXmV3g7Em64-"
      }
    },
    {
      "cell_type": "code",
      "source": [
        ""
      ],
      "metadata": {
        "id": "S75TK_E5wJ6m"
      },
      "execution_count": null,
      "outputs": []
    },
    {
      "cell_type": "markdown",
      "source": [
        "# Day 9\n",
        "# 22-03-2022"
      ],
      "metadata": {
        "id": "ItLaJbG8zDr4"
      }
    },
    {
      "cell_type": "code",
      "source": [
        "import io\n",
        "import pandas as pd"
      ],
      "metadata": {
        "id": "Jfu5vllezXow"
      },
      "execution_count": null,
      "outputs": []
    },
    {
      "cell_type": "code",
      "source": [
        "from google.colab import drive \n",
        "drive.mount('/content/gdrive')"
      ],
      "metadata": {
        "colab": {
          "base_uri": "https://localhost:8080/"
        },
        "id": "L7fY1twoztz1",
        "outputId": "968179ab-95be-4467-d0cd-4e5219b1cb81"
      },
      "execution_count": null,
      "outputs": [
        {
          "output_type": "stream",
          "name": "stdout",
          "text": [
            "Mounted at /content/gdrive\n"
          ]
        }
      ]
    },
    {
      "cell_type": "code",
      "source": [
        "from openpyxl import Workbook\n",
        "wb = Workbook()"
      ],
      "metadata": {
        "id": "lN_MDxXAzydm"
      },
      "execution_count": null,
      "outputs": []
    },
    {
      "cell_type": "code",
      "source": [
        "!touch \"/content/gdrive/My Drive/FM/Excel_Book 1.xlsx\""
      ],
      "metadata": {
        "id": "p_Ux06700Dok"
      },
      "execution_count": null,
      "outputs": []
    },
    {
      "cell_type": "code",
      "source": [
        "from google.colab import auth\n",
        "auth.authenticate_user()\n",
        "import gspread\n",
        "from oauth2client.client import GoogleCredentials\n",
        " \n",
        "gc = gspread.authorize(GoogleCredentials.get_application_default())"
      ],
      "metadata": {
        "id": "na3IHfIk1LK2"
      },
      "execution_count": null,
      "outputs": []
    },
    {
      "cell_type": "code",
      "source": [
        "ws = gc.open('Excel_Book 1.xlsx').sheet1"
      ],
      "metadata": {
        "colab": {
          "base_uri": "https://localhost:8080/",
          "height": 443
        },
        "id": "QXVLTBEz2aNF",
        "outputId": "d7674677-11c3-4ef2-f5b5-ec27a7d16445"
      },
      "execution_count": null,
      "outputs": [
        {
          "output_type": "error",
          "ename": "SpreadsheetNotFound",
          "evalue": "ignored",
          "traceback": [
            "\u001b[0;31m---------------------------------------------------------------------------\u001b[0m",
            "\u001b[0;31mStopIteration\u001b[0m                             Traceback (most recent call last)",
            "\u001b[0;32m/usr/local/lib/python3.7/dist-packages/gspread/client.py\u001b[0m in \u001b[0;36mopen\u001b[0;34m(self, title)\u001b[0m\n\u001b[1;32m    121\u001b[0m                 \u001b[0;32mlambda\u001b[0m \u001b[0mx\u001b[0m\u001b[0;34m:\u001b[0m \u001b[0mx\u001b[0m\u001b[0;34m[\u001b[0m\u001b[0;34m'name'\u001b[0m\u001b[0;34m]\u001b[0m \u001b[0;34m==\u001b[0m \u001b[0mtitle\u001b[0m\u001b[0;34m,\u001b[0m\u001b[0;34m\u001b[0m\u001b[0;34m\u001b[0m\u001b[0m\n\u001b[0;32m--> 122\u001b[0;31m                 \u001b[0mself\u001b[0m\u001b[0;34m.\u001b[0m\u001b[0mlist_spreadsheet_files\u001b[0m\u001b[0;34m(\u001b[0m\u001b[0mtitle\u001b[0m\u001b[0;34m)\u001b[0m\u001b[0;34m\u001b[0m\u001b[0;34m\u001b[0m\u001b[0m\n\u001b[0m\u001b[1;32m    123\u001b[0m             )\n",
            "\u001b[0;32m/usr/local/lib/python3.7/dist-packages/gspread/utils.py\u001b[0m in \u001b[0;36mfinditem\u001b[0;34m(func, seq)\u001b[0m\n\u001b[1;32m     93\u001b[0m     \"\"\"\n\u001b[0;32m---> 94\u001b[0;31m     \u001b[0;32mreturn\u001b[0m \u001b[0mnext\u001b[0m\u001b[0;34m(\u001b[0m\u001b[0;34m(\u001b[0m\u001b[0mitem\u001b[0m \u001b[0;32mfor\u001b[0m \u001b[0mitem\u001b[0m \u001b[0;32min\u001b[0m \u001b[0mseq\u001b[0m \u001b[0;32mif\u001b[0m \u001b[0mfunc\u001b[0m\u001b[0;34m(\u001b[0m\u001b[0mitem\u001b[0m\u001b[0;34m)\u001b[0m\u001b[0;34m)\u001b[0m\u001b[0;34m)\u001b[0m\u001b[0;34m\u001b[0m\u001b[0;34m\u001b[0m\u001b[0m\n\u001b[0m\u001b[1;32m     95\u001b[0m \u001b[0;34m\u001b[0m\u001b[0m\n",
            "\u001b[0;31mStopIteration\u001b[0m: ",
            "\nDuring handling of the above exception, another exception occurred:\n",
            "\u001b[0;31mSpreadsheetNotFound\u001b[0m                       Traceback (most recent call last)",
            "\u001b[0;32m<ipython-input-10-5bdc228a2ae6>\u001b[0m in \u001b[0;36m<module>\u001b[0;34m()\u001b[0m\n\u001b[0;32m----> 1\u001b[0;31m \u001b[0mws\u001b[0m \u001b[0;34m=\u001b[0m \u001b[0mgc\u001b[0m\u001b[0;34m.\u001b[0m\u001b[0mopen\u001b[0m\u001b[0;34m(\u001b[0m\u001b[0;34m'Excel_Book 1.xlsx'\u001b[0m\u001b[0;34m)\u001b[0m\u001b[0;34m.\u001b[0m\u001b[0msheet1\u001b[0m\u001b[0;34m\u001b[0m\u001b[0;34m\u001b[0m\u001b[0m\n\u001b[0m",
            "\u001b[0;32m/usr/local/lib/python3.7/dist-packages/gspread/client.py\u001b[0m in \u001b[0;36mopen\u001b[0;34m(self, title)\u001b[0m\n\u001b[1;32m    128\u001b[0m             \u001b[0;32mreturn\u001b[0m \u001b[0mSpreadsheet\u001b[0m\u001b[0;34m(\u001b[0m\u001b[0mself\u001b[0m\u001b[0;34m,\u001b[0m \u001b[0mproperties\u001b[0m\u001b[0;34m)\u001b[0m\u001b[0;34m\u001b[0m\u001b[0;34m\u001b[0m\u001b[0m\n\u001b[1;32m    129\u001b[0m         \u001b[0;32mexcept\u001b[0m \u001b[0mStopIteration\u001b[0m\u001b[0;34m:\u001b[0m\u001b[0;34m\u001b[0m\u001b[0;34m\u001b[0m\u001b[0m\n\u001b[0;32m--> 130\u001b[0;31m             \u001b[0;32mraise\u001b[0m \u001b[0mSpreadsheetNotFound\u001b[0m\u001b[0;34m\u001b[0m\u001b[0;34m\u001b[0m\u001b[0m\n\u001b[0m\u001b[1;32m    131\u001b[0m \u001b[0;34m\u001b[0m\u001b[0m\n\u001b[1;32m    132\u001b[0m     \u001b[0;32mdef\u001b[0m \u001b[0mopen_by_key\u001b[0m\u001b[0;34m(\u001b[0m\u001b[0mself\u001b[0m\u001b[0;34m,\u001b[0m \u001b[0mkey\u001b[0m\u001b[0;34m)\u001b[0m\u001b[0;34m:\u001b[0m\u001b[0;34m\u001b[0m\u001b[0;34m\u001b[0m\u001b[0m\n",
            "\u001b[0;31mSpreadsheetNotFound\u001b[0m: "
          ]
        }
      ]
    },
    {
      "cell_type": "code",
      "source": [
        ""
      ],
      "metadata": {
        "id": "L4qN1BRD2fSc"
      },
      "execution_count": null,
      "outputs": []
    },
    {
      "cell_type": "markdown",
      "source": [
        "# Day 10\n",
        "# Date: 26-03-2022"
      ],
      "metadata": {
        "id": "8OsiS6I7vLps"
      }
    },
    {
      "cell_type": "markdown",
      "source": [
        "Problems: (Use Python to solve) \n",
        "1. Write a Python function to calculate Outstanding Loan Balances using retrospective \n",
        "method. \n"
      ],
      "metadata": {
        "id": "ICJJ9W79vS91"
      }
    },
    {
      "cell_type": "code",
      "source": [
        "def sum(n,i):\n",
        "  return ((((1+i)**n)-1)/i)"
      ],
      "metadata": {
        "id": "SP-VogdTxOWW"
      },
      "execution_count": null,
      "outputs": []
    },
    {
      "cell_type": "code",
      "source": [
        "def OLBretro(L,i,k,Q):\n",
        "  Total_loan_amount = L*(1+i)**k\n",
        "  OLB = Total_loan_amount - Q*sum(k,i)\n",
        "  return OLB\n"
      ],
      "metadata": {
        "id": "EveDu04MxIPd"
      },
      "execution_count": null,
      "outputs": []
    },
    {
      "cell_type": "markdown",
      "source": [
        "2. Write a Python function to calculate Outstanding Loan Balances using prospective \n",
        "method. "
      ],
      "metadata": {
        "id": "awQa-2R_xBCh"
      }
    },
    {
      "cell_type": "code",
      "source": [
        "def a(n,i):\n",
        "  acc = (1+i*n)\n",
        "  return acc"
      ],
      "metadata": {
        "id": "J-cqEsQx04Gz"
      },
      "execution_count": null,
      "outputs": []
    },
    {
      "cell_type": "code",
      "source": [
        "def OLBprospestiv(Q,i,n,k,R):\n",
        "  OLB = Q*a(n-k-1,i)+R*(1+i)**(-(n-k))\n",
        "  return OLB"
      ],
      "metadata": {
        "id": "_PdbReACznMF"
      },
      "execution_count": null,
      "outputs": []
    },
    {
      "cell_type": "markdown",
      "source": [
        "\n",
        "3. Sasha is obligated to repay a loan made on the first of the month by paying Rs 80 at the \n",
        "end of each of the next thirty months, including this month. The effective monthly rate on the loan is 0.4%. Using a user-defined Python function, find Sasha's loan balance \n",
        "immediately after her twelfth payment. "
      ],
      "metadata": {
        "id": "RMHlO7ElxCgy"
      }
    },
    {
      "cell_type": "code",
      "source": [
        "OLBretro(80*30,0.004,12,80)"
      ],
      "metadata": {
        "colab": {
          "base_uri": "https://localhost:8080/"
        },
        "id": "XQu0nxKezRjL",
        "outputId": "1808b289-120e-4f3d-8b4b-0a3285bf7e49"
      },
      "execution_count": null,
      "outputs": [
        {
          "output_type": "execute_result",
          "data": {
            "text/plain": [
              "1536.3643473874192"
            ]
          },
          "metadata": {},
          "execution_count": 5
        }
      ]
    },
    {
      "cell_type": "markdown",
      "source": [
        "\n",
        "4. A loan of Rs 20000 is being repaid by payments of Rs 2500 at the end of each year and \n",
        "a final smaller payment one year after the last Rs 2500 payment. The annual effective interest rate on the loan is 8%. Using a user defined python function, find the \n",
        "outstanding loan balance just after the borrower has made payments totalling Rs 15000."
      ],
      "metadata": {
        "id": "ngzJlKyGxGzv"
      }
    },
    {
      "cell_type": "code",
      "source": [
        "OLBprospestiv(20000,0.08,,2500)"
      ],
      "metadata": {
        "id": "BR-fkCCMz23t",
        "colab": {
          "base_uri": "https://localhost:8080/",
          "height": 136
        },
        "outputId": "736f8097-ecca-48f4-8e1f-24c07906da1c"
      },
      "execution_count": null,
      "outputs": [
        {
          "output_type": "error",
          "ename": "SyntaxError",
          "evalue": "ignored",
          "traceback": [
            "\u001b[0;36m  File \u001b[0;32m\"<ipython-input-6-413c69796eaf>\"\u001b[0;36m, line \u001b[0;32m1\u001b[0m\n\u001b[0;31m    OLBprospestiv(20000,0.08,,2500)\u001b[0m\n\u001b[0m                             ^\u001b[0m\n\u001b[0;31mSyntaxError\u001b[0m\u001b[0;31m:\u001b[0m invalid syntax\n"
          ]
        }
      ]
    },
    {
      "cell_type": "markdown",
      "source": [
        " \n",
        "5. Mr and Mrs Harper purchased a home for Rs 256000. They make a down payment of \n",
        "Rs 40000 and finance the remainder of the purchase price with a thirty-year mortgage at an annual effective interest rate of 6.5%. The Harpers sell their home at the end of eight years, just after having made their ninety-sixth end-of-month mortgage payment. The sales price is Rs 282000, and the Harpers closing costs are 3% of the selling price. The outstanding loan balance is deducted from the amount the Harpers receive and sent to the lender. How large a check do the Harpers receive, and how much interest did they pay over the eight years? (Use Python) "
      ],
      "metadata": {
        "id": "RZS32K4ZxEJ8"
      }
    },
    {
      "cell_type": "markdown",
      "source": [
        "# Day 11\n",
        "# 09-04-2022"
      ],
      "metadata": {
        "id": "25EcJhvpxWbC"
      }
    },
    {
      "cell_type": "code",
      "source": [
        "def j_for_agp(i,g):\n",
        "  j = (i-g)/(1+g)\n",
        "  return j"
      ],
      "metadata": {
        "id": "WIcF8BYNvSTe"
      },
      "execution_count": null,
      "outputs": []
    },
    {
      "cell_type": "code",
      "source": [
        "def v_j(j):\n",
        "  v_j = (1+j)**(-1)\n",
        "  return v_j"
      ],
      "metadata": {
        "id": "P_1EMPRbwC7U"
      },
      "execution_count": null,
      "outputs": []
    },
    {
      "cell_type": "code",
      "source": [
        "def pvfactor_d(j,n):\n",
        "  v = (1+j)**(-1)\n",
        "  pvfactor_d = (1-v**n)/(1-v)\n",
        "  return pvfactor_d"
      ],
      "metadata": {
        "id": "1Qnm4JtywxEG"
      },
      "execution_count": null,
      "outputs": []
    },
    {
      "cell_type": "code",
      "source": [
        "def pvgp_i(P,i,j,n):\n",
        "  if(j==0):\n",
        "    pvgp = P*(1+i)**(-1)*n\n",
        "  else:\n",
        "    pvgp = P*(1+i)**(-1)*pvfactor_d(j,n)\n",
        "  return pvgp"
      ],
      "metadata": {
        "id": "Qqljf9poxcvq"
      },
      "execution_count": null,
      "outputs": []
    },
    {
      "cell_type": "code",
      "source": [
        "pvgp_i(2000,0.03,0.02,7)"
      ],
      "metadata": {
        "colab": {
          "base_uri": "https://localhost:8080/"
        },
        "id": "CADjJqL_yRYv",
        "outputId": "6ce8d646-b888-4ebb-cdff-ed6312490108"
      },
      "execution_count": null,
      "outputs": [
        {
          "output_type": "execute_result",
          "data": {
            "text/plain": [
              "12818.312409107564"
            ]
          },
          "metadata": {},
          "execution_count": 7
        }
      ]
    },
    {
      "cell_type": "code",
      "source": [
        "  "
      ],
      "metadata": {
        "id": "h3FHN1xqykES"
      },
      "execution_count": null,
      "outputs": []
    },
    {
      "cell_type": "markdown",
      "source": [
        "# Day 12\n",
        "# 19-04-2022\n"
      ],
      "metadata": {
        "id": "wgrCn7v90MCB"
      }
    },
    {
      "cell_type": "markdown",
      "source": [
        "Write python code for find the present value, future value, present value factor, future value factor in case of increasing annuity due, increasing in AP."
      ],
      "metadata": {
        "id": "pfXf28rs0SPl"
      }
    },
    {
      "cell_type": "code",
      "source": [
        "!pip install multipledispatch\n",
        "from multipledispatch import dispatch"
      ],
      "metadata": {
        "colab": {
          "base_uri": "https://localhost:8080/"
        },
        "id": "kcYETQ8q8ubX",
        "outputId": "f2624a80-a986-4bab-97f9-3fec56de2611"
      },
      "execution_count": null,
      "outputs": [
        {
          "output_type": "stream",
          "name": "stdout",
          "text": [
            "Collecting multipledispatch\n",
            "  Downloading multipledispatch-0.6.0-py3-none-any.whl (11 kB)\n",
            "Requirement already satisfied: six in /usr/local/lib/python3.7/dist-packages (from multipledispatch) (1.15.0)\n",
            "Installing collected packages: multipledispatch\n",
            "Successfully installed multipledispatch-0.6.0\n"
          ]
        }
      ]
    },
    {
      "cell_type": "code",
      "source": [
        "def a_i(i_eff,n_periods):\n",
        "  a = (1+i_eff)**n_periods\n",
        "  return a"
      ],
      "metadata": {
        "id": "pYDAc5jT0Rd_"
      },
      "execution_count": null,
      "outputs": []
    },
    {
      "cell_type": "code",
      "source": [
        "def v_i(i_eff,n_periods):\n",
        "  v=(1+i_eff)**(-n_periods)\n",
        "  return v"
      ],
      "metadata": {
        "id": "LUcLf6yO7-j8"
      },
      "execution_count": null,
      "outputs": []
    },
    {
      "cell_type": "code",
      "source": [
        "def a_d(d_eff, n_periods):\n",
        "  i_eff = d_eff/(1-d_eff)\n",
        "  v = a_i(i_eff,n_periods)\n",
        "  return v,i_eff"
      ],
      "metadata": {
        "id": "SZfL-8Nd8IRj"
      },
      "execution_count": null,
      "outputs": []
    },
    {
      "cell_type": "code",
      "source": [
        "def v_d(d_eff,n_periods):\n",
        "  i_eff=d_eff/(1-d_eff)\n",
        "  v = v_i(i_eff,n_periods)\n",
        "  return v,i_eff"
      ],
      "metadata": {
        "id": "zUb4gRaE8SpN"
      },
      "execution_count": null,
      "outputs": []
    },
    {
      "cell_type": "code",
      "source": [
        "@dispatch(float,int)\n",
        "def ani_si(i_eff,n_periods):\n",
        "  ani = (1-v_i(i_eff,n_periods))/i_eff\n",
        "  return ani"
      ],
      "metadata": {
        "id": "PXUryokM8tSl"
      },
      "execution_count": null,
      "outputs": []
    },
    {
      "cell_type": "code",
      "source": [
        "@dispatch(float,int,str)\n",
        "def ani_ai(d_eff,n_periods,discount):\n",
        "  if discount ==\"d\":\n",
        "    vd = v_d(d_eff,n_periods)\n",
        "    ani=(1-vd[0])/vd[1]\n",
        "  else:\n",
        "    print(\"Error\")\n",
        "  return ani"
      ],
      "metadata": {
        "id": "KhRGAQgp9SRO"
      },
      "execution_count": null,
      "outputs": []
    },
    {
      "cell_type": "code",
      "source": [
        "@dispatch(float, int)\n",
        "def ani_ad(i_eff,n_periods):\n",
        "  an_due = (1+i_eff)*ani_ai(i_eff,n_periods)\n",
        "  return an_due"
      ],
      "metadata": {
        "id": "pP7A5Umb94mQ"
      },
      "execution_count": null,
      "outputs": []
    },
    {
      "cell_type": "code",
      "source": [
        "@dispatch(float,int,str)\n",
        "def ani_ad(d_eff,n_periods,discount):\n",
        "  if discount ==\"d\":\n",
        "    vd = v_d(d_eff,n_periods)\n",
        "    i_eff= vd[1]\n",
        "    an_due=(1+i_eff)*ani_ai(i_eff,n_periods,discount )\n",
        "  else:\n",
        "    print(\"Error\")\n",
        "  return an_due"
      ],
      "metadata": {
        "id": "tNdsv_0_-JRI"
      },
      "execution_count": null,
      "outputs": []
    },
    {
      "cell_type": "markdown",
      "source": [
        "#Day 13\n",
        "# Date: 26-04-22\n"
      ],
      "metadata": {
        "id": "_uhgJreB9Qct"
      }
    },
    {
      "cell_type": "code",
      "source": [
        "!pip install multipledispatch\n",
        "\n",
        "from multipledispatch import dispatch\n",
        "\n",
        "import sys\n",
        "\n",
        "def a_i(i_eff, n_periods):\n",
        "  a = (1 + i_eff)**n_periods\n",
        "  return a\n",
        "\n",
        "def v_i(i_eff, n_periods):\n",
        "  v = (1 + i_eff)**(-n_periods)\n",
        "  return v\n",
        "\n",
        "def a_d(d_eff, n_periods):\n",
        "  i_eff = d_eff / (1- d_eff)\n",
        "  a = (1 + i_eff)**n_periods\n",
        "  return a, i_eff\n",
        "\n",
        "def v_d(d_eff, n_periods):\n",
        "  i_eff = d_eff / (1- d_eff)\n",
        "  v = (1 + i_eff)**(-n_periods)\n",
        "  return v, i_eff\n",
        "\n",
        "@dispatch(float, int)\n",
        "def ani_ai(i_eff, n_periods):\n",
        " ani = (1 - v_i(i_eff, n_periods))/i_eff\n",
        " return ani\n",
        "\n",
        "@dispatch(float, int, str)\n",
        "def ani_ai(d_eff, n_periods, discount):\n",
        "  if discount == \"d\":\n",
        "    vd = v_d(d_eff, n_periods)\n",
        "    vn = vd[0]\n",
        "    i_eff = vd[1]\n",
        "    ani = (1 - vn ) / i_eff\n",
        "  else:\n",
        "    sys.exit(\"Error\")\n",
        "  \n",
        "  return ani\n",
        "\n",
        "@dispatch(float, int)\n",
        "def ani_ad(i_eff, n_periods):\n",
        "  an_due = ( 1 + i_eff ) * ani_ai(i_eff, n_periods)\n",
        "  return an_due\n",
        "\n",
        "\n",
        "@dispatch(float, int, str)\n",
        "def ani_ad(d_eff, n_periods, discount):\n",
        "  if discount == \"d\":\n",
        "    vd = v_d(d_eff, n_periods)\n",
        "    i_eff = vd[1]\n",
        "    an_due = ( 1 + i_eff ) * ani_ai(i_eff, n_periods, discount)\n",
        "  else:\n",
        "    sys.exit(\"Error\")\n",
        "    \n",
        "  return an_due\n",
        "\n",
        "@dispatch(float, int)\n",
        "def sni_ai(i_eff, n_periods):\n",
        "  sni = ani_ai(i_eff, n_periods) * a_i(i_eff, n_periods)\n",
        "  return sni\n",
        "\n",
        "@dispatch(float, int, str)\n",
        "def sni_ai(d_eff, n_periods, discount):\n",
        "  if discount == \"d\":\n",
        "    vd = v_d(d_eff, n_periods)\n",
        "    i_eff = vd[1]\n",
        "    sni = ani_ai(d_eff, n_periods, discount) * a_i(i_eff, n_periods)\n",
        "  else:\n",
        "    sys.exit(\"Error\")\n",
        "    \n",
        "  return sni\n",
        "\n",
        "@dispatch(float, int, float, float)\n",
        "def ia_PQ_sni(i_eff, n_periods, P, Q):\n",
        "  ia_sni = P * sni_ai(i_eff, n_periods) + (Q/i_eff)*(sni_ai(i_eff, n_periods) - n_periods)\n",
        "  return ia_sni\n",
        "\n",
        "@dispatch(float, int, float, float)\n",
        "def ia_PQ_ani(i_eff, n_periods, P, Q):\n",
        "  ia_ani = P * ani_ai(i_eff, n_periods) + (Q/i_eff)*(ani_ai(i_eff, n_periods) - n_periods* v_i(i_eff, n_periods))\n",
        "  #ia_ani = ia_PQ_sni(i_eff, n_periods, P, Q) * v_i(i_eff, n_periods)\n",
        "  return ia_ani\n",
        "\n",
        "@dispatch(float, int, float, float, str)\n",
        "def ia_PQ_sni(d_eff, n_periods, P, Q, discount):\n",
        "  if discount == \"d\":\n",
        "    vd = v_d(d_eff, n_periods)\n",
        "    i_eff = vd[1]\n",
        "    ia_snd = P * sni_ai(i_eff, n_periods) + (Q/i_eff)*(sni_ai(i_eff, n_periods) - n_periods)\n",
        "  else:\n",
        "    sys.exit(\"Error\")\n",
        "    \n",
        "  return ia_snd\n",
        "\n",
        "@dispatch(float, int, float, float, str)\n",
        "def ia_PQ_ani(d_eff, n_periods, P, Q, discount):\n",
        "  if discount == \"d\":\n",
        "    vd = v_d(d_eff, n_periods)\n",
        "    i_eff = vd[1]\n",
        "    ia_and = P * ani_ai(i_eff, n_periods) + (Q/i_eff)*(ani_ai(i_eff, n_periods) - n_periods*vd[0])\n",
        "  else:\n",
        "    sys.exit(\"Error\")\n",
        "  \n",
        "  return ia_and\n",
        "\n",
        "ia_PQ_ani(0.042, 17, 2000.00, 500.00)\n",
        "\n",
        "0.042 / 1.042\n",
        "\n",
        "v_d(0.04030710172744722, 17)\n",
        "\n",
        "ia_PQ_ani(0.04030710172744722, 17, 2000.00, 500.00, \"d\")\n",
        "\n",
        "@dispatch(float, int)\n",
        "def iaf_ani(i_eff, n_periods):\n",
        "  iaf = ia_PQ_ani(i_eff, n_periods, 1.0, 1.0)\n",
        "  return iaf\n",
        "\n",
        "ia_PQ_ani(0.042, 17, 500.00, 500.00)\n",
        "\n",
        "iaf_ani(0.042, 17)\n",
        "\n",
        "500*iaf_ani(0.042, 17)\n",
        "\n",
        "@dispatch(float, int, str)\n",
        "def iaf_ani(d_eff, n_periods, discount):\n",
        "  iaf = ia_PQ_ani(d_eff, n_periods, 1.0, 1.0, discount)\n",
        "  return iaf\n",
        "\n",
        "500* iaf_ani(0.04030710172744722, 17, \"d\")\n",
        "\n",
        "@dispatch(float, int)\n",
        "def iaf_sni(i_eff, n_periods):\n",
        "  iaf_fv = ia_PQ_sni(i_eff, n_periods, 1.0, 1.0)\n",
        "  return iaf_fv\n",
        "\n",
        "@dispatch(float, int, str)\n",
        "def iaf_sni(d_eff, n_periods, discount):\n",
        "  iaf_fv = ia_PQ_sni(d_eff, n_periods, 1.0, 1.0, discount)\n",
        "  return iaf_fv\n",
        "\n",
        "ia_PQ_sni(0.042, 17, 500.00, 500.00)\n",
        "\n",
        "500*iaf_sni(0.042, 17)\n",
        "\n",
        "500*iaf_sni(0.04030710172744722, 17, \"d\")\n",
        "\n",
        "@dispatch(float, int)\n",
        "def sni_ad(i_eff, n_periods):\n",
        "  sniad = (ani_ai(i_eff, n_periods) * a_i(i_eff, n_periods)) * (1+i_eff)\n",
        "  return sniad\n",
        "\n",
        "sni_ad(0.042, 17)\n",
        "\n",
        "sni_ai(0.042, 17)\n",
        "\n",
        "from scipy import optimize\n",
        "import matplotlib.pyplot as plt\n",
        "\n",
        "def f(x):\n",
        "  return (x**3 -1)\n",
        "\n",
        "root = optimize.newton(f, 1.5, fprime=lambda x: 3 * x**2)\n",
        "\n",
        "root\n",
        "\n",
        "def f(x):\n",
        "  return (3000 -58000*x+((1+x)**(-13))*(91813.54*x-3000))\n",
        "\n",
        "root = optimize.newton(f, 0.06, fprime=lambda x: (-58000+(-13*((1+x)**(-14))*(91813.54*x-3000))+(91813.54*((1+x)**(-13)))))\n",
        "\n",
        "root\n",
        "\n",
        "def f(x):\n",
        "  return (1500*((1+x)**(21)) -1500*((1+x)**(5)) - 49930.47*x)\n",
        "\n",
        "root = optimize.newton(f, 0.1, fprime=lambda x: (1500*21*((1+x)**(20)) -1500*5*((1+x)**(4)) - 49930.47))\n",
        "\n",
        "root\n",
        "\n",
        "def f(x):\n",
        "  return (7688*x + 100*(1-((1+x)**(-18)))-10830*x*((1+x)**(-18)))\n",
        "\n",
        "root = optimize.newton(f, 0.1, fprime=lambda x: (7688 + 100*(18)*((1+x)**(-19))-10830*(((1+x)**(-18))+x*(-18)*((1+x)**(-19)))))\n",
        "\n",
        "root"
      ],
      "metadata": {
        "colab": {
          "base_uri": "https://localhost:8080/"
        },
        "id": "-Vi6ofy7-O3d",
        "outputId": "60c04639-1a7a-4400-cbb8-bce5e8eb679c"
      },
      "execution_count": null,
      "outputs": [
        {
          "output_type": "stream",
          "name": "stdout",
          "text": [
            "Collecting multipledispatch\n",
            "  Downloading multipledispatch-0.6.0-py3-none-any.whl (11 kB)\n",
            "Requirement already satisfied: six in /usr/local/lib/python3.7/dist-packages (from multipledispatch) (1.15.0)\n",
            "Installing collected packages: multipledispatch\n",
            "Successfully installed multipledispatch-0.6.0\n"
          ]
        },
        {
          "output_type": "execute_result",
          "data": {
            "text/plain": [
              "0.008162833324472766"
            ]
          },
          "metadata": {},
          "execution_count": 1
        }
      ]
    },
    {
      "cell_type": "markdown",
      "source": [
        "# Lab 6\n",
        "# Day 12"
      ],
      "metadata": {
        "id": "riC6g_esGocy"
      }
    },
    {
      "cell_type": "code",
      "source": [
        "!pip install multipledispatch"
      ],
      "metadata": {
        "colab": {
          "base_uri": "https://localhost:8080/"
        },
        "id": "JjjPu51j-2_3",
        "outputId": "b08fb64e-ba73-422d-cfc5-560e76e6d11e"
      },
      "execution_count": null,
      "outputs": [
        {
          "output_type": "stream",
          "name": "stdout",
          "text": [
            "Requirement already satisfied: multipledispatch in /usr/local/lib/python3.7/dist-packages (0.6.0)\n",
            "Requirement already satisfied: six in /usr/local/lib/python3.7/dist-packages (from multipledispatch) (1.15.0)\n"
          ]
        }
      ]
    },
    {
      "cell_type": "code",
      "source": [
        "def a_i(i_eff, n_periods):\n",
        "  a = (1 + i_eff)**n_periods\n",
        "  return a\n",
        "\n",
        "def v_i(i_eff, n_periods):\n",
        "  v = (1 + i_eff)**(-n_periods)\n",
        "  return v\n",
        "\n",
        "def a_d(d_eff, n_periods):\n",
        "  i_eff = d_eff / (1- d_eff)\n",
        "  a = (1 + i_eff)**n_periods\n",
        "  return a, i_eff\n"
      ],
      "metadata": {
        "id": "aZ2ASMiQGvFY"
      },
      "execution_count": null,
      "outputs": []
    },
    {
      "cell_type": "markdown",
      "source": [
        "# Lab 7\n",
        "# Date: 30-04-2022"
      ],
      "metadata": {
        "id": "NKdxpuHT-QaH"
      }
    },
    {
      "cell_type": "code",
      "source": [
        "!pip install amortization"
      ],
      "metadata": {
        "colab": {
          "base_uri": "https://localhost:8080/"
        },
        "id": "GVKkKegdCHzB",
        "outputId": "21ed0e7f-aa78-4259-b724-8a0edc071c3a"
      },
      "execution_count": null,
      "outputs": [
        {
          "output_type": "stream",
          "name": "stdout",
          "text": [
            "Collecting amortization\n",
            "  Downloading amortization-2.0.2-py3-none-any.whl (6.7 kB)\n",
            "Requirement already satisfied: tabulate<0.9.0,>=0.8.6 in /usr/local/lib/python3.7/dist-packages (from amortization) (0.8.9)\n",
            "Installing collected packages: amortization\n",
            "Successfully installed amortization-2.0.2\n"
          ]
        }
      ]
    },
    {
      "cell_type": "code",
      "source": [
        "import numpy as np\n",
        "import pandas as pd"
      ],
      "metadata": {
        "id": "LafxCh0WCX7M"
      },
      "execution_count": null,
      "outputs": []
    },
    {
      "cell_type": "code",
      "source": [
        "from amortization.schedule import amortization_schedule"
      ],
      "metadata": {
        "id": "yKFwZlCvCcSG"
      },
      "execution_count": null,
      "outputs": []
    },
    {
      "cell_type": "code",
      "source": [
        "table = amortization_schedule(200000,0.15,20)"
      ],
      "metadata": {
        "id": "U9NJJht8DHel"
      },
      "execution_count": null,
      "outputs": []
    },
    {
      "cell_type": "code",
      "source": [
        "df1 = pd.DataFrame(table,columns=['Time','Amount','Interest','Principal','Balance'])"
      ],
      "metadata": {
        "id": "_EMchZ2rDd9n"
      },
      "execution_count": null,
      "outputs": []
    },
    {
      "cell_type": "code",
      "source": [
        "new_row=pd.DataFrame({'Time':0,'Amount':0,'Interest':0,'Principal':0,'Balance':200000},index=[0])\n"
      ],
      "metadata": {
        "id": "srfScHiqDym8"
      },
      "execution_count": null,
      "outputs": []
    },
    {
      "cell_type": "code",
      "source": [
        "df1 = pd.concat([new_row,df1]).reset_index(drop = True)\n"
      ],
      "metadata": {
        "id": "Tg8SMPHREPu3"
      },
      "execution_count": null,
      "outputs": []
    },
    {
      "cell_type": "code",
      "source": [
        "display(df1.round(2))"
      ],
      "metadata": {
        "colab": {
          "base_uri": "https://localhost:8080/",
          "height": 708
        },
        "id": "OOSHile-EkrG",
        "outputId": "cde48bda-b12c-4b25-bbfa-8d3a292c724a"
      },
      "execution_count": null,
      "outputs": [
        {
          "output_type": "display_data",
          "data": {
            "text/plain": [
              "    Time    Amount  Interest  Principal    Balance\n",
              "0      0      0.00      0.00       0.00  200000.00\n",
              "1      1  11364.08   2500.00    8864.08  191135.92\n",
              "2      2  11364.08   2389.20    8974.88  182161.04\n",
              "3      3  11364.08   2277.01    9087.07  173073.97\n",
              "4      4  11364.08   2163.42    9200.66  163873.31\n",
              "5      5  11364.08   2048.42    9315.66  154557.65\n",
              "6      6  11364.08   1931.97    9432.11  145125.54\n",
              "7      7  11364.08   1814.07    9550.01  135575.53\n",
              "8      8  11364.08   1694.69    9669.39  125906.14\n",
              "9      9  11364.08   1573.83    9790.25  116115.89\n",
              "10    10  11364.08   1451.45    9912.63  106203.26\n",
              "11    11  11364.08   1327.54   10036.54   96166.72\n",
              "12    12  11364.08   1202.08   10162.00   86004.72\n",
              "13    13  11364.08   1075.06   10289.02   75715.70\n",
              "14    14  11364.08    946.45   10417.63   65298.07\n",
              "15    15  11364.08    816.23   10547.85   54750.22\n",
              "16    16  11364.08    684.38   10679.70   44070.52\n",
              "17    17  11364.08    550.88   10813.20   33257.32\n",
              "18    18  11364.08    415.72   10948.36   22308.96\n",
              "19    19  11364.08    278.86   11085.22   11223.74\n",
              "20    20  11364.04    140.30   11223.74       0.00"
            ],
            "text/html": [
              "\n",
              "  <div id=\"df-78bb3961-e665-405f-8053-d45ad3b8142a\">\n",
              "    <div class=\"colab-df-container\">\n",
              "      <div>\n",
              "<style scoped>\n",
              "    .dataframe tbody tr th:only-of-type {\n",
              "        vertical-align: middle;\n",
              "    }\n",
              "\n",
              "    .dataframe tbody tr th {\n",
              "        vertical-align: top;\n",
              "    }\n",
              "\n",
              "    .dataframe thead th {\n",
              "        text-align: right;\n",
              "    }\n",
              "</style>\n",
              "<table border=\"1\" class=\"dataframe\">\n",
              "  <thead>\n",
              "    <tr style=\"text-align: right;\">\n",
              "      <th></th>\n",
              "      <th>Time</th>\n",
              "      <th>Amount</th>\n",
              "      <th>Interest</th>\n",
              "      <th>Principal</th>\n",
              "      <th>Balance</th>\n",
              "    </tr>\n",
              "  </thead>\n",
              "  <tbody>\n",
              "    <tr>\n",
              "      <th>0</th>\n",
              "      <td>0</td>\n",
              "      <td>0.00</td>\n",
              "      <td>0.00</td>\n",
              "      <td>0.00</td>\n",
              "      <td>200000.00</td>\n",
              "    </tr>\n",
              "    <tr>\n",
              "      <th>1</th>\n",
              "      <td>1</td>\n",
              "      <td>11364.08</td>\n",
              "      <td>2500.00</td>\n",
              "      <td>8864.08</td>\n",
              "      <td>191135.92</td>\n",
              "    </tr>\n",
              "    <tr>\n",
              "      <th>2</th>\n",
              "      <td>2</td>\n",
              "      <td>11364.08</td>\n",
              "      <td>2389.20</td>\n",
              "      <td>8974.88</td>\n",
              "      <td>182161.04</td>\n",
              "    </tr>\n",
              "    <tr>\n",
              "      <th>3</th>\n",
              "      <td>3</td>\n",
              "      <td>11364.08</td>\n",
              "      <td>2277.01</td>\n",
              "      <td>9087.07</td>\n",
              "      <td>173073.97</td>\n",
              "    </tr>\n",
              "    <tr>\n",
              "      <th>4</th>\n",
              "      <td>4</td>\n",
              "      <td>11364.08</td>\n",
              "      <td>2163.42</td>\n",
              "      <td>9200.66</td>\n",
              "      <td>163873.31</td>\n",
              "    </tr>\n",
              "    <tr>\n",
              "      <th>5</th>\n",
              "      <td>5</td>\n",
              "      <td>11364.08</td>\n",
              "      <td>2048.42</td>\n",
              "      <td>9315.66</td>\n",
              "      <td>154557.65</td>\n",
              "    </tr>\n",
              "    <tr>\n",
              "      <th>6</th>\n",
              "      <td>6</td>\n",
              "      <td>11364.08</td>\n",
              "      <td>1931.97</td>\n",
              "      <td>9432.11</td>\n",
              "      <td>145125.54</td>\n",
              "    </tr>\n",
              "    <tr>\n",
              "      <th>7</th>\n",
              "      <td>7</td>\n",
              "      <td>11364.08</td>\n",
              "      <td>1814.07</td>\n",
              "      <td>9550.01</td>\n",
              "      <td>135575.53</td>\n",
              "    </tr>\n",
              "    <tr>\n",
              "      <th>8</th>\n",
              "      <td>8</td>\n",
              "      <td>11364.08</td>\n",
              "      <td>1694.69</td>\n",
              "      <td>9669.39</td>\n",
              "      <td>125906.14</td>\n",
              "    </tr>\n",
              "    <tr>\n",
              "      <th>9</th>\n",
              "      <td>9</td>\n",
              "      <td>11364.08</td>\n",
              "      <td>1573.83</td>\n",
              "      <td>9790.25</td>\n",
              "      <td>116115.89</td>\n",
              "    </tr>\n",
              "    <tr>\n",
              "      <th>10</th>\n",
              "      <td>10</td>\n",
              "      <td>11364.08</td>\n",
              "      <td>1451.45</td>\n",
              "      <td>9912.63</td>\n",
              "      <td>106203.26</td>\n",
              "    </tr>\n",
              "    <tr>\n",
              "      <th>11</th>\n",
              "      <td>11</td>\n",
              "      <td>11364.08</td>\n",
              "      <td>1327.54</td>\n",
              "      <td>10036.54</td>\n",
              "      <td>96166.72</td>\n",
              "    </tr>\n",
              "    <tr>\n",
              "      <th>12</th>\n",
              "      <td>12</td>\n",
              "      <td>11364.08</td>\n",
              "      <td>1202.08</td>\n",
              "      <td>10162.00</td>\n",
              "      <td>86004.72</td>\n",
              "    </tr>\n",
              "    <tr>\n",
              "      <th>13</th>\n",
              "      <td>13</td>\n",
              "      <td>11364.08</td>\n",
              "      <td>1075.06</td>\n",
              "      <td>10289.02</td>\n",
              "      <td>75715.70</td>\n",
              "    </tr>\n",
              "    <tr>\n",
              "      <th>14</th>\n",
              "      <td>14</td>\n",
              "      <td>11364.08</td>\n",
              "      <td>946.45</td>\n",
              "      <td>10417.63</td>\n",
              "      <td>65298.07</td>\n",
              "    </tr>\n",
              "    <tr>\n",
              "      <th>15</th>\n",
              "      <td>15</td>\n",
              "      <td>11364.08</td>\n",
              "      <td>816.23</td>\n",
              "      <td>10547.85</td>\n",
              "      <td>54750.22</td>\n",
              "    </tr>\n",
              "    <tr>\n",
              "      <th>16</th>\n",
              "      <td>16</td>\n",
              "      <td>11364.08</td>\n",
              "      <td>684.38</td>\n",
              "      <td>10679.70</td>\n",
              "      <td>44070.52</td>\n",
              "    </tr>\n",
              "    <tr>\n",
              "      <th>17</th>\n",
              "      <td>17</td>\n",
              "      <td>11364.08</td>\n",
              "      <td>550.88</td>\n",
              "      <td>10813.20</td>\n",
              "      <td>33257.32</td>\n",
              "    </tr>\n",
              "    <tr>\n",
              "      <th>18</th>\n",
              "      <td>18</td>\n",
              "      <td>11364.08</td>\n",
              "      <td>415.72</td>\n",
              "      <td>10948.36</td>\n",
              "      <td>22308.96</td>\n",
              "    </tr>\n",
              "    <tr>\n",
              "      <th>19</th>\n",
              "      <td>19</td>\n",
              "      <td>11364.08</td>\n",
              "      <td>278.86</td>\n",
              "      <td>11085.22</td>\n",
              "      <td>11223.74</td>\n",
              "    </tr>\n",
              "    <tr>\n",
              "      <th>20</th>\n",
              "      <td>20</td>\n",
              "      <td>11364.04</td>\n",
              "      <td>140.30</td>\n",
              "      <td>11223.74</td>\n",
              "      <td>0.00</td>\n",
              "    </tr>\n",
              "  </tbody>\n",
              "</table>\n",
              "</div>\n",
              "      <button class=\"colab-df-convert\" onclick=\"convertToInteractive('df-78bb3961-e665-405f-8053-d45ad3b8142a')\"\n",
              "              title=\"Convert this dataframe to an interactive table.\"\n",
              "              style=\"display:none;\">\n",
              "        \n",
              "  <svg xmlns=\"http://www.w3.org/2000/svg\" height=\"24px\"viewBox=\"0 0 24 24\"\n",
              "       width=\"24px\">\n",
              "    <path d=\"M0 0h24v24H0V0z\" fill=\"none\"/>\n",
              "    <path d=\"M18.56 5.44l.94 2.06.94-2.06 2.06-.94-2.06-.94-.94-2.06-.94 2.06-2.06.94zm-11 1L8.5 8.5l.94-2.06 2.06-.94-2.06-.94L8.5 2.5l-.94 2.06-2.06.94zm10 10l.94 2.06.94-2.06 2.06-.94-2.06-.94-.94-2.06-.94 2.06-2.06.94z\"/><path d=\"M17.41 7.96l-1.37-1.37c-.4-.4-.92-.59-1.43-.59-.52 0-1.04.2-1.43.59L10.3 9.45l-7.72 7.72c-.78.78-.78 2.05 0 2.83L4 21.41c.39.39.9.59 1.41.59.51 0 1.02-.2 1.41-.59l7.78-7.78 2.81-2.81c.8-.78.8-2.07 0-2.86zM5.41 20L4 18.59l7.72-7.72 1.47 1.35L5.41 20z\"/>\n",
              "  </svg>\n",
              "      </button>\n",
              "      \n",
              "  <style>\n",
              "    .colab-df-container {\n",
              "      display:flex;\n",
              "      flex-wrap:wrap;\n",
              "      gap: 12px;\n",
              "    }\n",
              "\n",
              "    .colab-df-convert {\n",
              "      background-color: #E8F0FE;\n",
              "      border: none;\n",
              "      border-radius: 50%;\n",
              "      cursor: pointer;\n",
              "      display: none;\n",
              "      fill: #1967D2;\n",
              "      height: 32px;\n",
              "      padding: 0 0 0 0;\n",
              "      width: 32px;\n",
              "    }\n",
              "\n",
              "    .colab-df-convert:hover {\n",
              "      background-color: #E2EBFA;\n",
              "      box-shadow: 0px 1px 2px rgba(60, 64, 67, 0.3), 0px 1px 3px 1px rgba(60, 64, 67, 0.15);\n",
              "      fill: #174EA6;\n",
              "    }\n",
              "\n",
              "    [theme=dark] .colab-df-convert {\n",
              "      background-color: #3B4455;\n",
              "      fill: #D2E3FC;\n",
              "    }\n",
              "\n",
              "    [theme=dark] .colab-df-convert:hover {\n",
              "      background-color: #434B5C;\n",
              "      box-shadow: 0px 1px 3px 1px rgba(0, 0, 0, 0.15);\n",
              "      filter: drop-shadow(0px 1px 2px rgba(0, 0, 0, 0.3));\n",
              "      fill: #FFFFFF;\n",
              "    }\n",
              "  </style>\n",
              "\n",
              "      <script>\n",
              "        const buttonEl =\n",
              "          document.querySelector('#df-78bb3961-e665-405f-8053-d45ad3b8142a button.colab-df-convert');\n",
              "        buttonEl.style.display =\n",
              "          google.colab.kernel.accessAllowed ? 'block' : 'none';\n",
              "\n",
              "        async function convertToInteractive(key) {\n",
              "          const element = document.querySelector('#df-78bb3961-e665-405f-8053-d45ad3b8142a');\n",
              "          const dataTable =\n",
              "            await google.colab.kernel.invokeFunction('convertToInteractive',\n",
              "                                                     [key], {});\n",
              "          if (!dataTable) return;\n",
              "\n",
              "          const docLinkHtml = 'Like what you see? Visit the ' +\n",
              "            '<a target=\"_blank\" href=https://colab.research.google.com/notebooks/data_table.ipynb>data table notebook</a>'\n",
              "            + ' to learn more about interactive tables.';\n",
              "          element.innerHTML = '';\n",
              "          dataTable['output_type'] = 'display_data';\n",
              "          await google.colab.output.renderOutput(dataTable, element);\n",
              "          const docLink = document.createElement('div');\n",
              "          docLink.innerHTML = docLinkHtml;\n",
              "          element.appendChild(docLink);\n",
              "        }\n",
              "      </script>\n",
              "    </div>\n",
              "  </div>\n",
              "  "
            ]
          },
          "metadata": {}
        }
      ]
    },
    {
      "cell_type": "code",
      "source": [
        "df1['Cumulative Interest']=df1['Interest'].cumsum()\n",
        "df1['Cumulative Principal']=df1['Principal'].cumsum()\n"
      ],
      "metadata": {
        "id": "cA27RvWvEoPM"
      },
      "execution_count": null,
      "outputs": []
    },
    {
      "cell_type": "code",
      "source": [
        "display(df1.round(2))"
      ],
      "metadata": {
        "colab": {
          "base_uri": "https://localhost:8080/",
          "height": 769
        },
        "id": "y93DbDTNGhBX",
        "outputId": "604b6770-4d7d-41cb-ee54-e4cb0367776b"
      },
      "execution_count": null,
      "outputs": [
        {
          "output_type": "display_data",
          "data": {
            "text/plain": [
              "    Time    Amount  Interest  Principal    Balance  Cumulative_Interest  \\\n",
              "0      0      0.00      0.00       0.00  200000.00                 0.00   \n",
              "1      1  11364.08   2500.00    8864.08  191135.92              2500.00   \n",
              "2      2  11364.08   2389.20    8974.88  182161.04              4889.20   \n",
              "3      3  11364.08   2277.01    9087.07  173073.97              7166.21   \n",
              "4      4  11364.08   2163.42    9200.66  163873.31              9329.63   \n",
              "5      5  11364.08   2048.42    9315.66  154557.65             11378.05   \n",
              "6      6  11364.08   1931.97    9432.11  145125.54             13310.02   \n",
              "7      7  11364.08   1814.07    9550.01  135575.53             15124.09   \n",
              "8      8  11364.08   1694.69    9669.39  125906.14             16818.78   \n",
              "9      9  11364.08   1573.83    9790.25  116115.89             18392.61   \n",
              "10    10  11364.08   1451.45    9912.63  106203.26             19844.06   \n",
              "11    11  11364.08   1327.54   10036.54   96166.72             21171.60   \n",
              "12    12  11364.08   1202.08   10162.00   86004.72             22373.68   \n",
              "13    13  11364.08   1075.06   10289.02   75715.70             23448.74   \n",
              "14    14  11364.08    946.45   10417.63   65298.07             24395.19   \n",
              "15    15  11364.08    816.23   10547.85   54750.22             25211.42   \n",
              "16    16  11364.08    684.38   10679.70   44070.52             25895.80   \n",
              "17    17  11364.08    550.88   10813.20   33257.32             26446.68   \n",
              "18    18  11364.08    415.72   10948.36   22308.96             26862.40   \n",
              "19    19  11364.08    278.86   11085.22   11223.74             27141.26   \n",
              "20    20  11364.04    140.30   11223.74       0.00             27281.56   \n",
              "\n",
              "    Cumulative_Principal  Cumulative Interest  Cumulative Principal  \n",
              "0                   0.00                 0.00                  0.00  \n",
              "1                8864.08              2500.00               8864.08  \n",
              "2               17838.96              4889.20              17838.96  \n",
              "3               26926.03              7166.21              26926.03  \n",
              "4               36126.69              9329.63              36126.69  \n",
              "5               45442.35             11378.05              45442.35  \n",
              "6               54874.46             13310.02              54874.46  \n",
              "7               64424.47             15124.09              64424.47  \n",
              "8               74093.86             16818.78              74093.86  \n",
              "9               83884.11             18392.61              83884.11  \n",
              "10              93796.74             19844.06              93796.74  \n",
              "11             103833.28             21171.60             103833.28  \n",
              "12             113995.28             22373.68             113995.28  \n",
              "13             124284.30             23448.74             124284.30  \n",
              "14             134701.93             24395.19             134701.93  \n",
              "15             145249.78             25211.42             145249.78  \n",
              "16             155929.48             25895.80             155929.48  \n",
              "17             166742.68             26446.68             166742.68  \n",
              "18             177691.04             26862.40             177691.04  \n",
              "19             188776.26             27141.26             188776.26  \n",
              "20             200000.00             27281.56             200000.00  "
            ],
            "text/html": [
              "\n",
              "  <div id=\"df-f877c8b5-ae09-4331-aae7-2508e4f11dc0\">\n",
              "    <div class=\"colab-df-container\">\n",
              "      <div>\n",
              "<style scoped>\n",
              "    .dataframe tbody tr th:only-of-type {\n",
              "        vertical-align: middle;\n",
              "    }\n",
              "\n",
              "    .dataframe tbody tr th {\n",
              "        vertical-align: top;\n",
              "    }\n",
              "\n",
              "    .dataframe thead th {\n",
              "        text-align: right;\n",
              "    }\n",
              "</style>\n",
              "<table border=\"1\" class=\"dataframe\">\n",
              "  <thead>\n",
              "    <tr style=\"text-align: right;\">\n",
              "      <th></th>\n",
              "      <th>Time</th>\n",
              "      <th>Amount</th>\n",
              "      <th>Interest</th>\n",
              "      <th>Principal</th>\n",
              "      <th>Balance</th>\n",
              "      <th>Cumulative_Interest</th>\n",
              "      <th>Cumulative_Principal</th>\n",
              "      <th>Cumulative Interest</th>\n",
              "      <th>Cumulative Principal</th>\n",
              "    </tr>\n",
              "  </thead>\n",
              "  <tbody>\n",
              "    <tr>\n",
              "      <th>0</th>\n",
              "      <td>0</td>\n",
              "      <td>0.00</td>\n",
              "      <td>0.00</td>\n",
              "      <td>0.00</td>\n",
              "      <td>200000.00</td>\n",
              "      <td>0.00</td>\n",
              "      <td>0.00</td>\n",
              "      <td>0.00</td>\n",
              "      <td>0.00</td>\n",
              "    </tr>\n",
              "    <tr>\n",
              "      <th>1</th>\n",
              "      <td>1</td>\n",
              "      <td>11364.08</td>\n",
              "      <td>2500.00</td>\n",
              "      <td>8864.08</td>\n",
              "      <td>191135.92</td>\n",
              "      <td>2500.00</td>\n",
              "      <td>8864.08</td>\n",
              "      <td>2500.00</td>\n",
              "      <td>8864.08</td>\n",
              "    </tr>\n",
              "    <tr>\n",
              "      <th>2</th>\n",
              "      <td>2</td>\n",
              "      <td>11364.08</td>\n",
              "      <td>2389.20</td>\n",
              "      <td>8974.88</td>\n",
              "      <td>182161.04</td>\n",
              "      <td>4889.20</td>\n",
              "      <td>17838.96</td>\n",
              "      <td>4889.20</td>\n",
              "      <td>17838.96</td>\n",
              "    </tr>\n",
              "    <tr>\n",
              "      <th>3</th>\n",
              "      <td>3</td>\n",
              "      <td>11364.08</td>\n",
              "      <td>2277.01</td>\n",
              "      <td>9087.07</td>\n",
              "      <td>173073.97</td>\n",
              "      <td>7166.21</td>\n",
              "      <td>26926.03</td>\n",
              "      <td>7166.21</td>\n",
              "      <td>26926.03</td>\n",
              "    </tr>\n",
              "    <tr>\n",
              "      <th>4</th>\n",
              "      <td>4</td>\n",
              "      <td>11364.08</td>\n",
              "      <td>2163.42</td>\n",
              "      <td>9200.66</td>\n",
              "      <td>163873.31</td>\n",
              "      <td>9329.63</td>\n",
              "      <td>36126.69</td>\n",
              "      <td>9329.63</td>\n",
              "      <td>36126.69</td>\n",
              "    </tr>\n",
              "    <tr>\n",
              "      <th>5</th>\n",
              "      <td>5</td>\n",
              "      <td>11364.08</td>\n",
              "      <td>2048.42</td>\n",
              "      <td>9315.66</td>\n",
              "      <td>154557.65</td>\n",
              "      <td>11378.05</td>\n",
              "      <td>45442.35</td>\n",
              "      <td>11378.05</td>\n",
              "      <td>45442.35</td>\n",
              "    </tr>\n",
              "    <tr>\n",
              "      <th>6</th>\n",
              "      <td>6</td>\n",
              "      <td>11364.08</td>\n",
              "      <td>1931.97</td>\n",
              "      <td>9432.11</td>\n",
              "      <td>145125.54</td>\n",
              "      <td>13310.02</td>\n",
              "      <td>54874.46</td>\n",
              "      <td>13310.02</td>\n",
              "      <td>54874.46</td>\n",
              "    </tr>\n",
              "    <tr>\n",
              "      <th>7</th>\n",
              "      <td>7</td>\n",
              "      <td>11364.08</td>\n",
              "      <td>1814.07</td>\n",
              "      <td>9550.01</td>\n",
              "      <td>135575.53</td>\n",
              "      <td>15124.09</td>\n",
              "      <td>64424.47</td>\n",
              "      <td>15124.09</td>\n",
              "      <td>64424.47</td>\n",
              "    </tr>\n",
              "    <tr>\n",
              "      <th>8</th>\n",
              "      <td>8</td>\n",
              "      <td>11364.08</td>\n",
              "      <td>1694.69</td>\n",
              "      <td>9669.39</td>\n",
              "      <td>125906.14</td>\n",
              "      <td>16818.78</td>\n",
              "      <td>74093.86</td>\n",
              "      <td>16818.78</td>\n",
              "      <td>74093.86</td>\n",
              "    </tr>\n",
              "    <tr>\n",
              "      <th>9</th>\n",
              "      <td>9</td>\n",
              "      <td>11364.08</td>\n",
              "      <td>1573.83</td>\n",
              "      <td>9790.25</td>\n",
              "      <td>116115.89</td>\n",
              "      <td>18392.61</td>\n",
              "      <td>83884.11</td>\n",
              "      <td>18392.61</td>\n",
              "      <td>83884.11</td>\n",
              "    </tr>\n",
              "    <tr>\n",
              "      <th>10</th>\n",
              "      <td>10</td>\n",
              "      <td>11364.08</td>\n",
              "      <td>1451.45</td>\n",
              "      <td>9912.63</td>\n",
              "      <td>106203.26</td>\n",
              "      <td>19844.06</td>\n",
              "      <td>93796.74</td>\n",
              "      <td>19844.06</td>\n",
              "      <td>93796.74</td>\n",
              "    </tr>\n",
              "    <tr>\n",
              "      <th>11</th>\n",
              "      <td>11</td>\n",
              "      <td>11364.08</td>\n",
              "      <td>1327.54</td>\n",
              "      <td>10036.54</td>\n",
              "      <td>96166.72</td>\n",
              "      <td>21171.60</td>\n",
              "      <td>103833.28</td>\n",
              "      <td>21171.60</td>\n",
              "      <td>103833.28</td>\n",
              "    </tr>\n",
              "    <tr>\n",
              "      <th>12</th>\n",
              "      <td>12</td>\n",
              "      <td>11364.08</td>\n",
              "      <td>1202.08</td>\n",
              "      <td>10162.00</td>\n",
              "      <td>86004.72</td>\n",
              "      <td>22373.68</td>\n",
              "      <td>113995.28</td>\n",
              "      <td>22373.68</td>\n",
              "      <td>113995.28</td>\n",
              "    </tr>\n",
              "    <tr>\n",
              "      <th>13</th>\n",
              "      <td>13</td>\n",
              "      <td>11364.08</td>\n",
              "      <td>1075.06</td>\n",
              "      <td>10289.02</td>\n",
              "      <td>75715.70</td>\n",
              "      <td>23448.74</td>\n",
              "      <td>124284.30</td>\n",
              "      <td>23448.74</td>\n",
              "      <td>124284.30</td>\n",
              "    </tr>\n",
              "    <tr>\n",
              "      <th>14</th>\n",
              "      <td>14</td>\n",
              "      <td>11364.08</td>\n",
              "      <td>946.45</td>\n",
              "      <td>10417.63</td>\n",
              "      <td>65298.07</td>\n",
              "      <td>24395.19</td>\n",
              "      <td>134701.93</td>\n",
              "      <td>24395.19</td>\n",
              "      <td>134701.93</td>\n",
              "    </tr>\n",
              "    <tr>\n",
              "      <th>15</th>\n",
              "      <td>15</td>\n",
              "      <td>11364.08</td>\n",
              "      <td>816.23</td>\n",
              "      <td>10547.85</td>\n",
              "      <td>54750.22</td>\n",
              "      <td>25211.42</td>\n",
              "      <td>145249.78</td>\n",
              "      <td>25211.42</td>\n",
              "      <td>145249.78</td>\n",
              "    </tr>\n",
              "    <tr>\n",
              "      <th>16</th>\n",
              "      <td>16</td>\n",
              "      <td>11364.08</td>\n",
              "      <td>684.38</td>\n",
              "      <td>10679.70</td>\n",
              "      <td>44070.52</td>\n",
              "      <td>25895.80</td>\n",
              "      <td>155929.48</td>\n",
              "      <td>25895.80</td>\n",
              "      <td>155929.48</td>\n",
              "    </tr>\n",
              "    <tr>\n",
              "      <th>17</th>\n",
              "      <td>17</td>\n",
              "      <td>11364.08</td>\n",
              "      <td>550.88</td>\n",
              "      <td>10813.20</td>\n",
              "      <td>33257.32</td>\n",
              "      <td>26446.68</td>\n",
              "      <td>166742.68</td>\n",
              "      <td>26446.68</td>\n",
              "      <td>166742.68</td>\n",
              "    </tr>\n",
              "    <tr>\n",
              "      <th>18</th>\n",
              "      <td>18</td>\n",
              "      <td>11364.08</td>\n",
              "      <td>415.72</td>\n",
              "      <td>10948.36</td>\n",
              "      <td>22308.96</td>\n",
              "      <td>26862.40</td>\n",
              "      <td>177691.04</td>\n",
              "      <td>26862.40</td>\n",
              "      <td>177691.04</td>\n",
              "    </tr>\n",
              "    <tr>\n",
              "      <th>19</th>\n",
              "      <td>19</td>\n",
              "      <td>11364.08</td>\n",
              "      <td>278.86</td>\n",
              "      <td>11085.22</td>\n",
              "      <td>11223.74</td>\n",
              "      <td>27141.26</td>\n",
              "      <td>188776.26</td>\n",
              "      <td>27141.26</td>\n",
              "      <td>188776.26</td>\n",
              "    </tr>\n",
              "    <tr>\n",
              "      <th>20</th>\n",
              "      <td>20</td>\n",
              "      <td>11364.04</td>\n",
              "      <td>140.30</td>\n",
              "      <td>11223.74</td>\n",
              "      <td>0.00</td>\n",
              "      <td>27281.56</td>\n",
              "      <td>200000.00</td>\n",
              "      <td>27281.56</td>\n",
              "      <td>200000.00</td>\n",
              "    </tr>\n",
              "  </tbody>\n",
              "</table>\n",
              "</div>\n",
              "      <button class=\"colab-df-convert\" onclick=\"convertToInteractive('df-f877c8b5-ae09-4331-aae7-2508e4f11dc0')\"\n",
              "              title=\"Convert this dataframe to an interactive table.\"\n",
              "              style=\"display:none;\">\n",
              "        \n",
              "  <svg xmlns=\"http://www.w3.org/2000/svg\" height=\"24px\"viewBox=\"0 0 24 24\"\n",
              "       width=\"24px\">\n",
              "    <path d=\"M0 0h24v24H0V0z\" fill=\"none\"/>\n",
              "    <path d=\"M18.56 5.44l.94 2.06.94-2.06 2.06-.94-2.06-.94-.94-2.06-.94 2.06-2.06.94zm-11 1L8.5 8.5l.94-2.06 2.06-.94-2.06-.94L8.5 2.5l-.94 2.06-2.06.94zm10 10l.94 2.06.94-2.06 2.06-.94-2.06-.94-.94-2.06-.94 2.06-2.06.94z\"/><path d=\"M17.41 7.96l-1.37-1.37c-.4-.4-.92-.59-1.43-.59-.52 0-1.04.2-1.43.59L10.3 9.45l-7.72 7.72c-.78.78-.78 2.05 0 2.83L4 21.41c.39.39.9.59 1.41.59.51 0 1.02-.2 1.41-.59l7.78-7.78 2.81-2.81c.8-.78.8-2.07 0-2.86zM5.41 20L4 18.59l7.72-7.72 1.47 1.35L5.41 20z\"/>\n",
              "  </svg>\n",
              "      </button>\n",
              "      \n",
              "  <style>\n",
              "    .colab-df-container {\n",
              "      display:flex;\n",
              "      flex-wrap:wrap;\n",
              "      gap: 12px;\n",
              "    }\n",
              "\n",
              "    .colab-df-convert {\n",
              "      background-color: #E8F0FE;\n",
              "      border: none;\n",
              "      border-radius: 50%;\n",
              "      cursor: pointer;\n",
              "      display: none;\n",
              "      fill: #1967D2;\n",
              "      height: 32px;\n",
              "      padding: 0 0 0 0;\n",
              "      width: 32px;\n",
              "    }\n",
              "\n",
              "    .colab-df-convert:hover {\n",
              "      background-color: #E2EBFA;\n",
              "      box-shadow: 0px 1px 2px rgba(60, 64, 67, 0.3), 0px 1px 3px 1px rgba(60, 64, 67, 0.15);\n",
              "      fill: #174EA6;\n",
              "    }\n",
              "\n",
              "    [theme=dark] .colab-df-convert {\n",
              "      background-color: #3B4455;\n",
              "      fill: #D2E3FC;\n",
              "    }\n",
              "\n",
              "    [theme=dark] .colab-df-convert:hover {\n",
              "      background-color: #434B5C;\n",
              "      box-shadow: 0px 1px 3px 1px rgba(0, 0, 0, 0.15);\n",
              "      filter: drop-shadow(0px 1px 2px rgba(0, 0, 0, 0.3));\n",
              "      fill: #FFFFFF;\n",
              "    }\n",
              "  </style>\n",
              "\n",
              "      <script>\n",
              "        const buttonEl =\n",
              "          document.querySelector('#df-f877c8b5-ae09-4331-aae7-2508e4f11dc0 button.colab-df-convert');\n",
              "        buttonEl.style.display =\n",
              "          google.colab.kernel.accessAllowed ? 'block' : 'none';\n",
              "\n",
              "        async function convertToInteractive(key) {\n",
              "          const element = document.querySelector('#df-f877c8b5-ae09-4331-aae7-2508e4f11dc0');\n",
              "          const dataTable =\n",
              "            await google.colab.kernel.invokeFunction('convertToInteractive',\n",
              "                                                     [key], {});\n",
              "          if (!dataTable) return;\n",
              "\n",
              "          const docLinkHtml = 'Like what you see? Visit the ' +\n",
              "            '<a target=\"_blank\" href=https://colab.research.google.com/notebooks/data_table.ipynb>data table notebook</a>'\n",
              "            + ' to learn more about interactive tables.';\n",
              "          element.innerHTML = '';\n",
              "          dataTable['output_type'] = 'display_data';\n",
              "          await google.colab.output.renderOutput(dataTable, element);\n",
              "          const docLink = document.createElement('div');\n",
              "          docLink.innerHTML = docLinkHtml;\n",
              "          element.appendChild(docLink);\n",
              "        }\n",
              "      </script>\n",
              "    </div>\n",
              "  </div>\n",
              "  "
            ]
          },
          "metadata": {}
        }
      ]
    },
    {
      "cell_type": "code",
      "source": [
        "import matplotlib.pyplot as plt\n",
        "fig, ax = plt.subplots()\n",
        "df1.plot(x=\"Time\",y=\"Cumulative Interest\", ax = ax, kind =\"line\")\n",
        "df1.plot(x=\"Time\",y=\"Cumulative Principal\", ax = ax, kind =\"line\",secondary_y=True)\n",
        "df1.plot(x=\"Time\",y=\"Balance\", ax = ax, kind =\"line\",secondary_y=True)\n"
      ],
      "metadata": {
        "colab": {
          "base_uri": "https://localhost:8080/",
          "height": 576
        },
        "id": "du1QulzqGk3Q",
        "outputId": "6b1239c2-0bf5-42da-bbd5-3ace0ac57dd1"
      },
      "execution_count": null,
      "outputs": [
        {
          "output_type": "execute_result",
          "data": {
            "text/plain": [
              "<matplotlib.axes._subplots.AxesSubplot at 0x7f295abc6310>"
            ]
          },
          "metadata": {},
          "execution_count": 29
        },
        {
          "output_type": "display_data",
          "data": {
            "text/plain": [
              "<Figure size 432x288 with 2 Axes>"
            ],
            "image/png": "[encoded data removed]"
          },
          "metadata": {
            "needs_background": "light"
          }
        },
        {
          "output_type": "execute_result",
          "data": {
            "text/plain": [
              "<matplotlib.axes._subplots.AxesSubplot at 0x7f295a523190>"
            ]
          },
          "metadata": {},
          "execution_count": 30
        },
        {
          "output_type": "display_data",
          "data": {
            "text/plain": [
              "<Figure size 432x288 with 2 Axes>"
            ],
            "image/png": "[encoded data removed]"
          },
          "metadata": {
            "needs_background": "light"
          }
        }
      ]
    },
    {
      "cell_type": "code",
      "source": [
        ""
      ],
      "metadata": {
        "id": "h7sDodtOHNQK"
      },
      "execution_count": null,
      "outputs": []
    },
    {
      "cell_type": "markdown",
      "source": [
        "# Lab 8\n",
        "# Date: 10-06-2022"
      ],
      "metadata": {
        "id": "EgpEx-nMBlbu"
      }
    },
    {
      "cell_type": "markdown",
      "source": [
        "**Basic Price Formula**\n",
        "\n",
        "P = $ (Fr) a_{{\\overline{n}|}_j} + C v_j^n$\n",
        "\n",
        "where \n",
        "\n",
        "P = Price at issue \\\n",
        "F = Face value of the bond \\\n",
        "C = Redemption amount \\\n",
        "j = effective yield rate for the coupon period \\\n",
        "r = coupon rate per coupon period \\\n",
        "Fr = amount of each coupon \\\n",
        "\n"
      ],
      "metadata": {
        "id": "lB4EzjMWdzKZ"
      }
    },
    {
      "cell_type": "markdown",
      "source": [
        "**Premium-Discount formula** \\\n",
        "\n",
        "P = $ C(g - j) a_{{\\overline{n}|}_j} + C$\n",
        "\n",
        "where \n",
        "\n",
        "P = Price at issue \\\n",
        "C = Redemption amount \\\n",
        "j = effective yield rate for the coupon period \\\n",
        "g = modified coupon rate \\"
      ],
      "metadata": {
        "id": "T6JUMiTDiRBr"
      }
    },
    {
      "cell_type": "markdown",
      "source": [
        "**Base amount formula**\n",
        "\n",
        "P = $ (C - G) v_j^n + G$\n",
        "\n",
        "where \n",
        "\n",
        "P = Price at issue \\\n",
        "C = Redemption amount \\\n",
        "G = Base amount \\\n",
        "j = effective yield rate for the coupon period \\"
      ],
      "metadata": {
        "id": "I-5caaCpi-Zy"
      }
    },
    {
      "cell_type": "markdown",
      "source": [
        "**Makeham's formula** \\\n",
        "\n",
        "P = $ \\frac{g}{j}(C - K) + K$\n",
        "\n",
        "where \n",
        "\n",
        "P = Price at issue \\\n",
        "C = Redemption amount \\\n",
        "G = Base amount\n",
        "j = effective yield rate for the coupon period \\\n",
        "g = modified coupon rate \\\n",
        "K = present value of the redemption amount C"
      ],
      "metadata": {
        "id": "fS_sLGBnj4PC"
      }
    },
    {
      "cell_type": "code",
      "source": [
        "!pip install multipledispatch"
      ],
      "metadata": {
        "colab": {
          "base_uri": "https://localhost:8080/"
        },
        "id": "PMkrU0NymLqT",
        "outputId": "18e32b29-05bc-48bd-ac18-1fe14291229a"
      },
      "execution_count": 1,
      "outputs": [
        {
          "output_type": "stream",
          "name": "stdout",
          "text": [
            "Collecting multipledispatch\n",
            "  Downloading multipledispatch-0.6.0-py3-none-any.whl (11 kB)\n",
            "Requirement already satisfied: six in /usr/local/lib/python3.7/dist-packages (from multipledispatch) (1.15.0)\n",
            "Installing collected packages: multipledispatch\n",
            "Successfully installed multipledispatch-0.6.0\n"
          ]
        }
      ]
    },
    {
      "cell_type": "code",
      "source": [
        "import numpy as np\n",
        "import pandas as pd\n",
        "from multipledispatch import dispatch"
      ],
      "metadata": {
        "id": "_xAhgGIuj39K"
      },
      "execution_count": 2,
      "outputs": []
    },
    {
      "cell_type": "code",
      "execution_count": 3,
      "metadata": {
        "id": "VX-oB3JJdpL3"
      },
      "outputs": [],
      "source": [
        "def v_j(j_eff, n_periods):\n",
        "  v = (1 + j_eff)**(-n_periods)\n",
        "  return v"
      ]
    },
    {
      "cell_type": "code",
      "source": [
        "def ani_j(j_eff,n_periods):\n",
        "  ani = ((1-v_j(j_eff,n_periods))/(j_eff))\n",
        "  return ani"
      ],
      "metadata": {
        "id": "rtdcFMvqmkVN"
      },
      "execution_count": 4,
      "outputs": []
    },
    {
      "cell_type": "code",
      "source": [
        "@dispatch(float, int, float, float) \n",
        "def BP_issue(C, n, j, g): \n",
        "  K = C * v_j(j, n)\n",
        "  bp = (g/j) * (C - K) + K #Makeham's formula\n",
        "  return bp"
      ],
      "metadata": {
        "id": "FI9LKonHnjE8"
      },
      "execution_count": 5,
      "outputs": []
    },
    {
      "cell_type": "code",
      "source": [
        "@dispatch(float, int, float, float, float)\n",
        "def BP_issue(C, n, j, F, r):\n",
        "  K = C * v_j(j, n)\n",
        "  ani = ani_j(j,n)\n",
        "  cv = F * r\n",
        "  bp = cv * ani + K\n",
        "  return bp"
      ],
      "metadata": {
        "id": "zO5mWJ-mpYDD"
      },
      "execution_count": 6,
      "outputs": []
    },
    {
      "cell_type": "code",
      "source": [
        "def B_t(C, n, j, g, t):\n",
        "  Bt = BP_issue(C, n-t, j, g)\n",
        "  return Bt"
      ],
      "metadata": {
        "id": "goCsOTnNm7yT"
      },
      "execution_count": 7,
      "outputs": []
    },
    {
      "cell_type": "code",
      "source": [
        "def I_t(C, n, j, g, t):\n",
        "  It=(j*B_t(C, n, j, g, t-1))\n",
        "  return It"
      ],
      "metadata": {
        "id": "swPEpRQqs7KP"
      },
      "execution_count": 8,
      "outputs": []
    },
    {
      "cell_type": "code",
      "source": [
        "def P_t(C, n, j, g, t):\n",
        "  Pt=((C*(g-j))*v_j(j, n-t+1))\n",
        "  return Pt"
      ],
      "metadata": {
        "id": "MdI2H93Ps7yM"
      },
      "execution_count": 9,
      "outputs": []
    },
    {
      "cell_type": "code",
      "source": [
        "def bondamortization(C, n, j, g, t):\n",
        "  btime = []\n",
        "  binterest = []\n",
        "  bpayment = []\n",
        "  bbalance = []\n",
        "  bcp = []\n",
        "  for i in range(n+1):\n",
        "    btime.append(i)\n",
        "    binterest.append(I_t(C, n, j, g, i))\n",
        "    bpayment.append(P_t(C, n, j, g, i))\n",
        "    bbalance.append(B_t(C, n, j, g, i))\n",
        "    bcp.append(C*g)\n",
        "  binterest[0]=0\n",
        "  bpayment[0]=0\n",
        "  bcp[0] = 0\n",
        "  data = {\"Time\": np.array(btime),  \"Coupon Payment\": np.array(bcp), \"It\": np.array(binterest), \"Pt\": np.array(bpayment), \"Bt\": np.array(bbalance)}\n",
        "  df = pd.DataFrame(data)\n",
        "  dff = np.round(df, decimals = 2)\n",
        "  return dff"
      ],
      "metadata": {
        "id": "xb4K3hiyyb5b"
      },
      "execution_count": 10,
      "outputs": []
    },
    {
      "cell_type": "markdown",
      "source": [
        ""
      ],
      "metadata": {
        "id": "4se6fx57DQIS"
      }
    },
    {
      "cell_type": "code",
      "source": [
        ""
      ],
      "metadata": {
        "id": "52m6Yy59DQYQ"
      },
      "execution_count": null,
      "outputs": []
    }
  ]
}