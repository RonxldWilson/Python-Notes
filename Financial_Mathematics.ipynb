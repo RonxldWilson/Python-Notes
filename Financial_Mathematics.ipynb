{
  "nbformat": 4,
  "nbformat_minor": 0,
  "metadata": {
    "colab": {
      "name": "Financial Mathematics",
      "provenance": [],
      "collapsed_sections": [
        "RbPJop_NSrM0",
        "l6gciywlEcsE",
        "WPg9pSkeUst0",
        "gNZR5XqpdPGw",
        "erWiEYM0ojM-"
      ],
      "authorship_tag": "ABX9TyOjPrW0/PY3DdzBvN88CFog",
      "include_colab_link": true
    },
    "kernelspec": {
      "name": "python3",
      "display_name": "Python 3"
    },
    "language_info": {
      "name": "python"
    }
  },
  "cells": [
    {
      "cell_type": "markdown",
      "metadata": {
        "id": "view-in-github",
        "colab_type": "text"
      },
      "source": [
        "<a href=\"https://colab.research.google.com/github/RonxldWilson/Python-Notes/blob/main/Financial_Mathematics.ipynb\" target=\"_parent\"><img src=\"https://colab.research.google.com/assets/colab-badge.svg\" alt=\"Open In Colab\"/></a>"
      ]
    },
    {
      "cell_type": "markdown",
      "source": [
        "# Day 1\n",
        "# Date: 18-01-2022"
      ],
      "metadata": {
        "id": "RbPJop_NSrM0"
      }
    },
    {
      "cell_type": "markdown",
      "source": [
        "Simple Interest vs Compound Interest"
      ],
      "metadata": {
        "id": "nFbBdALPRR2V"
      }
    },
    {
      "cell_type": "markdown",
      "source": [
        "SI: $ a(t) = (1 + st) $\n",
        "\n",
        "SI: $ A(T) = K a(t) $\n",
        "\n",
        "CI: $ a(t) = (1+i)^t $\n",
        "\n",
        "CI: $ A(t) = K a(t) $\n"
      ],
      "metadata": {
        "id": "f_3LmlI0Rd1w"
      }
    },
    {
      "cell_type": "code",
      "execution_count": null,
      "metadata": {
        "id": "BvD2JMzHQ3qr"
      },
      "outputs": [],
      "source": [
        "import numpy as np\n",
        "from matplotlib.pyplot import *\n",
        "from pylab import *"
      ]
    },
    {
      "cell_type": "code",
      "source": [
        "K = 1000\n",
        "s = 0.08\n",
        "i=s\n",
        "n = 10\n",
        "t = linspace(0,n,n)\n",
        "y1 = np.ones(len(t))*K\n",
        "y2 = K * (1 + s * t) # SI: a(t) = (1 + st) SI: $ A(T) = K a(t) $\n",
        "y3 = K * (1 + i)**t\n",
        "xlim(0,11)\n",
        "ylim(800,2200)\n",
        "plot(t,y1, 'b--')\n",
        "plot(t,y2, 'g--')\n",
        "plot(t,y3, 'r--')\n",
        "show()"
      ],
      "metadata": {
        "colab": {
          "base_uri": "https://localhost:8080/",
          "height": 54
        },
        "id": "yhjRqnnlSj9u",
        "outputId": "78d2414c-68a9-4b1a-fa8c-5db72acf4637"
      },
      "execution_count": null,
      "outputs": [
        {
          "output_type": "display_data",
          "data": {
            "image/png": "[encoded data removed]",
            "text/plain": [
              "<Figure size 432x288 with 1 Axes>"
            ]
          },
          "metadata": {
            "needs_background": "light"
          }
        }
      ]
    },
    {
      "cell_type": "markdown",
      "source": [
        "APR - Annual Percentage Rate $i_{nom} = i^{(m)}$ \\\n",
        "EAR - Effective Annual Rate $ i $ \\\n",
        "$ i^{(m)} = m*((1 + i)^{(1/m)}-1)$ \\\n",
        "$ i = (1 + \\frac{i^{(m)}}{m})^m -1$ \\\n",
        "$ d^{(m)} = \\frac{i^{(m)}}{1+ \\frac{i^{(m)}}{m}}$"
      ],
      "metadata": {
        "id": "_IObKf6DXhkt"
      }
    },
    {
      "cell_type": "code",
      "source": [
        "import numpy as np\n",
        "import matplotlib.pyplot as plt\n",
        "import math \n",
        "def i_nom(i, m):\n",
        "  i_nom = (((1+i)**(1/m))-1)*m\n",
        "  return i_nom"
      ],
      "metadata": {
        "id": "9fzRfUR1Tb4c"
      },
      "execution_count": null,
      "outputs": []
    },
    {
      "cell_type": "code",
      "source": [
        "i_nom(0.12,2)"
      ],
      "metadata": {
        "colab": {
          "base_uri": "https://localhost:8080/"
        },
        "id": "srZd4UQWahp8",
        "outputId": "b0cb6b2b-b2a6-4a1b-fcc3-82e29d9184f3"
      },
      "execution_count": null,
      "outputs": [
        {
          "output_type": "execute_result",
          "data": {
            "text/plain": [
              "0.11660104885167266"
            ]
          },
          "metadata": {},
          "execution_count": 5
        }
      ]
    },
    {
      "cell_type": "code",
      "source": [
        "X = [1, 2, 3, 4, 6, 12, 24, 365, 365*24, 365*24*60, 365*24*60*60]\n",
        "for x in X:\n",
        "  y11 = i_nom(0.12, x)\n",
        "  print(y11)"
      ],
      "metadata": {
        "colab": {
          "base_uri": "https://localhost:8080/"
        },
        "id": "4X4c23sIbyUp",
        "outputId": "b3cc2a2e-4d43-47b6-bac2-dce43ac4d643"
      },
      "execution_count": null,
      "outputs": [
        {
          "output_type": "stream",
          "name": "stdout",
          "text": [
            "0.1200000000000001\n",
            "0.11660104885167266\n",
            "0.11549646111066236\n",
            "0.11494937888832091\n",
            "0.11440573836312806\n",
            "0.11386551521499655\n",
            "0.11359667760742376\n",
            "0.1133462808142105\n",
            "0.1133294183803013\n",
            "0.11332869750475538\n",
            "0.1133286825663049\n"
          ]
        }
      ]
    },
    {
      "cell_type": "markdown",
      "source": [
        "# Day 2 \n",
        "# 22-01-2022"
      ],
      "metadata": {
        "id": "l6gciywlEcsE"
      }
    },
    {
      "cell_type": "code",
      "source": [
        "from array import *\n",
        "y11=[]\n",
        "X=[1,2,3,4,6,12,24,365,365*24,365*24*60,365*24*60*60]\n",
        "for x in X:\n",
        "  y11.append(i_nom(0.12, x))\n",
        "  print(y11)"
      ],
      "metadata": {
        "id": "Yq6OaaiDc6xd",
        "colab": {
          "base_uri": "https://localhost:8080/"
        },
        "outputId": "ad6eced4-1439-4f06-e31c-14ca53a8389a"
      },
      "execution_count": null,
      "outputs": [
        {
          "output_type": "stream",
          "name": "stdout",
          "text": [
            "[0.1200000000000001]\n",
            "[0.1200000000000001, 0.11660104885167266]\n",
            "[0.1200000000000001, 0.11660104885167266, 0.11549646111066236]\n",
            "[0.1200000000000001, 0.11660104885167266, 0.11549646111066236, 0.11494937888832091]\n",
            "[0.1200000000000001, 0.11660104885167266, 0.11549646111066236, 0.11494937888832091, 0.11440573836312806]\n",
            "[0.1200000000000001, 0.11660104885167266, 0.11549646111066236, 0.11494937888832091, 0.11440573836312806, 0.11386551521499655]\n",
            "[0.1200000000000001, 0.11660104885167266, 0.11549646111066236, 0.11494937888832091, 0.11440573836312806, 0.11386551521499655, 0.11359667760742376]\n",
            "[0.1200000000000001, 0.11660104885167266, 0.11549646111066236, 0.11494937888832091, 0.11440573836312806, 0.11386551521499655, 0.11359667760742376, 0.1133462808142105]\n",
            "[0.1200000000000001, 0.11660104885167266, 0.11549646111066236, 0.11494937888832091, 0.11440573836312806, 0.11386551521499655, 0.11359667760742376, 0.1133462808142105, 0.1133294183803013]\n",
            "[0.1200000000000001, 0.11660104885167266, 0.11549646111066236, 0.11494937888832091, 0.11440573836312806, 0.11386551521499655, 0.11359667760742376, 0.1133462808142105, 0.1133294183803013, 0.11332869750475538]\n",
            "[0.1200000000000001, 0.11660104885167266, 0.11549646111066236, 0.11494937888832091, 0.11440573836312806, 0.11386551521499655, 0.11359667760742376, 0.1133462808142105, 0.1133294183803013, 0.11332869750475538, 0.1133286825663049]\n"
          ]
        }
      ]
    },
    {
      "cell_type": "code",
      "source": [
        "import matplotlib.pyplot as plt\n",
        "import math\n",
        "delta=math.log(1+0.12)\n",
        "plt.scatter(X,y11,color='red')\n",
        "plt.axhline(y=delta,color='g',linestyle='-')\n",
        "plt.figure(figsize=(50,10))\n",
        "plt.show()"
      ],
      "metadata": {
        "colab": {
          "base_uri": "https://localhost:8080/",
          "height": 73
        },
        "id": "CjEtSuutEiIl",
        "outputId": "a27c545f-da4c-42a6-b100-2c1de7793dec"
      },
      "execution_count": null,
      "outputs": [
        {
          "output_type": "display_data",
          "data": {
            "image/png": "[encoded data removed]",
            "text/plain": [
              "<Figure size 432x288 with 1 Axes>"
            ]
          },
          "metadata": {
            "needs_background": "light"
          }
        },
        {
          "output_type": "display_data",
          "data": {
            "text/plain": [
              "<Figure size 3600x720 with 0 Axes>"
            ]
          },
          "metadata": {}
        }
      ]
    },
    {
      "cell_type": "code",
      "source": [
        "from array import *\n",
        "import numpy as np\n",
        "X = [1, 2, 3, 4, 6, 12, 24]\n",
        "y11=[]\n",
        "y22=[]\n",
        "y111=[]\n",
        "y33=[]\n",
        "for x in X:\n",
        "  y11.append(i_nom(0.12, x))\n",
        "print(y11)\n",
        "y111 = np.divide(y11,X)\n",
        "y33 = [x + 1 for x in y111]\n",
        "y22 = np.divide(y11, y33)\n",
        "print(y22)"
      ],
      "metadata": {
        "colab": {
          "base_uri": "https://localhost:8080/"
        },
        "id": "siRfMI0jEoBt",
        "outputId": "88073ae1-4626-4e61-ab71-ff983dccb578"
      },
      "execution_count": null,
      "outputs": [
        {
          "output_type": "stream",
          "name": "stdout",
          "text": [
            "[0.1200000000000001, 0.11660104885167266, 0.11549646111066236, 0.11494937888832091, 0.11440573836312806, 0.11386551521499655, 0.11359667760742376]\n",
            "[0.10714286 0.11017763 0.11121482 0.11173832 0.11226511 0.11279522\n",
            " 0.11306154]\n"
          ]
        }
      ]
    },
    {
      "cell_type": "code",
      "source": [
        "d = 0.12/(1+0.12)"
      ],
      "metadata": {
        "id": "EM2fxoUEW68g"
      },
      "execution_count": null,
      "outputs": []
    },
    {
      "cell_type": "code",
      "source": [
        "import math\n",
        "def i_nomi(i, m):\n",
        "  i_nom = (((1+i)**(1/m))-1)*m\n",
        "  d_nom = i_nom / (1 + (i_nom/m))\n",
        "  i_eff = i\n",
        "  d_eff = i / (1 + i)\n",
        "  delta = math.log(1+i)\n",
        "  return i_nom, d_nom, i_eff, d_eff, delta"
      ],
      "metadata": {
        "id": "V_ulGN7icYRo"
      },
      "execution_count": null,
      "outputs": []
    },
    {
      "cell_type": "code",
      "source": [
        "import matplotlib.pyplot as plt\n",
        "plt.scatter(X,y11,color='red')\n",
        "plt.scatter(X,y22,color='blue')\n",
        "plt.axhline(y = delta, color = 'g', linestyle = '-') \n",
        "plt.axhline(y = i_nomi(0.12, 2)[2], color = 'y', linestyle = '-') \n",
        "plt.axhline(y = i_nomi(0.12, 2)[3], color = 'm', linestyle = '-') \n",
        "plt.figure(figsize=(50,10))\n",
        "plt.show()"
      ],
      "metadata": {
        "colab": {
          "base_uri": "https://localhost:8080/",
          "height": 73
        },
        "id": "bzAK80BNEroE",
        "outputId": "fce6d68b-edfc-4e2b-c985-4b7deed1764c"
      },
      "execution_count": null,
      "outputs": [
        {
          "output_type": "display_data",
          "data": {
            "image/png": "[encoded data removed]",
            "text/plain": [
              "<Figure size 432x288 with 1 Axes>"
            ]
          },
          "metadata": {
            "needs_background": "light"
          }
        },
        {
          "output_type": "display_data",
          "data": {
            "text/plain": [
              "<Figure size 3600x720 with 0 Axes>"
            ]
          },
          "metadata": {}
        }
      ]
    },
    {
      "cell_type": "code",
      "source": [
        ""
      ],
      "metadata": {
        "id": "HX4c7a83WrYF"
      },
      "execution_count": null,
      "outputs": []
    },
    {
      "cell_type": "markdown",
      "source": [
        "# Day 3\n",
        "# 29-01-2022"
      ],
      "metadata": {
        "id": "WPg9pSkeUst0"
      }
    },
    {
      "cell_type": "code",
      "source": [
        ""
      ],
      "metadata": {
        "id": "E0wbQUVzUwi7"
      },
      "execution_count": null,
      "outputs": []
    },
    {
      "cell_type": "markdown",
      "source": [
        "# Day 4\n",
        "# 08-01-2022"
      ],
      "metadata": {
        "id": "gNZR5XqpdPGw"
      }
    },
    {
      "cell_type": "code",
      "source": [
        "import io\n",
        "import pandas as pd"
      ],
      "metadata": {
        "id": "NiXfiteedWqB"
      },
      "execution_count": null,
      "outputs": []
    },
    {
      "cell_type": "code",
      "source": [
        "from google.colab import drive \n",
        "drive.mount('/content/gdrive')"
      ],
      "metadata": {
        "colab": {
          "base_uri": "https://localhost:8080/"
        },
        "id": "yRAbXxt7dbHu",
        "outputId": "44205ea8-6036-4216-a7dd-5d843a3c7ea6"
      },
      "execution_count": null,
      "outputs": [
        {
          "output_type": "stream",
          "name": "stdout",
          "text": [
            "Mounted at /content/gdrive\n"
          ]
        }
      ]
    },
    {
      "cell_type": "code",
      "source": [
        "from openpyxl import Workbook\n",
        "wb = Workbook()\n",
        "TAB001 = 'Test001.xlsx'\n",
        "TAB002 = 'Test002.xlsx'"
      ],
      "metadata": {
        "id": "8CmFgePOdkFV"
      },
      "execution_count": null,
      "outputs": []
    },
    {
      "cell_type": "code",
      "source": [
        "wb.save('/content/gdrive/My Drive/'+TAB001)\n",
        "wb.save('/content/gdrive/My Drive/'+TAB002)"
      ],
      "metadata": {
        "id": "IsCSQxM4fGAy"
      },
      "execution_count": null,
      "outputs": []
    },
    {
      "cell_type": "code",
      "source": [
        "from openpyxl import load_workbook\n",
        "wb1 = load_workbook('/content/gdrive/My Drive/'+TAB001)\n",
        "wb2 = load_workbook('/content/gdrive/My Drive/'+TAB002)"
      ],
      "metadata": {
        "id": "3t0eTTIRg2Vi"
      },
      "execution_count": null,
      "outputs": []
    },
    {
      "cell_type": "code",
      "source": [
        "calc_data = ([0.12, 1], [0.12, 2], [0.12, 3], [0.12, 4], [0.12, 6], [0.12, 12], [0.12, 24])\n"
      ],
      "metadata": {
        "id": "MoZl9wilhyip"
      },
      "execution_count": null,
      "outputs": []
    },
    {
      "cell_type": "code",
      "source": [
        "import numpy as np\n",
        "import matplotlib.pyplot as plt\n",
        "import math\n"
      ],
      "metadata": {
        "id": "DkNcwE4Lh3hL"
      },
      "execution_count": null,
      "outputs": []
    },
    {
      "cell_type": "code",
      "source": [
        "def i_nomi(i, m):\n",
        "  i_nom = (((1+i)**(1/m))-1)*m\n",
        "  d_nom = i_nom / (1 + (i_nom/m))\n",
        "  i_eff = i\n",
        "  d_eff = i / (1 + i)\n",
        "  delta = math.log(1+i)\n",
        "  return i_nom, d_nom, i_eff, d_eff, delta\n"
      ],
      "metadata": {
        "id": "EeopgBydh7AP"
      },
      "execution_count": null,
      "outputs": []
    },
    {
      "cell_type": "code",
      "source": [
        "from array import *\n",
        "import numpy as np\n",
        "X = (np.transpose(calc_data))[1]\n",
        "y11=[]\n",
        "y22=[]\n",
        "d =[]\n",
        "delta = []\n",
        "i = []\n",
        "for x in X:\n",
        "  d.append(i_nomi(0.12, x)[3])\n",
        "  y22.append(i_nomi(0.12, x)[1])\n",
        "  delta.append(i_nomi(0.12, x)[4])\n",
        "  y11.append(i_nomi(0.12, x)[0])\n",
        "  i.append(i_nomi(0.12, x)[2])\n",
        "print(d)\n",
        "print(y22)\n",
        "print(delta)\n",
        "print(y11)\n",
        "print(i)"
      ],
      "metadata": {
        "colab": {
          "base_uri": "https://localhost:8080/"
        },
        "id": "NOQKm1k-h-IK",
        "outputId": "e0346b17-22d8-4f15-8340-1e14e13288c0"
      },
      "execution_count": null,
      "outputs": [
        {
          "output_type": "stream",
          "name": "stdout",
          "text": [
            "[0.10714285714285712, 0.10714285714285712, 0.10714285714285712, 0.10714285714285712, 0.10714285714285712, 0.10714285714285712, 0.10714285714285712]\n",
            "[0.10714285714285723, 0.11017763495386404, 0.11121482166873173, 0.11173831637207182, 0.11226510957098047, 0.11279522468396068, 0.11306153532500231]\n",
            "[0.11332868530700327, 0.11332868530700327, 0.11332868530700327, 0.11332868530700327, 0.11332868530700327, 0.11332868530700327, 0.11332868530700327]\n",
            "[0.1200000000000001, 0.11660104885167266, 0.11549646111066236, 0.11494937888832091, 0.11440573836312806, 0.11386551521499655, 0.11359667760742376]\n",
            "[0.12, 0.12, 0.12, 0.12, 0.12, 0.12, 0.12]\n"
          ]
        }
      ]
    },
    {
      "cell_type": "code",
      "source": [
        "data = {'d':d, 'd(m)': y22, 'delta': delta, 'i(m)': y11, 'i':i}\n"
      ],
      "metadata": {
        "id": "dREqqkBMiAJS"
      },
      "execution_count": null,
      "outputs": []
    },
    {
      "cell_type": "code",
      "source": [
        "df = pd.DataFrame(data)\n"
      ],
      "metadata": {
        "id": "gzve8uxMjEqE"
      },
      "execution_count": null,
      "outputs": []
    },
    {
      "cell_type": "code",
      "source": [
        "writer = pd.ExcelWriter('/content/gdrive/My Drive/'+TAB001, engine='openpyxl')"
      ],
      "metadata": {
        "id": "bg8P1IdUjHcP"
      },
      "execution_count": null,
      "outputs": []
    },
    {
      "cell_type": "code",
      "source": [
        "df.to_excel(writer, sheet_name='Sheet1')"
      ],
      "metadata": {
        "id": "SiZ7SZjLjH-f"
      },
      "execution_count": null,
      "outputs": []
    },
    {
      "cell_type": "code",
      "source": [
        "wb = writer.book\n",
        "ws = writer.sheets['Sheet1']"
      ],
      "metadata": {
        "id": "2rwHs5OhjUQt"
      },
      "execution_count": null,
      "outputs": []
    },
    {
      "cell_type": "code",
      "source": [
        "from openpyxl.chart import (LineChart, Reference) \n",
        "chart = LineChart()\n",
        "values = Reference(ws, min_col = 2, min_row = 1, max_col = 6, max_row = 8)\n",
        "chart.add_data(values, titles_from_data=True)\n",
        " \n",
        "chart.y_axis.scaling.min = 0.104\n",
        "chart.y_axis.scaling.max = 0.121\n",
        " \n",
        "s1 = chart.series[0]\n",
        "s1.marker.symbol = \"square\"\n",
        "s1.marker.graphicalProperties.solidFill = \"d121b9\"\n",
        "s2 = chart.series[1]\n",
        "s2.marker.symbol = \"star\"\n",
        "s1.marker.graphicalProperties.solidFill = \"249e19\"\n",
        "s3 = chart.series[2]\n",
        "s3.marker.symbol = \"circle\"\n",
        "s1.marker.graphicalProperties.solidFill = \"4846db\"\n",
        "s4 = chart.series[3]\n",
        "s4.marker.symbol = \"triangle\"\n",
        "s1.marker.graphicalProperties.solidFill = \"bf3348\"\n",
        "s5 = chart.series[0]\n",
        "s5.marker.symbol = \"square\"\n",
        "s1.marker.graphicalProperties.solidFill = \"f4c92e\"\n",
        " \n",
        "ws.add_chart(chart, \"A11\")\n",
        "writer.save()"
      ],
      "metadata": {
        "id": "VOh03nt1j_lS"
      },
      "execution_count": null,
      "outputs": []
    },
    {
      "cell_type": "markdown",
      "source": [
        "# Day 5 \n",
        "# 19-02-2022\n"
      ],
      "metadata": {
        "id": "PnFIr0nuew1I"
      }
    },
    {
      "cell_type": "code",
      "source": [
        "def a_ki(k,i):\n",
        "  aki =  (1+i)**k\n",
        "  return aki"
      ],
      "metadata": {
        "id": "bj6f9G91lgeT"
      },
      "execution_count": null,
      "outputs": []
    },
    {
      "cell_type": "code",
      "source": [
        "def v_ki(k,i):\n",
        "  vki = 1/(a_ki(k,i))\n",
        "  return vki"
      ],
      "metadata": {
        "id": "VN1sNu3UnKbv"
      },
      "execution_count": null,
      "outputs": []
    },
    {
      "cell_type": "code",
      "source": [
        "def PV_ai_ni(n,i):\n",
        "  return ((1-v_ki(n,i)/i))"
      ],
      "metadata": {
        "id": "gP9CGChTnbhC"
      },
      "execution_count": null,
      "outputs": []
    },
    {
      "cell_type": "code",
      "source": [
        "def AV_si_ni(n,i):\n",
        "  return PV_ai_ni(n,i)*a_ki(n,i)"
      ],
      "metadata": {
        "id": "DOQPOOBloAF3"
      },
      "execution_count": null,
      "outputs": []
    },
    {
      "cell_type": "code",
      "source": [
        "def PV_ad_ni(n,i):\n",
        "  return PV_ai_ni(n,i)*(1+i)"
      ],
      "metadata": {
        "id": "I4jqUq9goarY"
      },
      "execution_count": null,
      "outputs": []
    },
    {
      "cell_type": "code",
      "source": [
        "def AV_sd_ni(n,i):\n",
        "  return AV_si_ni(n,i)*(1+i)"
      ],
      "metadata": {
        "id": "sO1E7UW6ox-g"
      },
      "execution_count": null,
      "outputs": []
    },
    {
      "cell_type": "code",
      "source": [
        "def PV_ai_i(i):\n",
        "  return 1/i"
      ],
      "metadata": {
        "id": "hygIK9_2o-Uf"
      },
      "execution_count": null,
      "outputs": []
    },
    {
      "cell_type": "code",
      "source": [
        "def PV_ad_i(i):\n",
        "  return PV_ai_i(i)*(1+i)"
      ],
      "metadata": {
        "id": "LmLI-JndpEi1"
      },
      "execution_count": null,
      "outputs": []
    },
    {
      "cell_type": "code",
      "source": [
        "def PV_ai_deff_ni(n,i,k):\n",
        "  return PV_ai_ni(n,i)*v_ki(k,i)"
      ],
      "metadata": {
        "id": "HzqOJ1vVpRiX"
      },
      "execution_count": null,
      "outputs": []
    },
    {
      "cell_type": "code",
      "source": [
        "def PV_ad_deff_ni(n,i,k):\n",
        "  return PV_ad_ni(n,i)*v_ki(k,i)"
      ],
      "metadata": {
        "id": "RR5HKwvopf1V"
      },
      "execution_count": null,
      "outputs": []
    },
    {
      "cell_type": "markdown",
      "source": [
        "# Day 6\n",
        "# 22-02-2022"
      ],
      "metadata": {
        "id": "NT0gPIKZhh-6"
      }
    },
    {
      "cell_type": "code",
      "source": [
        "def sni_ai(i,n):\n",
        "  sni = (((1+i)**n)-1)/i\n",
        "  return sni"
      ],
      "metadata": {
        "id": "zYPoZ1Mko299"
      },
      "execution_count": null,
      "outputs": []
    },
    {
      "cell_type": "code",
      "source": [
        "AV_si_ni(10,0.12)"
      ],
      "metadata": {
        "id": "5pGbv4IEpH24",
        "outputId": "a6d84c15-4f65-483c-bd1c-b2ea4b15a898",
        "colab": {
          "base_uri": "https://localhost:8080/"
        }
      },
      "execution_count": null,
      "outputs": [
        {
          "output_type": "execute_result",
          "data": {
            "text/plain": [
              "-5.227485124989122"
            ]
          },
          "metadata": {},
          "execution_count": 17
        }
      ]
    },
    {
      "cell_type": "code",
      "source": [
        "!pip install multipledispatch"
      ],
      "metadata": {
        "colab": {
          "base_uri": "https://localhost:8080/"
        },
        "id": "XIJ0DLgdhnRr",
        "outputId": "16a61a93-c298-450b-de23-21a506aec005"
      },
      "execution_count": null,
      "outputs": [
        {
          "output_type": "stream",
          "name": "stdout",
          "text": [
            "Requirement already satisfied: multipledispatch in /usr/local/lib/python3.7/dist-packages (0.6.0)\n",
            "Requirement already satisfied: six in /usr/local/lib/python3.7/dist-packages (from multipledispatch) (1.15.0)\n"
          ]
        }
      ]
    },
    {
      "cell_type": "code",
      "source": [
        "from multipledispatch import dispatch "
      ],
      "metadata": {
        "id": "6NSv4aedi_8z"
      },
      "execution_count": null,
      "outputs": []
    },
    {
      "cell_type": "code",
      "source": [
        "@dispatch(float, int)\n",
        "def AnnuityAccumlation(i,n):\n",
        "  sni = AV_si_ni(n,i)\n",
        "  return sni\n",
        "@dispatch(float, int, float)\n",
        "def AnnuityAccumlation(i,n,K):\n",
        "  Sni = K*AV_si_ni(n,i)\n",
        "  return Sni \n",
        "@dispatch(float, int, str)\n",
        "def AnnuityAccumlation(d,n,dtype):\n",
        "  i = d/(1-d)\n",
        "  sni = AV_si_ni(n,i)\n",
        "  return sni\n",
        "@dispatch(float, int, float, str)\n",
        "def AnnuityAccumlation(d,n,K,dtype):\n",
        "  i = d/(1-d)\n",
        "  Sni = K*AV_si_ni(i,n,K)\n",
        "  return Sni\n",
        "@dispatch(float, int, float, str)\n",
        "def AnnuityAccumlation(d,n,K,dtype):\n",
        "  i = d/(1-d)\n",
        "  Sni = AV_si_ni(i,n,K)\n",
        "  return Sni\n"
      ],
      "metadata": {
        "id": "De2JNAF1jUC1"
      },
      "execution_count": null,
      "outputs": []
    },
    {
      "cell_type": "markdown",
      "source": [
        "#  02-03-2021"
      ],
      "metadata": {
        "id": "36-RfR6zovDl"
      }
    },
    {
      "cell_type": "markdown",
      "source": [
        ""
      ],
      "metadata": {
        "id": "erWiEYM0ojM-"
      }
    },
    {
      "cell_type": "code",
      "source": [
        "!pip install multipledispatch \n"
      ],
      "metadata": {
        "colab": {
          "base_uri": "https://localhost:8080/"
        },
        "id": "JyHe47M9pRFs",
        "outputId": "2afd7147-f180-4d9b-d980-ad13b7d1f94b"
      },
      "execution_count": null,
      "outputs": [
        {
          "output_type": "stream",
          "name": "stdout",
          "text": [
            "Requirement already satisfied: multipledispatch in /usr/local/lib/python3.7/dist-packages (0.6.0)\n",
            "Requirement already satisfied: six in /usr/local/lib/python3.7/dist-packages (from multipledispatch) (1.15.0)\n"
          ]
        }
      ]
    },
    {
      "cell_type": "code",
      "source": [
        "\n",
        "from multipledispatch import dispatch\n",
        "\n",
        "def a_ki(k,i):\n",
        "  return (1+i)**k\n",
        "\n",
        "def v_ki(k,i):\n",
        "  return (1/a_ki(k,i))\n",
        "  \n",
        "def AV_ai_def(i,n,k):\n",
        "  return a_ki(-k,i)*(((1-v_ki(k,i))/i))\n",
        "  \n",
        "@dispatch(float, int, int)\n",
        "def AnnuityAccumulation_Def(i,n,k):\n",
        "  sni = AV_ai_def(i,n,k)\n",
        "  return sni\n",
        "\n",
        "@dispatch(float, int,int, float)\n",
        "def AnnuityAccumulation_Def(i,n,k,Q):\n",
        "  Sni = Q*AV_ai_def(i,n,k)\n",
        "  return Sni \n",
        "\n",
        "@dispatch (float, int,int, str)\n",
        "def AnnuityAccumulation_Def(d,n,k,dtype):\n",
        "  i=d/(1-d)\n",
        "  sni = AV_ai_def(i,n,k)\n",
        "  return sni\n",
        "\n",
        "@dispatch(float, int, float,int, str)\n",
        "def AnnuityAccumulation_Def(d,n,Q,k,dtype):\n",
        "  i=d/(1-d)\n",
        "  Sni = Q*AV_ai_def(i,n,k)\n",
        "  return Sni\n",
        "\n",
        "\n",
        "\n",
        "def PV_ai_ni(n,i):\n",
        "  return ((1-v_ki(n,i))/i)\n",
        "\n",
        "def PV_ai_deff_ni(n,i,k):\n",
        "  return (PV_ai_ni(n,i)*v_ki(k,i))\n",
        "\n",
        "@dispatch(float, int, int)\n",
        "def AnnuityPresentValue_Def(i,n,k):\n",
        "  sni = PV_ai_deff_ni(n,i,k)\n",
        "  return sni\n",
        "\n",
        "@dispatch(float, int, float, int)\n",
        "def AnnuityPresentValue_Def(i,n,Q,k):\n",
        "  Sni = Q*PV_ai_deff_ni(n,i,k)\n",
        "  return Sni \n",
        "\n",
        "@dispatch (float, int, int, str)\n",
        "def AnnuityPresentValue_Def(d,n,k,dtype):\n",
        "  i=d/(1-d)\n",
        "  sni = PV_ai_deff_ni(n,i,k)\n",
        "  return sni\n",
        "\n",
        "@dispatch(float, int, float,int, str)\n",
        "def AnnuityPresentValue_Def(d,n,Q,k, dtype):\n",
        "  i=d/(1-d)\n",
        "  Sni = Q*PV_ai_deff_ni(n,i,k)\n",
        "  return Sni\n",
        "\n"
      ],
      "metadata": {
        "id": "i6vCt88ao9WQ"
      },
      "execution_count": null,
      "outputs": []
    },
    {
      "cell_type": "markdown",
      "source": [
        "# Day 7\n",
        "# 05-03-2022\n"
      ],
      "metadata": {
        "id": "uU4G_du9k8Nk"
      }
    },
    {
      "cell_type": "markdown",
      "source": [
        ""
      ],
      "metadata": {
        "id": "tFo0Nt8El9Je"
      }
    },
    {
      "cell_type": "code",
      "source": [
        "def A_inf_i_ai(i,Q):\n",
        "  ani = Q *(1/i)\n",
        "  return ani\n",
        "def a_inf_i_ai(i):\n",
        "  a_inf_i = 1/i\n",
        "  return a_inf_i"
      ],
      "metadata": {
        "id": "LMG3neYwmiMc"
      },
      "execution_count": null,
      "outputs": []
    },
    {
      "cell_type": "code",
      "source": [
        "A_inf_i_ai(0.12, 500)"
      ],
      "metadata": {
        "id": "fmKf1EetmiPu",
        "colab": {
          "base_uri": "https://localhost:8080/"
        },
        "outputId": "fae37cef-5a20-4e04-d81b-c2ef6cc6f308"
      },
      "execution_count": null,
      "outputs": [
        {
          "output_type": "execute_result",
          "data": {
            "text/plain": [
              "4166.666666666667"
            ]
          },
          "metadata": {},
          "execution_count": 41
        }
      ]
    },
    {
      "cell_type": "code",
      "source": [
        "@dispatch(float)\n",
        "def PerpetuityPresentworth(i):\n",
        "  a_inf_i = a_inf_i_ai(i)\n",
        "  return a_inf_i\n",
        "@dispatch(float, float)\n",
        "def PerpetuityPresentworth(i,Q):\n",
        "  A_inf_i = A_inf_i_ai(i,Q)\n",
        "  return A_inf_i\n",
        "@dispatch(float,str)\n",
        "def PerpetuityPresentworth(d,dtype):\n",
        "  i = d/(1-d)\n",
        "  a_inf_i  = a_inf_i_ai(i)\n",
        "  return a_inf_i\n",
        "@dispatch(float,float,str)\n",
        "def PerpetuityPresentworth(d,Q,dtype):\n",
        "  i = d/(1-d)\n",
        "  A_inf_i  = A_inf_i_ai(i,Q)\n",
        "  return A_inf_i"
      ],
      "metadata": {
        "id": "akEkN7ntmiTI"
      },
      "execution_count": null,
      "outputs": []
    },
    {
      "cell_type": "code",
      "source": [
        "@dispatch(float,int)\n",
        "def PerpetuityPresentworthDef(i,k):\n",
        "  a_inf_i = a_inf_i_ai(i) * v_ki(k,i)\n",
        "  return a_inf_i\n",
        "@dispatch(float,float,int)\n",
        "def PerpetuityPresentworthDef(i,Q,k):\n",
        "  A_inf_i = A_inf_i_ai(i,Q) * v_ki(k,i)\n",
        "  return A_inf_i\n",
        "\n",
        "@dispatch(float,int,str)\n",
        "def PerpetuityPresentworthDef(d,k,dtype):\n",
        "  i = d/(1-d)\n",
        "  A_inf_i = A_inf_i_ai(i) * v_ki(k,i)\n",
        "  return A_inf_i\n",
        "\n",
        "@dispatch(float,float,int,str)\n",
        "def PerpetuityPresentworthDef(d,Q,k,dtype):\n",
        "  i = d/(1-d)\n",
        "  A_inf_i = A_inf_i_ai(i,Q) * v_ki(k,i)\n",
        "  return A_inf_i\n"
      ],
      "metadata": {
        "id": "OXfY0jwLrdTy"
      },
      "execution_count": null,
      "outputs": []
    },
    {
      "cell_type": "code",
      "source": [
        "PerpetuityPresentworth(0.12)"
      ],
      "metadata": {
        "colab": {
          "base_uri": "https://localhost:8080/"
        },
        "id": "FLEuu7AcvEXl",
        "outputId": "85bd3919-48c6-4941-866c-515abc2beca0"
      },
      "execution_count": null,
      "outputs": [
        {
          "output_type": "execute_result",
          "data": {
            "text/plain": [
              "8.333333333333334"
            ]
          },
          "metadata": {},
          "execution_count": 45
        }
      ]
    },
    {
      "cell_type": "markdown",
      "source": [
        "# Day 8\n",
        "# 08-03-2022"
      ],
      "metadata": {
        "id": "OXmV3g7Em64-"
      }
    },
    {
      "cell_type": "code",
      "source": [
        ""
      ],
      "metadata": {
        "id": "S75TK_E5wJ6m"
      },
      "execution_count": null,
      "outputs": []
    },
    {
      "cell_type": "markdown",
      "source": [
        "# Day 9\n",
        "# 22-03-2022"
      ],
      "metadata": {
        "id": "ItLaJbG8zDr4"
      }
    },
    {
      "cell_type": "code",
      "source": [
        "import io\n",
        "import pandas as pd"
      ],
      "metadata": {
        "id": "Jfu5vllezXow"
      },
      "execution_count": null,
      "outputs": []
    },
    {
      "cell_type": "code",
      "source": [
        "from google.colab import drive \n",
        "drive.mount('/content/gdrive')"
      ],
      "metadata": {
        "colab": {
          "base_uri": "https://localhost:8080/"
        },
        "id": "L7fY1twoztz1",
        "outputId": "968179ab-95be-4467-d0cd-4e5219b1cb81"
      },
      "execution_count": null,
      "outputs": [
        {
          "output_type": "stream",
          "name": "stdout",
          "text": [
            "Mounted at /content/gdrive\n"
          ]
        }
      ]
    },
    {
      "cell_type": "code",
      "source": [
        "from openpyxl import Workbook\n",
        "wb = Workbook()"
      ],
      "metadata": {
        "id": "lN_MDxXAzydm"
      },
      "execution_count": null,
      "outputs": []
    },
    {
      "cell_type": "code",
      "source": [
        "!touch \"/content/gdrive/My Drive/FM/Excel_Book 1.xlsx\""
      ],
      "metadata": {
        "id": "p_Ux06700Dok"
      },
      "execution_count": null,
      "outputs": []
    },
    {
      "cell_type": "code",
      "source": [
        "from google.colab import auth\n",
        "auth.authenticate_user()\n",
        "import gspread\n",
        "from oauth2client.client import GoogleCredentials\n",
        " \n",
        "gc = gspread.authorize(GoogleCredentials.get_application_default())"
      ],
      "metadata": {
        "id": "na3IHfIk1LK2"
      },
      "execution_count": null,
      "outputs": []
    },
    {
      "cell_type": "code",
      "source": [
        "ws = gc.open('Excel_Book 1.xlsx').sheet1"
      ],
      "metadata": {
        "colab": {
          "base_uri": "https://localhost:8080/",
          "height": 443
        },
        "id": "QXVLTBEz2aNF",
        "outputId": "d7674677-11c3-4ef2-f5b5-ec27a7d16445"
      },
      "execution_count": null,
      "outputs": [
        {
          "output_type": "error",
          "ename": "SpreadsheetNotFound",
          "evalue": "ignored",
          "traceback": [
            "\u001b[0;31m---------------------------------------------------------------------------\u001b[0m",
            "\u001b[0;31mStopIteration\u001b[0m                             Traceback (most recent call last)",
            "\u001b[0;32m/usr/local/lib/python3.7/dist-packages/gspread/client.py\u001b[0m in \u001b[0;36mopen\u001b[0;34m(self, title)\u001b[0m\n\u001b[1;32m    121\u001b[0m                 \u001b[0;32mlambda\u001b[0m \u001b[0mx\u001b[0m\u001b[0;34m:\u001b[0m \u001b[0mx\u001b[0m\u001b[0;34m[\u001b[0m\u001b[0;34m'name'\u001b[0m\u001b[0;34m]\u001b[0m \u001b[0;34m==\u001b[0m \u001b[0mtitle\u001b[0m\u001b[0;34m,\u001b[0m\u001b[0;34m\u001b[0m\u001b[0;34m\u001b[0m\u001b[0m\n\u001b[0;32m--> 122\u001b[0;31m                 \u001b[0mself\u001b[0m\u001b[0;34m.\u001b[0m\u001b[0mlist_spreadsheet_files\u001b[0m\u001b[0;34m(\u001b[0m\u001b[0mtitle\u001b[0m\u001b[0;34m)\u001b[0m\u001b[0;34m\u001b[0m\u001b[0;34m\u001b[0m\u001b[0m\n\u001b[0m\u001b[1;32m    123\u001b[0m             )\n",
            "\u001b[0;32m/usr/local/lib/python3.7/dist-packages/gspread/utils.py\u001b[0m in \u001b[0;36mfinditem\u001b[0;34m(func, seq)\u001b[0m\n\u001b[1;32m     93\u001b[0m     \"\"\"\n\u001b[0;32m---> 94\u001b[0;31m     \u001b[0;32mreturn\u001b[0m \u001b[0mnext\u001b[0m\u001b[0;34m(\u001b[0m\u001b[0;34m(\u001b[0m\u001b[0mitem\u001b[0m \u001b[0;32mfor\u001b[0m \u001b[0mitem\u001b[0m \u001b[0;32min\u001b[0m \u001b[0mseq\u001b[0m \u001b[0;32mif\u001b[0m \u001b[0mfunc\u001b[0m\u001b[0;34m(\u001b[0m\u001b[0mitem\u001b[0m\u001b[0;34m)\u001b[0m\u001b[0;34m)\u001b[0m\u001b[0;34m)\u001b[0m\u001b[0;34m\u001b[0m\u001b[0;34m\u001b[0m\u001b[0m\n\u001b[0m\u001b[1;32m     95\u001b[0m \u001b[0;34m\u001b[0m\u001b[0m\n",
            "\u001b[0;31mStopIteration\u001b[0m: ",
            "\nDuring handling of the above exception, another exception occurred:\n",
            "\u001b[0;31mSpreadsheetNotFound\u001b[0m                       Traceback (most recent call last)",
            "\u001b[0;32m<ipython-input-10-5bdc228a2ae6>\u001b[0m in \u001b[0;36m<module>\u001b[0;34m()\u001b[0m\n\u001b[0;32m----> 1\u001b[0;31m \u001b[0mws\u001b[0m \u001b[0;34m=\u001b[0m \u001b[0mgc\u001b[0m\u001b[0;34m.\u001b[0m\u001b[0mopen\u001b[0m\u001b[0;34m(\u001b[0m\u001b[0;34m'Excel_Book 1.xlsx'\u001b[0m\u001b[0;34m)\u001b[0m\u001b[0;34m.\u001b[0m\u001b[0msheet1\u001b[0m\u001b[0;34m\u001b[0m\u001b[0;34m\u001b[0m\u001b[0m\n\u001b[0m",
            "\u001b[0;32m/usr/local/lib/python3.7/dist-packages/gspread/client.py\u001b[0m in \u001b[0;36mopen\u001b[0;34m(self, title)\u001b[0m\n\u001b[1;32m    128\u001b[0m             \u001b[0;32mreturn\u001b[0m \u001b[0mSpreadsheet\u001b[0m\u001b[0;34m(\u001b[0m\u001b[0mself\u001b[0m\u001b[0;34m,\u001b[0m \u001b[0mproperties\u001b[0m\u001b[0;34m)\u001b[0m\u001b[0;34m\u001b[0m\u001b[0;34m\u001b[0m\u001b[0m\n\u001b[1;32m    129\u001b[0m         \u001b[0;32mexcept\u001b[0m \u001b[0mStopIteration\u001b[0m\u001b[0;34m:\u001b[0m\u001b[0;34m\u001b[0m\u001b[0;34m\u001b[0m\u001b[0m\n\u001b[0;32m--> 130\u001b[0;31m             \u001b[0;32mraise\u001b[0m \u001b[0mSpreadsheetNotFound\u001b[0m\u001b[0;34m\u001b[0m\u001b[0;34m\u001b[0m\u001b[0m\n\u001b[0m\u001b[1;32m    131\u001b[0m \u001b[0;34m\u001b[0m\u001b[0m\n\u001b[1;32m    132\u001b[0m     \u001b[0;32mdef\u001b[0m \u001b[0mopen_by_key\u001b[0m\u001b[0;34m(\u001b[0m\u001b[0mself\u001b[0m\u001b[0;34m,\u001b[0m \u001b[0mkey\u001b[0m\u001b[0;34m)\u001b[0m\u001b[0;34m:\u001b[0m\u001b[0;34m\u001b[0m\u001b[0;34m\u001b[0m\u001b[0m\n",
            "\u001b[0;31mSpreadsheetNotFound\u001b[0m: "
          ]
        }
      ]
    },
    {
      "cell_type": "code",
      "source": [
        ""
      ],
      "metadata": {
        "id": "L4qN1BRD2fSc"
      },
      "execution_count": null,
      "outputs": []
    },
    {
      "cell_type": "markdown",
      "source": [
        "# Day 10\n",
        "# Date: 26-03-2022"
      ],
      "metadata": {
        "id": "8OsiS6I7vLps"
      }
    },
    {
      "cell_type": "markdown",
      "source": [
        "Problems: (Use Python to solve) \n",
        "1. Write a Python function to calculate Outstanding Loan Balances using retrospective \n",
        "method. \n"
      ],
      "metadata": {
        "id": "ICJJ9W79vS91"
      }
    },
    {
      "cell_type": "code",
      "source": [
        "def sum(n,i):\n",
        "  return ((((1+i)**n)-1)/i)"
      ],
      "metadata": {
        "id": "SP-VogdTxOWW"
      },
      "execution_count": null,
      "outputs": []
    },
    {
      "cell_type": "code",
      "source": [
        "def OLBretro(L,i,k,Q):\n",
        "  Total_loan_amount = L*(1+i)**k\n",
        "  OLB = Total_loan_amount - Q*sum(k,i)\n",
        "  return OLB\n"
      ],
      "metadata": {
        "id": "EveDu04MxIPd"
      },
      "execution_count": null,
      "outputs": []
    },
    {
      "cell_type": "markdown",
      "source": [
        "2. Write a Python function to calculate Outstanding Loan Balances using prospective \n",
        "method. "
      ],
      "metadata": {
        "id": "awQa-2R_xBCh"
      }
    },
    {
      "cell_type": "code",
      "source": [
        "def a(n,i):\n",
        "  acc = (1+i*n)\n",
        "  return acc"
      ],
      "metadata": {
        "id": "J-cqEsQx04Gz"
      },
      "execution_count": null,
      "outputs": []
    },
    {
      "cell_type": "code",
      "source": [
        "def OLBprospestiv(Q,i,n,k,R):\n",
        "  OLB = Q*a(n-k-1,i)+R*(1+i)**(-(n-k))\n",
        "  return OLB"
      ],
      "metadata": {
        "id": "_PdbReACznMF"
      },
      "execution_count": null,
      "outputs": []
    },
    {
      "cell_type": "markdown",
      "source": [
        "\n",
        "3. Sasha is obligated to repay a loan made on the first of the month by paying Rs 80 at the \n",
        "end of each of the next thirty months, including this month. The effective monthly rate on the loan is 0.4%. Using a user-defined Python function, find Sasha's loan balance \n",
        "immediately after her twelfth payment. "
      ],
      "metadata": {
        "id": "RMHlO7ElxCgy"
      }
    },
    {
      "cell_type": "code",
      "source": [
        "OLBretro(80*30,0.004,12,80)"
      ],
      "metadata": {
        "colab": {
          "base_uri": "https://localhost:8080/"
        },
        "id": "XQu0nxKezRjL",
        "outputId": "1808b289-120e-4f3d-8b4b-0a3285bf7e49"
      },
      "execution_count": null,
      "outputs": [
        {
          "output_type": "execute_result",
          "data": {
            "text/plain": [
              "1536.3643473874192"
            ]
          },
          "metadata": {},
          "execution_count": 5
        }
      ]
    },
    {
      "cell_type": "markdown",
      "source": [
        "\n",
        "4. A loan of Rs 20000 is being repaid by payments of Rs 2500 at the end of each year and \n",
        "a final smaller payment one year after the last Rs 2500 payment. The annual effective interest rate on the loan is 8%. Using a user defined python function, find the \n",
        "outstanding loan balance just after the borrower has made payments totalling Rs 15000."
      ],
      "metadata": {
        "id": "ngzJlKyGxGzv"
      }
    },
    {
      "cell_type": "code",
      "source": [
        "OLBprospestiv(20000,0.08,,2500)"
      ],
      "metadata": {
        "id": "BR-fkCCMz23t",
        "colab": {
          "base_uri": "https://localhost:8080/",
          "height": 136
        },
        "outputId": "736f8097-ecca-48f4-8e1f-24c07906da1c"
      },
      "execution_count": null,
      "outputs": [
        {
          "output_type": "error",
          "ename": "SyntaxError",
          "evalue": "ignored",
          "traceback": [
            "\u001b[0;36m  File \u001b[0;32m\"<ipython-input-6-413c69796eaf>\"\u001b[0;36m, line \u001b[0;32m1\u001b[0m\n\u001b[0;31m    OLBprospestiv(20000,0.08,,2500)\u001b[0m\n\u001b[0m                             ^\u001b[0m\n\u001b[0;31mSyntaxError\u001b[0m\u001b[0;31m:\u001b[0m invalid syntax\n"
          ]
        }
      ]
    },
    {
      "cell_type": "markdown",
      "source": [
        " \n",
        "5. Mr and Mrs Harper purchased a home for Rs 256000. They make a down payment of \n",
        "Rs 40000 and finance the remainder of the purchase price with a thirty-year mortgage at an annual effective interest rate of 6.5%. The Harpers sell their home at the end of eight years, just after having made their ninety-sixth end-of-month mortgage payment. The sales price is Rs 282000, and the Harpers closing costs are 3% of the selling price. The outstanding loan balance is deducted from the amount the Harpers receive and sent to the lender. How large a check do the Harpers receive, and how much interest did they pay over the eight years? (Use Python) "
      ],
      "metadata": {
        "id": "RZS32K4ZxEJ8"
      }
    },
    {
      "cell_type": "markdown",
      "source": [
        "# Day 11\n",
        "# 29-03-2022"
      ],
      "metadata": {
        "id": "25EcJhvpxWbC"
      }
    },
    {
      "cell_type": "markdown",
      "source": [
        ""
      ],
      "metadata": {
        "id": "e6ArmV68xbmL"
      }
    },
    {
      "cell_type": "code",
      "source": [
        ""
      ],
      "metadata": {
        "id": "WIcF8BYNvSTe"
      },
      "execution_count": null,
      "outputs": []
    },
    {
      "cell_type": "markdown",
      "source": [
        ""
      ],
      "metadata": {
        "id": "vkaRwHloxcd7"
      }
    },
    {
      "cell_type": "markdown",
      "source": [
        ""
      ],
      "metadata": {
        "id": "wU6n06lAxcha"
      }
    },
    {
      "cell_type": "markdown",
      "source": [
        ""
      ],
      "metadata": {
        "id": "iGyEmtM5xclJ"
      }
    },
    {
      "cell_type": "markdown",
      "source": [
        ""
      ],
      "metadata": {
        "id": "xkBRqml0xcoq"
      }
    }
  ]
}