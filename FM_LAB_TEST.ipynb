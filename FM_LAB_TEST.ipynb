{
  "nbformat": 4,
  "nbformat_minor": 0,
  "metadata": {
    "colab": {
      "name": "FM_LAB_TEST",
      "provenance": [],
      "collapsed_sections": [],
      "authorship_tag": "ABX9TyO2tOEP7YfWLvpCgdO9B3Dx",
      "include_colab_link": true
    },
    "kernelspec": {
      "name": "python3",
      "display_name": "Python 3"
    },
    "language_info": {
      "name": "python"
    }
  },
  "cells": [
    {
      "cell_type": "markdown",
      "metadata": {
        "id": "view-in-github",
        "colab_type": "text"
      },
      "source": [
        "<a href=\"https://colab.research.google.com/github/RonxldWilson/Python-Notes/blob/main/FM_LAB_TEST.ipynb\" target=\"_parent\"><img src=\"https://colab.research.google.com/assets/colab-badge.svg\" alt=\"Open In Colab\"/></a>"
      ]
    },
    {
      "cell_type": "markdown",
      "source": [
        "# Date: 12-04-2022\n",
        "# Name: Ronald Wilson\n",
        "# 1940224"
      ],
      "metadata": {
        "id": "2C3fwB1Myszv"
      }
    },
    {
      "cell_type": "markdown",
      "source": [
        "Question 2:\n",
        "Write two user defined function with the same function name, so that one function can be used to find present worth of annuity immediate and the other can be used to find present worth of annuity due. Illustrate by executing the program with simple examples.\n",
        "(Hint: Use multiple dispatch)\n"
      ],
      "metadata": {
        "id": "Xet1lVs8ytLR"
      }
    },
    {
      "cell_type": "code",
      "source": [
        "!pip install multipledispatch"
      ],
      "metadata": {
        "colab": {
          "base_uri": "https://localhost:8080/"
        },
        "id": "jo2jN1P789G_",
        "outputId": "95c02a22-ed56-4351-a31b-39d2b810bff9"
      },
      "execution_count": 4,
      "outputs": [
        {
          "output_type": "stream",
          "name": "stdout",
          "text": [
            "Collecting multipledispatch\n",
            "  Downloading multipledispatch-0.6.0-py3-none-any.whl (11 kB)\n",
            "Requirement already satisfied: six in /usr/local/lib/python3.7/dist-packages (from multipledispatch) (1.15.0)\n",
            "Installing collected packages: multipledispatch\n",
            "Successfully installed multipledispatch-0.6.0\n"
          ]
        }
      ]
    },
    {
      "cell_type": "code",
      "source": [
        "from multipledispatch import dispatch "
      ],
      "metadata": {
        "id": "90Z3uNDj8_3z"
      },
      "execution_count": 5,
      "outputs": []
    },
    {
      "cell_type": "code",
      "source": [
        "def a_ki(k,i):\n",
        "  return((1+i)**k)"
      ],
      "metadata": {
        "id": "RghQlg9c-Q1C"
      },
      "execution_count": 20,
      "outputs": []
    },
    {
      "cell_type": "code",
      "source": [
        "def v_ki(k,i):\n",
        "  v=1/a_ki(k,i)\n",
        "  return v"
      ],
      "metadata": {
        "id": "txbGUgi7-ZuN"
      },
      "execution_count": 21,
      "outputs": []
    },
    {
      "cell_type": "code",
      "source": [
        "\n",
        "def PV_ai_ni(n,i):\n",
        "  return ((1-v_ki(n,i))/i)"
      ],
      "metadata": {
        "id": "0Q4U73OV-jLg"
      },
      "execution_count": 22,
      "outputs": []
    },
    {
      "cell_type": "code",
      "source": [
        "def AV_si_ni(n,i):\n",
        "  return PV_ai_ni(n,i)*a_ki(n,i)"
      ],
      "metadata": {
        "id": "TF8YqzlS-N1X"
      },
      "execution_count": 23,
      "outputs": []
    },
    {
      "cell_type": "code",
      "source": [
        "@dispatch(float, int)\n",
        "def AnnuityAccumlation(i,n):\n",
        "  sni = AV_si_ni(n,i)\n",
        "  return sni\n",
        "@dispatch(float, int, str)\n",
        "def AnnuityAccumlation(d,n,dtype):\n",
        "  i = d/(1-d)\n",
        "  sni = AV_si_ni(n,i)\n",
        "  return sni"
      ],
      "metadata": {
        "id": "4Jbxi_p_ytZM"
      },
      "execution_count": 24,
      "outputs": []
    },
    {
      "cell_type": "code",
      "source": [
        "AnnuityAccumlation(0.05,12)"
      ],
      "metadata": {
        "colab": {
          "base_uri": "https://localhost:8080/"
        },
        "id": "uN5WGVZ-_Lbn",
        "outputId": "3e7d502b-9f2b-4392-b946-59c53e8e758b"
      },
      "execution_count": 25,
      "outputs": [
        {
          "output_type": "execute_result",
          "data": {
            "text/plain": [
              "15.917126520442599"
            ]
          },
          "metadata": {},
          "execution_count": 25
        }
      ]
    },
    {
      "cell_type": "code",
      "source": [
        "AnnuityAccumlation(0.05,12,\"d\")"
      ],
      "metadata": {
        "colab": {
          "base_uri": "https://localhost:8080/"
        },
        "id": "rI8pUUDy_m19",
        "outputId": "c050de03-301c-4da4-eef7-619d444dd0e9"
      },
      "execution_count": 27,
      "outputs": [
        {
          "output_type": "execute_result",
          "data": {
            "text/plain": [
              "16.16173831821246"
            ]
          },
          "metadata": {},
          "execution_count": 27
        }
      ]
    }
  ]
}