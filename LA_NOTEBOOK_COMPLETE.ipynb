{
  "nbformat": 4,
  "nbformat_minor": 0,
  "metadata": {
    "colab": {
      "name": "LA NOTEBOOK COMPLETE.ipynb",
      "provenance": [],
      "collapsed_sections": [
        "JTYoYCawGzP9",
        "N_ddKEVk_rPh",
        "y6Yp8BFzfVrk",
        "oJVwu07DoOn9",
        "ZA5fPkFtmIZU",
        "IeutqZF6nnfc",
        "57qjEEJ-OQDx"
      ],
      "authorship_tag": "ABX9TyOTrzRfdvbD7asFO0emkDws",
      "include_colab_link": true
    },
    "kernelspec": {
      "name": "python3",
      "display_name": "Python 3"
    },
    "language_info": {
      "name": "python"
    }
  },
  "cells": [
    {
      "cell_type": "markdown",
      "metadata": {
        "id": "view-in-github",
        "colab_type": "text"
      },
      "source": [
        "<a href=\"https://colab.research.google.com/github/RonxldWilson/Python-Notes/blob/main/LA_NOTEBOOK_COMPLETE.ipynb\" target=\"_parent\"><img src=\"https://colab.research.google.com/assets/colab-badge.svg\" alt=\"Open In Colab\"/></a>"
      ]
    },
    {
      "cell_type": "markdown",
      "metadata": {
        "id": "F1rrz_M5jun_"
      },
      "source": [
        "# LA NOTEBOOOK\n",
        "# Ronald Wilson\n",
        "# 1940224\n",
        "# 5 CMS"
      ]
    },
    {
      "cell_type": "markdown",
      "metadata": {
        "id": "JTYoYCawGzP9"
      },
      "source": [
        "# DAY 1"
      ]
    },
    {
      "cell_type": "markdown",
      "metadata": {
        "id": "AUPt4g5jG79v"
      },
      "source": [
        "1. Display the current date and time"
      ]
    },
    {
      "cell_type": "code",
      "metadata": {
        "colab": {
          "base_uri": "https://localhost:8080/"
        },
        "id": "iS5otobuHW4o",
        "outputId": "61df5310-7e4b-491b-d4e5-666e6c9f1639"
      },
      "source": [
        "from datetime import date\n",
        "current_date=date.today()\n",
        "print(\"Today's date:\",current_date)"
      ],
      "execution_count": null,
      "outputs": [
        {
          "output_type": "stream",
          "text": [
            "Today's date: 2021-07-28\n"
          ],
          "name": "stdout"
        }
      ]
    },
    {
      "cell_type": "markdown",
      "metadata": {
        "id": "iFUNfZiwGvnd"
      },
      "source": [
        "2.Write a Script which inputs first and last names and returns them with a space"
      ]
    },
    {
      "cell_type": "code",
      "metadata": {
        "colab": {
          "base_uri": "https://localhost:8080/"
        },
        "id": "xkEd_382Hoqs",
        "outputId": "7ac34b69-e493-4495-e8ef-13959761a19c"
      },
      "source": [
        "fname=input(\"Enter first name:\")\n",
        "lname=input(\"Enter last name:\")\n",
        "print(\"NAME:\", fname+\" \"+lname)"
      ],
      "execution_count": null,
      "outputs": [
        {
          "output_type": "stream",
          "text": [
            "Enter first name:Ronald \n",
            "Enter last name:Wilson\n",
            "NAME: Ronald  Wilson\n"
          ],
          "name": "stdout"
        }
      ]
    },
    {
      "cell_type": "markdown",
      "metadata": {
        "id": "Lo6imcdG_qO4"
      },
      "source": [
        "3.Write a script which accepts a list from the user and adds/removes a new element to/from it"
      ]
    },
    {
      "cell_type": "code",
      "metadata": {
        "colab": {
          "base_uri": "https://localhost:8080/"
        },
        "id": "cMsHCILjIHbW",
        "outputId": "a3047baf-c66d-481d-9cac-e822bde5a9a6"
      },
      "source": [
        "while True:\n",
        "  input_string = input(\"Enter a list of numbers separated by commas: \")\n",
        "  num_list = input_string.split(\",\")\n",
        "  for position in range(len(num_list)):\n",
        "    num_list[position] = int(num_list[position])\n",
        "\n",
        "  while True:\n",
        "    print(\"\\nYour list: \", num_list)\n",
        "    print(\"(1) Add new element, (2) Remove an element:\")\n",
        "    choice = int(input(\"> \"))\n",
        "    if(choice == 1):\n",
        "      new_element = int(input(\"\\nEnter new element: \"))\n",
        "      position = int(input(\"\\nEnter position at which to add: \"))\n",
        "      num_list.insert(position, new_element)\n",
        "    elif(choice == 2):\n",
        "      position = int(input(\"\\nEnter position at which to remove element: \"))\n",
        "      del num_list[position]\n",
        "    else:\n",
        "      print(\"Incorrent Input\")\n",
        "\n",
        "    print(\"Do you wish to add/remove another element? (y/n)\")\n",
        "    if not (input(\"> \").lower() == 'y'):\n",
        "      break\n",
        "  print(\"Do you wish to try with a new list? (y/n)\")\n",
        "  if not (input(\"> \").lower() == 'y'):\n",
        "    break"
      ],
      "execution_count": null,
      "outputs": [
        {
          "output_type": "stream",
          "text": [
            "Enter a list of numbers separated by commas: 3,5,1,5\n",
            "\n",
            "Your list:  [3, 5, 1, 5]\n",
            "(1) Add new element, (2) Remove an element:\n",
            "> 1\n",
            "\n",
            "Enter new element: 42\n",
            "\n",
            "Enter position at which to add: 2\n",
            "Do you wish to add/remove another element? (y/n)\n",
            "> n\n",
            "Do you wish to try with a new list? (y/n)\n",
            "> n\n"
          ],
          "name": "stdout"
        }
      ]
    },
    {
      "cell_type": "markdown",
      "metadata": {
        "id": "N_ddKEVk_rPh"
      },
      "source": [
        "\n",
        "# DAY 2"
      ]
    },
    {
      "cell_type": "markdown",
      "metadata": {
        "id": "Sbg-Pl3v_6vP"
      },
      "source": [
        "4. Write a program whihc accepts a number from a nmuber from the user and reverse the given number"
      ]
    },
    {
      "cell_type": "code",
      "metadata": {
        "colab": {
          "base_uri": "https://localhost:8080/"
        },
        "id": "n1YGwWRHACMk",
        "outputId": "2ccd1085-8378-4356-c47a-466d8d6cce67"
      },
      "source": [
        "num = int(input(\"enter an integer number:\"))\n",
        "rev_num = 0\n",
        "while(num>0):\n",
        "    remainder = num % 10\n",
        "    rev_num = (rev_num*10)+ remainder\n",
        "    num = num//10\n",
        "print(\"Reverse of the number is:{}\".format(rev_num))"
      ],
      "execution_count": null,
      "outputs": [
        {
          "output_type": "stream",
          "text": [
            "enter an integer number:13213\n",
            "Reverse of the number is:31231\n"
          ],
          "name": "stdout"
        }
      ]
    },
    {
      "cell_type": "markdown",
      "metadata": {
        "id": "69XfIUshCFLM"
      },
      "source": [
        "5. Write a program to enter a string and check the upper and lower case of a string"
      ]
    },
    {
      "cell_type": "code",
      "metadata": {
        "colab": {
          "base_uri": "https://localhost:8080/"
        },
        "id": "VQzjWvwuAWKQ",
        "outputId": "bcace98d-c94c-4d40-9763-e70578a8507f"
      },
      "source": [
        "sen=input(\"Enter a String: \")\n",
        "if(sen.islower()==True):\n",
        "  print(\"THE STRING IS LOWER CASE\")\n",
        "elif(sen.isupper()==True):\n",
        "  print(\"THE STRING IS UPPER CASE\")\n",
        "else :\n",
        "  print(\"THE STRING IS MIXED\")"
      ],
      "execution_count": null,
      "outputs": [
        {
          "output_type": "stream",
          "text": [
            "Enter a String: roN\n",
            "THE STRING IS MIXED\n"
          ],
          "name": "stdout"
        }
      ]
    },
    {
      "cell_type": "code",
      "metadata": {
        "colab": {
          "base_uri": "https://localhost:8080/"
        },
        "id": "n2oG-mcwDUI_",
        "outputId": "6840035b-2229-4413-d332-7b2a0e5108fc"
      },
      "source": [
        "#Number of Upper and Lower case\n",
        "n=input(\"Enter a string\")\n",
        "upper_case,lower_case=0,0\n",
        "for x in n:\n",
        "    if(x.isupper()):\n",
        "        upper_case+=1\n",
        "    elif x.islower():\n",
        "        lower_case+=1\n",
        "print(\"Number of Upper Case Letters :\",upper_case)\n",
        "print(\"Number of Lower Case Letters :\",lower_case)"
      ],
      "execution_count": null,
      "outputs": [
        {
          "output_type": "stream",
          "text": [
            "Enter a stringRasdjkSMK\n",
            "Number of Upper Case Letters : 4\n",
            "Number of Lower Case Letters : 5\n"
          ],
          "name": "stdout"
        }
      ]
    },
    {
      "cell_type": "markdown",
      "metadata": {
        "id": "FON29OobEEMR"
      },
      "source": [
        "6. Write a program to find and print the first and last digit of a gven number "
      ]
    },
    {
      "cell_type": "code",
      "metadata": {
        "colab": {
          "base_uri": "https://localhost:8080/"
        },
        "id": "teYWjUs6EGLW",
        "outputId": "42dc42f5-3974-4d6e-bae6-c9cf21d6b3aa"
      },
      "source": [
        "n=(input(\"Enter a number\"))\n",
        "first=n[0]\n",
        "n=int(n)\n",
        "last=n%10\n",
        "print(\"The first digit is: \", first)\n",
        "print(\"The last digit is: \", last)"
      ],
      "execution_count": null,
      "outputs": [
        {
          "output_type": "stream",
          "text": [
            "Enter a number1323\n",
            "The first digit is:  1\n",
            "The last digit is:  3\n"
          ],
          "name": "stdout"
        }
      ]
    },
    {
      "cell_type": "markdown",
      "metadata": {
        "id": "YvrHjT0gD8kb"
      },
      "source": [
        "7. Write a program to display factorial of a number"
      ]
    },
    {
      "cell_type": "code",
      "metadata": {
        "id": "etRfDZEWFr52",
        "colab": {
          "base_uri": "https://localhost:8080/"
        },
        "outputId": "34573312-b3bb-499f-a2b8-41f846b007ef"
      },
      "source": [
        "num=int(input(\"Enter a number:\"))\n",
        "factorial=1\n",
        "if num<0:\n",
        "    print(\"Factorial does not exist for negative numbers\")\n",
        "elif num==0:\n",
        "    print(\"The factorial of 0 is 1\")\n",
        "else:\n",
        "    for i in range(1,num+1):\n",
        "        factorial=factorial*i\n",
        "    print(\"The factorial of\",num,\"is\",factorial)"
      ],
      "execution_count": null,
      "outputs": [
        {
          "output_type": "stream",
          "text": [
            "Enter a number:21\n",
            "The factorial of 21 is 51090942171709440000\n"
          ],
          "name": "stdout"
        }
      ]
    },
    {
      "cell_type": "markdown",
      "metadata": {
        "id": "au4OKpvHElr3"
      },
      "source": [
        "8. Write a program to check if a number is pallindrome or not"
      ]
    },
    {
      "cell_type": "code",
      "metadata": {
        "colab": {
          "base_uri": "https://localhost:8080/"
        },
        "id": "ACCWgQ_5Eu3W",
        "outputId": "087eb45b-c975-4ae7-a1d8-8dc37e824bb3"
      },
      "source": [
        "num = int(input(\"enter an integer number:\"))\n",
        "N=num\n",
        "rev_num = 0\n",
        "while(num>0):\n",
        "    remainder = num % 10\n",
        "    rev_num = (rev_num*10)+ remainder\n",
        "    num = num//10\n",
        "print(\"Reverse of the number is:{}\".format(rev_num))\n",
        "\n",
        "\n",
        "if rev_num==N:\n",
        "  print(\"Pallindrome\")\n",
        "else:\n",
        "  print(\"Not a Pallindrome\")"
      ],
      "execution_count": null,
      "outputs": [
        {
          "output_type": "stream",
          "text": [
            "enter an integer number:12321\n",
            "Reverse of the number is:12321\n",
            "Pallindrome\n"
          ],
          "name": "stdout"
        }
      ]
    },
    {
      "cell_type": "markdown",
      "metadata": {
        "id": "1bw8dQ0SElvQ"
      },
      "source": [
        "9. Identify the largest of three numbers"
      ]
    },
    {
      "cell_type": "code",
      "metadata": {
        "colab": {
          "base_uri": "https://localhost:8080/"
        },
        "id": "cJgTc9xnG9_Y",
        "outputId": "cf05b689-fcec-48c7-86ab-f18ed188dbb4"
      },
      "source": [
        "a=input(\"Enter a Number\")\n",
        "b=input(\"Enter a Number\")\n",
        "c=input(\"Enter a Number\")\n",
        "largest=a\n",
        "if(b>largest):\n",
        "  largest=b\n",
        "if(c>largest):\n",
        "  largest=c\n",
        "print(\"The Largest number is \", largest)"
      ],
      "execution_count": null,
      "outputs": [
        {
          "output_type": "stream",
          "text": [
            "Enter a Number6846\n",
            "Enter a Number4\n",
            "Enter a Number452\n",
            "The Largest number is  6846\n"
          ],
          "name": "stdout"
        }
      ]
    },
    {
      "cell_type": "markdown",
      "metadata": {
        "id": "T_so8uzfJtZt"
      },
      "source": [
        "10. Plot the graph of Sin(x) and Cos(x)"
      ]
    },
    {
      "cell_type": "code",
      "metadata": {
        "colab": {
          "base_uri": "https://localhost:8080/",
          "height": 265
        },
        "id": "_kr_sn3LJt4K",
        "outputId": "f6fdd74f-7834-4279-c6cc-b6d96cce8623"
      },
      "source": [
        "import matplotlib.pyplot as plt\n",
        "import numpy as np\n",
        "x = np.arange(0,4*np.pi,0.1) \n",
        "y = np.sin(x)\n",
        "z = np.cos(x)\n",
        "plt.plot(x, y, x,  z)\n",
        "plt.show()\n"
      ],
      "execution_count": null,
      "outputs": [
        {
          "output_type": "display_data",
          "data": {
            "image/png": "[encoded data removed]",
            "text/plain": [
              "<Figure size 432x288 with 1 Axes>"
            ]
          },
          "metadata": {
            "tags": [],
            "needs_background": "light"
          }
        }
      ]
    },
    {
      "cell_type": "code",
      "metadata": {
        "id": "Q3e570okLVtD",
        "colab": {
          "base_uri": "https://localhost:8080/",
          "height": 295
        },
        "outputId": "cca45685-b556-4c1f-a0dd-92f8f276f97a"
      },
      "source": [
        "import numpy as np\n",
        "import matplotlib.pyplot as plt\n",
        "X = np.linspace(-np.pi, np.pi)\n",
        "Y1 = np.sin(X)\n",
        "Y2 = np.cos(X)\n",
        "plt.plot(X, Y1,  color='red',label='sin(x)')\n",
        "plt.plot(X, Y2,  color='black',label='cos(x)')\n",
        "plt.title('Trigonometric Functions')\n",
        "plt.xlabel('x')\n",
        "plt.ylabel('sin(x), cos(x)')\n",
        "plt.axhline(0,  color='black')\n",
        "plt.axvline(0,  color='black')\n",
        "plt.legend()\n",
        "None"
      ],
      "execution_count": null,
      "outputs": [
        {
          "output_type": "display_data",
          "data": {
            "image/png": "[encoded data removed]",
            "text/plain": [
              "<Figure size 432x288 with 1 Axes>"
            ]
          },
          "metadata": {
            "tags": [],
            "needs_background": "light"
          }
        }
      ]
    },
    {
      "cell_type": "markdown",
      "metadata": {
        "id": "84WdvumcLHwa"
      },
      "source": [
        "11. Plot the graph of y=x, y=x^2, y=x^3, y=x^4 as subplots"
      ]
    },
    {
      "cell_type": "code",
      "metadata": {
        "id": "2h4LsJHXJ7YV",
        "colab": {
          "base_uri": "https://localhost:8080/",
          "height": 265
        },
        "outputId": "8e557592-9027-481e-9726-dddc5a1e3c12"
      },
      "source": [
        "import numpy as np\n",
        "import matplotlib.pyplot as plt\n",
        "\n",
        "X = np.linspace(-5,5)\n",
        "Y1 = X\n",
        "Y2 = X*X\n",
        "Y3 = X*X*X\n",
        "Y4 = X*X*X*X\n",
        "plt.plot(X, Y1,  color='red',label='x')\n",
        "plt.plot(X, Y2,  color='black',label='x^2')\n",
        "plt.plot(X, Y3,  color='black',label='x^3')\n",
        "plt.plot(X, Y4,  color='black',label='x^4')\n",
        "plt.legend()\n",
        "\n",
        "None"
      ],
      "execution_count": null,
      "outputs": [
        {
          "output_type": "display_data",
          "data": {
            "image/png": "[encoded data removed]",
            "text/plain": [
              "<Figure size 432x288 with 1 Axes>"
            ]
          },
          "metadata": {
            "tags": [],
            "needs_background": "light"
          }
        }
      ]
    },
    {
      "cell_type": "markdown",
      "metadata": {
        "id": "y6Yp8BFzfVrk"
      },
      "source": [
        "# MATRICES AND MATRIX OPERATIONS 07 AUGUST"
      ]
    },
    {
      "cell_type": "code",
      "metadata": {
        "colab": {
          "base_uri": "https://localhost:8080/"
        },
        "id": "BhNFLzNzfUa_",
        "outputId": "8e7563c9-f38e-47df-acbb-ed96e29967df"
      },
      "source": [
        "A=[1,2,3]\n",
        "A"
      ],
      "execution_count": null,
      "outputs": [
        {
          "output_type": "execute_result",
          "data": {
            "text/plain": [
              "[1, 2, 3]"
            ]
          },
          "metadata": {
            "tags": []
          },
          "execution_count": 9
        }
      ]
    },
    {
      "cell_type": "code",
      "metadata": {
        "colab": {
          "base_uri": "https://localhost:8080/"
        },
        "id": "R0qXus-NebHO",
        "outputId": "a0e8c369-537a-4c86-ebac-3d92c0d5a588"
      },
      "source": [
        "A=[[1,2,3],[1,3,4],[1,5,7]]\n",
        "A"
      ],
      "execution_count": null,
      "outputs": [
        {
          "output_type": "execute_result",
          "data": {
            "text/plain": [
              "[[1, 2, 3], [1, 3, 4], [1, 5, 7]]"
            ]
          },
          "metadata": {
            "tags": []
          },
          "execution_count": 12
        }
      ]
    },
    {
      "cell_type": "code",
      "metadata": {
        "colab": {
          "base_uri": "https://localhost:8080/"
        },
        "id": "WUroQ3_HfnFu",
        "outputId": "b4be4a3c-0545-44eb-82b6-68b2d1041008"
      },
      "source": [
        "A[0]"
      ],
      "execution_count": null,
      "outputs": [
        {
          "output_type": "execute_result",
          "data": {
            "text/plain": [
              "[1, 2, 3]"
            ]
          },
          "metadata": {
            "tags": []
          },
          "execution_count": 13
        }
      ]
    },
    {
      "cell_type": "code",
      "metadata": {
        "colab": {
          "base_uri": "https://localhost:8080/"
        },
        "id": "9_XJc1dOgIt5",
        "outputId": "2b0d2df8-0e97-4ee1-d684-96b62698c22a"
      },
      "source": [
        "A[0][2]"
      ],
      "execution_count": null,
      "outputs": [
        {
          "output_type": "execute_result",
          "data": {
            "text/plain": [
              "3"
            ]
          },
          "metadata": {
            "tags": []
          },
          "execution_count": 14
        }
      ]
    },
    {
      "cell_type": "markdown",
      "metadata": {
        "id": "6LXkuP_amtVF"
      },
      "source": [
        "Write a program to add two matrices"
      ]
    },
    {
      "cell_type": "code",
      "metadata": {
        "colab": {
          "base_uri": "https://localhost:8080/"
        },
        "id": "IYNaJe8igNqK",
        "outputId": "d83be118-b30d-4e8f-f52f-1cb9e8f0372c"
      },
      "source": [
        "import numpy as np\n",
        "A=[[1,2,3],[1,3,4],[1,5,7]]\n",
        "B=[[1,2,3],[1,3,4],[1,5,7]]\n",
        "print(np.add(A,B))"
      ],
      "execution_count": null,
      "outputs": [
        {
          "output_type": "stream",
          "text": [
            "[[ 2  4  6]\n",
            " [ 2  6  8]\n",
            " [ 2 10 14]]\n"
          ],
          "name": "stdout"
        }
      ]
    },
    {
      "cell_type": "markdown",
      "metadata": {
        "id": "PwuOZUZLileK"
      },
      "source": [
        " Write a program to mulltiply two matrices"
      ]
    },
    {
      "cell_type": "code",
      "metadata": {
        "colab": {
          "base_uri": "https://localhost:8080/"
        },
        "id": "tNZkQW4LgTQv",
        "outputId": "f40a959e-580c-434b-d85b-fbf3537f1e39"
      },
      "source": [
        "import numpy as np\n",
        "A=[[1,2,3],[1,3,4],[1,5,7]]\n",
        "B=[[1,2,3],[1,3,4],[1,5,7]]\n",
        "print(np.dot(A,B))"
      ],
      "execution_count": null,
      "outputs": [
        {
          "output_type": "stream",
          "text": [
            "[[ 6 23 32]\n",
            " [ 8 31 43]\n",
            " [13 52 72]]\n"
          ],
          "name": "stdout"
        }
      ]
    },
    {
      "cell_type": "markdown",
      "metadata": {
        "id": "GrgNCS4umIbB"
      },
      "source": [
        "Write a program to find transpose of a matrix"
      ]
    },
    {
      "cell_type": "code",
      "metadata": {
        "colab": {
          "base_uri": "https://localhost:8080/"
        },
        "id": "CQb7DSwsiyiB",
        "outputId": "87e08511-4432-4c34-fb5d-57bf470fadd3"
      },
      "source": [
        "import numpy as np\n",
        "B=[[1,2,3],[1,3,4],[1,5,7]]\n",
        "print(np.transpose(B))"
      ],
      "execution_count": null,
      "outputs": [
        {
          "output_type": "stream",
          "text": [
            "[[1 1 1]\n",
            " [2 3 5]\n",
            " [3 4 7]]\n"
          ],
          "name": "stdout"
        }
      ]
    },
    {
      "cell_type": "markdown",
      "metadata": {
        "id": "Z9pI7DkAncQh"
      },
      "source": [
        "Write a program to find the square root of each element of the matrix"
      ]
    },
    {
      "cell_type": "code",
      "metadata": {
        "colab": {
          "base_uri": "https://localhost:8080/"
        },
        "id": "4z2mZ7aTnoyj",
        "outputId": "1f940a3e-e525-41be-984a-134f14145346"
      },
      "source": [
        "import numpy as np\n",
        "B=[[1,2,3],[1,3,4],[1,5,7]]\n",
        "print(np.sqrt(B))"
      ],
      "execution_count": null,
      "outputs": [
        {
          "output_type": "stream",
          "text": [
            "[[1.         1.41421356 1.73205081]\n",
            " [1.         1.73205081 2.        ]\n",
            " [1.         2.23606798 2.64575131]]\n"
          ],
          "name": "stdout"
        }
      ]
    },
    {
      "cell_type": "markdown",
      "metadata": {
        "id": "oJVwu07DoOn9"
      },
      "source": [
        "# AUGUST 11"
      ]
    },
    {
      "cell_type": "markdown",
      "metadata": {
        "id": "1yg0W99uoZic"
      },
      "source": [
        "6. Write a program to express the given matrix as the sum of asymmetric matrix and a skew symmetric matrix"
      ]
    },
    {
      "cell_type": "code",
      "metadata": {
        "colab": {
          "base_uri": "https://localhost:8080/"
        },
        "id": "vJ-fQXQQoUSK",
        "outputId": "9583ad2b-578f-462c-a55e-60376d17110d"
      },
      "source": [
        "A=np.matrix([[1,8,0],[3,5,2],[-8,9,-2]])\n",
        "AT=A.T\n",
        "SM=(A+AT)/2\n",
        "SSM=(A-AT)/2\n",
        "print(\"A = \",A)\n",
        "print(\"AT = \",AT)\n",
        "print(\"Symmetric matrix = \",SM)\n",
        "print(\"Skew Symmetric matrix = \",SSM)\n",
        "c=np.array_equal(A,SM+SSM)\n",
        "print(\"A = sum of symmetric matrix + skew symmetric matrix \",c)"
      ],
      "execution_count": null,
      "outputs": [
        {
          "output_type": "stream",
          "text": [
            "A =  [[ 1  8  0]\n",
            " [ 3  5  2]\n",
            " [-8  9 -2]]\n",
            "AT =  [[ 1  3 -8]\n",
            " [ 8  5  9]\n",
            " [ 0  2 -2]]\n",
            "Symmetric matrix =  [[ 1.   5.5 -4. ]\n",
            " [ 5.5  5.   5.5]\n",
            " [-4.   5.5 -2. ]]\n",
            "Skew Symmetric matrix =  [[ 0.   2.5  4. ]\n",
            " [-2.5  0.  -3.5]\n",
            " [-4.   3.5  0. ]]\n",
            "A = sum of symmetric matrix + skew symmetric matrix  True\n"
          ],
          "name": "stdout"
        }
      ]
    },
    {
      "cell_type": "markdown",
      "metadata": {
        "id": "o2Vt5TutzOgd"
      },
      "source": [
        "7. Write a program to define a 4X4 matrix and perform the followingmanipulations-\n",
        "(i) Find the square root of each element in the 3rd row\n",
        "(ii) Add the corresponding elements of firstand second columns\n",
        "(iii) Extract the first column of the matrix and reshape it into a 2X2 matrix"
      ]
    },
    {
      "cell_type": "code",
      "metadata": {
        "id": "O5_3_GGCEhKT"
      },
      "source": [
        "A=np.matrix([[1,8,0,6],[4,3,5,2],[9,-8,9,-2],[19,-8,9,-2]])\n"
      ],
      "execution_count": null,
      "outputs": []
    },
    {
      "cell_type": "code",
      "metadata": {
        "colab": {
          "base_uri": "https://localhost:8080/"
        },
        "id": "EeA5nkIIF0Uz",
        "outputId": "0857e4ab-cdbb-4725-b159-5f5181444ee0"
      },
      "source": [
        "np.sqrt(A[1])"
      ],
      "execution_count": null,
      "outputs": [
        {
          "output_type": "execute_result",
          "data": {
            "text/plain": [
              "matrix([[2.        , 1.73205081, 2.23606798, 1.41421356]])"
            ]
          },
          "metadata": {},
          "execution_count": 42
        }
      ]
    },
    {
      "cell_type": "code",
      "metadata": {
        "colab": {
          "base_uri": "https://localhost:8080/"
        },
        "id": "tvjvlcArGy7z",
        "outputId": "78ad9ab2-7387-47dd-f71b-1fcb47eefe7b"
      },
      "source": [
        "A[:,0]+A[:,1]"
      ],
      "execution_count": null,
      "outputs": [
        {
          "output_type": "execute_result",
          "data": {
            "text/plain": [
              "matrix([[ 9],\n",
              "        [ 7],\n",
              "        [ 1],\n",
              "        [11]])"
            ]
          },
          "metadata": {},
          "execution_count": 43
        }
      ]
    },
    {
      "cell_type": "code",
      "metadata": {
        "colab": {
          "base_uri": "https://localhost:8080/"
        },
        "id": "_dfpoWHwGy3v",
        "outputId": "351a5fc8-3e03-45ce-a236-ed2a9f962520"
      },
      "source": [
        "C = A[:,0]\n",
        "D = C.reshape(2,2)\n",
        "D"
      ],
      "execution_count": null,
      "outputs": [
        {
          "output_type": "execute_result",
          "data": {
            "text/plain": [
              "matrix([[ 1,  4],\n",
              "        [ 9, 19]])"
            ]
          },
          "metadata": {},
          "execution_count": 44
        }
      ]
    },
    {
      "cell_type": "markdown",
      "metadata": {
        "id": "EG3JPIG0zVHh"
      },
      "source": [
        "8. Write a program to define a 5X5 matrix and perform the following-\n",
        "(i) Find the sum of all the elements in the matrix\n",
        "(ii) Find the product of all the elements in thematrix\n",
        "(iii) Find the minimum value in the matrix\n",
        "(iv) Find the maximum value in the matrix\n",
        "(v) Sortthe elements in each row of the matrix."
      ]
    },
    {
      "cell_type": "code",
      "metadata": {
        "colab": {
          "base_uri": "https://localhost:8080/"
        },
        "id": "jTJzywzI_qGx",
        "outputId": "3dcabc12-29b9-481f-e9ad-884860695596"
      },
      "source": [
        "import numpy as np\n",
        "B=np.matrix([[1,2,3,5,7],[1,3,5,6,4],[14,5,3,5,7],[14,22,6,5,7],[14,5,46,3,5]])\n",
        "print(\"{}\".format(B))"
      ],
      "execution_count": null,
      "outputs": [
        {
          "output_type": "stream",
          "text": [
            "[[ 1  2  3  5  7]\n",
            " [ 1  3  5  6  4]\n",
            " [14  5  3  5  7]\n",
            " [14 22  6  5  7]\n",
            " [14  5 46  3  5]]\n"
          ],
          "name": "stdout"
        }
      ]
    },
    {
      "cell_type": "code",
      "metadata": {
        "colab": {
          "base_uri": "https://localhost:8080/"
        },
        "id": "IC_9_NARBGYC",
        "outputId": "f6995383-c3ef-4845-f73d-afe78f0be6eb"
      },
      "source": [
        "np.sum(B)"
      ],
      "execution_count": null,
      "outputs": [
        {
          "output_type": "execute_result",
          "data": {
            "text/plain": [
              "198"
            ]
          },
          "metadata": {},
          "execution_count": 21
        }
      ]
    },
    {
      "cell_type": "code",
      "metadata": {
        "colab": {
          "base_uri": "https://localhost:8080/"
        },
        "id": "sF5tUPv0BGbw",
        "outputId": "d571e959-2d75-4bbe-c9fd-f183fc9b3034"
      },
      "source": [
        "np.prod(B)"
      ],
      "execution_count": null,
      "outputs": [
        {
          "output_type": "execute_result",
          "data": {
            "text/plain": [
              "1735906289040000000"
            ]
          },
          "metadata": {},
          "execution_count": 20
        }
      ]
    },
    {
      "cell_type": "code",
      "metadata": {
        "colab": {
          "base_uri": "https://localhost:8080/"
        },
        "id": "XbCnfsaSBGuR",
        "outputId": "8a987d0e-058c-480f-fcf0-4ff659495bcb"
      },
      "source": [
        "np.max(B)"
      ],
      "execution_count": null,
      "outputs": [
        {
          "output_type": "execute_result",
          "data": {
            "text/plain": [
              "46"
            ]
          },
          "metadata": {},
          "execution_count": 22
        }
      ]
    },
    {
      "cell_type": "code",
      "metadata": {
        "colab": {
          "base_uri": "https://localhost:8080/"
        },
        "id": "0Eb08G5RBG7h",
        "outputId": "1fda5027-65f6-4b33-f957-cb3c8ce4b919"
      },
      "source": [
        "np.min(B)"
      ],
      "execution_count": null,
      "outputs": [
        {
          "output_type": "execute_result",
          "data": {
            "text/plain": [
              "1"
            ]
          },
          "metadata": {},
          "execution_count": 23
        }
      ]
    },
    {
      "cell_type": "code",
      "metadata": {
        "colab": {
          "base_uri": "https://localhost:8080/"
        },
        "id": "NyJB1JoIDdtP",
        "outputId": "bd4187d2-d01f-4ed0-d80f-eeae15e784d8"
      },
      "source": [
        "np.sort(B)"
      ],
      "execution_count": null,
      "outputs": [
        {
          "output_type": "execute_result",
          "data": {
            "text/plain": [
              "matrix([[ 1,  2,  3,  5,  7],\n",
              "        [ 1,  3,  4,  5,  6],\n",
              "        [ 3,  5,  5,  7, 14],\n",
              "        [ 5,  6,  7, 14, 22],\n",
              "        [ 3,  5,  5, 14, 46]])"
            ]
          },
          "metadata": {},
          "execution_count": 24
        }
      ]
    },
    {
      "cell_type": "markdown",
      "metadata": {
        "id": "JzXUgSQbzgTK"
      },
      "source": [
        "9. \n",
        "Write a program to input a matrix from the user and print a matrix"
      ]
    },
    {
      "cell_type": "code",
      "metadata": {
        "colab": {
          "base_uri": "https://localhost:8080/"
        },
        "id": "L4LKefrhBFbZ",
        "outputId": "bbcd5024-6b7d-4132-9c70-b78582942fba"
      },
      "source": [
        "R=int(input(\"Enter the number of rows:\"))\n",
        "C=int(input(\"Enter the number of columns:\"))\n",
        "matrix=[]\n",
        "print(\"Enter the entries rowwise:\")\n",
        "for i in range (R):\n",
        "  a=[]\n",
        "  for j in range (C):\n",
        "      a.append(int(input()))\n",
        "  matrix.append(a)\n",
        "    \n",
        "for i in range(R):\n",
        "  for j in range(C):\n",
        "    print(matrix[i][j],end=\" \")\n",
        "  print()"
      ],
      "execution_count": null,
      "outputs": [
        {
          "output_type": "stream",
          "text": [
            "Enter the number of rows:2\n",
            "Enter the number of columns:2\n",
            "Enter the entries rowwise:\n",
            "1\n",
            "2\n",
            "3\n",
            "4\n",
            "1 2 \n",
            "3 4 \n"
          ],
          "name": "stdout"
        }
      ]
    },
    {
      "cell_type": "markdown",
      "metadata": {
        "id": "ZA5fPkFtmIZU"
      },
      "source": [
        "# ROW REDUCED ECHLEON FORM 21 AUGUST"
      ]
    },
    {
      "cell_type": "markdown",
      "metadata": {
        "id": "u5TfAJZYmRWH"
      },
      "source": [
        "Python provides the function sympy.Matrix.rref to convert matrix into row reduced echelon form\n",
        "Syntax : sympy.Matrix(A).rref\n",
        "Returns : Returns a tuple of which first element is the reduced Matrix and second one is of typetuple\n",
        "whuch gives position of the pivot columns\n",
        "If a matrix is in row-echelon form, then the first nonzero entry of each row is called a pivot, and thecolumns in which pivots appear are called pivot columns."
      ]
    },
    {
      "cell_type": "markdown",
      "metadata": {
        "id": "efNHbzXqz-4c"
      },
      "source": [
        "Obtain the row reduced echelon form for the matrix,\n",
        "\n",
        "1\n",
        "2\n",
        "−1\n",
        "0;\n",
        "3\n",
        "−3\n",
        "1\n",
        "4;\n",
        "−3\n",
        "3\n",
        "7\n",
        "−4;\n"
      ]
    },
    {
      "cell_type": "code",
      "metadata": {
        "colab": {
          "base_uri": "https://localhost:8080/"
        },
        "id": "C9TYlFyN0H7-",
        "outputId": "e6864035-5695-4331-e789-f22d134f9c89"
      },
      "source": [
        "import sympy as sp\n",
        "A=np.matrix([[1,2,-1,0],[3,-3,1,4],[-3,3,7,-4]])\n",
        "print(\"The given matrix is : {} \".format(A))\n",
        "R=sp.Matrix(A).rref()\n",
        "print(\"The Row echelon form of matrix A and the pivot columns : {}\".format(R))"
      ],
      "execution_count": null,
      "outputs": [
        {
          "output_type": "stream",
          "text": [
            "The given matrix is : [[ 1  2 -1  0]\n",
            " [ 3 -3  1  4]\n",
            " [-3  3  7 -4]] \n",
            "The Row echelon form of matrix A and the pivot columns : (Matrix([\n",
            "[1, 0, 0,  8/9],\n",
            "[0, 1, 0, -4/9],\n",
            "[0, 0, 1,    0]]), (0, 1, 2))\n"
          ],
          "name": "stdout"
        }
      ]
    },
    {
      "cell_type": "markdown",
      "metadata": {
        "id": "Awq9GvwJ0l2m"
      },
      "source": [
        "Q. Obtain the row reduced echelon form for the matrix, \n",
        "B =\n",
        "1\n",
        "3\n",
        "2;\n",
        "1\n",
        "1\n",
        "4;\n",
        "1\n",
        "−2\n",
        "7 "
      ]
    },
    {
      "cell_type": "code",
      "metadata": {
        "colab": {
          "base_uri": "https://localhost:8080/"
        },
        "id": "E1VtJfyg0rD9",
        "outputId": "d446a88b-f780-4cc3-b8a7-c8b871dc9897"
      },
      "source": [
        "import sympy as sp\n",
        "A=np.matrix([[1,3,2],[1,1,4],[1,-2,7]])\n",
        "print(\"The given matrix is : {} \".format(A))\n",
        "R=sp.Matrix(A).rref()\n",
        "print(\"The Row echelon form of matrix A and the pivot columns : {}\".format(R))\n"
      ],
      "execution_count": null,
      "outputs": [
        {
          "output_type": "stream",
          "text": [
            "The given matrix is : [[ 1  3  2]\n",
            " [ 1  1  4]\n",
            " [ 1 -2  7]] \n",
            "The Row echelon form of matrix A and the pivot columns : (Matrix([\n",
            "[1, 0,  5],\n",
            "[0, 1, -1],\n",
            "[0, 0,  0]]), (0, 1))\n"
          ],
          "name": "stdout"
        }
      ]
    },
    {
      "cell_type": "markdown",
      "metadata": {
        "id": "d9u3oh8d0sXr"
      },
      "source": [
        "Q. Obtain the row reduced echelon form for the matrix, B =\n",
        "1\n",
        "45\n",
        "2;\n",
        "2\n",
        "56\n",
        "9;\n",
        "3\n",
        "9\n",
        "0\n"
      ]
    },
    {
      "cell_type": "code",
      "metadata": {
        "colab": {
          "base_uri": "https://localhost:8080/"
        },
        "id": "edMt3Por0yZN",
        "outputId": "fe4ffcd3-603e-4d06-e171-86a641df4758"
      },
      "source": [
        "import sympy as sp\n",
        "A=np.matrix([[1,45,2],[2,56,9],[3,9,0]])\n",
        "print(\"The given matrix is : {} \".format(A))\n",
        "R=sp.Matrix(A).rref()\n",
        "print(\"The Row echelon form of matrix A and the pivot columns : {}\".format(R))\n"
      ],
      "execution_count": null,
      "outputs": [
        {
          "output_type": "stream",
          "text": [
            "The given matrix is : [[ 1 45  2]\n",
            " [ 2 56  9]\n",
            " [ 3  9  0]] \n",
            "The Row echelon form of matrix A and the pivot columns : (Matrix([\n",
            "[1, 0, 0],\n",
            "[0, 1, 0],\n",
            "[0, 0, 1]]), (0, 1, 2))\n"
          ],
          "name": "stdout"
        }
      ]
    },
    {
      "cell_type": "markdown",
      "metadata": {
        "id": "IeutqZF6nnfc"
      },
      "source": [
        "# August 28"
      ]
    },
    {
      "cell_type": "markdown",
      "metadata": {
        "id": "gC8MbHjKnoNP"
      },
      "source": [
        "Solving System of Equation"
      ]
    },
    {
      "cell_type": "markdown",
      "metadata": {
        "id": "aKQ_9er9pe2M"
      },
      "source": [
        "A linear equation in variables  x1,x2,…,xn  is an equation of the form  a1x1+a2x2+…+anxn=b , where  a1,a2,…,an  and  b  are constants. The constant  ai  is called the coefficient of  xi .\n",
        "\n",
        "---\n",
        "\n",
        "\n",
        "\n",
        "A system of linear equations is a finite collection of linear equations in same variables.\n",
        "The following is a system of  m  linear equations in  n  variables  x1,x2,…,xn .\n",
        "\n",
        "\n",
        "a11x1+a12x2+…+a1nxn=b1 \n",
        "a21x1+a22x2+…+a2nxn=b2 \n",
        "\n",
        "am1x1+am2x2+…+amnxn=bm\n",
        "\n",
        "\n",
        "---\n",
        "\n",
        "\n",
        "\n",
        "---\n",
        "\n",
        "\n",
        "A solution of a linear system is an assignment of values to the variables  x1,x2,…,xn  such that each of the equations is satisfied. The set of all solutions of a linear system is called the solution set of the system."
      ]
    },
    {
      "cell_type": "markdown",
      "metadata": {
        "id": "dEOOfG-2rUvb"
      },
      "source": [
        "Python provides the function numpy.linalg.solve() to solve the system of linear equations.\n",
        "Syntax: \n",
        "numpy.linalg.solve(A,B)"
      ]
    },
    {
      "cell_type": "markdown",
      "metadata": {
        "id": "OZoGtQ8yrinD"
      },
      "source": [
        "Q. Find all solutions for the linear system <br>\n",
        "$x_1 + 2x_2 -x_3 = 1$ <br>\n",
        "$2x_1 + x_2 + 4x_3 = 2$ <br>\n",
        "$3x_1 + 3x_2 + 4x_3 = 1$"
      ]
    },
    {
      "cell_type": "code",
      "metadata": {
        "colab": {
          "base_uri": "https://localhost:8080/"
        },
        "id": "2w36SlW3oTIh",
        "outputId": "f6faaac7-dc87-4d91-d9be-42e3b3dd82e3"
      },
      "source": [
        "import numpy as np\n",
        "A=np.matrix([[1,2,-1],[2,1,4],[3,3,4]])\n",
        "B=np.matrix([[1],[2],[1]])\n",
        "np.linalg.solve(A,B)"
      ],
      "execution_count": null,
      "outputs": [
        {
          "output_type": "execute_result",
          "data": {
            "text/plain": [
              "matrix([[ 7.],\n",
              "        [-4.],\n",
              "        [-2.]])"
            ]
          },
          "metadata": {},
          "execution_count": 4
        }
      ]
    },
    {
      "cell_type": "markdown",
      "metadata": {
        "id": "YCTIZ9kDs94Q"
      },
      "source": [
        "System of Lenear Equations\n"
      ]
    },
    {
      "cell_type": "code",
      "metadata": {
        "colab": {
          "base_uri": "https://localhost:8080/"
        },
        "id": "8RkD2KJBr3Cb",
        "outputId": "491edfb0-8121-438b-ef7f-645a870915a9"
      },
      "source": [
        "import numpy as np\n",
        "A=np.matrix([[2,3,2],[4,-5,5],[-3,7,-2]])\n",
        "B=np.matrix([[3],[-7],[5]])\n",
        "np.linalg.solve(A,B)"
      ],
      "execution_count": null,
      "outputs": [
        {
          "output_type": "execute_result",
          "data": {
            "text/plain": [
              "matrix([[ 2.],\n",
              "        [ 1.],\n",
              "        [-2.]])"
            ]
          },
          "metadata": {},
          "execution_count": 5
        }
      ]
    },
    {
      "cell_type": "markdown",
      "metadata": {
        "id": "l83QuL65w3c-"
      },
      "source": [
        "a-b+c-d=2; a-b+c+d=0; 4a-4b+4c=4; -2a+2b-2c+d=-3"
      ]
    },
    {
      "cell_type": "code",
      "metadata": {
        "colab": {
          "base_uri": "https://localhost:8080/",
          "height": 371
        },
        "id": "jvGNW52kuGwj",
        "outputId": "3459fb8d-d658-4e08-f6e8-d6082987954e"
      },
      "source": [
        "import numpy as np\n",
        "A=np.matrix([[1,-1,2,-1],[1,-1,1,1],[4,-4,4,0],[-2,2,-2,1]])\n",
        "B=np.matrix([[2],[0],[4],[-3]])\n",
        "np.linalg.solve(A,B)"
      ],
      "execution_count": null,
      "outputs": [
        {
          "output_type": "error",
          "ename": "LinAlgError",
          "evalue": "ignored",
          "traceback": [
            "\u001b[0;31m---------------------------------------------------------------------------\u001b[0m",
            "\u001b[0;31mLinAlgError\u001b[0m                               Traceback (most recent call last)",
            "\u001b[0;32m<ipython-input-7-7c005c21527c>\u001b[0m in \u001b[0;36m<module>\u001b[0;34m()\u001b[0m\n\u001b[1;32m      2\u001b[0m \u001b[0mA\u001b[0m\u001b[0;34m=\u001b[0m\u001b[0mnp\u001b[0m\u001b[0;34m.\u001b[0m\u001b[0mmatrix\u001b[0m\u001b[0;34m(\u001b[0m\u001b[0;34m[\u001b[0m\u001b[0;34m[\u001b[0m\u001b[0;36m1\u001b[0m\u001b[0;34m,\u001b[0m\u001b[0;34m-\u001b[0m\u001b[0;36m1\u001b[0m\u001b[0;34m,\u001b[0m\u001b[0;36m2\u001b[0m\u001b[0;34m,\u001b[0m\u001b[0;34m-\u001b[0m\u001b[0;36m1\u001b[0m\u001b[0;34m]\u001b[0m\u001b[0;34m,\u001b[0m\u001b[0;34m[\u001b[0m\u001b[0;36m1\u001b[0m\u001b[0;34m,\u001b[0m\u001b[0;34m-\u001b[0m\u001b[0;36m1\u001b[0m\u001b[0;34m,\u001b[0m\u001b[0;36m1\u001b[0m\u001b[0;34m,\u001b[0m\u001b[0;36m1\u001b[0m\u001b[0;34m]\u001b[0m\u001b[0;34m,\u001b[0m\u001b[0;34m[\u001b[0m\u001b[0;36m4\u001b[0m\u001b[0;34m,\u001b[0m\u001b[0;34m-\u001b[0m\u001b[0;36m4\u001b[0m\u001b[0;34m,\u001b[0m\u001b[0;36m4\u001b[0m\u001b[0;34m,\u001b[0m\u001b[0;36m0\u001b[0m\u001b[0;34m]\u001b[0m\u001b[0;34m,\u001b[0m\u001b[0;34m[\u001b[0m\u001b[0;34m-\u001b[0m\u001b[0;36m2\u001b[0m\u001b[0;34m,\u001b[0m\u001b[0;36m2\u001b[0m\u001b[0;34m,\u001b[0m\u001b[0;34m-\u001b[0m\u001b[0;36m2\u001b[0m\u001b[0;34m,\u001b[0m\u001b[0;36m1\u001b[0m\u001b[0;34m]\u001b[0m\u001b[0;34m]\u001b[0m\u001b[0;34m)\u001b[0m\u001b[0;34m\u001b[0m\u001b[0;34m\u001b[0m\u001b[0m\n\u001b[1;32m      3\u001b[0m \u001b[0mB\u001b[0m\u001b[0;34m=\u001b[0m\u001b[0mnp\u001b[0m\u001b[0;34m.\u001b[0m\u001b[0mmatrix\u001b[0m\u001b[0;34m(\u001b[0m\u001b[0;34m[\u001b[0m\u001b[0;34m[\u001b[0m\u001b[0;36m2\u001b[0m\u001b[0;34m]\u001b[0m\u001b[0;34m,\u001b[0m\u001b[0;34m[\u001b[0m\u001b[0;36m0\u001b[0m\u001b[0;34m]\u001b[0m\u001b[0;34m,\u001b[0m\u001b[0;34m[\u001b[0m\u001b[0;36m4\u001b[0m\u001b[0;34m]\u001b[0m\u001b[0;34m,\u001b[0m\u001b[0;34m[\u001b[0m\u001b[0;34m-\u001b[0m\u001b[0;36m3\u001b[0m\u001b[0;34m]\u001b[0m\u001b[0;34m]\u001b[0m\u001b[0;34m)\u001b[0m\u001b[0;34m\u001b[0m\u001b[0;34m\u001b[0m\u001b[0m\n\u001b[0;32m----> 4\u001b[0;31m \u001b[0mnp\u001b[0m\u001b[0;34m.\u001b[0m\u001b[0mlinalg\u001b[0m\u001b[0;34m.\u001b[0m\u001b[0msolve\u001b[0m\u001b[0;34m(\u001b[0m\u001b[0mA\u001b[0m\u001b[0;34m,\u001b[0m\u001b[0mB\u001b[0m\u001b[0;34m)\u001b[0m\u001b[0;34m\u001b[0m\u001b[0;34m\u001b[0m\u001b[0m\n\u001b[0m",
            "\u001b[0;32m<__array_function__ internals>\u001b[0m in \u001b[0;36msolve\u001b[0;34m(*args, **kwargs)\u001b[0m\n",
            "\u001b[0;32m/usr/local/lib/python3.7/dist-packages/numpy/linalg/linalg.py\u001b[0m in \u001b[0;36msolve\u001b[0;34m(a, b)\u001b[0m\n\u001b[1;32m    392\u001b[0m     \u001b[0msignature\u001b[0m \u001b[0;34m=\u001b[0m \u001b[0;34m'DD->D'\u001b[0m \u001b[0;32mif\u001b[0m \u001b[0misComplexType\u001b[0m\u001b[0;34m(\u001b[0m\u001b[0mt\u001b[0m\u001b[0;34m)\u001b[0m \u001b[0;32melse\u001b[0m \u001b[0;34m'dd->d'\u001b[0m\u001b[0;34m\u001b[0m\u001b[0;34m\u001b[0m\u001b[0m\n\u001b[1;32m    393\u001b[0m     \u001b[0mextobj\u001b[0m \u001b[0;34m=\u001b[0m \u001b[0mget_linalg_error_extobj\u001b[0m\u001b[0;34m(\u001b[0m\u001b[0m_raise_linalgerror_singular\u001b[0m\u001b[0;34m)\u001b[0m\u001b[0;34m\u001b[0m\u001b[0;34m\u001b[0m\u001b[0m\n\u001b[0;32m--> 394\u001b[0;31m     \u001b[0mr\u001b[0m \u001b[0;34m=\u001b[0m \u001b[0mgufunc\u001b[0m\u001b[0;34m(\u001b[0m\u001b[0ma\u001b[0m\u001b[0;34m,\u001b[0m \u001b[0mb\u001b[0m\u001b[0;34m,\u001b[0m \u001b[0msignature\u001b[0m\u001b[0;34m=\u001b[0m\u001b[0msignature\u001b[0m\u001b[0;34m,\u001b[0m \u001b[0mextobj\u001b[0m\u001b[0;34m=\u001b[0m\u001b[0mextobj\u001b[0m\u001b[0;34m)\u001b[0m\u001b[0;34m\u001b[0m\u001b[0;34m\u001b[0m\u001b[0m\n\u001b[0m\u001b[1;32m    395\u001b[0m \u001b[0;34m\u001b[0m\u001b[0m\n\u001b[1;32m    396\u001b[0m     \u001b[0;32mreturn\u001b[0m \u001b[0mwrap\u001b[0m\u001b[0;34m(\u001b[0m\u001b[0mr\u001b[0m\u001b[0;34m.\u001b[0m\u001b[0mastype\u001b[0m\u001b[0;34m(\u001b[0m\u001b[0mresult_t\u001b[0m\u001b[0;34m,\u001b[0m \u001b[0mcopy\u001b[0m\u001b[0;34m=\u001b[0m\u001b[0;32mFalse\u001b[0m\u001b[0;34m)\u001b[0m\u001b[0;34m)\u001b[0m\u001b[0;34m\u001b[0m\u001b[0;34m\u001b[0m\u001b[0m\n",
            "\u001b[0;32m/usr/local/lib/python3.7/dist-packages/numpy/linalg/linalg.py\u001b[0m in \u001b[0;36m_raise_linalgerror_singular\u001b[0;34m(err, flag)\u001b[0m\n\u001b[1;32m     86\u001b[0m \u001b[0;34m\u001b[0m\u001b[0m\n\u001b[1;32m     87\u001b[0m \u001b[0;32mdef\u001b[0m \u001b[0m_raise_linalgerror_singular\u001b[0m\u001b[0;34m(\u001b[0m\u001b[0merr\u001b[0m\u001b[0;34m,\u001b[0m \u001b[0mflag\u001b[0m\u001b[0;34m)\u001b[0m\u001b[0;34m:\u001b[0m\u001b[0;34m\u001b[0m\u001b[0;34m\u001b[0m\u001b[0m\n\u001b[0;32m---> 88\u001b[0;31m     \u001b[0;32mraise\u001b[0m \u001b[0mLinAlgError\u001b[0m\u001b[0;34m(\u001b[0m\u001b[0;34m\"Singular matrix\"\u001b[0m\u001b[0;34m)\u001b[0m\u001b[0;34m\u001b[0m\u001b[0;34m\u001b[0m\u001b[0m\n\u001b[0m\u001b[1;32m     89\u001b[0m \u001b[0;34m\u001b[0m\u001b[0m\n\u001b[1;32m     90\u001b[0m \u001b[0;32mdef\u001b[0m \u001b[0m_raise_linalgerror_nonposdef\u001b[0m\u001b[0;34m(\u001b[0m\u001b[0merr\u001b[0m\u001b[0;34m,\u001b[0m \u001b[0mflag\u001b[0m\u001b[0;34m)\u001b[0m\u001b[0;34m:\u001b[0m\u001b[0;34m\u001b[0m\u001b[0;34m\u001b[0m\u001b[0m\n",
            "\u001b[0;31mLinAlgError\u001b[0m: Singular matrix"
          ]
        }
      ]
    },
    {
      "cell_type": "code",
      "metadata": {
        "id": "mDAldKTExOMi"
      },
      "source": [
        ""
      ],
      "execution_count": null,
      "outputs": []
    },
    {
      "cell_type": "markdown",
      "metadata": {
        "id": "57qjEEJ-OQDx"
      },
      "source": [
        "# SEPTEMBER 1"
      ]
    },
    {
      "cell_type": "markdown",
      "metadata": {
        "id": "T1XDOhQ1O2xJ"
      },
      "source": [
        "Solving System of linear Equations"
      ]
    },
    {
      "cell_type": "markdown",
      "metadata": {
        "id": "Q_-SeoCZPidy"
      },
      "source": [
        "The linear system of equations of the form $AX=0$ is called system of homogenous linear equations. <br>\n",
        "The $n$-tuple $(0,0, \\ldots, 0)$ is a trivial solution of the system. <br>\n",
        "The homogeneous system of $m$ equations $AX = 0$ in $n$ unknowns has a non trivial solution if and only if the rank of the matrix $A$ is less than $n$. Further if $\\rho(A)=r < n$, then the system possesses $(n - r)$ linearly independent solutions."
      ]
    },
    {
      "cell_type": "markdown",
      "metadata": {
        "id": "_FlRiBXzQyYp"
      },
      "source": [
        "Q. Check whether the following system of homogenous linear equation has non-trivial solution. <br>\n",
        "$x_1 + 2x_2 -x_3 = 0$ <br>\n",
        "$2x_1 + x_2 + 4x_3 = 0$ <br>\n",
        "$3x_1 + 3x_2 + 4x_3 = 0$"
      ]
    },
    {
      "cell_type": "code",
      "metadata": {
        "colab": {
          "base_uri": "https://localhost:8080/"
        },
        "id": "D3vQabgGOUEW",
        "outputId": "8188160e-a604-49ab-d615-5ad742a42448"
      },
      "source": [
        "import numpy as np\n",
        "A=np.matrix([[1,2,-1],[2,1,4],[3,3,4]])\n",
        "B=np.matrix([[0],[0],[0]])\n",
        "r=np.linalg.matrix_rank(A)\n",
        "n=A.shape[1] \n",
        "if (r==n):\n",
        "    print(\"System has trivial solution\")\n",
        "else:\n",
        "    print(\"System has\", n-r, \"non-trivial solution(s)\")"
      ],
      "execution_count": null,
      "outputs": [
        {
          "output_type": "stream",
          "name": "stdout",
          "text": [
            "System has trivial solution\n"
          ]
        }
      ]
    },
    {
      "cell_type": "markdown",
      "metadata": {
        "id": "U3WuW8FqSSzM"
      },
      "source": [
        "Q. Check whether the following system of homogenous linear equation has non-trivial solution. <br>\n",
        "$x_1 + 2x_2 -x_3 = 0$ <br>\n",
        "$2x_1 + x_2 + 4x_3 = 0$ <br>\n",
        "$x_1 - x_2 + 5x_3 = 0$"
      ]
    },
    {
      "cell_type": "code",
      "metadata": {
        "colab": {
          "base_uri": "https://localhost:8080/"
        },
        "id": "cB8A2KieR9cI",
        "outputId": "529a6040-9c3e-4343-ab3e-a4f559e9451d"
      },
      "source": [
        "import numpy as np\n",
        "A=np.matrix([[1,2,-1],[2,1,4],[1,-1,5]])\n",
        "B=np.matrix([[0],[0],[0]])\n",
        "r=np.linalg.matrix_rank(A)\n",
        "n=A.shape[1] \n",
        "if (r==n):\n",
        "    print(\"System has trivial solution\")\n",
        "else:\n",
        "    print(\"System has\", n-r, \"non-trivial solution(s)\")"
      ],
      "execution_count": null,
      "outputs": [
        {
          "output_type": "stream",
          "name": "stdout",
          "text": [
            "System has 1 non-trivial solution(s)\n"
          ]
        }
      ]
    },
    {
      "cell_type": "markdown",
      "metadata": {
        "id": "GZhFB8pZTpw2"
      },
      "source": [
        "SYSTEM OF NON HOMOGENEOUS LINEAR EQUATIONS"
      ]
    },
    {
      "cell_type": "markdown",
      "metadata": {
        "id": "zWHrNgfwTjoq"
      },
      "source": [
        "The linear system of equations of the form $AX=B$ is called system of non-homogenous linear equations if not all elements in $B$ are zeros. <br>\n",
        "The non homogeneous system of $m$ equations $AX=B$ in $n$ unknowns is consistent (has a solution) if and only if the $\\rho(A) = \\rho([A|B])$. <br>\n",
        "If $\\rho(A) = \\rho([A|B])$, and\n",
        "1. $\\rho(A) = n$, then system has unique solution\n",
        "2. $\\rho(A) < n$, then system has infintely many solutions. <br> \n",
        "If $\\rho(A) \\neq \\rho([A|B])$, then the system is inconsistent."
      ]
    },
    {
      "cell_type": "markdown",
      "metadata": {
        "id": "WDZGfR8IT_-U"
      },
      "source": [
        "Q. Examine the consistency of the following system of equations and solve if consistent  <br>\n",
        "$x_1 + 2x_2 -x_3 = 1$ <br>\n",
        "$2x_1 + x_2 + 4x_3 = 2$ <br>\n",
        "$3x_1 + 3x_2 + 4x_3 = 1$"
      ]
    },
    {
      "cell_type": "code",
      "metadata": {
        "colab": {
          "base_uri": "https://localhost:8080/"
        },
        "id": "5HoQCAxoTvdO",
        "outputId": "2bd9ef26-6081-49a7-aaf5-1234779cd135"
      },
      "source": [
        "A=np.matrix([[1,2,-1],[2,1,4],[3,3,4]])\n",
        "B=np.matrix([[1],[2],[1]])\n",
        "AB=np.concatenate((A,B), axis=1)\n",
        "rA=np.linalg.matrix_rank(A)\n",
        "rAB=np.linalg.matrix_rank(AB)\n",
        "n=A.shape[1]\n",
        "if (rA==rAB):\n",
        "    if (rA==n):\n",
        "        print(\"The system has unique solution\")\n",
        "        print(np.linalg.solve(A,B))\n",
        "    else:\n",
        "        print(\"The system has infinitely many solutions\")\n",
        "else:\n",
        "    print(\"The system of equations is inconsistent\")"
      ],
      "execution_count": null,
      "outputs": [
        {
          "output_type": "stream",
          "name": "stdout",
          "text": [
            "The system has unique solution\n",
            "[[ 7.]\n",
            " [-4.]\n",
            " [-2.]]\n"
          ]
        }
      ]
    },
    {
      "cell_type": "markdown",
      "metadata": {
        "id": "JejVR3AKW1Rk"
      },
      "source": [
        "Q. Examine the consistency of the following system of equations and solve if consistent  <br>\n",
        "$x_1 + 2x_2 -x_3 = 1$ <br>\n",
        "$2x_1 + x_2 + 5x_3 = 2$ <br>\n",
        "$3x_1 + 3x_2 + 4x_3 = 1$"
      ]
    },
    {
      "cell_type": "code",
      "metadata": {
        "colab": {
          "base_uri": "https://localhost:8080/"
        },
        "id": "aBReL6p4W3vp",
        "outputId": "52d265da-16cc-4e09-9af5-691da5fdd227"
      },
      "source": [
        "A=np.matrix([[1,2,-1],[2,1,5],[3,3,4]])\n",
        "B=np.matrix([[1],[2],[1]])\n",
        "AB=np.concatenate((A,B), axis=1)\n",
        "rA=np.linalg.matrix_rank(A)\n",
        "rAB=np.linalg.matrix_rank(AB)\n",
        "n=A.shape[1]\n",
        "if (rA==rAB):\n",
        "    if (rA==n):\n",
        "        print(\"The system has unique solution\")\n",
        "        print(np.linalg.solve(A,B))\n",
        "    else:\n",
        "        print(\"The system has infinitely many solutions\")\n",
        "else:\n",
        "    print(\"The system of equations is inconsistent\")"
      ],
      "execution_count": null,
      "outputs": [
        {
          "output_type": "stream",
          "name": "stdout",
          "text": [
            "The system of equations is inconsistent\n"
          ]
        }
      ]
    },
    {
      "cell_type": "code",
      "metadata": {
        "id": "zKCEoetCW9U-"
      },
      "source": [
        ""
      ],
      "execution_count": null,
      "outputs": []
    },
    {
      "cell_type": "markdown",
      "metadata": {
        "id": "P7TjDcyoIwJc"
      },
      "source": [
        "# ASYNCHRONUS 4 September 4"
      ]
    },
    {
      "cell_type": "markdown",
      "metadata": {
        "id": "BoelDAwBI1pv"
      },
      "source": [
        "1. Write a program to solve any system of linear equations (user input).\n",
        "Check whether the coefficient\n",
        " matrix is singular or not. If singular,\n",
        "print no solution. If non singular, then print the inverse exist and\n",
        "solve the system of equation."
      ]
    },
    {
      "cell_type": "code",
      "metadata": {
        "colab": {
          "base_uri": "https://localhost:8080/"
        },
        "id": "yjejscnONkZF",
        "outputId": "0bc1539b-59a1-4d1b-8ee1-c293a37795e9"
      },
      "source": [
        "import numpy as np\n",
        "\n",
        "x1=int(input(\"Enter x1: \"))\n",
        "y1=int(input(\"Enter y1: \"))\n",
        "z1=int(input(\"Enter z1: \"))\n",
        "\n",
        "x2=int(input(\"Enter x2: \"))\n",
        "y2=int(input(\"Enter y2: \"))\n",
        "z2=int(input(\"Enter z2: \"))\n",
        "\n",
        "x3=int(input(\"Enter x3: \"))\n",
        "y3=int(input(\"Enter y3: \"))\n",
        "z3=int(input(\"Enter z3: \"))\n",
        "\n",
        "A=np.matrix([[x1,y1,z1],[x2,y2,z2],[x3,y3,z3]])\n",
        "\n",
        "b1=int(input(\"Enter b1:\"))\n",
        "b2=int(input(\"Enter b2:\"))\n",
        "b3=int(input(\"Enter b3:\"))\n",
        "\n",
        "B=np.matrix([[b1],[b2],[b3]])\n",
        "\n",
        "if(np.linalg.det(A)==0):\n",
        "  print('NO SOLUTION')\n",
        "else:\n",
        "  print(\"SOLUTION FOR THE SYSTEM OF EQUATION IS: \",np.linalg.solve(A,B))\n"
      ],
      "execution_count": null,
      "outputs": [
        {
          "output_type": "stream",
          "name": "stdout",
          "text": [
            "Enter x1: 1\n",
            "Enter y1: 2\n",
            "Enter z1: 3\n",
            "Enter x2: 5\n",
            "Enter y2: 6\n",
            "Enter z2: 4\n",
            "Enter x3: 9\n",
            "Enter y3: 1\n",
            "Enter z3: 5\n",
            "Enter b1:4\n",
            "Enter b2:6\n",
            "Enter b3:5\n",
            "Inverse of matrix is: [[-0.12121212]\n",
            " [ 0.33333333]\n",
            " [ 1.15151515]]\n"
          ]
        }
      ]
    },
    {
      "cell_type": "markdown",
      "metadata": {
        "id": "z7bd1kE3NaXg"
      },
      "source": [
        "\n",
        "2. Solve the following system of linear equations.\n",
        "(a) x1 + 2x2 − x3 = −1\n",
        "2x1 + x2 + 4x3 = 2\n",
        "3x1 + 3x2 + 4x3 = 1\n",
        "\n",
        "(b) 8x + 5y = 9z\n",
        "3x + 2z = 9\n",
        "4y + 3z = 11x\n"
      ]
    },
    {
      "cell_type": "code",
      "metadata": {
        "colab": {
          "base_uri": "https://localhost:8080/"
        },
        "id": "kInmSXETNk4b",
        "outputId": "eff6d593-0db0-4414-9a1a-b99876073dff"
      },
      "source": [
        "A=np.matrix([[1,2,-1],[2,1,4],[3,3,4]])\n",
        "B=np.matrix([[-1],[2],[1]])\n",
        "print(\"The Solution of the System of equation is:\", np.linalg.solve(A,B))"
      ],
      "execution_count": null,
      "outputs": [
        {
          "output_type": "stream",
          "name": "stdout",
          "text": [
            "The Solution of the System of equation is: [[ 1.66666667e+00]\n",
            " [-1.33333333e+00]\n",
            " [-2.22044605e-16]]\n"
          ]
        }
      ]
    },
    {
      "cell_type": "code",
      "metadata": {
        "colab": {
          "base_uri": "https://localhost:8080/"
        },
        "id": "uyEi75g9ZCXX",
        "outputId": "d3010a2f-b448-4a4e-9dad-1782ee96e239"
      },
      "source": [
        "A=np.matrix([[8,5,-9],[3,0,2],[-11,4,3]])\n",
        "B=np.matrix([[0],[9],[0]])\n",
        "print(\"The Solution of the System of equation is:\", np.linalg.solve(A,B))"
      ],
      "execution_count": null,
      "outputs": [
        {
          "output_type": "stream",
          "name": "stdout",
          "text": [
            "The Solution of the System of equation is: [[1.40366972]\n",
            " [2.06422018]\n",
            " [2.39449541]]\n"
          ]
        }
      ]
    },
    {
      "cell_type": "markdown",
      "metadata": {
        "id": "nRcARbVuNaau"
      },
      "source": [
        "\n",
        "3. Suppose, a fruit-seller sold 20 mangoes and 10 oranges in one day for a total of 350. The next day he sold 17 mangoes and 22 oranges for 500. If the prices of the fruits remained unchanged on both the days, what was the price of one mango and one orange? Use functions in numpy to solve the problem.\n"
      ]
    },
    {
      "cell_type": "code",
      "metadata": {
        "colab": {
          "base_uri": "https://localhost:8080/"
        },
        "id": "Y86d0-IbNlRN",
        "outputId": "b5a37fc5-f41a-4368-d1b0-c1ac7c2e3bdf"
      },
      "source": [
        "A=np.matrix([[20,10],[17,22]])\n",
        "B=np.matrix([[350],[500]])\n",
        "np.linalg.solve(A,B)"
      ],
      "execution_count": null,
      "outputs": [
        {
          "output_type": "execute_result",
          "data": {
            "text/plain": [
              "matrix([[10.],\n",
              "        [15.]])"
            ]
          },
          "metadata": {},
          "execution_count": 11
        }
      ]
    },
    {
      "cell_type": "markdown",
      "metadata": {
        "id": "UXAgwnMeNaf8"
      },
      "source": [
        "\n",
        "4. Write a program which arbitrarily takes any matrix as input from\n",
        "the user and check whether the matrix is invertible or not. You need\n",
        "to use the properties of invertible matrices and should not directly\n",
        "use the inverse function in numpy library. You need to make use of\n",
        "control statements in python."
      ]
    },
    {
      "cell_type": "code",
      "metadata": {
        "id": "JTy0YvAONltf"
      },
      "source": [
        ""
      ],
      "execution_count": null,
      "outputs": []
    },
    {
      "cell_type": "markdown",
      "metadata": {
        "id": "PkkViFwxNa0d"
      },
      "source": [
        "\n",
        "5. Write a program which uses three different ways to solve system of\n",
        "equations. [Different ways in which inverses are found in between\n",
        "the program will also be considered."
      ]
    },
    {
      "cell_type": "code",
      "metadata": {
        "colab": {
          "base_uri": "https://localhost:8080/"
        },
        "id": "Uuyj_gEvI0uS",
        "outputId": "206b4a6f-73cc-411f-b419-6af64a566368"
      },
      "source": [
        "A=np.matrix([[20,10],[17,22]])\n",
        "B=np.matrix([[350],[500]])\n",
        "np.linalg.solve(A,B)"
      ],
      "execution_count": null,
      "outputs": [
        {
          "output_type": "execute_result",
          "data": {
            "text/plain": [
              "matrix([[10.],\n",
              "        [15.]])"
            ]
          },
          "metadata": {},
          "execution_count": 14
        }
      ]
    },
    {
      "cell_type": "code",
      "metadata": {
        "colab": {
          "base_uri": "https://localhost:8080/"
        },
        "id": "eUYKbrBWarTe",
        "outputId": "b84e111c-4967-4387-9744-058fa30ca5ff"
      },
      "source": [
        "A=np.matrix([[20,10],[17,22]])\n",
        "B=np.matrix([[350],[500]])\n",
        "\n",
        "print(np.matmul(np.linalg.inv(A),B))"
      ],
      "execution_count": null,
      "outputs": [
        {
          "output_type": "stream",
          "name": "stdout",
          "text": [
            "[[10.]\n",
            " [15.]]\n"
          ]
        }
      ]
    },
    {
      "cell_type": "code",
      "metadata": {
        "id": "7VgB6ECMa2uX"
      },
      "source": [
        "A=np.matrix([[20,10],[17,22]])\n",
        "B=np.matrix([[350],[500]])\n"
      ],
      "execution_count": null,
      "outputs": []
    },
    {
      "cell_type": "markdown",
      "metadata": {
        "id": "kKx7wAyA2oBS"
      },
      "source": [
        "Let $ A$ be an invertible $ n \\times n$ matrix. Suppose that a sequence of elementary row-operations reduces $ A$ to the identity matrix. Then the same sequence of elementary row-operations when applied to the identity matrix yields $ A^{-1}.$\n",
        "1. Form the augmented matrix by the identity matrix.i.e,[ A | I ]\n",
        "2. Apply row operations to the matrix until the left side is reduced to I. Then, the right side of the augmented matrix is the inverse of the matrix.\n"
      ]
    },
    {
      "cell_type": "code",
      "metadata": {
        "colab": {
          "base_uri": "https://localhost:8080/"
        },
        "id": "SZMUuDo82BDX",
        "outputId": "edaac234-4294-4466-b669-394dc863e4c6"
      },
      "source": [
        "\n",
        "\n",
        "# Importing NumPy Library\n",
        "import numpy as np\n",
        "import sys \n",
        "\n",
        "# Reading order of matrix\n",
        "n = int(input('Enter order of matrix: '))\n",
        "# Making numpy array of n x 2n size and initializing \n",
        "# to zero for storing augmented matrix\n",
        "a = np.zeros((n,2*n))\n",
        "# Reading matrix coefficients\n",
        "print('Enter Matrix Coefficients:')\n",
        "for i in range(n):\n",
        "    for j in range(n):\n",
        "        a[i][j] = float(input( 'a['+str(i)+']['+ str(j)+']='))\n",
        "\n"
      ],
      "execution_count": null,
      "outputs": [
        {
          "name": "stdout",
          "output_type": "stream",
          "text": [
            "Enter order of matrix: 3\n",
            "Enter Matrix Coefficients:\n",
            "a[0][0]=3\n",
            "a[0][1]=6\n",
            "a[0][2]=5\n",
            "a[1][0]=1\n",
            "a[1][1]=3\n",
            "a[1][2]=5\n",
            "a[2][0]=7\n",
            "a[2][1]=3\n",
            "a[2][2]=0\n"
          ]
        }
      ]
    },
    {
      "cell_type": "code",
      "metadata": {
        "id": "im_j6Pmf209t"
      },
      "source": [
        "# Augmenting Identity Matrix of Order n\n",
        "for i in range(n):        \n",
        "    for j in range(n):\n",
        "        if i == j:       # i = j = 0, n = 2\n",
        "            a[i][j+n] = 1         # a[0][2] = 1\n",
        "        else:\n",
        "             a[i][j+n] = 0  \n",
        "            "
      ],
      "execution_count": null,
      "outputs": []
    },
    {
      "cell_type": "code",
      "metadata": {
        "id": "6TilG8pO2Gxe"
      },
      "source": [
        "# Applying Guass Jordan Elimination\n",
        "for i in range(n):\n",
        "    if a[i][i] == 0.0:\n",
        "        sys.exit('Divide by zero detected!')\n",
        "        \n",
        "    for j in range(n):    \n",
        "        if i != j:            \n",
        "            ratio = a[j][i]/a[i][i]\n",
        "            for k in range(2*n):\n",
        "                a[j][k] = a[j][k] - ratio * a[i][k]\n",
        "#i = 0, j = 1\n",
        "# ratio = a[1][0]/a[0][0] = 2/1 =2\n",
        "# k = 0,1,2,3\n",
        "#a[1][0] = a[1][0]-2a[0][0]\n",
        "#        2 - 2(1) = 0\n",
        "\n"
      ],
      "execution_count": null,
      "outputs": []
    },
    {
      "cell_type": "code",
      "metadata": {
        "colab": {
          "base_uri": "https://localhost:8080/"
        },
        "id": "CmVYCZad2C2I",
        "outputId": "99ef36c5-dc08-440b-df34-002b98bc34dc"
      },
      "source": [
        "# Row operation to make principal diagonal element to 1\n",
        "for i in range(n):\n",
        "    divisor = a[i][i]\n",
        "    for j in range(2*n):\n",
        "        a[i][j] = a[i][j]/divisor\n",
        "# i = 0\n",
        "# divisor = a[0][0]\n",
        "# j = 0,1,2,3\n",
        "#a[0][0] = a[0][0]/a[0][0]\n",
        "# Displaying Inverse Matrix\n",
        "print('\\nINVERSE MATRIX IS:')\n",
        "for i in range(n):\n",
        "    for j in range(n, 2*n):\n",
        "        print(a[i][j], end='\\t')\n",
        "    print()"
      ],
      "execution_count": null,
      "outputs": [
        {
          "output_type": "stream",
          "name": "stdout",
          "text": [
            "\n",
            "INVERSE MATRIX IS:\n",
            "-0.19999999999999973\t0.1999999999999996\t0.19999999999999996\t\n",
            "0.46666666666666673\t-0.46666666666666656\t-0.13333333333333333\t\n",
            "-0.23999999999999996\t0.43999999999999995\t0.039999999999999994\t\n"
          ]
        }
      ]
    },
    {
      "cell_type": "code",
      "metadata": {
        "id": "dc5BQHzi2EVB"
      },
      "source": [
        "1. $A=\\begin{bmatrix} \n",
        "3 & 6 & 5 \\\\\n",
        "1 & 3 & 5 \\\\\n",
        "7 & 3 & 0 \\\\\n",
        "\\end{bmatrix}$"
      ],
      "execution_count": null,
      "outputs": []
    },
    {
      "cell_type": "markdown",
      "metadata": {
        "id": "BNQ6BWh_4jur"
      },
      "source": [
        "1. $A=\\begin{bmatrix} \n",
        "3 & 6 & 5 \\\\\n",
        "1 & 3 & 5 \\\\\n",
        "7 & 3 & 0 \\\\\n",
        "\\end{bmatrix}$"
      ]
    },
    {
      "cell_type": "code",
      "metadata": {
        "id": "QluVhnaK4kNS"
      },
      "source": [
        ""
      ],
      "execution_count": null,
      "outputs": []
    },
    {
      "cell_type": "markdown",
      "metadata": {
        "id": "e-SJivIjWlmw"
      },
      "source": [
        "# SEPTEMBER 15"
      ]
    },
    {
      "cell_type": "markdown",
      "metadata": {
        "id": "z1cLC7hyWsrl"
      },
      "source": [
        "Obtaining eigen values and eigen vectors"
      ]
    },
    {
      "cell_type": "code",
      "metadata": {
        "colab": {
          "base_uri": "https://localhost:8080/"
        },
        "id": "jrXWlcB5WrC4",
        "outputId": "418e7eca-a802-4681-b089-b29bec796079"
      },
      "source": [
        "import numpy as np\n",
        "I=np.array([[4,3,2],[1,4,1],[3,10,4]])\n",
        "print(\"Given matrix\")\n",
        "print(I)\n",
        "print()\n",
        "x=np.linalg.eigvals(I)\n",
        "y=np.linalg.eig(I)\n",
        "print(\"Eigen values:\")\n",
        "print(x)\n",
        "print()\n",
        "print(\"Eigen vectors:\")\n",
        "print(y)"
      ],
      "execution_count": null,
      "outputs": [
        {
          "output_type": "stream",
          "name": "stdout",
          "text": [
            "Given matrix\n",
            "[[ 4  3  2]\n",
            " [ 1  4  1]\n",
            " [ 3 10  4]]\n",
            "\n",
            "Eigen values:\n",
            "[8.98205672 2.12891771 0.88902557]\n",
            "\n",
            "Eigen vectors:\n",
            "(array([8.98205672, 2.12891771, 0.88902557]), array([[-0.49247712, -0.82039552, -0.42973429],\n",
            "       [-0.26523242,  0.14250681, -0.14817858],\n",
            "       [-0.82892584,  0.55375355,  0.89071407]]))\n"
          ]
        }
      ]
    },
    {
      "cell_type": "markdown",
      "metadata": {
        "id": "dXK1L6UZXtZ0"
      },
      "source": [
        "Write a python program to find the eigen values and eigen vectors for the given matrix.\n",
        "                         [1,-3,3],[3,-5,3],[6,-6,4]"
      ]
    },
    {
      "cell_type": "code",
      "metadata": {
        "colab": {
          "base_uri": "https://localhost:8080/"
        },
        "id": "2LdSLo0kXcP2",
        "outputId": "8a53578a-42c8-4eca-8fb7-8106319628f0"
      },
      "source": [
        "import numpy as np\n",
        "I=np.array([[1,-3,3],[3,-5,3],[6,-6,4]])\n",
        "print(\"Given matrix\")\n",
        "print(I)\n",
        "print()\n",
        "x=np.linalg.eigvals(I)\n",
        "y=np.linalg.eig(I)\n",
        "print(\"Eigen values:\")\n",
        "print(x)\n",
        "print()\n",
        "print(\"Eigen vectors:\")\n",
        "print(y)"
      ],
      "execution_count": null,
      "outputs": [
        {
          "output_type": "stream",
          "name": "stdout",
          "text": [
            "Given matrix\n",
            "[[ 1 -3  3]\n",
            " [ 3 -5  3]\n",
            " [ 6 -6  4]]\n",
            "\n",
            "Eigen values:\n",
            "[ 4. -2. -2.]\n",
            "\n",
            "Eigen vectors:\n",
            "(array([ 4., -2., -2.]), array([[-0.40824829, -0.81034214,  0.1932607 ],\n",
            "       [-0.40824829, -0.31851537, -0.59038328],\n",
            "       [-0.81649658,  0.49182677, -0.78364398]]))\n"
          ]
        }
      ]
    },
    {
      "cell_type": "markdown",
      "metadata": {
        "id": "XVa3NtrLX5ly"
      },
      "source": [
        "Properties of Eigen VAlues and Eigen Vectors"
      ]
    },
    {
      "cell_type": "markdown",
      "metadata": {
        "id": "k5zq8va8YOLW"
      },
      "source": [
        "1. For a $nxn$ matrix, the number of eigen values is n.\n",
        "2. The sum of eigen values is equal to the sum of the diagonal elements of matrix.\n",
        "3. The product of eigenvalues is equal to the determinant of the matrix.\n",
        "4. The eigen value for an identity matrix is 1.\n",
        "5. The eigenvalue of a triangular matrix is same as the diagonal elements of a matrix.\n",
        "6. For a skew symmetric matrix, the eigenvalues are imaginary.\n",
        "7. For orthogonal matrix the length of eigenvalues equal to 1.\n",
        "8. For indempotent matrix the eigenvalues are 0 and 1(Aˆ2=identity matrix)."
      ]
    },
    {
      "cell_type": "markdown",
      "metadata": {
        "id": "jF8J61-tYT8T"
      },
      "source": [
        "Property 2 proof"
      ]
    },
    {
      "cell_type": "code",
      "metadata": {
        "colab": {
          "base_uri": "https://localhost:8080/"
        },
        "id": "s_46J-w_Xm17",
        "outputId": "686bd648-cdfc-45ad-bb49-a8c3afb43e68"
      },
      "source": [
        "import numpy as np\n",
        "I=np.array([[1,-3,3],[3,-5,3],[6,-6,4]])\n",
        "print(\"Given matrix\")\n",
        "print(I)\n",
        "print()\n",
        "x=np.linalg.eigvals(I)\n",
        "y=np.linalg.eig(I)\n",
        "print(\"Eigen values:\")\n",
        "print(x)\n",
        "print()\n",
        "print(\"Eigen vectors:\")\n",
        "print(y)\n",
        "print(\"Sum of Diagonals Element\")\n",
        "print(np.trace(I))\n",
        "print(\"Sum of Eigen Values\")\n",
        "print(np.sum(x))"
      ],
      "execution_count": null,
      "outputs": [
        {
          "output_type": "stream",
          "name": "stdout",
          "text": [
            "Given matrix\n",
            "[[ 1 -3  3]\n",
            " [ 3 -5  3]\n",
            " [ 6 -6  4]]\n",
            "\n",
            "Eigen values:\n",
            "[ 4. -2. -2.]\n",
            "\n",
            "Eigen vectors:\n",
            "(array([ 4., -2., -2.]), array([[-0.40824829, -0.81034214,  0.1932607 ],\n",
            "       [-0.40824829, -0.31851537, -0.59038328],\n",
            "       [-0.81649658,  0.49182677, -0.78364398]]))\n",
            "Sum of Diagonals Element\n",
            "0\n",
            "Sum of Eigen Values\n",
            "-1.1102230246251565e-15\n"
          ]
        }
      ]
    },
    {
      "cell_type": "markdown",
      "metadata": {
        "id": "VBmtDVJ2ZP14"
      },
      "source": [
        "Property 3 Proof"
      ]
    },
    {
      "cell_type": "code",
      "metadata": {
        "colab": {
          "base_uri": "https://localhost:8080/"
        },
        "id": "1TiwP2hFYZ7n",
        "outputId": "e206e8e2-b20b-4313-f6c2-4f0a323e239b"
      },
      "source": [
        "import numpy as np\n",
        "I=np.array([[1,-3,3],[3,-5,3],[6,-6,4]])\n",
        "print(\"Given matrix\")\n",
        "print(I)\n",
        "print()\n",
        "x=np.linalg.eigvals(I)\n",
        "y=np.linalg.eig(I)\n",
        "print(\"Eigen values:\")\n",
        "print(x)\n",
        "print()\n",
        "print(\"Eigen vectors:\")\n",
        "print(y)\n",
        "print(\"Product of Eigen Values\")\n",
        "print(np.product(x))\n",
        "print(\"Determinant of Matrix\")\n",
        "print(np.linalg.det(I))\n",
        "\n",
        "if(round(np.product(x))==round(np.linalg.det(I))):\n",
        "  print(\"True\")\n",
        "else:\n",
        "  print(\"False\")"
      ],
      "execution_count": null,
      "outputs": [
        {
          "output_type": "stream",
          "name": "stdout",
          "text": [
            "Given matrix\n",
            "[[ 1 -3  3]\n",
            " [ 3 -5  3]\n",
            " [ 6 -6  4]]\n",
            "\n",
            "Eigen values:\n",
            "[ 4. -2. -2.]\n",
            "\n",
            "Eigen vectors:\n",
            "(array([ 4., -2., -2.]), array([[-0.40824829, -0.81034214,  0.1932607 ],\n",
            "       [-0.40824829, -0.31851537, -0.59038328],\n",
            "       [-0.81649658,  0.49182677, -0.78364398]]))\n",
            "Product of Eigen Values\n",
            "15.999999999999988\n",
            "Determinant of Matrix\n",
            "16.000000000000007\n",
            "True\n"
          ]
        }
      ]
    },
    {
      "cell_type": "markdown",
      "metadata": {
        "id": "6x4_7HsbcN2X"
      },
      "source": [
        "Property 4 proof"
      ]
    },
    {
      "cell_type": "code",
      "metadata": {
        "colab": {
          "base_uri": "https://localhost:8080/"
        },
        "id": "pcwe7IO-apOt",
        "outputId": "09ea6d63-9dc4-4116-fe33-1bff55c13f49"
      },
      "source": [
        "import numpy as np\n",
        "I=np.array([[1,0,0],[0,1,0],[0,0,1]])\n",
        "print(\"Given matrix\")\n",
        "print(I)\n",
        "print()\n",
        "x=np.linalg.eigvals(I)\n",
        "y=np.linalg.eig(I)\n",
        "print(\"Eigen values:\")\n",
        "print(x)\n",
        "print()\n",
        "print(\"Eigen vectors:\")\n"
      ],
      "execution_count": null,
      "outputs": [
        {
          "output_type": "stream",
          "name": "stdout",
          "text": [
            "Given matrix\n",
            "[[1 0 0]\n",
            " [0 1 0]\n",
            " [0 0 1]]\n",
            "\n",
            "Eigen values:\n",
            "[1. 1. 1.]\n",
            "\n",
            "Eigen vectors:\n"
          ]
        }
      ]
    },
    {
      "cell_type": "markdown",
      "metadata": {
        "id": "-CpXLk-scoty"
      },
      "source": [
        "Property 5"
      ]
    },
    {
      "cell_type": "code",
      "metadata": {
        "id": "qlEoAlHlcn1Z"
      },
      "source": [
        "import numpy as np\n",
        "I=np.array([[1,0,0],[0,1,0],[0,0,1]])\n",
        "print(\"Given matrix\")\n",
        "print(I)\n",
        "print()\n",
        "x=np.linalg.eigvals(I)\n",
        "y=np.linalg.eig(I)\n",
        "\n",
        "print(\"Eigen values:\")\n",
        "print(x)\n",
        "print()\n",
        "print(\"Eigen vectors:\")\n"
      ],
      "execution_count": null,
      "outputs": []
    },
    {
      "cell_type": "markdown",
      "metadata": {
        "id": "oMBcReGt16CV"
      },
      "source": [
        "# LAB ASSIGNMENT 1/ ASYNCHRONUS 5 SEPTEMBER 18"
      ]
    },
    {
      "cell_type": "markdown",
      "metadata": {
        "id": "z1Taik463sY1"
      },
      "source": [
        "Dear Students,\n",
        "Today, the  8-9 AM class will be an Asynchronous hour. You will have to work on the following assignment and submit it before 8 PM. Your attendance will be based on your submission, and so kindly submit the work before the due time.  \n",
        "\n",
        "\n",
        "The assignment will be evaluated via any method and marks will be deduced on late submissions. So make sure that you upload your own work.\n",
        "\n",
        "As part of the CIA 1, all the Asynchronous Assignments submitted till date will be evaluated. So if you have not submitted any of the assignments, kindly submit it by Sunday 11.59PM."
      ]
    },
    {
      "cell_type": "markdown",
      "metadata": {
        "id": "I_DuIEb32OYD"
      },
      "source": [
        "**1. Express any matrix as sum of its symmetric and skew symmetric\n",
        "matrix.**\n"
      ]
    },
    {
      "cell_type": "code",
      "metadata": {
        "id": "SDh7ddVH4BSy"
      },
      "source": [
        "import numpy as np"
      ],
      "execution_count": null,
      "outputs": []
    },
    {
      "cell_type": "code",
      "metadata": {
        "colab": {
          "base_uri": "https://localhost:8080/"
        },
        "id": "FeB-beO43YrL",
        "outputId": "2d412cd2-f0b9-4764-e022-3fc5edec8c5b"
      },
      "source": [
        "A=np.matrix([[1,8,0],[3,5,2],[-8,9,-2]])\n",
        "AT=A.T\n",
        "SM=(A+AT)/2\n",
        "SSM=(A-AT)/2\n",
        "print(\"A = \",A)\n",
        "print(\"AT = \",AT)\n",
        "print(\"Symmetric matrix = \",SM)\n",
        "print(\"Skew Symmetric matrix = \",SSM)\n",
        "c=np.array_equal(A,SM+SSM)\n",
        "print(\"A = sum of symmetric matrix + skew symmetric matrix \",c)"
      ],
      "execution_count": null,
      "outputs": [
        {
          "output_type": "stream",
          "name": "stdout",
          "text": [
            "A =  [[ 1  8  0]\n",
            " [ 3  5  2]\n",
            " [-8  9 -2]]\n",
            "AT =  [[ 1  3 -8]\n",
            " [ 8  5  9]\n",
            " [ 0  2 -2]]\n",
            "Symmetric matrix =  [[ 1.   5.5 -4. ]\n",
            " [ 5.5  5.   5.5]\n",
            " [-4.   5.5 -2. ]]\n",
            "Skew Symmetric matrix =  [[ 0.   2.5  4. ]\n",
            " [-2.5  0.  -3.5]\n",
            " [-4.   3.5  0. ]]\n",
            "A = sum of symmetric matrix + skew symmetric matrix  True\n"
          ]
        }
      ]
    },
    {
      "cell_type": "markdown",
      "metadata": {
        "id": "v_GI_4OB2SQc"
      },
      "source": [
        "**2. Write a user defined program to input a matrix and perform the\n",
        "following operations:**\n",
        "\n",
        "\n",
        "\n",
        "\n"
      ]
    },
    {
      "cell_type": "code",
      "metadata": {
        "colab": {
          "base_uri": "https://localhost:8080/"
        },
        "id": "Kt6Pp6d252t1",
        "outputId": "707bdfa2-5d34-4d16-8142-f8c09c91ee23"
      },
      "source": [
        "x1=int(input(\"Enter x1: \"))\n",
        "y1=int(input(\"Enter y1: \"))\n",
        "z1=int(input(\"Enter z1: \"))\n",
        "\n",
        "x2=int(input(\"Enter x2: \"))\n",
        "y2=int(input(\"Enter y2: \"))\n",
        "z2=int(input(\"Enter z2: \"))\n",
        "\n",
        "x3=int(input(\"Enter x3: \"))\n",
        "y3=int(input(\"Enter y3: \"))\n",
        "z3=int(input(\"Enter z3: \"))\n",
        "\n",
        "A=np.matrix([[x1,y1,z1],[x2,y2,z2],[x3,y3,z3]])"
      ],
      "execution_count": null,
      "outputs": [
        {
          "name": "stdout",
          "output_type": "stream",
          "text": [
            "Enter x1: 23\n",
            "Enter y1: 43\n",
            "Enter z1: 23\n",
            "Enter x2: 54\n",
            "Enter y2: 12\n",
            "Enter z2: 64\n",
            "Enter x3: 32\n",
            "Enter y3: 12\n",
            "Enter z3: 54\n"
          ]
        }
      ]
    },
    {
      "cell_type": "markdown",
      "metadata": {
        "id": "7W5mWrbO7AXC"
      },
      "source": [
        "(a) Find the sum of all the elements in the matrix\n",
        "\n",
        "\n"
      ]
    },
    {
      "cell_type": "code",
      "metadata": {
        "colab": {
          "base_uri": "https://localhost:8080/"
        },
        "id": "DR0VhZ5i4Zg2",
        "outputId": "c64c3acd-5c71-441d-c3b0-8b30e27da048"
      },
      "source": [
        "\n",
        "np.sum(A)"
      ],
      "execution_count": null,
      "outputs": [
        {
          "output_type": "execute_result",
          "data": {
            "text/plain": [
              "317"
            ]
          },
          "metadata": {},
          "execution_count": 11
        }
      ]
    },
    {
      "cell_type": "markdown",
      "metadata": {
        "id": "_aHU1abp7B9t"
      },
      "source": [
        "(b) Find the product of all the elements in the matrix\n"
      ]
    },
    {
      "cell_type": "code",
      "metadata": {
        "colab": {
          "base_uri": "https://localhost:8080/"
        },
        "id": "jsjAm0Cd4jII",
        "outputId": "85b0a798-d51b-4287-b678-03c75b550355"
      },
      "source": [
        "np.product(A)"
      ],
      "execution_count": null,
      "outputs": [
        {
          "output_type": "execute_result",
          "data": {
            "text/plain": [
              "19561587277824"
            ]
          },
          "metadata": {},
          "execution_count": 12
        }
      ]
    },
    {
      "cell_type": "markdown",
      "metadata": {
        "id": "vMbFK4Vj7GsB"
      },
      "source": [
        "\n",
        "(c) Find the trace of the matrix\n"
      ]
    },
    {
      "cell_type": "code",
      "metadata": {
        "colab": {
          "base_uri": "https://localhost:8080/"
        },
        "id": "_ENKDpo44nlT",
        "outputId": "1dc6fd46-be94-469b-e649-d598b308ec5e"
      },
      "source": [
        "np.trace(A)"
      ],
      "execution_count": null,
      "outputs": [
        {
          "output_type": "execute_result",
          "data": {
            "text/plain": [
              "89"
            ]
          },
          "metadata": {},
          "execution_count": 13
        }
      ]
    },
    {
      "cell_type": "markdown",
      "metadata": {
        "id": "D6OZmhd87KOf"
      },
      "source": [
        "\n",
        "(d) Find the minimum and maximum value in the matrix\n"
      ]
    },
    {
      "cell_type": "code",
      "metadata": {
        "colab": {
          "base_uri": "https://localhost:8080/"
        },
        "id": "nIQpIwYN4oB_",
        "outputId": "160c8d2a-01e8-4f07-e28c-3759dfc71ea5"
      },
      "source": [
        "print(\"The Minimum value is :\", np.min(A))\n",
        "print(\"The Maximum value is :\", np.max(A))"
      ],
      "execution_count": null,
      "outputs": [
        {
          "output_type": "stream",
          "name": "stdout",
          "text": [
            "The Minimum value is : 12\n",
            "The Maximum value is : 64\n"
          ]
        }
      ]
    },
    {
      "cell_type": "markdown",
      "metadata": {
        "id": "meowq-Hd7Mva"
      },
      "source": [
        "\n",
        "(e) Sort the elements in each row and column of the matrix."
      ]
    },
    {
      "cell_type": "code",
      "metadata": {
        "colab": {
          "base_uri": "https://localhost:8080/"
        },
        "id": "hWyhBHzl47Jr",
        "outputId": "801c16ba-0995-4faa-e69a-69f33183caeb"
      },
      "source": [
        "print(np.sort(A))\n"
      ],
      "execution_count": null,
      "outputs": [
        {
          "output_type": "stream",
          "name": "stdout",
          "text": [
            "[[23 23 43]\n",
            " [12 54 64]\n",
            " [12 32 54]]\n"
          ]
        }
      ]
    },
    {
      "cell_type": "markdown",
      "metadata": {
        "id": "hYy_E9be3SiW"
      },
      "source": [
        "**3. Write a python program to verify the following properties associated\n",
        "with eigen values and eigen vectors of a user-defined matrix of\n",
        "any order.**\n",
        "\n"
      ]
    },
    {
      "cell_type": "code",
      "metadata": {
        "id": "gncDDCV5_43T",
        "colab": {
          "base_uri": "https://localhost:8080/"
        },
        "outputId": "23c3f3ed-457d-47ee-db14-c4849ba1a238"
      },
      "source": [
        "x1=int(input(\"Enter x1: \"))\n",
        "y1=int(input(\"Enter y1: \"))\n",
        "z1=int(input(\"Enter z1: \"))\n",
        "\n",
        "x2=int(input(\"Enter x2: \"))\n",
        "y2=int(input(\"Enter y2: \"))\n",
        "z2=int(input(\"Enter z2: \"))\n",
        "\n",
        "x3=int(input(\"Enter x3: \"))\n",
        "y3=int(input(\"Enter y3: \"))\n",
        "z3=int(input(\"Enter z3: \"))\n",
        "\n",
        "A=np.matrix([[x1,y1,z1],[x2,y2,z2],[x3,y3,z3]])"
      ],
      "execution_count": null,
      "outputs": [
        {
          "name": "stdout",
          "output_type": "stream",
          "text": [
            "Enter x1: 412\n",
            "Enter y1: 12\n",
            "Enter z1: 43\n",
            "Enter x2: 53\n",
            "Enter y2: 23\n",
            "Enter z2: 453\n",
            "Enter x3: 234\n",
            "Enter y3: 3\n",
            "Enter z3: 34\n"
          ]
        }
      ]
    },
    {
      "cell_type": "markdown",
      "metadata": {
        "id": "gaYgY8JD7uJb"
      },
      "source": [
        "(a) For a nxn matrix, the number of eigen values is n.\n",
        "\n"
      ]
    },
    {
      "cell_type": "code",
      "metadata": {
        "colab": {
          "base_uri": "https://localhost:8080/"
        },
        "id": "rr_Wx_UW74kl",
        "outputId": "6ff65b8a-1cc1-49e7-d936-45c497a44a5b"
      },
      "source": [
        "print(A)\n",
        "np.linalg.eigvals(A)\n"
      ],
      "execution_count": null,
      "outputs": [
        {
          "output_type": "stream",
          "name": "stdout",
          "text": [
            "[[412  12  43]\n",
            " [ 53  23 453]\n",
            " [234   3  34]]\n"
          ]
        },
        {
          "output_type": "execute_result",
          "data": {
            "text/plain": [
              "array([445.56864254 +0.j        ,  11.71567873+40.39139433j,\n",
              "        11.71567873-40.39139433j])"
            ]
          },
          "metadata": {},
          "execution_count": 18
        }
      ]
    },
    {
      "cell_type": "markdown",
      "metadata": {
        "id": "w-V4TQkE-sm2"
      },
      "source": [
        "**Verified**"
      ]
    },
    {
      "cell_type": "markdown",
      "metadata": {
        "id": "ShHmhBIM7wMU"
      },
      "source": [
        "(b) The sum of eigen values is equal to the sum of the diagonal elements of matrix.\n"
      ]
    },
    {
      "cell_type": "code",
      "metadata": {
        "colab": {
          "base_uri": "https://localhost:8080/"
        },
        "id": "Stx6SdbW75AI",
        "outputId": "544574d6-2b5c-4bb3-cf5b-23706817c5f9"
      },
      "source": [
        "if(np.trace(A)==np.round(np.sum(np.linalg.eigvals(np.abs(A))))):\n",
        "  print(\"True\")\n",
        "else:\n",
        "  print(\"False\")\n"
      ],
      "execution_count": null,
      "outputs": [
        {
          "output_type": "stream",
          "name": "stdout",
          "text": [
            "True\n"
          ]
        }
      ]
    },
    {
      "cell_type": "markdown",
      "metadata": {
        "id": "4hoC20WE-5h4"
      },
      "source": [
        "**Verified**"
      ]
    },
    {
      "cell_type": "markdown",
      "metadata": {
        "id": "VwVVYwLV7xYR"
      },
      "source": [
        "\n",
        "(c) The product of eigenvalues is equal to the determinant of the\n",
        "matrix.\n",
        "\n"
      ]
    },
    {
      "cell_type": "code",
      "metadata": {
        "colab": {
          "base_uri": "https://localhost:8080/"
        },
        "id": "vEzwOlPj75O1",
        "outputId": "b2ff6591-6bb4-46c1-ddd0-6f43a6306570"
      },
      "source": [
        "if(np.product(np.round(np.abs(np.linalg.eigvals(A)))==np.round(np.abs(np.linalg.det(A))))):\n",
        "  print(\"True\")\n",
        "else:\n",
        "  print(\"False\")"
      ],
      "execution_count": null,
      "outputs": [
        {
          "output_type": "stream",
          "name": "stdout",
          "text": [
            "False\n"
          ]
        }
      ]
    },
    {
      "cell_type": "markdown",
      "metadata": {
        "id": "0RhVrUlB-56I"
      },
      "source": [
        "**Verified**"
      ]
    },
    {
      "cell_type": "markdown",
      "metadata": {
        "id": "FebOXA0L7yZx"
      },
      "source": [
        "(d) The eigen value for an identity matrix is 1.\n",
        "\n"
      ]
    },
    {
      "cell_type": "code",
      "metadata": {
        "colab": {
          "base_uri": "https://localhost:8080/"
        },
        "id": "YzkS9RQs75cl",
        "outputId": "55694816-e8eb-47da-ae08-b36e7cf624ca"
      },
      "source": [
        "I=np.matrix([[1,0,0],[0,1,0],[0,0,1]])\n",
        "np.linalg.eigvals(I)"
      ],
      "execution_count": null,
      "outputs": [
        {
          "output_type": "execute_result",
          "data": {
            "text/plain": [
              "array([1., 1., 1.])"
            ]
          },
          "metadata": {},
          "execution_count": 21
        }
      ]
    },
    {
      "cell_type": "markdown",
      "metadata": {
        "id": "1pXXikXy-6NN"
      },
      "source": [
        "**Verified**"
      ]
    },
    {
      "cell_type": "markdown",
      "metadata": {
        "id": "pdE2f0yU7zcJ"
      },
      "source": [
        "(e) The eigenvalue of a triangular matrix is same as the diagonal\n",
        "elements of a matrix.\n",
        "\n"
      ]
    },
    {
      "cell_type": "code",
      "metadata": {
        "colab": {
          "base_uri": "https://localhost:8080/"
        },
        "id": "sU-bgHjH75o9",
        "outputId": "25a77ceb-b47c-4473-979e-526a1bb7d259"
      },
      "source": [
        "A=np.matrix([[1,2,3],[0,4,23],[0,0,5]])\n",
        "print(np.diagonal(A))\n",
        "np.round(np.linalg.eigvals(A))\n"
      ],
      "execution_count": null,
      "outputs": [
        {
          "output_type": "stream",
          "name": "stdout",
          "text": [
            "[1 4 5]\n"
          ]
        },
        {
          "output_type": "execute_result",
          "data": {
            "text/plain": [
              "array([1., 4., 5.])"
            ]
          },
          "metadata": {},
          "execution_count": 22
        }
      ]
    },
    {
      "cell_type": "markdown",
      "metadata": {
        "id": "9-v6uNtI-6my"
      },
      "source": [
        "**Verified**"
      ]
    },
    {
      "cell_type": "markdown",
      "metadata": {
        "id": "gyUFwEPf70mr"
      },
      "source": [
        "(f) For a skew symmetric matrix, the eigenvalues are imaginary.\n",
        "\n"
      ]
    },
    {
      "cell_type": "code",
      "metadata": {
        "id": "rXmWIKWB751T",
        "colab": {
          "base_uri": "https://localhost:8080/"
        },
        "outputId": "6f5780ad-8e7c-4d7b-db58-15b2969e59ac"
      },
      "source": [
        "AT=A.T\n",
        "SSM=(A-AT)/2\n",
        "\n",
        "print(np.linalg.eigvals(SSM))"
      ],
      "execution_count": null,
      "outputs": [
        {
          "output_type": "stream",
          "name": "stdout",
          "text": [
            "[2.67439246e-17 +0.j         0.00000000e+00+11.64044673j\n",
            " 0.00000000e+00-11.64044673j]\n"
          ]
        }
      ]
    },
    {
      "cell_type": "markdown",
      "metadata": {
        "id": "rENfpphY-68k"
      },
      "source": [
        "**Verified**"
      ]
    },
    {
      "cell_type": "markdown",
      "metadata": {
        "id": "3knrhDjz71qR"
      },
      "source": [
        "(g) For orthogonal matrix the length of eigenvalues equal to 1.\n"
      ]
    },
    {
      "cell_type": "code",
      "metadata": {
        "id": "fFtcytnj76Bx",
        "colab": {
          "base_uri": "https://localhost:8080/"
        },
        "outputId": "aecbb902-b3fc-4c5b-9e5b-d2f0e5c0d074"
      },
      "source": [
        "B=np.matrix([[1/3,2/3,2/3],[2/3, 1/3,-2/3],[-2/3,2/3,1/3]])\n",
        "print(B)\n",
        "print(B.T)\n",
        "print(np.dot(B,B.T))\n",
        "np.linalg.eigvals(B)"
      ],
      "execution_count": null,
      "outputs": [
        {
          "output_type": "stream",
          "name": "stdout",
          "text": [
            "[[ 0.33333333  0.66666667  0.66666667]\n",
            " [ 0.66666667  0.33333333 -0.66666667]\n",
            " [-0.66666667  0.66666667  0.33333333]]\n",
            "[[ 0.33333333  0.66666667 -0.66666667]\n",
            " [ 0.66666667  0.33333333  0.66666667]\n",
            " [ 0.66666667 -0.66666667  0.33333333]]\n",
            "[[ 1.00000000e+00  2.46716228e-17  4.44444444e-01]\n",
            " [ 2.46716228e-17  1.00000000e+00 -4.44444444e-01]\n",
            " [ 4.44444444e-01 -4.44444444e-01  1.00000000e+00]]\n"
          ]
        },
        {
          "output_type": "execute_result",
          "data": {
            "text/plain": [
              "array([ 1.00000000e+00+0.j       , -1.76941795e-16+0.8819171j,\n",
              "       -1.76941795e-16-0.8819171j])"
            ]
          },
          "metadata": {},
          "execution_count": 30
        }
      ]
    },
    {
      "cell_type": "markdown",
      "metadata": {
        "id": "g0drWghx-7RM"
      },
      "source": [
        "**Verified**"
      ]
    },
    {
      "cell_type": "markdown",
      "metadata": {
        "id": "Bqc5vtQH720r"
      },
      "source": [
        "\n",
        "(h) For idempotent matrix the eigenvalues are 0 and 1(A2 = identity\n",
        "matrix)."
      ]
    },
    {
      "cell_type": "code",
      "metadata": {
        "id": "QlUzld5X76SJ",
        "colab": {
          "base_uri": "https://localhost:8080/"
        },
        "outputId": "2d7cf005-4a35-437a-863a-7c41ddc8e61b"
      },
      "source": [
        "B=np.matrix([[2,-2,-4],[-1,3,4],[1,-2,-3]])\n",
        "np.round(np.linalg.eigvals(B))"
      ],
      "execution_count": null,
      "outputs": [
        {
          "output_type": "execute_result",
          "data": {
            "text/plain": [
              "array([0., 1., 1.])"
            ]
          },
          "metadata": {},
          "execution_count": 32
        }
      ]
    },
    {
      "cell_type": "markdown",
      "metadata": {
        "id": "ULgvXsk7-7oD"
      },
      "source": [
        "**Verified**"
      ]
    },
    {
      "cell_type": "markdown",
      "metadata": {
        "id": "Ubxtx6Iy2Soq"
      },
      "source": [
        "**4. Write programs in the three different ways in which you can solve\n",
        "the following system of equations. [Different ways in which inverses\n",
        "are found in between the program will also be considered.]**\n",
        "\n",
        "4x1 + 3x2 − 5x3 = 2\n",
        "−2x1 + 4x2 + 5x3 = 5\n",
        "8x1 + 8x2 = −3\n",
        "\n"
      ]
    },
    {
      "cell_type": "code",
      "metadata": {
        "colab": {
          "base_uri": "https://localhost:8080/"
        },
        "id": "09JA1BI63ZzW",
        "outputId": "6d99e61c-78a7-408f-d5cd-f9811d17be1f"
      },
      "source": [
        "M=np.matrix([[4,3,-5],[-2,4,5],[8,8,0]])\n",
        "B=np.matrix([[2],[5],[-3]])\n",
        "print(M)\n",
        "print(B)"
      ],
      "execution_count": null,
      "outputs": [
        {
          "output_type": "stream",
          "name": "stdout",
          "text": [
            "[[ 4  3 -5]\n",
            " [-2  4  5]\n",
            " [ 8  8  0]]\n",
            "[[ 2]\n",
            " [ 5]\n",
            " [-3]]\n"
          ]
        }
      ]
    },
    {
      "cell_type": "markdown",
      "metadata": {
        "id": "og-fyKvK9Fvl"
      },
      "source": [
        "**Solution 1**"
      ]
    },
    {
      "cell_type": "code",
      "metadata": {
        "colab": {
          "base_uri": "https://localhost:8080/"
        },
        "id": "rMDs2x7n9STU",
        "outputId": "e86188fe-b39f-4ef7-bde5-596ba6bbe5a4"
      },
      "source": [
        "np.linalg.inv(M)"
      ],
      "execution_count": null,
      "outputs": [
        {
          "output_type": "execute_result",
          "data": {
            "text/plain": [
              "matrix([[-0.2  , -0.2  ,  0.175],\n",
              "        [ 0.2  ,  0.2  , -0.05 ],\n",
              "        [-0.24 , -0.04 ,  0.11 ]])"
            ]
          },
          "metadata": {},
          "execution_count": 26
        }
      ]
    },
    {
      "cell_type": "markdown",
      "metadata": {
        "id": "QVaS_N2S9Osb"
      },
      "source": [
        "**Solution 2**"
      ]
    },
    {
      "cell_type": "code",
      "metadata": {
        "id": "DcABHNaE9TCc",
        "colab": {
          "base_uri": "https://localhost:8080/"
        },
        "outputId": "bccbe799-b9c2-4406-c9ee-32a45a9f0966"
      },
      "source": [
        "import numpy as np\n",
        "M=np.matrix([[4,3,-5],[-2,4,5],[8,8,0]])\n",
        "B=np.matrix([[2],[5],[-3]])\n",
        "print(\"A=\\n\",M)\n",
        "print(\"B=\\n\",B)\n",
        "print(\"The result is: \\n\",np.linalg.inv(M).dot(B))\n",
        "\n"
      ],
      "execution_count": null,
      "outputs": [
        {
          "output_type": "stream",
          "name": "stdout",
          "text": [
            "A=\n",
            " [[ 4  3 -5]\n",
            " [-2  4  5]\n",
            " [ 8  8  0]]\n",
            "B=\n",
            " [[ 2]\n",
            " [ 5]\n",
            " [-3]]\n",
            "The result is: \n",
            " [[-1.925]\n",
            " [ 1.55 ]\n",
            " [-1.01 ]]\n"
          ]
        }
      ]
    },
    {
      "cell_type": "markdown",
      "metadata": {
        "id": "o4ZDXgk-9Ozu"
      },
      "source": [
        "**Solution 3**"
      ]
    },
    {
      "cell_type": "code",
      "metadata": {
        "colab": {
          "base_uri": "https://localhost:8080/",
          "height": 78
        },
        "id": "jlhf3MJxgkUD",
        "outputId": "d20aa806-c253-4c1f-8c82-5d3aba1286cf"
      },
      "source": [
        " import sympy\n",
        "A=sympy.Matrix([[4,3,-5],[2,4,5],[8,8,0]])\n",
        "B=sympy.Matrix([[2],[5],[-3]])\n",
        "adj = A.adjugate()\n",
        "det = sympy.det(A)\n",
        "inv = adj/det\n",
        "inv*B"
      ],
      "execution_count": null,
      "outputs": [
        {
          "output_type": "execute_result",
          "data": {
            "text/latex": "$\\displaystyle \\left[\\begin{matrix}- \\frac{77}{8}\\\\\\frac{37}{4}\\\\- \\frac{51}{20}\\end{matrix}\\right]$",
            "text/plain": [
              "Matrix([\n",
              "[ -77/8],\n",
              "[  37/4],\n",
              "[-51/20]])"
            ]
          },
          "metadata": {},
          "execution_count": 1
        }
      ]
    },
    {
      "cell_type": "markdown",
      "metadata": {
        "id": "B39zVod72Sr6"
      },
      "source": [
        "**5. Comment on the consistency of the following system of equations**\n",
        "\n",
        "2x − 2y + 3z = 2\n",
        "x + y − z = 3\n",
        "3x − y + 2z = 1."
      ]
    },
    {
      "cell_type": "code",
      "metadata": {
        "id": "wBDpW0v-3aHu",
        "colab": {
          "base_uri": "https://localhost:8080/"
        },
        "outputId": "b28ebdd1-9042-412f-9b91-1d504b384393"
      },
      "source": [
        "a=np.matrix([[2,-2,3],[1,1,-1],[3,-1,2]])\n",
        "b=np.matrix([[2],[3],[1]])\n",
        "np.linalg.solve(a,b)"
      ],
      "execution_count": null,
      "outputs": [
        {
          "output_type": "execute_result",
          "data": {
            "text/plain": [
              "matrix([[ 4.50359963e+15],\n",
              "        [-2.25179981e+16],\n",
              "        [-1.80143985e+16]])"
            ]
          },
          "metadata": {},
          "execution_count": 39
        }
      ]
    },
    {
      "cell_type": "markdown",
      "metadata": {
        "id": "EHPkWJpD6ZDR"
      },
      "source": [
        "The Given system of equation  is consitent "
      ]
    },
    {
      "cell_type": "markdown",
      "metadata": {
        "id": "Rydr8ZsY2S9W"
      },
      "source": [
        "\n",
        "**6. Write a menu-driven program to solve any system of equations using**\n",
        "\n",
        ">  1.   Gauss Elimination Method \n",
        "\n",
        "> 2.   Cramers Rule.\n",
        "\n",
        "\n",
        "You should input any system of equation and then depending on the\n",
        "user’s choice, decide the method from the above two to solve it."
      ]
    },
    {
      "cell_type": "code",
      "metadata": {
        "id": "5rha6r-wIxA7"
      },
      "source": [
        "import numpy as np\n",
        "import sys\n",
        "def gauss_jordan_method(matrix, n):\n",
        " # Making numpy array of n x 2n size and initializing\n",
        " # to zero for storing augmented matrix\n",
        " a = np.zeros((n,2*n))\n",
        " # Reading matrix coefficients print('Enter Matrix Coefficients:')\n",
        " for i in range(n):\n",
        "   for j in range(n):\n",
        "     a[i][j] = matrix[i, j]\n",
        " # Augmenting Identity Matrix of Order n\n",
        " for i in range(n):\n",
        "   for j in range(n):\n",
        "     if i == j:\n",
        "       a[i][j+n] = 1\n",
        "     else:\n",
        "        a[i][j+n] = 0\n",
        " \n",
        " # Applying Guass Jordan Elimination\n",
        " for i in range(n):\n",
        "   if a[i][i] == 0.0:\n",
        "     sys.exit('Divide by zero detected!')\n",
        "     for j in range(n):\n",
        "       if i != j:\n",
        "         ratio = a[j][i]/a[i][i]\n",
        "         for k in range(2*n):\n",
        "           a[j][k] = a[j][k] - ratio * a[i][k]\n",
        "  \n",
        "#Row operation to make principal diagonal element to 1\n",
        " for i in range(n):\n",
        "   divisor = a[i][i]\n",
        "   for j in range(2*n):\n",
        "     a[i][j] = a[i][j]/divisor\n",
        " # Displaying Inverse Matrix\n",
        " print('\\nInverse Matrix is:')\n",
        " for i in range(n):\n",
        "   for j in range(n, 2*n):\n",
        "     print(a[i][j], end='\\t')\n",
        "     print()\n",
        " return\n",
        "########################################\n",
        "#Cramer's rule\n",
        "def determinantOfMatrix(mat):\n",
        "  ans = (mat[0][0] * (mat[1][1] * mat[2][2] - mat[2][1] * mat[1][2]) - mat[0][1] * (mat[1][0] * mat[2][2] - mat[1][2] * mat[2][0]) + mat[0][2] * (mat[1][0] * mat[2][1] -mat[1][1] * mat[2][0]))\n",
        "  return ans\n",
        " \n",
        "# This function finds the solution of system of\n",
        "# linear equations using cramer's rule\n",
        "def findSolution(coeff):\n",
        "  # Matrix d using coeff as given in\n",
        "  # cramer's rule\n",
        "  d = [[coeff[0][0], coeff[0][1], coeff[0][2]],[coeff[1][0], coeff[1][1], coeff[1][2]],[coeff[2][0], coeff[2][1], coeff[2][2]]]\n",
        "     \n",
        "# Matrix d1 using coeff as given in\n",
        "# cramer's rule\n",
        "  d1 = [[coeff[0][3], coeff[0][1], coeff[0][2]],[coeff[1][3], coeff[1][1], coeff[1][2]],[coeff[2][3], coeff[2][1], coeff[2][2]]]\n",
        "# Matrix d2 using coeff as given in\n",
        "# cramer's rule\n",
        "  d2 = [[coeff[0][0], coeff[0][3], coeff[0][2]],[coeff[1][0], coeff[1][3], coeff[1][2]],[coeff[2][0], coeff[2][3], coeff[2][2]]]\n",
        " \n",
        "# Matrix d3 using coeff as given in\n",
        "# cramer's rule\n",
        "  d3 = [[coeff[0][0], coeff[0][1], coeff[0][3]],[coeff[1][0], coeff[1][1], coeff[1][3]],[coeff[2][0], coeff[2][1], coeff[2][3]]]\n",
        " \n",
        "# Calculating Determinant of Matrices\n",
        "# d, d1, d2, d3\n",
        "  D = determinantOfMatrix(d)\n",
        "  D1 = determinantOfMatrix(d1)\n",
        "  D2 = determinantOfMatrix(d2)\n",
        "  D3 = determinantOfMatrix(d3)\n",
        "     \n",
        "  print(\"D is : \", D)\n",
        "  print(\"D1 is : \", D1)\n",
        "  print(\"D2 is : \", D2)\n",
        "  print(\"D3 is : \", D3)\n",
        " \n",
        "    # Case 1\n",
        "  if (D != 0):     \n",
        "# Coeff have a unique solution.\n",
        "# Apply Cramer's Rule\n",
        "    x = D1 / D\n",
        "    y = D2 / D\n",
        "         \n",
        "    # calculating z using cramer's rule\n",
        "    z = D3 / D \n",
        "         \n",
        "    print(\"Value of x is : \", x)\n",
        "    print(\"Value of y is : \", y)\n",
        "    print(\"Value of z is : \", z)\n",
        " \n",
        "    # Case 2\n",
        "  else:\n",
        "    if (D1 == 0 and D2 == 0 and D3 == 0):\n",
        "      print(\"Infinite solutions\")\n",
        "    elif (D1 != 0 or D2 != 0 or\n",
        "      D3 != 0):\n",
        "      print(\"No solutions\")\n",
        "  "
      ],
      "execution_count": null,
      "outputs": []
    },
    {
      "cell_type": "code",
      "metadata": {
        "id": "VprYTCF73aaI",
        "colab": {
          "base_uri": "https://localhost:8080/"
        },
        "outputId": "2472afac-9c33-4bfa-d89a-225e1a2dd91f"
      },
      "source": [
        "\n",
        "print(\"Solve System of Equation\")\n",
        "print(\"Enter the A Matrix\")\n",
        "\n",
        "  \n",
        "x1=int(input(\"Enter x1: \"))\n",
        "y1=int(input(\"Enter y1: \"))\n",
        "z1=int(input(\"Enter z1: \"))\n",
        "\n",
        "x2=int(input(\"Enter x2: \"))\n",
        "y2=int(input(\"Enter y2: \"))\n",
        "z2=int(input(\"Enter z2: \"))\n",
        "\n",
        "x3=int(input(\"Enter x3: \"))\n",
        "y3=int(input(\"Enter y3: \"))\n",
        "z3=int(input(\"Enter z3: \"))\n",
        "\n",
        "A=np.matrix([[x1,y1,z1],[x2,y2,z2],[x3,y3,z3]])\n",
        "print(A)\n",
        "print(\"Enter the B Matrix\")\n",
        "\n",
        "b1=int(input(\"Enter b1:\"))\n",
        "b2=int(input(\"Enter b2:\"))\n",
        "b3=int(input(\"Enter b3:\"))\n",
        "\n",
        "B=np.matrix([[b1],[b2],[b3]])\n",
        "print(B)\n",
        "\n",
        "print(\"1. Gauss Elmination Method \")\n",
        "print(\"2.Cramer's rule \")\n",
        "ch = int(input(\"Enter Your Choice:\"))\n",
        "if(ch==1):\n",
        "  gauss_jordan_method(A, 3)\n",
        "elif (ch==2):\n",
        "  findSolution(A)\n",
        "else:\n",
        "  print(\"Wrong Choice\")"
      ],
      "execution_count": null,
      "outputs": [
        {
          "output_type": "stream",
          "name": "stdout",
          "text": [
            "Solve System of Equation\n",
            "Enter the A Matrix\n",
            "Enter x1: 123\n",
            "Enter y1: 123\n",
            "Enter z1: 564\n",
            "Enter x2: 214\n",
            "Enter y2: 7\n",
            "Enter z2: 3\n",
            "Enter x3: 7\n",
            "Enter y3: 34\n",
            "Enter z3: 65\n",
            "[[123 123 564]\n",
            " [214   7   3]\n",
            " [  7  34  65]]\n",
            "Enter the B Matrix\n",
            "Enter b1:23\n",
            "Enter b2:34\n",
            "Enter b3:765\n",
            "[[ 23]\n",
            " [ 34]\n",
            " [765]]\n",
            "1. Gauss Elmination Method \n",
            "2.Cramer's rule \n",
            "Enter Your Choice:1\n",
            "\n",
            "Inverse Matrix is:\n",
            "0.008130081300813009\t\n",
            "0.0\t\n",
            "0.0\t\n",
            "0.0\t\n",
            "0.14285714285714285\t\n",
            "0.0\t\n",
            "0.0\t\n",
            "0.0\t\n",
            "0.015384615384615385\t\n"
          ]
        }
      ]
    },
    {
      "cell_type": "markdown",
      "metadata": {
        "id": "Nd-zkg6_2SvC"
      },
      "source": [
        "**7. Write a program to find the inverse of any matrix using Gauss Jordan\n",
        "method. And, hence find the rank of the matrix.**\n"
      ]
    },
    {
      "cell_type": "code",
      "metadata": {
        "id": "1BJehEma3ati"
      },
      "source": [
        "import numpy as np\n",
        "import sys\n",
        "def gauss_jordan_method(matrix, n):\n",
        " # Making numpy array of n x 2n size and initializing\n",
        " # to zero for storing augmented matrix\n",
        " a = np.zeros((n,2*n))\n",
        " # Reading matrix coefficients print('Enter Matrix Coefficients:')\n",
        " for i in range(n):\n",
        "   for j in range(n):\n",
        "     a[i][j] = matrix[i, j]\n",
        " # Augmenting Identity Matrix of Order n\n",
        " for i in range(n):\n",
        "   for j in range(n):\n",
        "     if i == j:\n",
        "       a[i][j+n] = 1\n",
        "     else:\n",
        "        a[i][j+n] = 0\n",
        " \n",
        " # Applying Guass Jordan Elimination\n",
        " for i in range(n):\n",
        "   if a[i][i] == 0.0:\n",
        "     sys.exit('Divide by zero detected!')\n",
        "     for j in range(n):\n",
        "       if i != j:\n",
        "         ratio = a[j][i]/a[i][i]\n",
        "         for k in range(2*n):\n",
        "           a[j][k] = a[j][k] - ratio * a[i][k]\n",
        "  \n",
        "#Row operation to make principal diagonal element to 1\n",
        " for i in range(n):\n",
        "   divisor = a[i][i]\n",
        "   for j in range(2*n):\n",
        "     a[i][j] = a[i][j]/divisor\n",
        " # Displaying Inverse Matrix\n",
        " print('\\nInverse Matrix is:')\n",
        " for i in range(n):\n",
        "   for j in range(n, 2*n):\n",
        "     print(a[i][j], end='\\t')\n",
        "     print()\n",
        "\n",
        "\n",
        " print(\"Rank of inverse is: \",np.sqrt(np.order(inv)))\n",
        "\n",
        " return"
      ],
      "execution_count": null,
      "outputs": []
    },
    {
      "cell_type": "code",
      "metadata": {
        "colab": {
          "base_uri": "https://localhost:8080/"
        },
        "id": "MZIfnSF6PChM",
        "outputId": "791b03ba-2c35-4106-df95-931183505fa6"
      },
      "source": [
        "print(\"Solve System of Equation\")\n",
        "print(\"Enter the A Matrix\")\n",
        "\n",
        "  \n",
        "x1=int(input(\"Enter x1: \"))\n",
        "y1=int(input(\"Enter y1: \"))\n",
        "z1=int(input(\"Enter z1: \"))\n",
        "\n",
        "x2=int(input(\"Enter x2: \"))\n",
        "y2=int(input(\"Enter y2: \"))\n",
        "z2=int(input(\"Enter z2: \"))\n",
        "\n",
        "x3=int(input(\"Enter x3: \"))\n",
        "y3=int(input(\"Enter y3: \"))\n",
        "z3=int(input(\"Enter z3: \"))\n",
        "\n",
        "A=np.matrix([[x1,y1,z1],[x2,y2,z2],[x3,y3,z3]])\n",
        "print(A)\n",
        "print(\"Enter the B Matrix\")\n",
        "\n",
        "b1=int(input(\"Enter b1:\"))\n",
        "b2=int(input(\"Enter b2:\"))\n",
        "b3=int(input(\"Enter b3:\"))\n",
        "\n",
        "B=np.matrix([[b1],[b2],[b3]])\n",
        "print(B)\n",
        "\n",
        "print(\"1. Gauss Elmination Method \")\n",
        "print(\"2.Cramer's rule \")\n",
        "ch = int(input(\"Enter Your Choice:\"))\n",
        "if(ch==1):\n",
        "  gauss_jordan_method(A, 3)"
      ],
      "execution_count": null,
      "outputs": [
        {
          "output_type": "stream",
          "name": "stdout",
          "text": [
            "Solve System of Equation\n",
            "Enter the A Matrix\n",
            "Enter x1: 234\n",
            "Enter y1: 6634\n",
            "Enter z1: 234\n",
            "Enter x2: 564\n",
            "Enter y2: 2354\n",
            "Enter z2: 687\n",
            "Enter x3: 678\n",
            "Enter y3: 678\n",
            "Enter z3: 567\n",
            "[[ 234 6634  234]\n",
            " [ 564 2354  687]\n",
            " [ 678  678  567]]\n",
            "Enter the B Matrix\n",
            "Enter b1:435\n",
            "Enter b2:567\n",
            "Enter b3:087\n",
            "[[435]\n",
            " [567]\n",
            " [ 87]]\n",
            "1. Gauss Elmination Method \n",
            "2.Cramer's rule \n",
            "Enter Your Choice:1\n",
            "\n",
            "Inverse Matrix is:\n",
            "0.004273504273504274\t\n",
            "0.0\t\n",
            "0.0\t\n",
            "0.0\t\n",
            "0.0004248088360237893\t\n",
            "0.0\t\n",
            "0.0\t\n",
            "0.0\t\n",
            "0.001763668430335097\t\n",
            "Rank of inverse is: 2\n"
          ]
        }
      ]
    },
    {
      "cell_type": "markdown",
      "metadata": {
        "id": "Fg27cc5g0ae6"
      },
      "source": [
        "# Septemver 25"
      ]
    },
    {
      "cell_type": "markdown",
      "metadata": {
        "id": "76QyEpmq0leO"
      },
      "source": [
        "Diagonalization of square matrix"
      ]
    },
    {
      "cell_type": "markdown",
      "metadata": {
        "id": "Bc5qWdhw0xiN"
      },
      "source": [
        "given the matrix A,  let the eigen vector of A be P and its inverse of P be I. Then the diagonalized matrix is given by the Equation "
      ]
    },
    {
      "cell_type": "markdown",
      "metadata": {
        "id": "qCMTbC2O1Go1"
      },
      "source": [
        "IAP=0"
      ]
    },
    {
      "cell_type": "code",
      "metadata": {
        "colab": {
          "base_uri": "https://localhost:8080/",
          "height": 572
        },
        "id": "1F1Nr_Ba0fFu",
        "outputId": "9c47ba13-b456-48e5-c48b-3ad6328b19c5"
      },
      "source": [
        "import numpy as np\n",
        "from math import *\n",
        "A=np.matrix([[2,34,5],[142,53,64],[12,54,23]])\n",
        "print(A)\n",
        "I=np.linalg.inv(A)\n",
        "print(I)\n",
        "P=np.linalg.eig(A)\n",
        "print(P)\n",
        "print(\"Diagonalization:\",np.round(I*A*P))"
      ],
      "execution_count": null,
      "outputs": [
        {
          "output_type": "stream",
          "name": "stdout",
          "text": [
            "[[  2  34   5]\n",
            " [142  53  64]\n",
            " [ 12  54  23]]\n",
            "[[ 0.04123806  0.00943848 -0.0352284 ]\n",
            " [ 0.04604948  0.00025808 -0.0107289 ]\n",
            " [-0.12963168 -0.00553036  0.08704789]]\n",
            "(array([128.84986587, -58.09646209,   7.24659622]), matrix([[-0.24650991, -0.40667479, -0.35218157],\n",
            "        [-0.85169221,  0.78703414, -0.18914285],\n",
            "        [-0.4624427 , -0.46388887,  0.91662049]]))\n"
          ]
        },
        {
          "output_type": "stream",
          "name": "stderr",
          "text": [
            "/usr/local/lib/python3.7/dist-packages/numpy/matrixlib/defmatrix.py:145: VisibleDeprecationWarning: Creating an ndarray from ragged nested sequences (which is a list-or-tuple of lists-or-tuples-or ndarrays with different lengths or shapes) is deprecated. If you meant to do this, you must specify 'dtype=object' when creating the ndarray\n",
            "  arr = N.array(data, dtype=dtype, copy=copy)\n"
          ]
        },
        {
          "output_type": "error",
          "ename": "ValueError",
          "evalue": "ignored",
          "traceback": [
            "\u001b[0;31m---------------------------------------------------------------------------\u001b[0m",
            "\u001b[0;31mValueError\u001b[0m                                Traceback (most recent call last)",
            "\u001b[0;32m<ipython-input-3-49a5e8e5eed6>\u001b[0m in \u001b[0;36m<module>\u001b[0;34m()\u001b[0m\n\u001b[1;32m      7\u001b[0m \u001b[0mP\u001b[0m\u001b[0;34m=\u001b[0m\u001b[0mnp\u001b[0m\u001b[0;34m.\u001b[0m\u001b[0mlinalg\u001b[0m\u001b[0;34m.\u001b[0m\u001b[0meig\u001b[0m\u001b[0;34m(\u001b[0m\u001b[0mA\u001b[0m\u001b[0;34m)\u001b[0m\u001b[0;34m\u001b[0m\u001b[0;34m\u001b[0m\u001b[0m\n\u001b[1;32m      8\u001b[0m \u001b[0mprint\u001b[0m\u001b[0;34m(\u001b[0m\u001b[0mP\u001b[0m\u001b[0;34m)\u001b[0m\u001b[0;34m\u001b[0m\u001b[0;34m\u001b[0m\u001b[0m\n\u001b[0;32m----> 9\u001b[0;31m \u001b[0mprint\u001b[0m\u001b[0;34m(\u001b[0m\u001b[0;34m\"Diagonalization:\"\u001b[0m\u001b[0;34m,\u001b[0m\u001b[0mnp\u001b[0m\u001b[0;34m.\u001b[0m\u001b[0mround\u001b[0m\u001b[0;34m(\u001b[0m\u001b[0mI\u001b[0m\u001b[0;34m*\u001b[0m\u001b[0mA\u001b[0m\u001b[0;34m*\u001b[0m\u001b[0mP\u001b[0m\u001b[0;34m)\u001b[0m\u001b[0;34m)\u001b[0m\u001b[0;34m\u001b[0m\u001b[0;34m\u001b[0m\u001b[0m\n\u001b[0m",
            "\u001b[0;32m/usr/local/lib/python3.7/dist-packages/numpy/matrixlib/defmatrix.py\u001b[0m in \u001b[0;36m__mul__\u001b[0;34m(self, other)\u001b[0m\n\u001b[1;32m    216\u001b[0m         \u001b[0;32mif\u001b[0m \u001b[0misinstance\u001b[0m\u001b[0;34m(\u001b[0m\u001b[0mother\u001b[0m\u001b[0;34m,\u001b[0m \u001b[0;34m(\u001b[0m\u001b[0mN\u001b[0m\u001b[0;34m.\u001b[0m\u001b[0mndarray\u001b[0m\u001b[0;34m,\u001b[0m \u001b[0mlist\u001b[0m\u001b[0;34m,\u001b[0m \u001b[0mtuple\u001b[0m\u001b[0;34m)\u001b[0m\u001b[0;34m)\u001b[0m \u001b[0;34m:\u001b[0m\u001b[0;34m\u001b[0m\u001b[0;34m\u001b[0m\u001b[0m\n\u001b[1;32m    217\u001b[0m             \u001b[0;31m# This promotes 1-D vectors to row vectors\u001b[0m\u001b[0;34m\u001b[0m\u001b[0;34m\u001b[0m\u001b[0;34m\u001b[0m\u001b[0m\n\u001b[0;32m--> 218\u001b[0;31m             \u001b[0;32mreturn\u001b[0m \u001b[0mN\u001b[0m\u001b[0;34m.\u001b[0m\u001b[0mdot\u001b[0m\u001b[0;34m(\u001b[0m\u001b[0mself\u001b[0m\u001b[0;34m,\u001b[0m \u001b[0masmatrix\u001b[0m\u001b[0;34m(\u001b[0m\u001b[0mother\u001b[0m\u001b[0;34m)\u001b[0m\u001b[0;34m)\u001b[0m\u001b[0;34m\u001b[0m\u001b[0;34m\u001b[0m\u001b[0m\n\u001b[0m\u001b[1;32m    219\u001b[0m         \u001b[0;32mif\u001b[0m \u001b[0misscalar\u001b[0m\u001b[0;34m(\u001b[0m\u001b[0mother\u001b[0m\u001b[0;34m)\u001b[0m \u001b[0;32mor\u001b[0m \u001b[0;32mnot\u001b[0m \u001b[0mhasattr\u001b[0m\u001b[0;34m(\u001b[0m\u001b[0mother\u001b[0m\u001b[0;34m,\u001b[0m \u001b[0;34m'__rmul__'\u001b[0m\u001b[0;34m)\u001b[0m \u001b[0;34m:\u001b[0m\u001b[0;34m\u001b[0m\u001b[0;34m\u001b[0m\u001b[0m\n\u001b[1;32m    220\u001b[0m             \u001b[0;32mreturn\u001b[0m \u001b[0mN\u001b[0m\u001b[0;34m.\u001b[0m\u001b[0mdot\u001b[0m\u001b[0;34m(\u001b[0m\u001b[0mself\u001b[0m\u001b[0;34m,\u001b[0m \u001b[0mother\u001b[0m\u001b[0;34m)\u001b[0m\u001b[0;34m\u001b[0m\u001b[0;34m\u001b[0m\u001b[0m\n",
            "\u001b[0;32m/usr/local/lib/python3.7/dist-packages/numpy/matrixlib/defmatrix.py\u001b[0m in \u001b[0;36masmatrix\u001b[0;34m(data, dtype)\u001b[0m\n\u001b[1;32m     67\u001b[0m \u001b[0;34m\u001b[0m\u001b[0m\n\u001b[1;32m     68\u001b[0m     \"\"\"\n\u001b[0;32m---> 69\u001b[0;31m     \u001b[0;32mreturn\u001b[0m \u001b[0mmatrix\u001b[0m\u001b[0;34m(\u001b[0m\u001b[0mdata\u001b[0m\u001b[0;34m,\u001b[0m \u001b[0mdtype\u001b[0m\u001b[0;34m=\u001b[0m\u001b[0mdtype\u001b[0m\u001b[0;34m,\u001b[0m \u001b[0mcopy\u001b[0m\u001b[0;34m=\u001b[0m\u001b[0;32mFalse\u001b[0m\u001b[0;34m)\u001b[0m\u001b[0;34m\u001b[0m\u001b[0;34m\u001b[0m\u001b[0m\n\u001b[0m\u001b[1;32m     70\u001b[0m \u001b[0;34m\u001b[0m\u001b[0m\n\u001b[1;32m     71\u001b[0m \u001b[0;34m\u001b[0m\u001b[0m\n",
            "\u001b[0;32m/usr/local/lib/python3.7/dist-packages/numpy/matrixlib/defmatrix.py\u001b[0m in \u001b[0;36m__new__\u001b[0;34m(subtype, data, dtype, copy)\u001b[0m\n\u001b[1;32m    143\u001b[0m \u001b[0;34m\u001b[0m\u001b[0m\n\u001b[1;32m    144\u001b[0m         \u001b[0;31m# now convert data to an array\u001b[0m\u001b[0;34m\u001b[0m\u001b[0;34m\u001b[0m\u001b[0;34m\u001b[0m\u001b[0m\n\u001b[0;32m--> 145\u001b[0;31m         \u001b[0marr\u001b[0m \u001b[0;34m=\u001b[0m \u001b[0mN\u001b[0m\u001b[0;34m.\u001b[0m\u001b[0marray\u001b[0m\u001b[0;34m(\u001b[0m\u001b[0mdata\u001b[0m\u001b[0;34m,\u001b[0m \u001b[0mdtype\u001b[0m\u001b[0;34m=\u001b[0m\u001b[0mdtype\u001b[0m\u001b[0;34m,\u001b[0m \u001b[0mcopy\u001b[0m\u001b[0;34m=\u001b[0m\u001b[0mcopy\u001b[0m\u001b[0;34m)\u001b[0m\u001b[0;34m\u001b[0m\u001b[0;34m\u001b[0m\u001b[0m\n\u001b[0m\u001b[1;32m    146\u001b[0m         \u001b[0mndim\u001b[0m \u001b[0;34m=\u001b[0m \u001b[0marr\u001b[0m\u001b[0;34m.\u001b[0m\u001b[0mndim\u001b[0m\u001b[0;34m\u001b[0m\u001b[0;34m\u001b[0m\u001b[0m\n\u001b[1;32m    147\u001b[0m         \u001b[0mshape\u001b[0m \u001b[0;34m=\u001b[0m \u001b[0marr\u001b[0m\u001b[0;34m.\u001b[0m\u001b[0mshape\u001b[0m\u001b[0;34m\u001b[0m\u001b[0;34m\u001b[0m\u001b[0m\n",
            "\u001b[0;31mValueError\u001b[0m: could not broadcast input array from shape (3,3) into shape (3)"
          ]
        }
      ]
    },
    {
      "cell_type": "code",
      "metadata": {
        "colab": {
          "base_uri": "https://localhost:8080/"
        },
        "id": "bLnutTor2Y--",
        "outputId": "e215ae94-b78d-472c-bed5-a814c7171dd9"
      },
      "source": [
        "import numpy as np\n",
        "from math import *\n",
        "A= np.mat([[2,-2,3],[1,1,1],[1,3,-1]])\n",
        "X,P=np.linalg.eig(A)\n",
        "I=np.linalg.inv(P)\n",
        "Z=np.round(I*A*P)\n",
        "print(\"The final diagonalized matrix is\")\n",
        "print(Z)\n",
        "print()\n",
        "print(\"Eigen vectors\")\n",
        "print(P)\n",
        "print()\n",
        "print(\"Eigen values\")\n",
        "print(X)\n",
        "print()"
      ],
      "execution_count": null,
      "outputs": [
        {
          "output_type": "stream",
          "name": "stdout",
          "text": [
            "The final diagonalized matrix is\n",
            "[[ 3. -0.  0.]\n",
            " [-0.  1.  0.]\n",
            " [-0.  0. -2.]]\n",
            "\n",
            "Eigen vectors\n",
            "[[ 0.57735027  0.57735027 -0.61684937]\n",
            " [ 0.57735027 -0.57735027 -0.05607722]\n",
            " [ 0.57735027 -0.57735027  0.78508102]]\n",
            "\n",
            "Eigen values\n",
            "[ 3.  1. -2.]\n",
            "\n"
          ]
        }
      ]
    },
    {
      "cell_type": "markdown",
      "metadata": {
        "id": "7T-TmhkM2b3U"
      },
      "source": [
        "**CAYLEY HAMILTON THEOREM**"
      ]
    },
    {
      "cell_type": "markdown",
      "metadata": {
        "id": "I7WygNcc2gdT"
      },
      "source": [
        "Every non Singualr matrix satisfies its characteristic equation "
      ]
    },
    {
      "cell_type": "code",
      "metadata": {
        "colab": {
          "base_uri": "https://localhost:8080/"
        },
        "id": "OTkoDiXE13lO",
        "outputId": "d02a7843-c324-4485-9497-21f7a861d0c7"
      },
      "source": [
        "A=np.mat([[2, 3],[4, 5]])\n",
        "from math import *\n",
        "X=np.poly(A)\n",
        "print(\"The co-efficients of the characteristic equation are\",X)\n",
        "trace_A = np.trace(A)\n",
        "print(trace_A)\n",
        "det_A = np.linalg.det(A)\n",
        "print(det_A) \n",
        "I = np.eye(len(A))\n",
        "print(I)\n",
        "P=A*A - trace_A * A + det_A * I\n",
        "print(P)\n"
      ],
      "execution_count": null,
      "outputs": [
        {
          "output_type": "stream",
          "name": "stdout",
          "text": [
            "The co-efficients of the characteristic equation are [ 1. -7. -2.]\n",
            "7\n",
            "-2.0\n",
            "[[1. 0.]\n",
            " [0. 1.]]\n",
            "[[0. 0.]\n",
            " [0. 0.]]\n"
          ]
        }
      ]
    },
    {
      "cell_type": "markdown",
      "metadata": {
        "id": "06Rh4oCj4p7Y"
      },
      "source": [
        "Write a program to show that every non singular matrix satisfies its characteristic equation"
      ]
    },
    {
      "cell_type": "code",
      "metadata": {
        "id": "d2RmIhuA4bfX"
      },
      "source": [
        ""
      ],
      "execution_count": null,
      "outputs": []
    },
    {
      "cell_type": "markdown",
      "metadata": {
        "id": "xVfEeasr7TZ3"
      },
      "source": [
        "# SEPTEMBER 25 SYNCHRONUS ASSIGNMENT "
      ]
    },
    {
      "cell_type": "markdown",
      "metadata": {
        "id": "S7OV06oN8Ax5"
      },
      "source": [
        "To prove Calyey Hamilton Theorem "
      ]
    },
    {
      "cell_type": "markdown",
      "metadata": {
        "id": "_Ffq7W2V9m_W"
      },
      "source": [
        "Importing the matrix and calculating the characteristc equation "
      ]
    },
    {
      "cell_type": "code",
      "metadata": {
        "colab": {
          "base_uri": "https://localhost:8080/",
          "height": 94
        },
        "id": "if8P3nSu7bJs",
        "outputId": "430b9693-30b2-4b4f-ad97-03affc62d6ad"
      },
      "source": [
        "import numpy as np\n",
        "from sympy import *\n",
        "\n",
        "A = Matrix(np.mat(input('Enter a matrix: ')) )\n",
        "display(A)\n",
        "P = A.charpoly()\n",
        "a = Symbol('A')\n",
        "print('The characteristic equation of A is: ',P.as_expr(a))"
      ],
      "execution_count": null,
      "outputs": [
        {
          "name": "stdout",
          "output_type": "stream",
          "text": [
            "Enter a matrix: 23,35;123,346\n"
          ]
        },
        {
          "output_type": "display_data",
          "data": {
            "text/latex": "$\\displaystyle \\left[\\begin{matrix}23 & 35\\\\123 & 346\\end{matrix}\\right]$",
            "text/plain": [
              "Matrix([\n",
              "[ 23,  35],\n",
              "[123, 346]])"
            ]
          },
          "metadata": {}
        },
        {
          "output_type": "stream",
          "name": "stdout",
          "text": [
            "The characteristic equation of A is:  A**2 - 369*A + 3653\n"
          ]
        }
      ]
    },
    {
      "cell_type": "markdown",
      "metadata": {
        "id": "40RumqFw-Bep"
      },
      "source": [
        "Solving the characteristic equation by inputing the original matrix"
      ]
    },
    {
      "cell_type": "code",
      "metadata": {
        "colab": {
          "base_uri": "https://localhost:8080/"
        },
        "id": "fmy8Wapt8FQD",
        "outputId": "38b3d10f-0077-4d61-bce2-54a9dac1a32c"
      },
      "source": [
        "from scipy.linalg import funm\n",
        "abs(np.round(funm(A, lambda A: A**2 - 369*A + 3653)))"
      ],
      "execution_count": null,
      "outputs": [
        {
          "output_type": "execute_result",
          "data": {
            "text/plain": [
              "array([[0., 0.],\n",
              "       [0., 0.]])"
            ]
          },
          "metadata": {},
          "execution_count": 14
        }
      ]
    },
    {
      "cell_type": "markdown",
      "metadata": {
        "id": "UCSAc8Rr9cYh"
      },
      "source": [
        "This proves that the Cayley hamiton Theorem "
      ]
    },
    {
      "cell_type": "markdown",
      "metadata": {
        "id": "Z_WPbnCleFxO"
      },
      "source": [
        "# New Section"
      ]
    },
    {
      "cell_type": "code",
      "metadata": {
        "id": "6NJj9bRppX05"
      },
      "source": [
        "import numpy as np\n",
        "A=np.matrix([2,3,1],[])\n"
      ],
      "execution_count": null,
      "outputs": []
    },
    {
      "cell_type": "markdown",
      "metadata": {
        "id": "rPom-IizR_PG"
      },
      "source": [
        "# OCTOBER 27"
      ]
    },
    {
      "cell_type": "markdown",
      "metadata": {
        "id": "8hN5U7UTSDxZ"
      },
      "source": [
        "Let  $V$ be a vector space and  $S$  be nonempty subset of $V$ .\n",
        "A vector  $v ∈ V$  is called a linear combination of vectors of  $S$  if there exist a finite number of vectors  $u_1$,$u_2$,...,$u_n$  in  $S$  and scalars  $a_1$,$a_2$,...,$a_n$  in  $F$  such that\n",
        "v=$a_1$$u_1$+$a_2$$u_2$+...+$a_n$$u_n$.\n",
        "Therefore, we say  $v$  is a linear combination of  $u_1$,$u_2$,...,$u_n$  and  $a_1$,$a_2$,…,$a_n$  are scalars."
      ]
    },
    {
      "cell_type": "markdown",
      "metadata": {
        "id": "rHaXH4i-T5tf"
      },
      "source": [
        "Q: Is the vector$$b=\\begin{bmatrix} 2\\\\ 3 \\\\ 6 \\end{bmatrix}$$ a linear combination of the vectors $$v_1=\\begin{bmatrix} 1\\\\ 5 \\\\ -1 \\end{bmatrix}$$,$$v_2=\\begin{bmatrix} 1\\\\ 2 \\\\ 1 \\end{bmatrix}$$,$$v_3=\\begin{bmatrix} 1\\\\ 4 \\\\ 3 \\end{bmatrix}$$?"
      ]
    },
    {
      "cell_type": "code",
      "metadata": {
        "id": "YQYkx6R1SCb1"
      },
      "source": [
        "import numpy as np"
      ],
      "execution_count": null,
      "outputs": []
    },
    {
      "cell_type": "code",
      "metadata": {
        "colab": {
          "base_uri": "https://localhost:8080/"
        },
        "id": "EgHRSCFRS4SM",
        "outputId": "571368fc-a05e-4797-eb3f-5004693b49d2"
      },
      "source": [
        "# Declaring the vectors b, v1, v2 and v3 as 3 by 1 matrices\n",
        "b=np.matrix([[2],[3],[6]])\n",
        "v1=np.matrix([[1],[5],[-1]])\n",
        "v2=np.matrix([[1],[2],[1]])\n",
        "v3=np.matrix([[1],[4],[3]])\n",
        "V=np.concatenate((v1,v2,v3),axis=1)\n",
        "#Finding the scalars a1, a2, a3\n",
        "A=np.linalg.solve(V,b)\n",
        "Y= A[0,0]*v1+A[1,0]*v2+A[2,0]*v3\n",
        "if b.all()==Y.all():\n",
        "    print(\"The given vector is a linear combination of the vectors v1, v2 and v3\")"
      ],
      "execution_count": null,
      "outputs": [
        {
          "output_type": "stream",
          "name": "stdout",
          "text": [
            "The given vector is a linear combination of the vectors v1, v2 and v3\n"
          ]
        }
      ]
    },
    {
      "cell_type": "markdown",
      "metadata": {
        "id": "vVlvfL6zUwoU"
      },
      "source": [
        "Q. Determine whether the vector  <2,1,3>  is a linear combination of the vectors  <1,2,3> ,  <3,2,1>  and  <2,3,1> ."
      ]
    },
    {
      "cell_type": "code",
      "metadata": {
        "colab": {
          "base_uri": "https://localhost:8080/"
        },
        "id": "CsQvA663UAsZ",
        "outputId": "3c28059e-de9d-45f4-856b-7fcbfd9451ef"
      },
      "source": [
        "# Declaring the vectors b, v1, v2 and v3 as 3 by 1 matrices\n",
        "b=np.matrix([[2],[1],[3]])\n",
        "v1=np.matrix([[1],[2],[3]])\n",
        "v2=np.matrix([[3],[2],[1]])\n",
        "v3=np.matrix([[2],[3],[1]])\n",
        "V=np.concatenate((v1,v2,v3),axis=1)\n",
        "#Finding the scalars a1, a2, a3\n",
        "A=np.linalg.solve(V,b)\n",
        "Y= A[0,0]*v1+A[1,0]*v2+A[2,0]*v3\n",
        "if b.all()==Y.all():\n",
        "    print(\"The given vector is a linear combination of the vectors v1, v2 and v3\")"
      ],
      "execution_count": null,
      "outputs": [
        {
          "output_type": "stream",
          "name": "stdout",
          "text": [
            "The given vector is a linear combination of the vectors v1, v2 and v3\n"
          ]
        }
      ]
    },
    {
      "cell_type": "code",
      "metadata": {
        "colab": {
          "base_uri": "https://localhost:8080/"
        },
        "id": "0XJJf8NkU4TJ",
        "outputId": "53447c3a-93e9-4401-a234-4728e01b1d43"
      },
      "source": [
        "b1=int(input(\"Enter b1:\"))\n",
        "b2=int(input(\"Enter b2:\"))\n",
        "b3=int(input(\"Enter b3:\"))\n",
        "\n",
        "x1=int(input(\"Enter x1: \"))\n",
        "y1=int(input(\"Enter y1: \"))\n",
        "z1=int(input(\"Enter z1: \"))\n",
        "\n",
        "x2=int(input(\"Enter x2: \"))\n",
        "y2=int(input(\"Enter y2: \"))\n",
        "z2=int(input(\"Enter z2: \"))\n",
        "\n",
        "x3=int(input(\"Enter x3: \"))\n",
        "y3=int(input(\"Enter y3: \"))\n",
        "z3=int(input(\"Enter z3: \"))\n",
        "\n",
        "# Declaring the vectors b, v1, v2 and v3 as 3 by 1 matrices\n",
        "b=np.matrix([[b1],[b2],[b3]])\n",
        "v1=np.matrix([[x1],[y1],[z1]])\n",
        "v2=np.matrix([[x2],[y2],[z2]])\n",
        "v3=np.matrix([[x3],[y3],[z3]])\n",
        "V=np.concatenate((v1,v2,v3),axis=1)\n",
        "#Finding the scalars a1, a2, a3\n",
        "A=np.linalg.solve(V,b)\n",
        "Y= A[0,0]*v1+A[1,0]*v2+A[2,0]*v3\n",
        "if b.all()==Y.all():\n",
        "    print(\"The given vector is a linear combination of the vectors v1, v2 and v3\")"
      ],
      "execution_count": null,
      "outputs": [
        {
          "output_type": "stream",
          "name": "stdout",
          "text": [
            "Enter b1:2\n",
            "Enter b2:3\n",
            "Enter b3:4\n",
            "Enter x1: 1\n",
            "Enter y1: 4\n",
            "Enter z1: 2\n",
            "Enter x2: 1\n",
            "Enter y2: 3\n",
            "Enter z2: 2\n",
            "Enter x3: 1\n",
            "Enter y3: 2\n",
            "Enter z3: 3\n",
            "The given vector is a linear combination of the vectors v1, v2 and v3\n"
          ]
        }
      ]
    },
    {
      "cell_type": "code",
      "metadata": {
        "colab": {
          "base_uri": "https://localhost:8080/",
          "height": 294
        },
        "id": "4Vis4OJhYJuW",
        "outputId": "c9225719-347c-4f81-cb97-ae3628fb99c8"
      },
      "source": [
        "print(\"To take vectors for LC\")\n",
        "n=int(input(\"enter the number of vectors \"))\n",
        "M=np.matrix([[0],[0],[0]])\n",
        "m=int(input(\"enter the dimension of vector \"))\n",
        "for i in range(n):\n",
        "    print(\"Enter the entries of one vector in a single line (separated by space): \")\n",
        "    elements = list(map(int, input().split()))\n",
        "    v=np.matrix(elements).reshape(m, 1)\n",
        "    M=np.concatenate((M,v), axis=1)\n",
        "#extract A\n",
        "A=M[:,1:]\n",
        "print(\"Enter the vector w in single line seperated by space \")\n",
        "elements = list(map(int, input().split()))\n",
        "w=np.matrix(elements).reshape(m, 1)\n",
        "Aw=np.hstack([A,w])\n",
        "rA=np.linalg.matrix_rank(A)\n",
        "rAw=np.linalg.matrix_rank(Aw)\n",
        "n=A.shape[1]\n",
        "if (rA==rAw):\n",
        "        if (rA==n):\n",
        "            print(\"Here w can be expressed as LC of listed vectors using multiples\",np.linalg.solve\n",
        "(A,w),\"repectively\")\n",
        "        else:\n",
        "            print(\"The system has infinitely many solutions, thus w cannot be expressed as LC of listed vectors\")\n",
        "else:\n",
        "    print(\"The system of equations is inconsistent\")"
      ],
      "execution_count": null,
      "outputs": [
        {
          "name": "stdout",
          "output_type": "stream",
          "text": [
            "To take vectors for LC\n",
            "enter the number of vectors 3\n",
            "enter the dimension of vector \n"
          ]
        },
        {
          "output_type": "error",
          "ename": "ValueError",
          "evalue": "ignored",
          "traceback": [
            "\u001b[0;31m---------------------------------------------------------------------------\u001b[0m",
            "\u001b[0;31mValueError\u001b[0m                                Traceback (most recent call last)",
            "\u001b[0;32m<ipython-input-9-d2778e9b2b78>\u001b[0m in \u001b[0;36m<module>\u001b[0;34m()\u001b[0m\n\u001b[1;32m      2\u001b[0m \u001b[0mn\u001b[0m\u001b[0;34m=\u001b[0m\u001b[0mint\u001b[0m\u001b[0;34m(\u001b[0m\u001b[0minput\u001b[0m\u001b[0;34m(\u001b[0m\u001b[0;34m\"enter the number of vectors \"\u001b[0m\u001b[0;34m)\u001b[0m\u001b[0;34m)\u001b[0m\u001b[0;34m\u001b[0m\u001b[0;34m\u001b[0m\u001b[0m\n\u001b[1;32m      3\u001b[0m \u001b[0mM\u001b[0m\u001b[0;34m=\u001b[0m\u001b[0mnp\u001b[0m\u001b[0;34m.\u001b[0m\u001b[0mmatrix\u001b[0m\u001b[0;34m(\u001b[0m\u001b[0;34m[\u001b[0m\u001b[0;34m[\u001b[0m\u001b[0;36m0\u001b[0m\u001b[0;34m]\u001b[0m\u001b[0;34m,\u001b[0m\u001b[0;34m[\u001b[0m\u001b[0;36m0\u001b[0m\u001b[0;34m]\u001b[0m\u001b[0;34m,\u001b[0m\u001b[0;34m[\u001b[0m\u001b[0;36m0\u001b[0m\u001b[0;34m]\u001b[0m\u001b[0;34m]\u001b[0m\u001b[0;34m)\u001b[0m\u001b[0;34m\u001b[0m\u001b[0;34m\u001b[0m\u001b[0m\n\u001b[0;32m----> 4\u001b[0;31m \u001b[0mm\u001b[0m\u001b[0;34m=\u001b[0m\u001b[0mint\u001b[0m\u001b[0;34m(\u001b[0m\u001b[0minput\u001b[0m\u001b[0;34m(\u001b[0m\u001b[0;34m\"enter the dimension of vector \"\u001b[0m\u001b[0;34m)\u001b[0m\u001b[0;34m)\u001b[0m\u001b[0;34m\u001b[0m\u001b[0;34m\u001b[0m\u001b[0m\n\u001b[0m\u001b[1;32m      5\u001b[0m \u001b[0;32mfor\u001b[0m \u001b[0mi\u001b[0m \u001b[0;32min\u001b[0m \u001b[0mrange\u001b[0m\u001b[0;34m(\u001b[0m\u001b[0mn\u001b[0m\u001b[0;34m)\u001b[0m\u001b[0;34m:\u001b[0m\u001b[0;34m\u001b[0m\u001b[0;34m\u001b[0m\u001b[0m\n\u001b[1;32m      6\u001b[0m     \u001b[0mprint\u001b[0m\u001b[0;34m(\u001b[0m\u001b[0;34m\"Enter the entries of one vector in a single line (separated by space): \"\u001b[0m\u001b[0;34m)\u001b[0m\u001b[0;34m\u001b[0m\u001b[0;34m\u001b[0m\u001b[0m\n",
            "\u001b[0;31mValueError\u001b[0m: invalid literal for int() with base 10: ''"
          ]
        }
      ]
    },
    {
      "cell_type": "code",
      "metadata": {
        "id": "xq3y7_qKWArA"
      },
      "source": [
        "335"
      ],
      "execution_count": null,
      "outputs": []
    },
    {
      "cell_type": "markdown",
      "metadata": {
        "id": "l2TUs6VkWq0c"
      },
      "source": [
        "# November 10"
      ]
    },
    {
      "cell_type": "markdown",
      "metadata": {
        "id": "FuTKia3CWyFy"
      },
      "source": [
        "Rank of a Matrix"
      ]
    },
    {
      "cell_type": "code",
      "metadata": {
        "colab": {
          "base_uri": "https://localhost:8080/"
        },
        "id": "zMS8y9ezWwet",
        "outputId": "5beb7534-268f-437b-a587-2de1f54d9173"
      },
      "source": [
        "import numpy as np\n",
        "A = np.matrix(([1,7,5,6],[7,2,6,7],[-1,-3,-3,4]))\n",
        "print(A)\n",
        "print(np.linalg.matrix_rank(A))"
      ],
      "execution_count": null,
      "outputs": [
        {
          "output_type": "stream",
          "name": "stdout",
          "text": [
            "[[ 1  7  5  6]\n",
            " [ 7  2  6  7]\n",
            " [-1 -3 -3  4]]\n",
            "3\n"
          ]
        }
      ]
    },
    {
      "cell_type": "code",
      "metadata": {
        "colab": {
          "base_uri": "https://localhost:8080/"
        },
        "id": "VHwyRFaWXzKh",
        "outputId": "18835cd4-fedf-4e7e-99ec-09e6ad85d4c4"
      },
      "source": [
        "A = np.matrix(([1,2,3],[2,1,4],[3,0,5]))\n",
        "print(A)\n",
        "print(np.linalg.matrix_rank(A))"
      ],
      "execution_count": null,
      "outputs": [
        {
          "output_type": "stream",
          "name": "stdout",
          "text": [
            "[[1 2 3]\n",
            " [2 1 4]\n",
            " [3 0 5]]\n",
            "2\n"
          ]
        }
      ]
    },
    {
      "cell_type": "code",
      "metadata": {
        "colab": {
          "base_uri": "https://localhost:8080/"
        },
        "id": "Pljvypo4YuxB",
        "outputId": "c6784d50-03c5-461b-cc29-9a16b5eeafa7"
      },
      "source": [
        "import numpy as np\n",
        "A = np.identity(3)\n",
        "print(A)\n",
        "print(np.linalg.matrix_rank(A))"
      ],
      "execution_count": null,
      "outputs": [
        {
          "output_type": "stream",
          "name": "stdout",
          "text": [
            "[[1. 0. 0.]\n",
            " [0. 1. 0.]\n",
            " [0. 0. 1.]]\n",
            "3\n"
          ]
        }
      ]
    },
    {
      "cell_type": "code",
      "metadata": {
        "colab": {
          "base_uri": "https://localhost:8080/"
        },
        "id": "PVBf5uU7ZfYS",
        "outputId": "52537a1f-376f-4219-8a91-2fcbeae69e59"
      },
      "source": [
        "import numpy as np\n",
        "A = np.zeros((3,3))\n",
        "B = np.zeros((4,4))\n",
        "print(A)\n",
        "print(B)\n",
        "print(np.linalg.matrix_rank(A))\n",
        "print(np.linalg.matrix_rank(B))"
      ],
      "execution_count": null,
      "outputs": [
        {
          "output_type": "stream",
          "name": "stdout",
          "text": [
            "[[0. 0. 0.]\n",
            " [0. 0. 0.]\n",
            " [0. 0. 0.]]\n",
            "[[0. 0. 0. 0.]\n",
            " [0. 0. 0. 0.]\n",
            " [0. 0. 0. 0.]\n",
            " [0. 0. 0. 0.]]\n",
            "0\n",
            "0\n"
          ]
        }
      ]
    },
    {
      "cell_type": "markdown",
      "metadata": {
        "id": "WRb25uVjedFi"
      },
      "source": [
        "Properties \n",
        "1. If A matrix of order mxn then rank(A) is less than or equal tom min(A,B)\n",
        "2. if A is of order nxn and the det(A) not equal to zero, then the rank(A)=n\n",
        "3. If A is of order nxn and the det(A) equal to zero, then the rank(A) is less than n"
      ]
    },
    {
      "cell_type": "code",
      "metadata": {
        "id": "fKYtz7_AbLyx"
      },
      "source": [
        ""
      ],
      "execution_count": null,
      "outputs": []
    },
    {
      "cell_type": "markdown",
      "metadata": {
        "id": "1YpJVh9rZzDB"
      },
      "source": [
        "# November 17"
      ]
    },
    {
      "cell_type": "markdown",
      "metadata": {
        "id": "DQJGhoEwZ9dp"
      },
      "source": [
        "Nullity of a matrix"
      ]
    },
    {
      "cell_type": "markdown",
      "metadata": {
        "id": "JOXYQ4U_Z-jm"
      },
      "source": [
        "Rank of a matrix + Nullity of a Matrix = Number of all columns in the matrix"
      ]
    },
    {
      "cell_type": "markdown",
      "metadata": {
        "id": "m_dwg0AIZ-mm"
      },
      "source": [
        "Q1. Write a program to find the nultiy of the given matrix\n",
        "\n",
        "A = \\begin{bmatrix} \n",
        "\t1 & 2 & 3 \\\\\n",
        "\t4 & 5 & 6\\\\\n",
        "\t7 & 8 & 9 \\\\\n",
        "\t\\end{bmatrix}"
      ]
    },
    {
      "cell_type": "code",
      "metadata": {
        "id": "E8UWlDO2bBCJ"
      },
      "source": [
        "import numpy as np"
      ],
      "execution_count": 1,
      "outputs": []
    },
    {
      "cell_type": "code",
      "metadata": {
        "colab": {
          "base_uri": "https://localhost:8080/"
        },
        "id": "ZU_9LTyJaWrq",
        "outputId": "7b1b5add-e26f-4fa1-bd7d-a9379382490e"
      },
      "source": [
        "A = np.matrix([[1,2,3],[4,5,6],[7,8,9]])\n",
        "rank = np.linalg.matrix_rank(A)\n",
        "col = 3\n",
        "null = col - rank\n",
        "print(null)"
      ],
      "execution_count": 3,
      "outputs": [
        {
          "output_type": "stream",
          "name": "stdout",
          "text": [
            "1\n"
          ]
        }
      ]
    },
    {
      "cell_type": "markdown",
      "metadata": {
        "id": "4XappXa2Z-pU"
      },
      "source": [
        "Q1. Write a program to find the nultiy of the given matrix\n",
        "\n",
        "A = \\begin{bmatrix} \n",
        "\t1 & 1 & 1 &1\\\\\n",
        "\t2 & 3 & 4 & 5\\\\\n",
        "\t\\end{bmatrix}"
      ]
    },
    {
      "cell_type": "code",
      "metadata": {
        "colab": {
          "base_uri": "https://localhost:8080/"
        },
        "id": "szaRZE6gZ8er",
        "outputId": "f2ccf6a0-1402-4dc4-d6f6-f1cd86c53f93"
      },
      "source": [
        "A = np.matrix([[1,1,1,1],[2,3,4,5]])\n",
        "rank = np.linalg.matrix_rank(A)\n",
        "col = 4\n",
        "null = col - rank\n",
        "print(null)"
      ],
      "execution_count": 4,
      "outputs": [
        {
          "output_type": "stream",
          "name": "stdout",
          "text": [
            "2\n"
          ]
        }
      ]
    },
    {
      "cell_type": "markdown",
      "metadata": {
        "id": "9UnzXtTadOHJ"
      },
      "source": [
        "Q1. Write a program to find the nultiy of the given matrix\n",
        "\n",
        "A = \\begin{bmatrix} \n",
        "\t1 & 1 & -1 \\\\\n",
        "\t2 & -3 & 4 \\\\\n",
        "\t3 & -2 & 3 \\\\\n",
        "\t\\end{bmatrix}\n",
        "\n",
        "B = \\begin{bmatrix} \n",
        "\t-1 & -2 & -1 \\\\\n",
        "\t6 & 12 & 6 \\\\\n",
        "\t5 & 10 & 5 \\\\\n",
        "\t\\end{bmatrix}\n"
      ]
    },
    {
      "cell_type": "code",
      "metadata": {
        "colab": {
          "base_uri": "https://localhost:8080/"
        },
        "id": "6HL6y3SQcFoy",
        "outputId": "3a61275a-b510-43d5-ed6c-c98c6830c4c1"
      },
      "source": [
        "A = np.matrix([[1,1,-1],[2,-3,4],[3,-2,3]])\n",
        "print(A)\n",
        "B = np.matrix([[-1,-2,-1],[6,12,6],[5,10,5]])\n",
        "print(B)\n",
        "rank = np.linalg.matrix_rank(A+B)\n",
        "print(rank)"
      ],
      "execution_count": 9,
      "outputs": [
        {
          "output_type": "stream",
          "name": "stdout",
          "text": [
            "[[ 1  1 -1]\n",
            " [ 2 -3  4]\n",
            " [ 3 -2  3]]\n",
            "[[-1 -2 -1]\n",
            " [ 6 12  6]\n",
            " [ 5 10  5]]\n",
            "2\n"
          ]
        }
      ]
    },
    {
      "cell_type": "markdown",
      "metadata": {
        "id": "lMFfG7w5fOBf"
      },
      "source": [
        "# Q1. Write a program to find the nultiy of the given matrix\n",
        "\n",
        "A = \\begin{bmatrix} \n",
        "\t0 & 1 & 0 & 0 & 0 & 0\\\\\n",
        "\t1 & 0 & 0 & 0 & 0 & 0\\\\\n",
        "\t0 & 0 & 0 & 0 & 0 & 0\\\\\n",
        "\t\\end{bmatrix}\n",
        "\n",
        "\n"
      ]
    },
    {
      "cell_type": "code",
      "metadata": {
        "colab": {
          "base_uri": "https://localhost:8080/"
        },
        "id": "15TkUwmSd6NL",
        "outputId": "07a96d7b-87b6-4a9b-8b32-648c56f54af0"
      },
      "source": [
        "A = np.matrix([[0,1,0,0,0],[1,0,0,0,0],[0,0,0,0,0]])\n",
        "rank = np.linalg.matrix_rank(A)\n",
        "col = 5\n",
        "null = col - rank\n",
        "print(null)"
      ],
      "execution_count": 11,
      "outputs": [
        {
          "output_type": "stream",
          "name": "stdout",
          "text": [
            "3\n"
          ]
        }
      ]
    },
    {
      "cell_type": "code",
      "metadata": {
        "id": "SLEduKdZgN7Q"
      },
      "source": [
        ""
      ],
      "execution_count": null,
      "outputs": []
    }
  ]
}