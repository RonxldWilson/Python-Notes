{
  "nbformat": 4,
  "nbformat_minor": 0,
  "metadata": {
    "colab": {
      "name": "Complex Analysis ",
      "provenance": [],
      "collapsed_sections": [
        "uprGCfdKtdev",
        "Kp7NeYBJ1ND2",
        "qBHhm9rntq0d",
        "DRLqEpXHYn19",
        "Mpv310dKak2k",
        "kjX8SKUT0XCS",
        "x3uI29tu28FJ",
        "TIaXt_81ivLU",
        "EA66S6PGpDb5",
        "oRjUuU9XoA11"
      ],
      "authorship_tag": "ABX9TyPRj3J7GP4ErFQPY6uWR6UD",
      "include_colab_link": true
    },
    "kernelspec": {
      "name": "python3",
      "display_name": "Python 3"
    },
    "language_info": {
      "name": "python"
    }
  },
  "cells": [
    {
      "cell_type": "markdown",
      "metadata": {
        "id": "view-in-github",
        "colab_type": "text"
      },
      "source": [
        "<a href=\"https://colab.research.google.com/github/RonxldWilson/Python-Notes/blob/main/Complex_Analysis.ipynb\" target=\"_parent\"><img src=\"https://colab.research.google.com/assets/colab-badge.svg\" alt=\"Open In Colab\"/></a>"
      ]
    },
    {
      "cell_type": "markdown",
      "source": [
        "# Name: Ronald Wilson \n",
        "# Class: 6CMS\n",
        "# Roll No: 1940224\n",
        " "
      ],
      "metadata": {
        "id": "EFfFP6Gxwbe1"
      }
    },
    {
      "cell_type": "markdown",
      "source": [
        "# Day 1\n",
        "# Date: 07-01-2022"
      ],
      "metadata": {
        "id": "uprGCfdKtdev"
      }
    },
    {
      "cell_type": "markdown",
      "source": [
        "Date Display"
      ],
      "metadata": {
        "id": "xtMTxvbitd63"
      }
    },
    {
      "cell_type": "code",
      "source": [
        "from datetime import date \n",
        "print(date.today())"
      ],
      "metadata": {
        "colab": {
          "base_uri": "https://localhost:8080/"
        },
        "id": "NyT5pa_juRLL",
        "outputId": "a5c43857-a238-41b4-9b4f-cd291d08f157"
      },
      "execution_count": null,
      "outputs": [
        {
          "output_type": "stream",
          "name": "stdout",
          "text": [
            "2022-01-07\n"
          ]
        }
      ]
    },
    {
      "cell_type": "code",
      "source": [
        "import datetime\n",
        "now = datetime.datetime.now()\n",
        "print (\"Current date and time : \")\n",
        "print (now.strftime(\"%Y-%m-%d %H:%M:%S\"))"
      ],
      "metadata": {
        "colab": {
          "base_uri": "https://localhost:8080/"
        },
        "id": "vsNPtzg0tfjf",
        "outputId": "9187a9f7-f0d3-419f-be6c-ae3086932ede"
      },
      "execution_count": null,
      "outputs": [
        {
          "output_type": "stream",
          "name": "stdout",
          "text": [
            "Current date and time : \n",
            "2022-01-07 08:47:46\n"
          ]
        }
      ]
    },
    {
      "cell_type": "markdown",
      "source": [
        "Print User's First and Last Name "
      ],
      "metadata": {
        "id": "4p9sxhi0usyQ"
      }
    },
    {
      "cell_type": "code",
      "source": [
        "first = input(\"Enter the First Name: \")\n",
        "last =  input(\"Enter the Last Name: \")\n",
        "name = first +' '+ last\n",
        "print(\"Name :\", name)"
      ],
      "metadata": {
        "colab": {
          "base_uri": "https://localhost:8080/"
        },
        "id": "2ZHJHZSLuxK4",
        "outputId": "e20681b3-8aea-48b6-b48b-80b776f46690"
      },
      "execution_count": null,
      "outputs": [
        {
          "output_type": "stream",
          "name": "stdout",
          "text": [
            "Enter the First Name: Ron \n",
            "Enter the Last Name: Wilson \n",
            "Name : Ron  Wilson \n"
          ]
        }
      ]
    },
    {
      "cell_type": "markdown",
      "source": [
        "Check if number is even or odd"
      ],
      "metadata": {
        "id": "oRVqXgVxuqLX"
      }
    },
    {
      "cell_type": "code",
      "source": [
        "num = int(input(\"Enter the number: \"))\n",
        "if(num%2 ==0):\n",
        "  print(\"Number is Even\")\n",
        "else: \n",
        "  print(\"Number is Odd\")\n"
      ],
      "metadata": {
        "colab": {
          "base_uri": "https://localhost:8080/"
        },
        "id": "tRR58aMLv03T",
        "outputId": "8c1ed217-ab02-4379-928c-5ee487ee5f53"
      },
      "execution_count": null,
      "outputs": [
        {
          "output_type": "stream",
          "name": "stdout",
          "text": [
            "Enter the number: 69\n",
            "Number is Odd\n"
          ]
        }
      ]
    },
    {
      "cell_type": "markdown",
      "source": [
        "User input and check if the number is a pallindrome or not"
      ],
      "metadata": {
        "id": "QueY6sOFwLw5"
      }
    },
    {
      "cell_type": "code",
      "source": [
        "num = int(input(\"Enter the number: \"))\n",
        "temp = num\n",
        "rev  = 0\n",
        "while(num>0):\n",
        "    x = num%10\n",
        "    rev = rev*10 + x\n",
        "    num =num//10 \n",
        "\n",
        "if(temp == rev):\n",
        "  print(\"Number is a pallindrome \")\n",
        "else: \n",
        "  print(\"Number is not a pallindrome\")\n"
      ],
      "metadata": {
        "colab": {
          "base_uri": "https://localhost:8080/"
        },
        "id": "IgYgJUXCwwe_",
        "outputId": "d52a07dd-339a-4081-de6c-ce3357f9dc02"
      },
      "execution_count": null,
      "outputs": [
        {
          "output_type": "stream",
          "name": "stdout",
          "text": [
            "Enter the number: 1221\n",
            "Number is a pallindrome \n"
          ]
        }
      ]
    },
    {
      "cell_type": "markdown",
      "source": [
        "Divide the two input number only if the denominator is non zero"
      ],
      "metadata": {
        "id": "7JPTMbf0wL0u"
      }
    },
    {
      "cell_type": "code",
      "source": [
        "a = int(input(\"Enter the Number:\"))\n",
        "b = int(input(\"Enter the Number:\"))\n",
        "if(b!=0):\n",
        "  print(a/b)\n",
        "else: \n",
        "  print(\"Connot Execute Denominator is zero\")"
      ],
      "metadata": {
        "colab": {
          "base_uri": "https://localhost:8080/"
        },
        "id": "evTzsFaCx6bq",
        "outputId": "8e8467c6-1ab1-4998-8839-5c63c4b52d96"
      },
      "execution_count": null,
      "outputs": [
        {
          "output_type": "stream",
          "name": "stdout",
          "text": [
            "Enter the Number:12\n",
            "Enter the Number:0\n",
            "Connot Execute Denominator is zero\n"
          ]
        }
      ]
    },
    {
      "cell_type": "markdown",
      "source": [
        "Program to identify the largest among three numbers "
      ],
      "metadata": {
        "id": "ic6nQODNwL5V"
      }
    },
    {
      "cell_type": "code",
      "source": [
        "a = int(input(\"Enter the Number\"))\n",
        "b = int(input(\"Enter the Number\"))\n",
        "c = int(input(\"Enter the Number\"))\n",
        "largest = a\n",
        "if(b>largest):\n",
        "  largest = b\n",
        "if(c>largest):\n",
        "  largest = c\n",
        "print(\"The Largest is: \", largest)"
      ],
      "metadata": {
        "colab": {
          "base_uri": "https://localhost:8080/"
        },
        "id": "uhTtSY9mwB5i",
        "outputId": "d42dbe55-847d-48b0-b559-89c2d8f3c3db"
      },
      "execution_count": null,
      "outputs": [
        {
          "output_type": "stream",
          "name": "stdout",
          "text": [
            "Enter the Number2 \n",
            "Enter the Number4\n",
            "Enter the Number6\n",
            "The Largest is:  6\n"
          ]
        }
      ]
    },
    {
      "cell_type": "markdown",
      "source": [
        "# Day 2\n",
        "# Date: 10-01-2022"
      ],
      "metadata": {
        "id": "Kp7NeYBJ1ND2"
      }
    },
    {
      "cell_type": "markdown",
      "source": [
        "Plot the year vs price scatter plot "
      ],
      "metadata": {
        "id": "oWd12Oed1V9G"
      }
    },
    {
      "cell_type": "code",
      "source": [
        "import matplotlib.pyplot as plt \n",
        "Year=[2010,2011,2012,2013,2014,2015,2016,2017,2018,2019,2020,2021] # array of years\n",
        "price=[156,166.9,189,196.9,207.1,247,288.0,302,346,388,399,402]\n",
        "plt.scatter(Year,price)\n",
        "plt.xlabel(\"Year\")\n",
        "plt.ylabel(\"Price\")\n",
        "plt.grid()\n",
        "plt.show()"
      ],
      "metadata": {
        "id": "xKxlkn6W1XFG",
        "colab": {
          "base_uri": "https://localhost:8080/",
          "height": 279
        },
        "outputId": "f33f6a28-429b-4ef6-9de2-b08c71d64ec7"
      },
      "execution_count": null,
      "outputs": [
        {
          "output_type": "display_data",
          "data": {
            "image/png": "[encoded data removed]",
            "text/plain": [
              "<Figure size 432x288 with 1 Axes>"
            ]
          },
          "metadata": {
            "needs_background": "light"
          }
        }
      ]
    },
    {
      "cell_type": "markdown",
      "source": [
        "Draw a 3D plot with the following vlaues "
      ],
      "metadata": {
        "id": "DhoURGkw1WAK"
      }
    },
    {
      "cell_type": "code",
      "source": [
        "from mpl_toolkits import mplot3d \n",
        "from matplotlib.pyplot import * \n",
        "from numpy import * \n",
        "ax=axes(projection=\"3d\") \n",
        "z=np.linspace(0, 15, 1000) \n",
        "x=np.sin(z) \n",
        "y=np.cos(z) \n",
        "ax.plot3D(x,y,z,color=\"blue\") \n",
        "ax.set_xlabel(\"x\") \n",
        "ax.set_ylabel(\"y\") \n",
        "ax.set_zlabel(\"z\") \n",
        "None"
      ],
      "metadata": {
        "id": "e8MA2sK71YMv",
        "colab": {
          "base_uri": "https://localhost:8080/",
          "height": 248
        },
        "outputId": "8f366e67-373d-42a0-838a-0d8a99257b00"
      },
      "execution_count": null,
      "outputs": [
        {
          "output_type": "display_data",
          "data": {
            "image/png": "[encoded data removed]",
            "text/plain": [
              "<Figure size 432x288 with 1 Axes>"
            ]
          },
          "metadata": {
            "needs_background": "light"
          }
        }
      ]
    },
    {
      "cell_type": "markdown",
      "source": [
        "\n",
        "Draw e^x, x^2, cos(X) and tan(x) "
      ],
      "metadata": {
        "id": "sKVR2ahX1WDh"
      }
    },
    {
      "cell_type": "code",
      "source": [
        "from matplotlib.pylab import *\n",
        "\n",
        "figure(figsize=(10,8))\n",
        "suptitle('SUBPLOTS OF VARIOUS FUNCTIONS')\n",
        "\n",
        "subplot(221) # 2 tall, 2 wide, plot number 1.\n",
        "x=linspace(-20,20,100)\n",
        "plot(exp(x),color='Orange')\n",
        "xlabel('x')\n",
        "ylabel('exp(X)')\n",
        "\n",
        "subplot(222) # 2 tall, 2 wide, plot number 2.\n",
        "x=linspace(-20,20,100)\n",
        "plot(x**2,color='Green')\n",
        "xlabel('x')\n",
        "ylabel('x^2')\n",
        "\n",
        "subplot(223) # 2 tall, 2 wide, plot number 3.\n",
        "x=linspace(-20,20,100)\n",
        "plot(cos(x),color='Brown')\n",
        "xlabel('x')\n",
        "ylabel('cos(x)')\n",
        "\n",
        "subplot(224) # 2 tall, 2 wide, plot number 4.\n",
        "x=linspace(-20,20,100)\n",
        "plot(tan(x),color='Red')\n",
        "xlabel('x')\n",
        "ylabel('tan(x)')\n",
        "\n",
        "None"
      ],
      "metadata": {
        "id": "drsKYj3B1XwH",
        "colab": {
          "base_uri": "https://localhost:8080/",
          "height": 554
        },
        "outputId": "85fd0125-e691-433b-d73e-88d35e7e00b7"
      },
      "execution_count": null,
      "outputs": [
        {
          "output_type": "display_data",
          "data": {
            "image/png": "[encoded data removed]",
            "text/plain": [
              "<Figure size 720x576 with 4 Axes>"
            ]
          },
          "metadata": {
            "needs_background": "light"
          }
        }
      ]
    },
    {
      "cell_type": "markdown",
      "source": [
        "Arithematic on Complex Numbers"
      ],
      "metadata": {
        "id": "XqbKsWFf1WIH"
      }
    },
    {
      "cell_type": "code",
      "source": [
        "import cmath\n",
        "z = complex(3,2)\n",
        "y = complex(5,4)\n",
        "print (\"The real part of complex number is : \",end=\"\")\n",
        "print (z.real)  \n",
        "print (\"The imaginary part of complex number is : \",end=\"\")\n",
        "print (z.imag)"
      ],
      "metadata": {
        "colab": {
          "base_uri": "https://localhost:8080/"
        },
        "id": "DKkPM2SYVJ8R",
        "outputId": "2e327d1a-f9ac-4472-d243-32d408236f92"
      },
      "execution_count": null,
      "outputs": [
        {
          "output_type": "stream",
          "name": "stdout",
          "text": [
            "The real part of complex number is : 3.0\n",
            "The imaginary part of complex number is : 2.0\n"
          ]
        }
      ]
    },
    {
      "cell_type": "code",
      "source": [
        "z+y"
      ],
      "metadata": {
        "colab": {
          "base_uri": "https://localhost:8080/"
        },
        "id": "WChzU0k3fq-5",
        "outputId": "acbaa4ba-d72f-4d51-b87c-71e5396dd214"
      },
      "execution_count": null,
      "outputs": [
        {
          "output_type": "execute_result",
          "data": {
            "text/plain": [
              "(8+6j)"
            ]
          },
          "metadata": {},
          "execution_count": 17
        }
      ]
    },
    {
      "cell_type": "code",
      "source": [
        "  z-y"
      ],
      "metadata": {
        "colab": {
          "base_uri": "https://localhost:8080/"
        },
        "id": "UWs1_qPjVKso",
        "outputId": "01ea8e35-39bc-450e-d5d0-496def010f93"
      },
      "execution_count": null,
      "outputs": [
        {
          "output_type": "execute_result",
          "data": {
            "text/plain": [
              "(-2-2j)"
            ]
          },
          "metadata": {},
          "execution_count": 18
        }
      ]
    },
    {
      "cell_type": "code",
      "source": [
        "z*y"
      ],
      "metadata": {
        "id": "XJrgzsC91Uhk",
        "colab": {
          "base_uri": "https://localhost:8080/"
        },
        "outputId": "af03187f-21f3-4851-fafd-634d7cac943c"
      },
      "execution_count": null,
      "outputs": [
        {
          "output_type": "execute_result",
          "data": {
            "text/plain": [
              "(7+22j)"
            ]
          },
          "metadata": {},
          "execution_count": 19
        }
      ]
    },
    {
      "cell_type": "code",
      "source": [
        "z/y"
      ],
      "metadata": {
        "id": "8WmruoBTf2nR",
        "outputId": "fed192c7-b701-4d20-e0db-0440d2a60417",
        "colab": {
          "base_uri": "https://localhost:8080/"
        }
      },
      "execution_count": null,
      "outputs": [
        {
          "output_type": "execute_result",
          "data": {
            "text/plain": [
              "(0.5609756097560976-0.0487804878048781j)"
            ]
          },
          "metadata": {},
          "execution_count": 20
        }
      ]
    },
    {
      "cell_type": "markdown",
      "source": [
        ""
      ],
      "metadata": {
        "id": "IiZDoDRXf5FI"
      }
    },
    {
      "cell_type": "code",
      "source": [
        ""
      ],
      "metadata": {
        "id": "BNjVaWIlf3tx"
      },
      "execution_count": null,
      "outputs": []
    },
    {
      "cell_type": "markdown",
      "source": [
        "# Day 3\n",
        "# Date 14-01-2022"
      ],
      "metadata": {
        "id": "qBHhm9rntq0d"
      }
    },
    {
      "cell_type": "markdown",
      "source": [
        "Create a blank list and then add 5 elements to it containg 2 strings, then remove the third "
      ],
      "metadata": {
        "id": "HiBhIByHtriv"
      }
    },
    {
      "cell_type": "code",
      "source": [
        "a = []\n",
        "a.append(0)\n",
        "a\n",
        "a.append(1)\n",
        "a.append(2)\n",
        "a.append(\"Hello\")\n",
        "a.append(\"World\")\n",
        "print(a)\n",
        "a.remove(2)\n",
        "a"
      ],
      "metadata": {
        "colab": {
          "base_uri": "https://localhost:8080/"
        },
        "id": "Ok_w-wg_trrO",
        "outputId": "d21fb056-8e89-47d5-8b92-c2c2670b5af4"
      },
      "execution_count": null,
      "outputs": [
        {
          "output_type": "stream",
          "name": "stdout",
          "text": [
            "[0, 1, 2, 'Hello', 'World']\n"
          ]
        },
        {
          "output_type": "execute_result",
          "data": {
            "text/plain": [
              "[0, 1, 'Hello', 'World']"
            ]
          },
          "metadata": {},
          "execution_count": 9
        }
      ]
    },
    {
      "cell_type": "code",
      "source": [
        "a.insert(2,2)\n",
        "a"
      ],
      "metadata": {
        "colab": {
          "base_uri": "https://localhost:8080/"
        },
        "id": "vIQZXsX80nvq",
        "outputId": "dee4a52e-a926-4f9d-ca60-71f25d965f43"
      },
      "execution_count": null,
      "outputs": [
        {
          "output_type": "execute_result",
          "data": {
            "text/plain": [
              "[0, 1, 2, 'Hello', 2, 2, 'World']"
            ]
          },
          "metadata": {},
          "execution_count": 12
        }
      ]
    },
    {
      "cell_type": "markdown",
      "source": [
        "Remove the 5th and 6th elements"
      ],
      "metadata": {
        "id": "kh8PDm7ZtsKL"
      }
    },
    {
      "cell_type": "code",
      "source": [
        "a.pop()\n",
        "a"
      ],
      "metadata": {
        "colab": {
          "base_uri": "https://localhost:8080/"
        },
        "id": "l9E6XsSttsT-",
        "outputId": "9cecc645-5327-494b-92c8-163f783597f6"
      },
      "execution_count": null,
      "outputs": [
        {
          "output_type": "execute_result",
          "data": {
            "text/plain": [
              "[0, 1, 2, 'Hello']"
            ]
          },
          "metadata": {},
          "execution_count": 18
        }
      ]
    },
    {
      "cell_type": "markdown",
      "source": [
        ""
      ],
      "metadata": {
        "id": "Fzvyo_92tsel"
      }
    },
    {
      "cell_type": "code",
      "source": [
        "a[1:2]"
      ],
      "metadata": {
        "colab": {
          "base_uri": "https://localhost:8080/"
        },
        "id": "ae5ZfqlRtsnV",
        "outputId": "b977782f-a5c9-44c0-d997-85d6bc2a17b0"
      },
      "execution_count": null,
      "outputs": [
        {
          "output_type": "execute_result",
          "data": {
            "text/plain": [
              "[1]"
            ]
          },
          "metadata": {},
          "execution_count": 19
        }
      ]
    },
    {
      "cell_type": "code",
      "source": [
        ""
      ],
      "metadata": {
        "id": "OhQetqQZ4LNK"
      },
      "execution_count": null,
      "outputs": []
    },
    {
      "cell_type": "markdown",
      "source": [
        "# Day 4\n",
        "# Date 17-01-2022"
      ],
      "metadata": {
        "id": "DRLqEpXHYn19"
      }
    },
    {
      "cell_type": "markdown",
      "source": [
        "Cmath Module"
      ],
      "metadata": {
        "id": "QuKrC_1KZGPL"
      }
    },
    {
      "cell_type": "code",
      "source": [
        "import cmath\n",
        "dir(cmath)"
      ],
      "metadata": {
        "colab": {
          "base_uri": "https://localhost:8080/"
        },
        "id": "-5fao9HFYtnb",
        "outputId": "5362cd6e-a69f-40fc-8e05-33162eb8d1d6"
      },
      "execution_count": null,
      "outputs": [
        {
          "output_type": "execute_result",
          "data": {
            "text/plain": [
              "['__doc__',\n",
              " '__file__',\n",
              " '__loader__',\n",
              " '__name__',\n",
              " '__package__',\n",
              " '__spec__',\n",
              " 'acos',\n",
              " 'acosh',\n",
              " 'asin',\n",
              " 'asinh',\n",
              " 'atan',\n",
              " 'atanh',\n",
              " 'cos',\n",
              " 'cosh',\n",
              " 'e',\n",
              " 'exp',\n",
              " 'inf',\n",
              " 'infj',\n",
              " 'isclose',\n",
              " 'isfinite',\n",
              " 'isinf',\n",
              " 'isnan',\n",
              " 'log',\n",
              " 'log10',\n",
              " 'nan',\n",
              " 'nanj',\n",
              " 'phase',\n",
              " 'pi',\n",
              " 'polar',\n",
              " 'rect',\n",
              " 'sin',\n",
              " 'sinh',\n",
              " 'sqrt',\n",
              " 'tan',\n",
              " 'tanh',\n",
              " 'tau']"
            ]
          },
          "metadata": {},
          "execution_count": 3
        }
      ]
    },
    {
      "cell_type": "code",
      "source": [
        "from cmath import *\n",
        "from math import *\n",
        "\n",
        "z = 2+1j*5\n",
        "c = complex(4,6)\n",
        "z1 = complex(input(\"Enter a complex number\"))\n",
        "print(z,\" \",c,\" \",z1 )"
      ],
      "metadata": {
        "colab": {
          "base_uri": "https://localhost:8080/"
        },
        "id": "TeZHf5RTZUXx",
        "outputId": "deaa3f4c-2f83-48a6-d966-2378d76bb95a"
      },
      "execution_count": null,
      "outputs": [
        {
          "output_type": "stream",
          "name": "stdout",
          "text": [
            "Enter a complex number1+5j\n",
            "(2+5j)   (4+6j)   (1+5j)\n"
          ]
        }
      ]
    },
    {
      "cell_type": "code",
      "source": [
        "z1 = complex(input(\"Enter a complex number\"))\n",
        "cmath.acos(z1)"
      ],
      "metadata": {
        "colab": {
          "base_uri": "https://localhost:8080/"
        },
        "id": "u2RSKwj8bS0y",
        "outputId": "9b1396e5-7f58-4929-a191-720f4684c035"
      },
      "execution_count": null,
      "outputs": [
        {
          "name": "stdout",
          "output_type": "stream",
          "text": [
            "Enter a complex number1+5j\n"
          ]
        },
        {
          "output_type": "execute_result",
          "data": {
            "text/plain": [
              "(1.3770031902399644-2.3309746530493123j)"
            ]
          },
          "metadata": {},
          "execution_count": 8
        }
      ]
    },
    {
      "cell_type": "code",
      "source": [
        "print(\"Given below are some of the constants defined in cmath module.\")\n",
        "print(\"e:\",e)\n",
        "print(\"Infinity (real axis):\",inf)\n",
        "print(\"Infinity (Imaginary axis):\",infj)\n",
        "print(\"NaN (real):\",nan)\n",
        "print(\"NaN (imaginary):\",nanj)\n",
        "print(\"Pi:\",pi)\n",
        "print(\"Tau:\",tau)"
      ],
      "metadata": {
        "colab": {
          "base_uri": "https://localhost:8080/"
        },
        "id": "74Jc8rfCbtE7",
        "outputId": "6359d89e-4643-45d8-e7dd-1b400c365d0e"
      },
      "execution_count": null,
      "outputs": [
        {
          "output_type": "stream",
          "name": "stdout",
          "text": [
            "Given below are some of the constants defined in cmath module.\n",
            "e: 2.718281828459045\n",
            "Infinity (real axis): inf\n",
            "Infinity (Imaginary axis): infj\n",
            "NaN (real): nan\n",
            "NaN (imaginary): nanj\n",
            "Pi: 3.141592653589793\n",
            "Tau: 6.283185307179586\n"
          ]
        }
      ]
    },
    {
      "cell_type": "code",
      "source": [
        "import cmath\n",
        "a= complex(4,7)\n",
        "print(\"Complex number is:\",a)\n",
        "print(\"Sine of the complex number is:\",cmath.sin(a))\n",
        "print(\"Cosine of the complex number is:\",cmath.cos(a))\n",
        "print(\"Tangent of the complex number is:\",cmath.tan(a))\n",
        "print(\"Inverse Sine of the complex number is:\",cmath.asin(a))\n",
        "print(\"Inverse Cosine of the complex number is:\",cmath.acos(a))\n",
        "print(\"Inverse Tangent of the complex number is:\",cmath.atan(a))"
      ],
      "metadata": {
        "colab": {
          "base_uri": "https://localhost:8080/"
        },
        "id": "WFwVrgaYeI9A",
        "outputId": "1053e942-d034-41f1-9468-ed1727308e3b"
      },
      "execution_count": null,
      "outputs": [
        {
          "output_type": "stream",
          "name": "stdout",
          "text": [
            "Complex number is: (4+7j)\n",
            "Sine of the complex number is: (-414.96770042530943-358.4033361942234j)\n",
            "Cosine of the complex number is: (-358.40393224005317+414.96701031076253j)\n",
            "Tangent of the complex number is: (1.6453599892332885e-06+1.000000241973589j)\n",
            "Inverse Sine of the complex number is: (0.5158519091936864+2.782304040344133j)\n",
            "Inverse Cosine of the complex number is: (1.0549444176012102-2.782304040344133j)\n",
            "Inverse Tangent of the complex number is: (1.508618829521516+0.10769572902311356j)\n"
          ]
        }
      ]
    },
    {
      "cell_type": "markdown",
      "source": [
        "Verify the property of Commutativity and Associativity over addition and multiplication "
      ],
      "metadata": {
        "id": "QXgVp0k8ereP"
      }
    },
    {
      "cell_type": "code",
      "source": [
        "#Commutative\n",
        "z1 = 1 + 2j\n",
        "z2 = 3 + 4j\n",
        "z3 = 5 + 5j\n",
        "print(z1 + z2)\n",
        "print(z2 + z1)\n",
        "print()\n",
        "print(z1*z2)\n",
        "print(z2*z1)\n",
        "#Associativity\n",
        "print()\n",
        "print((z1+z2)+z3)\n",
        "print(z1+(z2+z3))\n",
        "print()\n",
        "print((z1*z2)*z3)\n",
        "print(z1*(z2*z3))\n"
      ],
      "metadata": {
        "colab": {
          "base_uri": "https://localhost:8080/"
        },
        "id": "GEll4HpAePu3",
        "outputId": "476603de-4dcd-4268-b262-b57fb7068498"
      },
      "execution_count": null,
      "outputs": [
        {
          "output_type": "stream",
          "name": "stdout",
          "text": [
            "(4+6j)\n",
            "(4+6j)\n",
            "\n",
            "(-5+10j)\n",
            "(-5+10j)\n",
            "(9+11j)\n",
            "(9+11j)\n",
            "\n",
            "(-75+25j)\n",
            "(-75+25j)\n"
          ]
        }
      ]
    },
    {
      "cell_type": "code",
      "source": [
        "z1 = complex(input(\"Enter a Complex Number\"))\n",
        "print(abs(z1))\n",
        "print(sqrt((z1.real)**2+(z1.imag)**2))\n"
      ],
      "metadata": {
        "colab": {
          "base_uri": "https://localhost:8080/"
        },
        "id": "g6YxDVVHfYyP",
        "outputId": "b26571d4-2230-406b-89f1-191e82a99b46"
      },
      "execution_count": null,
      "outputs": [
        {
          "output_type": "stream",
          "name": "stdout",
          "text": [
            "Enter a Complex Number1+54j\n",
            "54.00925846556311\n",
            "54.00925846556311\n"
          ]
        }
      ]
    },
    {
      "cell_type": "code",
      "source": [
        "  "
      ],
      "metadata": {
        "id": "MVLg5vESiU0t"
      },
      "execution_count": null,
      "outputs": []
    },
    {
      "cell_type": "markdown",
      "source": [
        "# Day 5\n",
        "# Date 24-01-2022"
      ],
      "metadata": {
        "id": "Mpv310dKak2k"
      }
    },
    {
      "cell_type": "markdown",
      "source": [
        ""
      ],
      "metadata": {
        "id": "ojKIpd0Pa3ic"
      }
    },
    {
      "cell_type": "code",
      "source": [
        "import cmath as cm\n",
        "import math as m\n"
      ],
      "metadata": {
        "id": "Ic5QyhYSapCG"
      },
      "execution_count": null,
      "outputs": []
    },
    {
      "cell_type": "code",
      "source": [
        "com = complex(input(\"Enter a Complex Number\"))\n",
        "print(2.718281828459045**com)\n",
        "print(cm.exp(com))\n",
        "print(cm.exp(com.real)+cm.exp(com.imag))"
      ],
      "metadata": {
        "colab": {
          "base_uri": "https://localhost:8080/"
        },
        "id": "Ue6yPR1tdUsS",
        "outputId": "ec765abc-6ff3-4175-e14e-9eb0c671364b"
      },
      "execution_count": null,
      "outputs": [
        {
          "output_type": "stream",
          "name": "stdout",
          "text": [
            "Enter a Complex Number5+5j\n",
            "(42.09920106253838-142.3169809429032j)\n",
            "(42.09920106253839-142.31698094290323j)\n",
            "(296.8263182051532+0j)\n"
          ]
        }
      ]
    },
    {
      "cell_type": "markdown",
      "source": [
        "Out of the three points,  $z_1=2.5+1.9j$ ,  $z_2=1.5−2.9j$  and  $z_3=−2+2.2j$ , find the point which is farthest away from the origin"
      ],
      "metadata": {
        "id": "klyiXIkmgfk6"
      }
    },
    {
      "cell_type": "code",
      "source": [
        "def Mag(z):\n",
        "  return(cm.sqrt(z.real**2+z.imag**2))"
      ],
      "metadata": {
        "id": "pvzvuOlQhK4q"
      },
      "execution_count": null,
      "outputs": []
    },
    {
      "cell_type": "code",
      "source": [
        "z1 = 2.5 + 1.9j\n",
        "z2 = 1.5 - 2.9j\n",
        "z3 = -2 + 2.2j\n",
        "a = Mag(z1).real\n",
        "b = Mag(z2).real\n",
        "c = Mag(z3).real\n",
        "print(\"a\",a)\n",
        "print(\"b\",b)\n",
        "print(\"c\",c)\n",
        "largest = a\n",
        "if(b>largest):\n",
        "  largest = b\n",
        "if(c>largest):\n",
        "  largest = c\n",
        "print(\"The Largest is: \", largest)"
      ],
      "metadata": {
        "colab": {
          "base_uri": "https://localhost:8080/"
        },
        "id": "QBXH9xJBdrvj",
        "outputId": "c6018b7d-f202-46c0-97f0-39043dbbe850"
      },
      "execution_count": null,
      "outputs": [
        {
          "output_type": "stream",
          "name": "stdout",
          "text": [
            "a 3.1400636936215163\n",
            "b 3.2649655434629015\n",
            "c 2.973213749463701\n",
            "The Largest is:  3.2649655434629015\n"
          ]
        }
      ]
    },
    {
      "cell_type": "markdown",
      "source": [
        "If  $a+ib=\\frac{3−i}{2+3i}+\\frac{2−2i}{1−5i}$  , find  a  and  b ."
      ],
      "metadata": {
        "id": "VFZJRwk3jhOT"
      }
    },
    {
      "cell_type": "code",
      "source": [
        "x = complex(3,-1)/complex(2,3)\n",
        "y = complex(2,-2)/complex(1,-5)\n",
        "z = x + y\n",
        "print(\"a = \",z.real)\n",
        "print(\"b = \",z.imag)\n",
        "\n"
      ],
      "metadata": {
        "colab": {
          "base_uri": "https://localhost:8080/"
        },
        "id": "QvWA5ELJjb0r",
        "outputId": "31b21db7-a681-4e02-f7e0-e7e64478de29"
      },
      "execution_count": null,
      "outputs": [
        {
          "output_type": "stream",
          "name": "stdout",
          "text": [
            "a =  0.6923076923076923\n",
            "b =  -0.5384615384615384\n"
          ]
        }
      ]
    },
    {
      "cell_type": "code",
      "source": [
        "import matplotlib.pyplot as plt\n",
        "z = complex(input(\">>\"))\n",
        "plt.scatter(z.real,z.imag)\n",
        "plt.grid()\n",
        "plt.show()"
      ],
      "metadata": {
        "colab": {
          "base_uri": "https://localhost:8080/",
          "height": 282
        },
        "id": "C32Lzytaj6as",
        "outputId": "90b7082d-364d-47de-d2af-8d788c8c0a41"
      },
      "execution_count": null,
      "outputs": [
        {
          "name": "stdout",
          "output_type": "stream",
          "text": [
            ">>5+6j\n"
          ]
        },
        {
          "output_type": "display_data",
          "data": {
            "image/png": "[encoded data removed]",
            "text/plain": [
              "<Figure size 432x288 with 1 Axes>"
            ]
          },
          "metadata": {
            "needs_background": "light"
          }
        }
      ]
    },
    {
      "cell_type": "markdown",
      "source": [
        "# Day 6\n",
        "# 28-01-2022"
      ],
      "metadata": {
        "id": "kjX8SKUT0XCS"
      }
    },
    {
      "cell_type": "markdown",
      "source": [
        "Plot a set of complex numbers "
      ],
      "metadata": {
        "id": "Hwd68mUH0Xs7"
      }
    },
    {
      "cell_type": "code",
      "source": [
        "import matplotlib.pyplot as plt\n",
        "\n",
        "n = int(input(\"Enter the number of complex numbers: \"))\n",
        "i=0\n",
        "lis = []\n",
        "while(i<n):\n",
        "  z = complex(input(\">>\"))\n",
        "  lis.append(z)\n",
        "  plt.scatter(lis[i].real,lis[i].imag)\n",
        "  i = i+1\n",
        "plt.grid()\n",
        "plt.show()"
      ],
      "metadata": {
        "id": "-taSfr00lbl5",
        "colab": {
          "base_uri": "https://localhost:8080/",
          "height": 317
        },
        "outputId": "0ba7649a-6bb8-4556-8ad1-52ead48dec93"
      },
      "execution_count": null,
      "outputs": [
        {
          "name": "stdout",
          "output_type": "stream",
          "text": [
            "Enter the number of complex numbers2\n",
            ">>1+6j\n",
            ">>4+5j\n"
          ]
        },
        {
          "output_type": "display_data",
          "data": {
            "image/png": "[encoded data removed]",
            "text/plain": [
              "<Figure size 432x288 with 1 Axes>"
            ]
          },
          "metadata": {
            "needs_background": "light"
          }
        }
      ]
    },
    {
      "cell_type": "markdown",
      "source": [
        "Cube roots of unity"
      ],
      "metadata": {
        "id": "gjTr0r0p4xeO"
      }
    },
    {
      "cell_type": "code",
      "source": [
        "import matplotlib.pyplot as plt\n",
        "import math as m\n",
        "z1 = 1 + 0j\n",
        "z2 = -1/2 - m.sqrt(3)/2\n",
        "z3 = -1/2 + m.sqrt(3)/2\n",
        "plt.scatter(z1.real,z1.imag)\n",
        "plt.scatter(z2.real,z2.imag)\n",
        "plt.scatter(z3.real,z3.imag)\n",
        "plt.grid()\n",
        "plt.show()"
      ],
      "metadata": {
        "colab": {
          "base_uri": "https://localhost:8080/",
          "height": 265
        },
        "id": "QuBV4NUn4xBV",
        "outputId": "17afbad3-178b-4273-e005-b59510cd3841"
      },
      "execution_count": null,
      "outputs": [
        {
          "output_type": "display_data",
          "data": {
            "image/png": "[encoded data removed]",
            "text/plain": [
              "<Figure size 432x288 with 1 Axes>"
            ]
          },
          "metadata": {
            "needs_background": "light"
          }
        }
      ]
    },
    {
      "cell_type": "code",
      "source": [
        "# Obtaining cube roots of unity (denoted here as cbou)\n",
        "import sympy as sp\n",
        "a = sp.Symbol('a')\n",
        "equation = sp.Eq(a**3, 1)\n",
        "cbou = sp.solve(equation, a)\n",
        "# Printing the cube roots of unity obtained\n",
        "print(\"\\nObtained cube roots of unity:\")\n",
        "for r in cbou: print(r)"
      ],
      "metadata": {
        "colab": {
          "base_uri": "https://localhost:8080/"
        },
        "id": "7R6VRX_m7mVw",
        "outputId": "5772c8d5-fbc0-4b5c-b36c-1435e2f6a5c1"
      },
      "execution_count": null,
      "outputs": [
        {
          "output_type": "stream",
          "name": "stdout",
          "text": [
            "\n",
            "Obtained cube roots of unity:\n",
            "1\n",
            "-1/2 - sqrt(3)*I/2\n",
            "-1/2 + sqrt(3)*I/2\n"
          ]
        }
      ]
    },
    {
      "cell_type": "code",
      "source": [
        "import numpy as np\n",
        "p=np.poly1d([1,0,0,0,0,0,-1])\n",
        "print(p)"
      ],
      "metadata": {
        "colab": {
          "base_uri": "https://localhost:8080/"
        },
        "id": "6HXdNcXl9Qy5",
        "outputId": "a9339bce-706c-45d5-9c98-f6cc031dd726"
      },
      "execution_count": null,
      "outputs": [
        {
          "output_type": "stream",
          "name": "stdout",
          "text": [
            "   6\n",
            "1 x - 1\n"
          ]
        }
      ]
    },
    {
      "cell_type": "markdown",
      "source": [
        "# Day 7\n",
        "# 04-01-2022"
      ],
      "metadata": {
        "id": "x3uI29tu28FJ"
      }
    },
    {
      "cell_type": "code",
      "source": [
        ""
      ],
      "metadata": {
        "id": "XW1s6i8E3B1A"
      },
      "execution_count": null,
      "outputs": []
    },
    {
      "cell_type": "markdown",
      "source": [
        "# Day 8\n",
        "# 07-02-2022"
      ],
      "metadata": {
        "id": "TIaXt_81ivLU"
      }
    },
    {
      "cell_type": "code",
      "source": [
        "from math import *\n",
        "from sympy import *\n",
        "x,y = symbols(\"x,y\")\n",
        "f = x**2 + 2*y + 1\n",
        "diff_x  = diff(f,x,1)\n",
        "print(diff_x)"
      ],
      "metadata": {
        "colab": {
          "base_uri": "https://localhost:8080/"
        },
        "id": "_y1uHorLizHj",
        "outputId": "982190f2-8472-4980-b6cd-bfda5150ca7e"
      },
      "execution_count": null,
      "outputs": [
        {
          "output_type": "stream",
          "name": "stdout",
          "text": [
            "2*x\n"
          ]
        }
      ]
    },
    {
      "cell_type": "markdown",
      "source": [
        "Caauchy Riemann equations: a function is said to be analytic if it satisfies both the CR equations\n",
        "\n"
      ],
      "metadata": {
        "id": "mi0HzWNZkDkV"
      }
    },
    {
      "cell_type": "markdown",
      "source": [
        "Check if f(z)= x^2 -y^2 +2xyi  is analytic"
      ],
      "metadata": {
        "id": "jsmaMyLWkV9V"
      }
    },
    {
      "cell_type": "code",
      "source": [
        "x,y,i = symbols(\"x,y,i\")\n",
        "u = x**2  - y**2\n",
        "v = 2*x*y\n",
        "diff_ux = diff(u,x,1)\n",
        "\n",
        "diff_uy = diff(u,y,1)\n",
        "diff_vx = diff(v,x,1)\n",
        "diff_vy = diff(v,y,1)\n",
        "\n",
        "print(diff_ux)\n",
        "print(diff_uy)\n",
        "print(diff_vx)\n",
        "print(diff_vy)\n",
        "if(diff_ux == diff_vy and diff_uy == - diff_vx):\n",
        "  print(\"analyticla\")\n",
        "else:\n",
        "  print(\"Not Analytical\")\n"
      ],
      "metadata": {
        "colab": {
          "base_uri": "https://localhost:8080/"
        },
        "id": "lC7CpqSOjkgD",
        "outputId": "8fa440df-50ca-48f9-92a3-b46deeda6728"
      },
      "execution_count": null,
      "outputs": [
        {
          "output_type": "stream",
          "name": "stdout",
          "text": [
            "2*x\n",
            "-2*y\n",
            "2*y\n",
            "2*x\n",
            "analyticla\n"
          ]
        }
      ]
    },
    {
      "cell_type": "markdown",
      "source": [
        "f(z) = 2xy + 2xi"
      ],
      "metadata": {
        "id": "CKfnZUDvnW7B"
      }
    },
    {
      "cell_type": "code",
      "source": [
        "x,y,i = symbols(\"x,y,i\")\n",
        "u = 2*x*y\n",
        "v = 2*x*i\n",
        "diff_ux = diff(u,x,1)\n",
        "\n",
        "diff_uy = diff(u,y,1)\n",
        "diff_vx = diff(v,x,1)\n",
        "diff_vy = diff(v,y,1)\n",
        "\n",
        "print(diff_ux)\n",
        "print(diff_uy)\n",
        "print(diff_vx)\n",
        "print(diff_vy)\n",
        "if(diff_ux == diff_vy and diff_uy == - diff_vx):\n",
        "  print(\"analyticla\")\n",
        "else:\n",
        "  print(\"Not Analytical\")\n"
      ],
      "metadata": {
        "colab": {
          "base_uri": "https://localhost:8080/"
        },
        "id": "SofdbttjlZvE",
        "outputId": "3c425b06-cf0b-4df9-c29b-902b00784102"
      },
      "execution_count": null,
      "outputs": [
        {
          "output_type": "stream",
          "name": "stdout",
          "text": [
            "2*y\n",
            "2*x\n",
            "2*i\n",
            "0\n",
            "Not Analytical\n"
          ]
        }
      ]
    },
    {
      "cell_type": "markdown",
      "source": [
        "f(z) =  (x-iy)/(x^2+y^2)"
      ],
      "metadata": {
        "id": "OkGjIj3Foxf2"
      }
    },
    {
      "cell_type": "code",
      "source": [
        "x,y,i = symbols(\"x,y,i\")\n",
        "u = (x)/(x**2+ y**2)\n",
        "v = -(y)/(x**2+ y**2)\n",
        "diff_ux = diff(u,x,1)\n",
        "\n",
        "diff_uy = diff(u,y,1)\n",
        "diff_vx = diff(v,x,1)\n",
        "diff_vy = diff(v,y,1)\n",
        "\n",
        "print(diff_ux)\n",
        "print(diff_uy)\n",
        "print(diff_vx)\n",
        "print(diff_vy)\n",
        "if(diff_ux == diff_vy and diff_uy == - diff_vx):\n",
        "  print(\"analyticla\")\n",
        "else:\n",
        "  print(\"Not Analytical\")\n"
      ],
      "metadata": {
        "colab": {
          "base_uri": "https://localhost:8080/"
        },
        "id": "tWqxWi5Kng3i",
        "outputId": "7b5da886-6a94-454a-c8b7-898283d6424b"
      },
      "execution_count": null,
      "outputs": [
        {
          "output_type": "stream",
          "name": "stdout",
          "text": [
            "-2*x**2/(x**2 + y**2)**2 + 1/(x**2 + y**2)\n",
            "-2*x*y/(x**2 + y**2)**2\n",
            "2*x*y/(x**2 + y**2)**2\n",
            "2*y**2/(x**2 + y**2)**2 - 1/(x**2 + y**2)\n",
            "Not Analytical\n"
          ]
        }
      ]
    },
    {
      "cell_type": "markdown",
      "source": [
        "f(z) = 2x + ixy^2"
      ],
      "metadata": {
        "id": "xm4Q9_FQpnue"
      }
    },
    {
      "cell_type": "code",
      "source": [
        "x,y,i = symbols(\"x,y,i\")\n",
        "u = 2*x\n",
        "v = x*y**2\n",
        "diff_ux = diff(u,x,1)\n",
        "\n",
        "diff_uy = diff(u,y,1)\n",
        "diff_vx = diff(v,x,1)\n",
        "diff_vy = diff(v,y,1)\n",
        "\n",
        "print(diff_ux)\n",
        "print(diff_uy)\n",
        "print(diff_vx)\n",
        "print(diff_vy)\n",
        "if(diff_ux == diff_vy and diff_uy == - diff_vx):\n",
        "  print(\"analyticla\")\n",
        "else:\n",
        "  print(\"Not Analytical\")\n"
      ],
      "metadata": {
        "colab": {
          "base_uri": "https://localhost:8080/"
        },
        "id": "Z4JnpzBmpKst",
        "outputId": "d8d632dd-bbd5-4d82-d82f-6c778fe7c9b3"
      },
      "execution_count": null,
      "outputs": [
        {
          "output_type": "stream",
          "name": "stdout",
          "text": [
            "2\n",
            "0\n",
            "y**2\n",
            "2*x*y\n",
            "Not Analytical\n"
          ]
        }
      ]
    },
    {
      "cell_type": "code",
      "source": [
        "x,y,i = symbols(\"x,y,i\")\n",
        "u = 2*x\n",
        "v = x*y**2\n",
        "diff_ux = diff(u,x,1)\n",
        "\n",
        "diff_uy = diff(u,y,1)\n",
        "diff_vx = diff(v,x,1)\n",
        "diff_vy = diff(v,y,1)\n",
        "\n",
        "print(diff_ux)\n",
        "print(diff_uy)\n",
        "print(diff_vx)\n",
        "print(diff_vy)\n",
        "if(diff_ux == diff_vy and diff_uy == - diff_vx):\n",
        "  print(\"analyticla\")\n",
        "else:\n",
        "  print(\"Not Analytical\")\n"
      ],
      "metadata": {
        "id": "yfA2EEOzpyPF"
      },
      "execution_count": null,
      "outputs": []
    },
    {
      "cell_type": "markdown",
      "source": [
        "f(z) = xy +iy"
      ],
      "metadata": {
        "id": "5fM45DfRqvQF"
      }
    },
    {
      "cell_type": "code",
      "source": [
        "x,y,i = symbols(\"x,y,i\")\n",
        "u = x*y\n",
        "v = y\n",
        "diff_ux = diff(u,x,1)\n",
        "\n",
        "diff_uy = diff(u,y,1)\n",
        "diff_vx = diff(v,x,1)\n",
        "diff_vy = diff(v,y,1)\n",
        "\n",
        "print(diff_ux)\n",
        "print(diff_uy)\n",
        "print(diff_vx)\n",
        "print(diff_vy)\n",
        "if(diff_ux == diff_vy and diff_uy == - diff_vx):\n",
        "  print(\"analyticla\")\n",
        "else:\n",
        "  print(\"Not Analytical\")\n"
      ],
      "metadata": {
        "colab": {
          "base_uri": "https://localhost:8080/"
        },
        "id": "R5nVG2voqx5A",
        "outputId": "6a73bb19-0383-4384-9dc0-8de389c77fa8"
      },
      "execution_count": null,
      "outputs": [
        {
          "output_type": "stream",
          "name": "stdout",
          "text": [
            "y\n",
            "x\n",
            "0\n",
            "1\n",
            "Not Analytical\n"
          ]
        }
      ]
    },
    {
      "cell_type": "markdown",
      "source": [
        "User Input the function"
      ],
      "metadata": {
        "id": "hQP6-4BPrII_"
      }
    },
    {
      "cell_type": "code",
      "source": [
        "u,v,x,y,i = symbols(\"u,v,x,y,i\")\n",
        "u = input(\">>\")\n",
        "v = input(\">>\")\n",
        "diff_ux = diff(u,x,1)\n",
        "\n",
        "diff_uy = diff(u,y,1)\n",
        "diff_vx = diff(v,x,1)\n",
        "diff_vy = diff(v,y,1)\n",
        "\n",
        "print(diff_ux)\n",
        "print(diff_uy)\n",
        "print(diff_vx)\n",
        "print(diff_vy)\n",
        "if(diff_ux == diff_vy and diff_uy == - diff_vx):\n",
        "  print(\"analyticla\")\n",
        "else:\n",
        "  print(\"Not Analytical\")\n"
      ],
      "metadata": {
        "colab": {
          "base_uri": "https://localhost:8080/"
        },
        "id": "0r74x_1aq2o2",
        "outputId": "ba85c5bd-90d7-4d74-d433-db006dd1e81f"
      },
      "execution_count": null,
      "outputs": [
        {
          "output_type": "stream",
          "name": "stdout",
          "text": [
            ">>x**2\n",
            ">>y**2\n",
            "2*x\n",
            "0\n",
            "0\n",
            "2*y\n",
            "Not Analytical\n"
          ]
        }
      ]
    },
    {
      "cell_type": "code",
      "source": [
        ""
      ],
      "metadata": {
        "id": "_qnj9YHRs1SS"
      },
      "execution_count": null,
      "outputs": []
    },
    {
      "cell_type": "markdown",
      "source": [
        "# Day 9\n",
        "# 21-02-2022"
      ],
      "metadata": {
        "id": "EA66S6PGpDb5"
      }
    },
    {
      "cell_type": "markdown",
      "source": [
        "Plotting on polar form "
      ],
      "metadata": {
        "id": "LymN99aIpI5N"
      }
    },
    {
      "cell_type": "code",
      "source": [
        "from matplotlib.pyplot import *\n",
        "figure(figsize=(10,10))\n",
        "\n",
        "polar(10, 2,marker=\"*\",color = \"red\")\n",
        "show()"
      ],
      "metadata": {
        "colab": {
          "base_uri": "https://localhost:8080/",
          "height": 613
        },
        "id": "Mun5DwVppHrC",
        "outputId": "7999b093-e440-422d-8b93-3da79fe5a2b2"
      },
      "execution_count": null,
      "outputs": [
        {
          "output_type": "display_data",
          "data": {
            "image/png": "[encoded data removed]",
            "text/plain": [
              "<Figure size 720x720 with 1 Axes>"
            ]
          },
          "metadata": {
            "needs_background": "light"
          }
        }
      ]
    },
    {
      "cell_type": "code",
      "source": [
        ""
      ],
      "metadata": {
        "id": "WeeDIK8Nxvs6"
      },
      "execution_count": null,
      "outputs": []
    },
    {
      "cell_type": "code",
      "source": [
        ""
      ],
      "metadata": {
        "id": "tvGr2tDsn4UB"
      },
      "execution_count": null,
      "outputs": []
    },
    {
      "cell_type": "markdown",
      "source": [
        "# Day 10 \n",
        "# 25-02-22 : Harmonic Functions"
      ],
      "metadata": {
        "id": "oRjUuU9XoA11"
      }
    },
    {
      "cell_type": "markdown",
      "source": [
        "Write an algorithm to check whether a given function is harmonic."
      ],
      "metadata": {
        "id": "IgKlFHk0oNMz"
      }
    },
    {
      "cell_type": "markdown",
      "metadata": {
        "id": "5667c9f5"
      },
      "source": [
        "1. START\n",
        "2. Define symbols x and y.\n",
        "3. Use the diff() function to find the second partial derivatives of function with respect to x and y.\n",
        "4. Use the if_else condition to check whether the function satisfies the Laplace's equation and print the corresponding output.\n",
        "5. STOP"
      ]
    },
    {
      "cell_type": "code",
      "execution_count": null,
      "metadata": {
        "id": "e3cd995b",
        "outputId": "c9119a23-1a2e-4bea-9221-e6c049095c1a",
        "colab": {
          "base_uri": "https://localhost:8080/"
        }
      },
      "outputs": [
        {
          "output_type": "stream",
          "name": "stdout",
          "text": [
            "Laplace Equation Satisfied, it is harmonic\n"
          ]
        }
      ],
      "source": [
        "import sympy as sp\n",
        "x = sp.Symbol('x')\n",
        "y = sp.Symbol('y')\n",
        "\n",
        "f = x*y\n",
        "diff_x = sp.diff(f,x,2)\n",
        "diff_y = sp.diff(f,y,2)\n",
        "\n",
        "if(sp.simplify(diff_x + diff_y) == 0):\n",
        "    print(\"Laplace Equation Satisfied, it is harmonic\")\n",
        "else:\n",
        "    print(\"Laplace Equation is NOT Satisfied, it is NOT harmonic\")"
      ]
    },
    {
      "cell_type": "code",
      "execution_count": null,
      "metadata": {
        "id": "ac3f0731",
        "outputId": "7a936e0e-e3b2-43c3-dea4-b4a2da55d6e5",
        "colab": {
          "base_uri": "https://localhost:8080/"
        }
      },
      "outputs": [
        {
          "output_type": "stream",
          "name": "stdout",
          "text": [
            "Laplace Equation Satisfied, it is harmonic\n"
          ]
        }
      ],
      "source": [
        "import sympy as sp\n",
        "x = sp.Symbol('x')\n",
        "y = sp.Symbol('y')\n",
        "\n",
        "f = sp.log(sp.sqrt(x**2+y**2))\n",
        "diff_x = sp.diff(f,x,2)\n",
        "diff_y = sp.diff(f,y,2)\n",
        "\n",
        "if(sp.simplify(diff_x + diff_y) == 0):\n",
        "    print(\"Laplace Equation Satisfied, it is harmonic\")\n",
        "else:\n",
        "    print(\"Laplace Equation is NOT Satisfied, it is NOT harmonic\")"
      ]
    },
    {
      "cell_type": "code",
      "execution_count": null,
      "metadata": {
        "id": "04c61393",
        "outputId": "fd08bfc0-cd36-4eca-86b3-0e2b4bb44cd4",
        "colab": {
          "base_uri": "https://localhost:8080/"
        }
      },
      "outputs": [
        {
          "output_type": "stream",
          "name": "stdout",
          "text": [
            "Laplace Equation Satisfied, it is harmonic\n"
          ]
        }
      ],
      "source": [
        "import sympy as sp\n",
        "x = sp.Symbol('x')\n",
        "y = sp.Symbol('y')\n",
        "\n",
        "f = 1/2*sp.log(x**2+y**2)\n",
        "diff_x = sp.diff(f,x,2)\n",
        "diff_y = sp.diff(f,y,2)\n",
        "\n",
        "if(sp.simplify(diff_x + diff_y) == 0):\n",
        "    print(\"Laplace Equation Satisfied, it is harmonic\")\n",
        "else:\n",
        "    print(\"Laplace Equation is NOT Satisfied, it is NOT harmonic\")"
      ]
    },
    {
      "cell_type": "markdown",
      "source": [
        "# Day 11\n",
        "# 28-02-2022"
      ],
      "metadata": {
        "id": "VaXqYa9Ar_Uw"
      }
    },
    {
      "cell_type": "code",
      "source": [
        "\n",
        "from sympy import *\n",
        "def conjugate():\n",
        "  x,y,c = symbols(\"x,y,c\")\n",
        "  f = input(\"Enter the Functions\")\n",
        "  print(\"\")\n",
        "  dx2 = diff(f,x,2)\n",
        "  dy2 = diff(f,y,2)\n",
        "  if dx2 + dy2 == 0:\n",
        "    print(\"The Function\",f,\"is harmonic\")  \n",
        "    dvx = diff(f,x)\n",
        "    dvy = diff(f,y)\n",
        "    ivx = -integrate(dvx,y)\n",
        "    ivy = integrate(dvy,x)\n",
        "    v = ivx + ivy\n",
        "    print(\"The Harmonic Conjugate of U is: \")\n",
        "    display(v)\n",
        "  else:\n",
        "    print(\"The Function\", f,\"is not harmonic\")"
      ],
      "metadata": {
        "id": "SqQROUUvsLIz"
      },
      "execution_count": null,
      "outputs": []
    },
    {
      "cell_type": "code",
      "source": [
        "conjugate()"
      ],
      "metadata": {
        "colab": {
          "base_uri": "https://localhost:8080/",
          "height": 110
        },
        "id": "XPiWYVWfyhcV",
        "outputId": "895dfc6e-1daa-46e1-8bce-8d56f1527760"
      },
      "execution_count": null,
      "outputs": [
        {
          "output_type": "stream",
          "name": "stdout",
          "text": [
            "Enter the Functionsx**2-y**2\n",
            "\n",
            "The Function x**2-y**2 is harmonic\n",
            "The Harmonic Conjugate of U is: \n"
          ]
        },
        {
          "output_type": "display_data",
          "data": {
            "text/latex": "$\\displaystyle - 4 x y$",
            "text/plain": [
              "-4*x*y"
            ]
          },
          "metadata": {}
        }
      ]
    },
    {
      "cell_type": "markdown",
      "source": [
        "Milne Thomson Method"
      ],
      "metadata": {
        "id": "i5ac09BpIs0D"
      }
    },
    {
      "cell_type": "code",
      "source": [
        "from sympy import *\n",
        "import numpy\n",
        "import cmath \n",
        "def milne_thomson():\n",
        "  x,y,c,z = symbols(\"x,y,c,z\")\n",
        "  f = input(\"Enter the Functions\")\n",
        "  print(\"\")\n",
        "  Ux = diff(f,x,1)\n",
        "  Vx = -diff(f,y,1)\n",
        "\n",
        "  F = complex(Ux.subs([(x, z), (y, 0)]),Vx.subs([(x, z), (y, 0)]))\n",
        "  IF = integrate(F,z)\n",
        "  print(IF)\n",
        "  "
      ],
      "metadata": {
        "id": "BfSLug-R2zzv"
      },
      "execution_count": null,
      "outputs": []
    },
    {
      "cell_type": "code",
      "source": [
        "milne_thomson()"
      ],
      "metadata": {
        "colab": {
          "base_uri": "https://localhost:8080/"
        },
        "id": "kK46MdRnNBVj",
        "outputId": "aaf06b8c-6764-4f2f-852a-19af9991d0b0"
      },
      "execution_count": null,
      "outputs": [
        {
          "output_type": "stream",
          "name": "stdout",
          "text": [
            "Enter the Functionsx-y\n",
            "\n",
            "z*(1.0 + 1.0*I)\n"
          ]
        }
      ]
    },
    {
      "cell_type": "code",
      "source": [
        "from sympy import *\n",
        "import numpy\n",
        "import cmath \n",
        "def milne_thomson2():\n",
        "  x,y,c,z = symbols(\"x,y,c,z\")\n",
        "  f = input(\"Enter the Functions\")\n",
        "  print(\"\")\n",
        "  Ux = diff(f,x,1)\n",
        "  Vx = -diff(f,y,1)\n",
        "  f1 = integrate(Ux.subs([(x, z), (y, 0)]),z)\n",
        "  f2 = integrate(Vx.subs([(x, z), (y, 0)]),z)\n",
        "  if(isnumeric(f1) or isnumeric(f1)):\n",
        "     F = complex(f1,f2)\n",
        "  print(F)\n",
        "  "
      ],
      "metadata": {
        "id": "RXGC1z35NHuw"
      },
      "execution_count": null,
      "outputs": []
    },
    {
      "cell_type": "code",
      "source": [
        "milne_thomson2()"
      ],
      "metadata": {
        "colab": {
          "base_uri": "https://localhost:8080/",
          "height": 331
        },
        "id": "hr0AwjtaObIC",
        "outputId": "2437b050-83d1-4d16-e6bb-09fcada38b56"
      },
      "execution_count": null,
      "outputs": [
        {
          "output_type": "stream",
          "name": "stdout",
          "text": [
            "Enter the Functionsx-y\n",
            "\n"
          ]
        },
        {
          "output_type": "error",
          "ename": "NameError",
          "evalue": "ignored",
          "traceback": [
            "\u001b[0;31m---------------------------------------------------------------------------\u001b[0m",
            "\u001b[0;31mNameError\u001b[0m                                 Traceback (most recent call last)",
            "\u001b[0;32m<ipython-input-2-fd3a624854df>\u001b[0m in \u001b[0;36m<module>\u001b[0;34m()\u001b[0m\n\u001b[0;32m----> 1\u001b[0;31m \u001b[0mmilne_thomson2\u001b[0m\u001b[0;34m(\u001b[0m\u001b[0;34m)\u001b[0m\u001b[0;34m\u001b[0m\u001b[0;34m\u001b[0m\u001b[0m\n\u001b[0m",
            "\u001b[0;32m<ipython-input-1-c3d32d59f543>\u001b[0m in \u001b[0;36mmilne_thomson2\u001b[0;34m()\u001b[0m\n\u001b[1;32m     10\u001b[0m   \u001b[0mf1\u001b[0m \u001b[0;34m=\u001b[0m \u001b[0mintegrate\u001b[0m\u001b[0;34m(\u001b[0m\u001b[0mUx\u001b[0m\u001b[0;34m.\u001b[0m\u001b[0msubs\u001b[0m\u001b[0;34m(\u001b[0m\u001b[0;34m[\u001b[0m\u001b[0;34m(\u001b[0m\u001b[0mx\u001b[0m\u001b[0;34m,\u001b[0m \u001b[0mz\u001b[0m\u001b[0;34m)\u001b[0m\u001b[0;34m,\u001b[0m \u001b[0;34m(\u001b[0m\u001b[0my\u001b[0m\u001b[0;34m,\u001b[0m \u001b[0;36m0\u001b[0m\u001b[0;34m)\u001b[0m\u001b[0;34m]\u001b[0m\u001b[0;34m)\u001b[0m\u001b[0;34m,\u001b[0m\u001b[0mz\u001b[0m\u001b[0;34m)\u001b[0m\u001b[0;34m\u001b[0m\u001b[0;34m\u001b[0m\u001b[0m\n\u001b[1;32m     11\u001b[0m   \u001b[0mf2\u001b[0m \u001b[0;34m=\u001b[0m \u001b[0mintegrate\u001b[0m\u001b[0;34m(\u001b[0m\u001b[0mVx\u001b[0m\u001b[0;34m.\u001b[0m\u001b[0msubs\u001b[0m\u001b[0;34m(\u001b[0m\u001b[0;34m[\u001b[0m\u001b[0;34m(\u001b[0m\u001b[0mx\u001b[0m\u001b[0;34m,\u001b[0m \u001b[0mz\u001b[0m\u001b[0;34m)\u001b[0m\u001b[0;34m,\u001b[0m \u001b[0;34m(\u001b[0m\u001b[0my\u001b[0m\u001b[0;34m,\u001b[0m \u001b[0;36m0\u001b[0m\u001b[0;34m)\u001b[0m\u001b[0;34m]\u001b[0m\u001b[0;34m)\u001b[0m\u001b[0;34m,\u001b[0m\u001b[0mz\u001b[0m\u001b[0;34m)\u001b[0m\u001b[0;34m\u001b[0m\u001b[0;34m\u001b[0m\u001b[0m\n\u001b[0;32m---> 12\u001b[0;31m   \u001b[0;32mif\u001b[0m\u001b[0;34m(\u001b[0m\u001b[0misnumeric\u001b[0m\u001b[0;34m(\u001b[0m\u001b[0mf1\u001b[0m\u001b[0;34m)\u001b[0m \u001b[0;32mor\u001b[0m \u001b[0misnumeric\u001b[0m\u001b[0;34m(\u001b[0m\u001b[0mf1\u001b[0m\u001b[0;34m)\u001b[0m\u001b[0;34m)\u001b[0m\u001b[0;34m:\u001b[0m\u001b[0;34m\u001b[0m\u001b[0;34m\u001b[0m\u001b[0m\n\u001b[0m\u001b[1;32m     13\u001b[0m      \u001b[0mF\u001b[0m \u001b[0;34m=\u001b[0m \u001b[0mcomplex\u001b[0m\u001b[0;34m(\u001b[0m\u001b[0mf1\u001b[0m\u001b[0;34m,\u001b[0m\u001b[0mf2\u001b[0m\u001b[0;34m)\u001b[0m\u001b[0;34m\u001b[0m\u001b[0;34m\u001b[0m\u001b[0m\n\u001b[1;32m     14\u001b[0m   \u001b[0mprint\u001b[0m\u001b[0;34m(\u001b[0m\u001b[0mF\u001b[0m\u001b[0;34m)\u001b[0m\u001b[0;34m\u001b[0m\u001b[0;34m\u001b[0m\u001b[0m\n",
            "\u001b[0;31mNameError\u001b[0m: name 'isnumeric' is not defined"
          ]
        }
      ]
    },
    {
      "cell_type": "code",
      "source": [
        ""
      ],
      "metadata": {
        "id": "8r32z0kbRUQi"
      },
      "execution_count": null,
      "outputs": []
    },
    {
      "cell_type": "markdown",
      "source": [
        "# Day 12\n",
        "# 07-03-2022"
      ],
      "metadata": {
        "id": "4feRi7doxVUO"
      }
    },
    {
      "cell_type": "code",
      "source": [
        "from math import *\n",
        "from sympy import * \n",
        "import math\n",
        "\n",
        "def conjugate():\n",
        "    x,y,c = symbols(\"x,y,c\")\n",
        "    f = input(\"Enter the function u:\")\n",
        "    print(\"\")\n",
        "    dx2 = diff(f,x,2)\n",
        "    dy2 = diff(f,y,2)\n",
        "    \n",
        "    if dx2+dy2 == 0:\n",
        "        print(\"The function\", f, \"is harmonic.\")\n",
        "        dux = diff(f,x)\n",
        "        duy = diff(f,y)\n",
        "        iv = integrate(-duy, x)\n",
        "        vy = diff(iv, y)\n",
        "        gy = dux - vy\n",
        "        ig = integrate(gy, y)\n",
        "        v = iv + ig\n",
        "        \n",
        "        print(\"The harmonic conjugate of u is:\")\n",
        "        display(v)   \n",
        "    else:\n",
        "        print(\"The function\", f, \"is NOT harmonic\")\n",
        "        "
      ],
      "metadata": {
        "id": "PDAS-Eioxe9c"
      },
      "execution_count": null,
      "outputs": []
    },
    {
      "cell_type": "code",
      "source": [
        "conjugate()"
      ],
      "metadata": {
        "colab": {
          "base_uri": "https://localhost:8080/",
          "height": 110
        },
        "id": "VG_99U0J1Q79",
        "outputId": "b2db5d23-eaef-4689-d228-34afcfb994b5"
      },
      "execution_count": null,
      "outputs": [
        {
          "output_type": "stream",
          "name": "stdout",
          "text": [
            "Enter the function u:x**2-y**2\n",
            "\n",
            "The function x**2-y**2 is harmonic.\n",
            "The harmonic conjugate of u is:\n"
          ]
        },
        {
          "output_type": "display_data",
          "data": {
            "text/latex": "$\\displaystyle 2 x y$",
            "text/plain": [
              "2*x*y"
            ]
          },
          "metadata": {}
        }
      ]
    },
    {
      "cell_type": "code",
      "source": [
        "x = symbols(\"x\")\n",
        "print(integrate(\"x**2\",x))"
      ],
      "metadata": {
        "colab": {
          "base_uri": "https://localhost:8080/"
        },
        "id": "hU0VpLCj1Rgy",
        "outputId": "b34871ad-df7a-4508-e454-abbc9c0a2e31"
      },
      "execution_count": null,
      "outputs": [
        {
          "output_type": "stream",
          "name": "stdout",
          "text": [
            "x**3/3\n"
          ]
        }
      ]
    },
    {
      "cell_type": "code",
      "source": [
        "def harmonic_conj(u):\n",
        "  h,g,x,y = symbols(\"h,g,x,y\")\n",
        "  ux = diff(u,x)\n",
        "  uy = diff(u,y)\n",
        "  vx = - uy\n",
        "  vy = ux\n",
        "\n",
        "  v1 = integrate(vx,x)+h\n",
        "  v2 = integrate(vy,y)+g\n",
        "  v1y  = diff(v1,y)\n",
        "  v2x = diff(v2,x)\n",
        "  eq1 = Eq(v1y, vy)\n",
        "  eq2 = Eq(v2x,vx)\n",
        "  h_ = solve(eq1,h)\n",
        "  print(h_)"
      ],
      "metadata": {
        "id": "o7IWSegP3qtd"
      },
      "execution_count": null,
      "outputs": []
    },
    {
      "cell_type": "code",
      "source": [
        "harmonic_conj(\"x**2-y**2\")"
      ],
      "metadata": {
        "colab": {
          "base_uri": "https://localhost:8080/"
        },
        "id": "yAL2q3hT4pr1",
        "outputId": "ec183bac-46d0-4360-bb17-09350747e1d0"
      },
      "execution_count": null,
      "outputs": [
        {
          "output_type": "stream",
          "name": "stdout",
          "text": [
            "[]\n"
          ]
        }
      ]
    },
    {
      "cell_type": "markdown",
      "source": [
        "# Day 13 \n",
        "# 11-03-2022"
      ],
      "metadata": {
        "id": "ldNPe1gEIHTK"
      }
    },
    {
      "cell_type": "markdown",
      "source": [
        ""
      ],
      "metadata": {
        "id": "bnQvt2XTINhk"
      }
    },
    {
      "cell_type": "code",
      "source": [
        ""
      ],
      "metadata": {
        "id": "Te6ri2UyIM2s"
      },
      "execution_count": null,
      "outputs": []
    }
  ]
}