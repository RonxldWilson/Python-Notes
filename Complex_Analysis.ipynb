{
  "nbformat": 4,
  "nbformat_minor": 0,
  "metadata": {
    "colab": {
      "name": "Complex Analysis ",
      "provenance": [],
      "collapsed_sections": [],
      "authorship_tag": "ABX9TyN6OnIfxDIbHyLRw6vZDwQp",
      "include_colab_link": true
    },
    "kernelspec": {
      "name": "python3",
      "display_name": "Python 3"
    },
    "language_info": {
      "name": "python"
    }
  },
  "cells": [
    {
      "cell_type": "markdown",
      "metadata": {
        "id": "view-in-github",
        "colab_type": "text"
      },
      "source": [
        "<a href=\"https://colab.research.google.com/github/RonxldWilson/Python-Notes/blob/main/Complex_Analysis.ipynb\" target=\"_parent\"><img src=\"https://colab.research.google.com/assets/colab-badge.svg\" alt=\"Open In Colab\"/></a>"
      ]
    },
    {
      "cell_type": "markdown",
      "source": [
        "# Name: Ronald Wilson \n",
        "# Class: 6CMS\n",
        "# Roll No: 1940224\n",
        " "
      ],
      "metadata": {
        "id": "EFfFP6Gxwbe1"
      }
    },
    {
      "cell_type": "markdown",
      "source": [
        "# Day 1\n",
        "# Date: 07-01-2022"
      ],
      "metadata": {
        "id": "uprGCfdKtdev"
      }
    },
    {
      "cell_type": "markdown",
      "source": [
        "Date Display"
      ],
      "metadata": {
        "id": "xtMTxvbitd63"
      }
    },
    {
      "cell_type": "code",
      "source": [
        "from datetime import date \n",
        "print(date.today())"
      ],
      "metadata": {
        "colab": {
          "base_uri": "https://localhost:8080/"
        },
        "id": "NyT5pa_juRLL",
        "outputId": "a5c43857-a238-41b4-9b4f-cd291d08f157"
      },
      "execution_count": 4,
      "outputs": [
        {
          "output_type": "stream",
          "name": "stdout",
          "text": [
            "2022-01-07\n"
          ]
        }
      ]
    },
    {
      "cell_type": "code",
      "source": [
        "import datetime\n",
        "now = datetime.datetime.now()\n",
        "print (\"Current date and time : \")\n",
        "print (now.strftime(\"%Y-%m-%d %H:%M:%S\"))"
      ],
      "metadata": {
        "colab": {
          "base_uri": "https://localhost:8080/"
        },
        "id": "vsNPtzg0tfjf",
        "outputId": "9187a9f7-f0d3-419f-be6c-ae3086932ede"
      },
      "execution_count": 1,
      "outputs": [
        {
          "output_type": "stream",
          "name": "stdout",
          "text": [
            "Current date and time : \n",
            "2022-01-07 08:47:46\n"
          ]
        }
      ]
    },
    {
      "cell_type": "markdown",
      "source": [
        "Print User's First and Last Name "
      ],
      "metadata": {
        "id": "4p9sxhi0usyQ"
      }
    },
    {
      "cell_type": "code",
      "source": [
        "first = input(\"Enter the First Name: \")\n",
        "last =  input(\"Enter the Last Name: \")\n",
        "name = first +' '+ last\n",
        "print(\"Name :\", name)"
      ],
      "metadata": {
        "colab": {
          "base_uri": "https://localhost:8080/"
        },
        "id": "2ZHJHZSLuxK4",
        "outputId": "e20681b3-8aea-48b6-b48b-80b776f46690"
      },
      "execution_count": 8,
      "outputs": [
        {
          "output_type": "stream",
          "name": "stdout",
          "text": [
            "Enter the First Name: Ron \n",
            "Enter the Last Name: Wilson \n",
            "Name : Ron  Wilson \n"
          ]
        }
      ]
    },
    {
      "cell_type": "markdown",
      "source": [
        "Check if number is even or odd"
      ],
      "metadata": {
        "id": "oRVqXgVxuqLX"
      }
    },
    {
      "cell_type": "code",
      "source": [
        "num = int(input(\"Enter the number: \"))\n",
        "if(num%2 ==0):\n",
        "  print(\"Number is Even\")\n",
        "else: \n",
        "  print(\"Number is Odd\")\n"
      ],
      "metadata": {
        "colab": {
          "base_uri": "https://localhost:8080/"
        },
        "id": "tRR58aMLv03T",
        "outputId": "8c1ed217-ab02-4379-928c-5ee487ee5f53"
      },
      "execution_count": 10,
      "outputs": [
        {
          "output_type": "stream",
          "name": "stdout",
          "text": [
            "Enter the number: 69\n",
            "Number is Odd\n"
          ]
        }
      ]
    },
    {
      "cell_type": "markdown",
      "source": [
        "User input and check if the number is a pallindrome or not"
      ],
      "metadata": {
        "id": "QueY6sOFwLw5"
      }
    },
    {
      "cell_type": "code",
      "source": [
        "num = int(input(\"Enter the number: \"))\n",
        "temp = num\n",
        "rev  = 0\n",
        "while(num>0):\n",
        "    x = num%10\n",
        "    rev = rev*10 + x\n",
        "    num =num//10 \n",
        "\n",
        "if(temp == rev):\n",
        "  print(\"Number is a pallindrome \")\n",
        "else: \n",
        "  print(\"Number is not a pallindrome\")\n"
      ],
      "metadata": {
        "colab": {
          "base_uri": "https://localhost:8080/"
        },
        "id": "IgYgJUXCwwe_",
        "outputId": "d52a07dd-339a-4081-de6c-ce3357f9dc02"
      },
      "execution_count": 14,
      "outputs": [
        {
          "output_type": "stream",
          "name": "stdout",
          "text": [
            "Enter the number: 1221\n",
            "Number is a pallindrome \n"
          ]
        }
      ]
    },
    {
      "cell_type": "markdown",
      "source": [
        "Divide the two input number only if the denominator is non zero"
      ],
      "metadata": {
        "id": "7JPTMbf0wL0u"
      }
    },
    {
      "cell_type": "code",
      "source": [
        "a = int(input(\"Enter the Number:\"))\n",
        "b = int(input(\"Enter the Number:\"))\n",
        "if(b!=0):\n",
        "  print(a/b)\n",
        "else: \n",
        "  print(\"Connot Execute Denominator is zero\")"
      ],
      "metadata": {
        "colab": {
          "base_uri": "https://localhost:8080/"
        },
        "id": "evTzsFaCx6bq",
        "outputId": "8e8467c6-1ab1-4998-8839-5c63c4b52d96"
      },
      "execution_count": 17,
      "outputs": [
        {
          "output_type": "stream",
          "name": "stdout",
          "text": [
            "Enter the Number:12\n",
            "Enter the Number:0\n",
            "Connot Execute Denominator is zero\n"
          ]
        }
      ]
    },
    {
      "cell_type": "markdown",
      "source": [
        "Program to identify the largest among three numbers "
      ],
      "metadata": {
        "id": "ic6nQODNwL5V"
      }
    },
    {
      "cell_type": "code",
      "source": [
        "a = int(input(\"Enter the Number\"))\n",
        "b = int(input(\"Enter the Number\"))\n",
        "c = int(input(\"Enter the Number\"))\n",
        "largest = a\n",
        "if(b>largest):\n",
        "  largest = b\n",
        "if(c>largest):\n",
        "  largest = c\n",
        "print(\"The Largest is: \", largest)"
      ],
      "metadata": {
        "colab": {
          "base_uri": "https://localhost:8080/"
        },
        "id": "uhTtSY9mwB5i",
        "outputId": "d42dbe55-847d-48b0-b559-89c2d8f3c3db"
      },
      "execution_count": 19,
      "outputs": [
        {
          "output_type": "stream",
          "name": "stdout",
          "text": [
            "Enter the Number2 \n",
            "Enter the Number4\n",
            "Enter the Number6\n",
            "The Largest is:  6\n"
          ]
        }
      ]
    },
    {
      "cell_type": "markdown",
      "source": [
        "# Day 2\n",
        "# Date: "
      ],
      "metadata": {
        "id": "Kp7NeYBJ1ND2"
      }
    },
    {
      "cell_type": "markdown",
      "source": [
        ""
      ],
      "metadata": {
        "id": "oWd12Oed1V9G"
      }
    },
    {
      "cell_type": "code",
      "source": [
        ""
      ],
      "metadata": {
        "id": "xKxlkn6W1XFG"
      },
      "execution_count": null,
      "outputs": []
    },
    {
      "cell_type": "markdown",
      "source": [
        ""
      ],
      "metadata": {
        "id": "DhoURGkw1WAK"
      }
    },
    {
      "cell_type": "code",
      "source": [
        ""
      ],
      "metadata": {
        "id": "e8MA2sK71YMv"
      },
      "execution_count": null,
      "outputs": []
    },
    {
      "cell_type": "markdown",
      "source": [
        ""
      ],
      "metadata": {
        "id": "sKVR2ahX1WDh"
      }
    },
    {
      "cell_type": "code",
      "source": [
        ""
      ],
      "metadata": {
        "id": "drsKYj3B1XwH"
      },
      "execution_count": null,
      "outputs": []
    },
    {
      "cell_type": "markdown",
      "source": [
        ""
      ],
      "metadata": {
        "id": "XqbKsWFf1WIH"
      }
    },
    {
      "cell_type": "markdown",
      "source": [
        ""
      ],
      "metadata": {
        "id": "Np8Eb0Ub1WVI"
      }
    },
    {
      "cell_type": "markdown",
      "source": [
        ""
      ],
      "metadata": {
        "id": "ur7PdZQS1Wdw"
      }
    },
    {
      "cell_type": "code",
      "source": [
        ""
      ],
      "metadata": {
        "id": "XJrgzsC91Uhk"
      },
      "execution_count": null,
      "outputs": []
    }
  ]
}